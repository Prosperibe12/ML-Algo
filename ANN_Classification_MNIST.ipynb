{
  "cells": [
    {
      "cell_type": "markdown",
      "metadata": {
        "id": "view-in-github",
        "colab_type": "text"
      },
      "source": [
        "<a href=\"https://colab.research.google.com/github/Prosperibe12/ML-Algo/blob/master/ANN_Classification_MNIST.ipynb\" target=\"_parent\"><img src=\"https://colab.research.google.com/assets/colab-badge.svg\" alt=\"Open In Colab\"/></a>"
      ]
    },
    {
      "cell_type": "code",
      "execution_count": 61,
      "id": "b0291922",
      "metadata": {
        "id": "b0291922"
      },
      "outputs": [],
      "source": [
        "# Import Libraries\n",
        "import pandas as pd\n",
        "import numpy as np\n",
        "import matplotlib.pyplot as plt\n",
        "import tensorflow as tf\n",
        "from tensorflow import keras\n",
        "from keras.models import Sequential\n",
        "from keras.layers import Flatten, Dense"
      ]
    },
    {
      "cell_type": "code",
      "execution_count": 62,
      "id": "a038a107",
      "metadata": {
        "colab": {
          "base_uri": "https://localhost:8080/"
        },
        "id": "a038a107",
        "outputId": "fbfe662b-8470-438c-f53a-86b1f87628a7"
      },
      "outputs": [
        {
          "output_type": "stream",
          "name": "stdout",
          "text": [
            "Length of X_test is: 60000, Lenght of y_train is 60000, Lenght of X_test is 10000, , Lenght of y_test is 10000\n"
          ]
        }
      ],
      "source": [
        "#loading the MNIST Dataset\n",
        "(X_train,y_train),(X_test,y_test)=keras.datasets.mnist.load_data()\n",
        "print(f\"Length of X_test is: {len(X_train)}, Lenght of y_train is {len(y_train)}, Lenght of X_test is {len(X_test)}, , Lenght of y_test is {len(y_test)}\")"
      ]
    },
    {
      "cell_type": "code",
      "execution_count": 63,
      "id": "ca4439bf",
      "metadata": {
        "colab": {
          "base_uri": "https://localhost:8080/"
        },
        "id": "ca4439bf",
        "outputId": "c0d162f3-e935-46d8-815a-4d222ddda816"
      },
      "outputs": [
        {
          "output_type": "execute_result",
          "data": {
            "text/plain": [
              "(numpy.ndarray, (60000, 28, 28), (28, 28))"
            ]
          },
          "metadata": {},
          "execution_count": 63
        }
      ],
      "source": [
        "type(X_train), X_train.shape, X_train[0].shape"
      ]
    },
    {
      "cell_type": "code",
      "execution_count": 64,
      "id": "28e84839",
      "metadata": {
        "colab": {
          "base_uri": "https://localhost:8080/"
        },
        "id": "28e84839",
        "outputId": "3b734aa4-96e3-417c-e60b-f5076ac6a02b"
      },
      "outputs": [
        {
          "output_type": "execute_result",
          "data": {
            "text/plain": [
              "array([[  0,   0,   0,   0,   0,   0,   0,   0,   0,   0,   0,   0,   0,\n",
              "          0,   0,   0,   0,   0,   0,   0,   0,   0,   0,   0,   0,   0,\n",
              "          0,   0],\n",
              "       [  0,   0,   0,   0,   0,   0,   0,   0,   0,   0,   0,   0,   0,\n",
              "          0,   0,   0,   0,   0,   0,   0,   0,   0,   0,   0,   0,   0,\n",
              "          0,   0],\n",
              "       [  0,   0,   0,   0,   0,   0,   0,   0,   0,   0,   0,   0,   0,\n",
              "          0,   0,   0,   0,   0,   0,   0,   0,   0,   0,   0,   0,   0,\n",
              "          0,   0],\n",
              "       [  0,   0,   0,   0,   0,   0,   0,   0,   0,   0,   0,   0,   0,\n",
              "          0,   0,   0,   0,   0,   0,   0,   0,   0,   0,   0,   0,   0,\n",
              "          0,   0],\n",
              "       [  0,   0,   0,   0,   0,   0,   0,   0,   0,   0,   0,   0,   0,\n",
              "          0,   0,   0,   0,   0,   0,   0,   0,   0,   0,   0,   0,   0,\n",
              "          0,   0],\n",
              "       [  0,   0,   0,   0,   0,   0,   0,   0,   0,   0,   0,   0,   3,\n",
              "         18,  18,  18, 126, 136, 175,  26, 166, 255, 247, 127,   0,   0,\n",
              "          0,   0],\n",
              "       [  0,   0,   0,   0,   0,   0,   0,   0,  30,  36,  94, 154, 170,\n",
              "        253, 253, 253, 253, 253, 225, 172, 253, 242, 195,  64,   0,   0,\n",
              "          0,   0],\n",
              "       [  0,   0,   0,   0,   0,   0,   0,  49, 238, 253, 253, 253, 253,\n",
              "        253, 253, 253, 253, 251,  93,  82,  82,  56,  39,   0,   0,   0,\n",
              "          0,   0],\n",
              "       [  0,   0,   0,   0,   0,   0,   0,  18, 219, 253, 253, 253, 253,\n",
              "        253, 198, 182, 247, 241,   0,   0,   0,   0,   0,   0,   0,   0,\n",
              "          0,   0],\n",
              "       [  0,   0,   0,   0,   0,   0,   0,   0,  80, 156, 107, 253, 253,\n",
              "        205,  11,   0,  43, 154,   0,   0,   0,   0,   0,   0,   0,   0,\n",
              "          0,   0],\n",
              "       [  0,   0,   0,   0,   0,   0,   0,   0,   0,  14,   1, 154, 253,\n",
              "         90,   0,   0,   0,   0,   0,   0,   0,   0,   0,   0,   0,   0,\n",
              "          0,   0],\n",
              "       [  0,   0,   0,   0,   0,   0,   0,   0,   0,   0,   0, 139, 253,\n",
              "        190,   2,   0,   0,   0,   0,   0,   0,   0,   0,   0,   0,   0,\n",
              "          0,   0],\n",
              "       [  0,   0,   0,   0,   0,   0,   0,   0,   0,   0,   0,  11, 190,\n",
              "        253,  70,   0,   0,   0,   0,   0,   0,   0,   0,   0,   0,   0,\n",
              "          0,   0],\n",
              "       [  0,   0,   0,   0,   0,   0,   0,   0,   0,   0,   0,   0,  35,\n",
              "        241, 225, 160, 108,   1,   0,   0,   0,   0,   0,   0,   0,   0,\n",
              "          0,   0],\n",
              "       [  0,   0,   0,   0,   0,   0,   0,   0,   0,   0,   0,   0,   0,\n",
              "         81, 240, 253, 253, 119,  25,   0,   0,   0,   0,   0,   0,   0,\n",
              "          0,   0],\n",
              "       [  0,   0,   0,   0,   0,   0,   0,   0,   0,   0,   0,   0,   0,\n",
              "          0,  45, 186, 253, 253, 150,  27,   0,   0,   0,   0,   0,   0,\n",
              "          0,   0],\n",
              "       [  0,   0,   0,   0,   0,   0,   0,   0,   0,   0,   0,   0,   0,\n",
              "          0,   0,  16,  93, 252, 253, 187,   0,   0,   0,   0,   0,   0,\n",
              "          0,   0],\n",
              "       [  0,   0,   0,   0,   0,   0,   0,   0,   0,   0,   0,   0,   0,\n",
              "          0,   0,   0,   0, 249, 253, 249,  64,   0,   0,   0,   0,   0,\n",
              "          0,   0],\n",
              "       [  0,   0,   0,   0,   0,   0,   0,   0,   0,   0,   0,   0,   0,\n",
              "          0,  46, 130, 183, 253, 253, 207,   2,   0,   0,   0,   0,   0,\n",
              "          0,   0],\n",
              "       [  0,   0,   0,   0,   0,   0,   0,   0,   0,   0,   0,   0,  39,\n",
              "        148, 229, 253, 253, 253, 250, 182,   0,   0,   0,   0,   0,   0,\n",
              "          0,   0],\n",
              "       [  0,   0,   0,   0,   0,   0,   0,   0,   0,   0,  24, 114, 221,\n",
              "        253, 253, 253, 253, 201,  78,   0,   0,   0,   0,   0,   0,   0,\n",
              "          0,   0],\n",
              "       [  0,   0,   0,   0,   0,   0,   0,   0,  23,  66, 213, 253, 253,\n",
              "        253, 253, 198,  81,   2,   0,   0,   0,   0,   0,   0,   0,   0,\n",
              "          0,   0],\n",
              "       [  0,   0,   0,   0,   0,   0,  18, 171, 219, 253, 253, 253, 253,\n",
              "        195,  80,   9,   0,   0,   0,   0,   0,   0,   0,   0,   0,   0,\n",
              "          0,   0],\n",
              "       [  0,   0,   0,   0,  55, 172, 226, 253, 253, 253, 253, 244, 133,\n",
              "         11,   0,   0,   0,   0,   0,   0,   0,   0,   0,   0,   0,   0,\n",
              "          0,   0],\n",
              "       [  0,   0,   0,   0, 136, 253, 253, 253, 212, 135, 132,  16,   0,\n",
              "          0,   0,   0,   0,   0,   0,   0,   0,   0,   0,   0,   0,   0,\n",
              "          0,   0],\n",
              "       [  0,   0,   0,   0,   0,   0,   0,   0,   0,   0,   0,   0,   0,\n",
              "          0,   0,   0,   0,   0,   0,   0,   0,   0,   0,   0,   0,   0,\n",
              "          0,   0],\n",
              "       [  0,   0,   0,   0,   0,   0,   0,   0,   0,   0,   0,   0,   0,\n",
              "          0,   0,   0,   0,   0,   0,   0,   0,   0,   0,   0,   0,   0,\n",
              "          0,   0],\n",
              "       [  0,   0,   0,   0,   0,   0,   0,   0,   0,   0,   0,   0,   0,\n",
              "          0,   0,   0,   0,   0,   0,   0,   0,   0,   0,   0,   0,   0,\n",
              "          0,   0]], dtype=uint8)"
            ]
          },
          "metadata": {},
          "execution_count": 64
        }
      ],
      "source": [
        "X_train[0]"
      ]
    },
    {
      "cell_type": "code",
      "source": [
        "y_train[0]"
      ],
      "metadata": {
        "colab": {
          "base_uri": "https://localhost:8080/"
        },
        "id": "Y82EfZwqK8Fw",
        "outputId": "dfb37546-1eaf-4e19-ce01-46c2a3eeed19"
      },
      "id": "Y82EfZwqK8Fw",
      "execution_count": 65,
      "outputs": [
        {
          "output_type": "execute_result",
          "data": {
            "text/plain": [
              "5"
            ]
          },
          "metadata": {},
          "execution_count": 65
        }
      ]
    },
    {
      "cell_type": "code",
      "execution_count": 66,
      "id": "6c617dd2",
      "metadata": {
        "colab": {
          "base_uri": "https://localhost:8080/"
        },
        "id": "6c617dd2",
        "outputId": "865ad440-5d2d-4994-94b1-0939f0cb4966"
      },
      "outputs": [
        {
          "output_type": "stream",
          "name": "stdout",
          "text": [
            "0  0  0  0  0  0  0  0  0  0  0  0  0  0  0  0  0  0  0  0  0  0  0  0  0  0  0  0  \n",
            "0  0  0  0  0  0  0  0  0  0  0  0  0  0  0  0  0  0  0  0  0  0  0  0  0  0  0  0  \n",
            "0  0  0  0  0  0  0  0  0  0  0  0  0  0  0  0  0  0  0  0  0  0  0  0  0  0  0  0  \n",
            "0  0  0  0  0  0  0  0  0  0  0  0  0  0  0  0  0  0  0  0  0  0  0  0  0  0  0  0  \n",
            "0  0  0  0  0  0  0  0  0  0  0  0  0  0  0  0  0  0  0  0  0  0  0  0  0  0  0  0  \n",
            "0  0  0  0  0  0  0  0  0  0  0  0  3  18 18 18 12613617526 1662552471270  0  0  0  \n",
            "0  0  0  0  0  0  0  0  30 36 94 15417025325325325325322517225324219564 0  0  0  0  \n",
            "0  0  0  0  0  0  0  49 23825325325325325325325325325193 82 82 56 39 0  0  0  0  0  \n",
            "0  0  0  0  0  0  0  18 2192532532532532531981822472410  0  0  0  0  0  0  0  0  0  \n",
            "0  0  0  0  0  0  0  0  80 15610725325320511 0  43 1540  0  0  0  0  0  0  0  0  0  \n",
            "0  0  0  0  0  0  0  0  0  14 1  15425390 0  0  0  0  0  0  0  0  0  0  0  0  0  0  \n",
            "0  0  0  0  0  0  0  0  0  0  0  1392531902  0  0  0  0  0  0  0  0  0  0  0  0  0  \n",
            "0  0  0  0  0  0  0  0  0  0  0  11 19025370 0  0  0  0  0  0  0  0  0  0  0  0  0  \n",
            "0  0  0  0  0  0  0  0  0  0  0  0  35 2412251601081  0  0  0  0  0  0  0  0  0  0  \n",
            "0  0  0  0  0  0  0  0  0  0  0  0  0  81 24025325311925 0  0  0  0  0  0  0  0  0  \n",
            "0  0  0  0  0  0  0  0  0  0  0  0  0  0  45 18625325315027 0  0  0  0  0  0  0  0  \n",
            "0  0  0  0  0  0  0  0  0  0  0  0  0  0  0  16 93 2522531870  0  0  0  0  0  0  0  \n",
            "0  0  0  0  0  0  0  0  0  0  0  0  0  0  0  0  0  24925324964 0  0  0  0  0  0  0  \n",
            "0  0  0  0  0  0  0  0  0  0  0  0  0  0  46 1301832532532072  0  0  0  0  0  0  0  \n",
            "0  0  0  0  0  0  0  0  0  0  0  0  39 1482292532532532501820  0  0  0  0  0  0  0  \n",
            "0  0  0  0  0  0  0  0  0  0  24 11422125325325325320178 0  0  0  0  0  0  0  0  0  \n",
            "0  0  0  0  0  0  0  0  23 66 21325325325325319881 2  0  0  0  0  0  0  0  0  0  0  \n",
            "0  0  0  0  0  0  18 17121925325325325319580 9  0  0  0  0  0  0  0  0  0  0  0  0  \n",
            "0  0  0  0  55 17222625325325325324413311 0  0  0  0  0  0  0  0  0  0  0  0  0  0  \n",
            "0  0  0  0  13625325325321213513216 0  0  0  0  0  0  0  0  0  0  0  0  0  0  0  0  \n",
            "0  0  0  0  0  0  0  0  0  0  0  0  0  0  0  0  0  0  0  0  0  0  0  0  0  0  0  0  \n",
            "0  0  0  0  0  0  0  0  0  0  0  0  0  0  0  0  0  0  0  0  0  0  0  0  0  0  0  0  \n",
            "0  0  0  0  0  0  0  0  0  0  0  0  0  0  0  0  0  0  0  0  0  0  0  0  0  0  0  0  \n"
          ]
        }
      ],
      "source": [
        "#printing the pixel values for an image\n",
        "for row in X_train[0]:\n",
        "  row = row.tolist()\n",
        "  for i in row:\n",
        "    print(str(i).ljust(3), end='')\n",
        "  print()"
      ]
    },
    {
      "cell_type": "code",
      "execution_count": 110,
      "id": "a04039c2",
      "metadata": {
        "colab": {
          "base_uri": "https://localhost:8080/",
          "height": 447
        },
        "id": "a04039c2",
        "outputId": "c806c317-a74c-4588-c16e-7da58898331d"
      },
      "outputs": [
        {
          "output_type": "execute_result",
          "data": {
            "text/plain": [
              "<matplotlib.image.AxesImage at 0x7df40491e830>"
            ]
          },
          "metadata": {},
          "execution_count": 110
        },
        {
          "output_type": "display_data",
          "data": {
            "text/plain": [
              "<Figure size 640x480 with 1 Axes>"
            ],
            "image/png": "[encoded data removed]"
          },
          "metadata": {}
        }
      ],
      "source": [
        "# Printing the image\n",
        "plt.imshow(X_train[1], cmap='gray')"
      ]
    },
    {
      "cell_type": "code",
      "execution_count": 68,
      "id": "b6ad4cc2",
      "metadata": {
        "colab": {
          "base_uri": "https://localhost:8080/",
          "height": 125
        },
        "id": "b6ad4cc2",
        "outputId": "b723ea2a-87e5-4520-f8f1-d531ba7da8c0"
      },
      "outputs": [
        {
          "output_type": "display_data",
          "data": {
            "text/plain": [
              "<Figure size 1000x400 with 10 Axes>"
            ],
            "image/png": "[encoded data removed]"
          },
          "metadata": {}
        }
      ],
      "source": [
        "# Display some images\n",
        "fig, axes = plt.subplots(ncols=10, sharex=False,sharey=True, figsize=(10, 4))\n",
        "for i in range(10):\n",
        "    axes[i].set_title(y_train[i])\n",
        "    axes[i].imshow(X_train[i], cmap='gray')\n",
        "    axes[i].get_xaxis().set_visible(False)\n",
        "    axes[i].get_yaxis().set_visible(False)\n",
        "plt.show()"
      ]
    },
    {
      "cell_type": "code",
      "execution_count": 69,
      "id": "96d6a87d",
      "metadata": {
        "id": "96d6a87d"
      },
      "outputs": [],
      "source": [
        "#Normalize data\n",
        "X_train=X_train/255\n",
        "X_test=X_test/255"
      ]
    },
    {
      "cell_type": "code",
      "execution_count": 70,
      "id": "e3aeb8a9",
      "metadata": {
        "id": "e3aeb8a9"
      },
      "outputs": [],
      "source": [
        "#Initializing the  model\n",
        "model=Sequential()"
      ]
    },
    {
      "cell_type": "code",
      "execution_count": 71,
      "id": "5bae0542",
      "metadata": {
        "id": "5bae0542"
      },
      "outputs": [],
      "source": [
        "#creating input layer\n",
        "input_layer=Flatten(input_shape=(28,28))"
      ]
    },
    {
      "cell_type": "code",
      "execution_count": 72,
      "id": "6e7500a4",
      "metadata": {
        "id": "6e7500a4"
      },
      "outputs": [],
      "source": [
        "#Dense layer- layer 1\n",
        "layer1=Dense(units=150,activation='relu')"
      ]
    },
    {
      "cell_type": "code",
      "execution_count": 73,
      "id": "43f2f1e4",
      "metadata": {
        "id": "43f2f1e4"
      },
      "outputs": [],
      "source": [
        "#Dense layer- layer 2\n",
        "layer2=Dense(units=100,activation='sigmoid')"
      ]
    },
    {
      "cell_type": "code",
      "execution_count": 74,
      "id": "a04c2970",
      "metadata": {
        "id": "a04c2970"
      },
      "outputs": [],
      "source": [
        "#creating output layer\n",
        "output_layer=Dense(units=10, activation='softmax')"
      ]
    },
    {
      "cell_type": "code",
      "execution_count": 75,
      "id": "b5d7c4e5",
      "metadata": {
        "id": "b5d7c4e5"
      },
      "outputs": [],
      "source": [
        "#add the layers to model\n",
        "model.add(input_layer)\n",
        "model.add(layer1)\n",
        "model.add(layer2)\n",
        "model.add(output_layer)"
      ]
    },
    {
      "cell_type": "code",
      "execution_count": 76,
      "id": "62fb3275",
      "metadata": {
        "colab": {
          "base_uri": "https://localhost:8080/"
        },
        "id": "62fb3275",
        "outputId": "35113725-9ad9-4e31-a22f-619de598f73d"
      },
      "outputs": [
        {
          "output_type": "stream",
          "name": "stdout",
          "text": [
            "Model: \"sequential_1\"\n",
            "_________________________________________________________________\n",
            " Layer (type)                Output Shape              Param #   \n",
            "=================================================================\n",
            " flatten_2 (Flatten)         (None, 784)               0         \n",
            "                                                                 \n",
            " dense_3 (Dense)             (None, 150)               117750    \n",
            "                                                                 \n",
            " dense_4 (Dense)             (None, 100)               15100     \n",
            "                                                                 \n",
            " dense_5 (Dense)             (None, 10)                1010      \n",
            "                                                                 \n",
            "=================================================================\n",
            "Total params: 133860 (522.89 KB)\n",
            "Trainable params: 133860 (522.89 KB)\n",
            "Non-trainable params: 0 (0.00 Byte)\n",
            "_________________________________________________________________\n"
          ]
        }
      ],
      "source": [
        "#have a look at model\n",
        "model.summary()"
      ]
    },
    {
      "cell_type": "code",
      "execution_count": 54,
      "id": "7ab90bbe",
      "metadata": {
        "colab": {
          "base_uri": "https://localhost:8080/"
        },
        "id": "7ab90bbe",
        "outputId": "539329fa-eeee-443e-9849-36f89f68f1ef"
      },
      "outputs": [
        {
          "output_type": "execute_result",
          "data": {
            "text/plain": [
              "<tf.Variable 'dense/kernel:0' shape=(784, 150) dtype=float32, numpy=\n",
              "array([[ 0.05934726, -0.01889601, -0.06313707, ..., -0.07550286,\n",
              "        -0.03601284, -0.03720127],\n",
              "       [ 0.07681306,  0.00054599,  0.04992689, ...,  0.00325432,\n",
              "         0.0284311 ,  0.06890434],\n",
              "       [ 0.05309147, -0.07437412, -0.01463359, ...,  0.01033484,\n",
              "        -0.0619318 , -0.0205866 ],\n",
              "       ...,\n",
              "       [-0.04854038, -0.01378178, -0.00498087, ...,  0.07500406,\n",
              "         0.06107061,  0.06882788],\n",
              "       [-0.01476967,  0.02125794, -0.04858057, ..., -0.04717866,\n",
              "         0.04852487,  0.06884021],\n",
              "       [-0.01188041,  0.03401799,  0.07428306, ...,  0.02366488,\n",
              "         0.05503914, -0.07576443]], dtype=float32)>"
            ]
          },
          "metadata": {},
          "execution_count": 54
        }
      ],
      "source": [
        "model.weights[0]"
      ]
    },
    {
      "cell_type": "code",
      "execution_count": 77,
      "id": "9031f955",
      "metadata": {
        "id": "9031f955"
      },
      "outputs": [],
      "source": [
        "#compile the model\n",
        "model.compile(optimizer='SGD', loss='sparse_categorical_crossentropy', metrics=['accuracy'])"
      ]
    },
    {
      "cell_type": "code",
      "execution_count": 78,
      "id": "6ed31179",
      "metadata": {
        "colab": {
          "base_uri": "https://localhost:8080/"
        },
        "id": "6ed31179",
        "outputId": "1c061577-32aa-4e82-d979-9062b9855909"
      },
      "outputs": [
        {
          "output_type": "stream",
          "name": "stdout",
          "text": [
            "Epoch 1/30\n",
            "1875/1875 [==============================] - 9s 4ms/step - loss: 1.3142 - accuracy: 0.7085 - val_loss: 0.6761 - val_accuracy: 0.8475\n",
            "Epoch 2/30\n",
            "1875/1875 [==============================] - 8s 4ms/step - loss: 0.5448 - accuracy: 0.8676 - val_loss: 0.4323 - val_accuracy: 0.8920\n",
            "Epoch 3/30\n",
            "1875/1875 [==============================] - 8s 4ms/step - loss: 0.4047 - accuracy: 0.8929 - val_loss: 0.3542 - val_accuracy: 0.9053\n",
            "Epoch 4/30\n",
            "1875/1875 [==============================] - 8s 4ms/step - loss: 0.3471 - accuracy: 0.9038 - val_loss: 0.3146 - val_accuracy: 0.9130\n",
            "Epoch 5/30\n",
            "1875/1875 [==============================] - 7s 4ms/step - loss: 0.3142 - accuracy: 0.9106 - val_loss: 0.2901 - val_accuracy: 0.9190\n",
            "Epoch 6/30\n",
            "1875/1875 [==============================] - 8s 4ms/step - loss: 0.2911 - accuracy: 0.9168 - val_loss: 0.2716 - val_accuracy: 0.9224\n",
            "Epoch 7/30\n",
            "1875/1875 [==============================] - 7s 4ms/step - loss: 0.2732 - accuracy: 0.9219 - val_loss: 0.2578 - val_accuracy: 0.9267\n",
            "Epoch 8/30\n",
            "1875/1875 [==============================] - 8s 4ms/step - loss: 0.2582 - accuracy: 0.9257 - val_loss: 0.2451 - val_accuracy: 0.9305\n",
            "Epoch 9/30\n",
            "1875/1875 [==============================] - 7s 4ms/step - loss: 0.2454 - accuracy: 0.9288 - val_loss: 0.2350 - val_accuracy: 0.9328\n",
            "Epoch 10/30\n",
            "1875/1875 [==============================] - 7s 4ms/step - loss: 0.2336 - accuracy: 0.9322 - val_loss: 0.2249 - val_accuracy: 0.9349\n",
            "Epoch 11/30\n",
            "1875/1875 [==============================] - 9s 5ms/step - loss: 0.2231 - accuracy: 0.9352 - val_loss: 0.2155 - val_accuracy: 0.9386\n",
            "Epoch 12/30\n",
            "1875/1875 [==============================] - 7s 4ms/step - loss: 0.2135 - accuracy: 0.9377 - val_loss: 0.2071 - val_accuracy: 0.9401\n",
            "Epoch 13/30\n",
            "1875/1875 [==============================] - 9s 5ms/step - loss: 0.2042 - accuracy: 0.9410 - val_loss: 0.1999 - val_accuracy: 0.9417\n",
            "Epoch 14/30\n",
            "1875/1875 [==============================] - 8s 4ms/step - loss: 0.1959 - accuracy: 0.9436 - val_loss: 0.1921 - val_accuracy: 0.9441\n",
            "Epoch 15/30\n",
            "1875/1875 [==============================] - 7s 4ms/step - loss: 0.1880 - accuracy: 0.9459 - val_loss: 0.1853 - val_accuracy: 0.9459\n",
            "Epoch 16/30\n",
            "1875/1875 [==============================] - 8s 4ms/step - loss: 0.1808 - accuracy: 0.9477 - val_loss: 0.1779 - val_accuracy: 0.9477\n",
            "Epoch 17/30\n",
            "1875/1875 [==============================] - 8s 4ms/step - loss: 0.1740 - accuracy: 0.9496 - val_loss: 0.1728 - val_accuracy: 0.9493\n",
            "Epoch 18/30\n",
            "1875/1875 [==============================] - 7s 4ms/step - loss: 0.1673 - accuracy: 0.9513 - val_loss: 0.1673 - val_accuracy: 0.9500\n",
            "Epoch 19/30\n",
            "1875/1875 [==============================] - 8s 4ms/step - loss: 0.1615 - accuracy: 0.9531 - val_loss: 0.1618 - val_accuracy: 0.9518\n",
            "Epoch 20/30\n",
            "1875/1875 [==============================] - 7s 4ms/step - loss: 0.1558 - accuracy: 0.9546 - val_loss: 0.1574 - val_accuracy: 0.9527\n",
            "Epoch 21/30\n",
            "1875/1875 [==============================] - 8s 4ms/step - loss: 0.1503 - accuracy: 0.9565 - val_loss: 0.1519 - val_accuracy: 0.9549\n",
            "Epoch 22/30\n",
            "1875/1875 [==============================] - 7s 4ms/step - loss: 0.1452 - accuracy: 0.9578 - val_loss: 0.1498 - val_accuracy: 0.9550\n",
            "Epoch 23/30\n",
            "1875/1875 [==============================] - 8s 4ms/step - loss: 0.1402 - accuracy: 0.9592 - val_loss: 0.1437 - val_accuracy: 0.9576\n",
            "Epoch 24/30\n",
            "1875/1875 [==============================] - 8s 4ms/step - loss: 0.1356 - accuracy: 0.9612 - val_loss: 0.1403 - val_accuracy: 0.9583\n",
            "Epoch 25/30\n",
            "1875/1875 [==============================] - 7s 4ms/step - loss: 0.1312 - accuracy: 0.9623 - val_loss: 0.1375 - val_accuracy: 0.9592\n",
            "Epoch 26/30\n",
            "1875/1875 [==============================] - 8s 4ms/step - loss: 0.1269 - accuracy: 0.9632 - val_loss: 0.1349 - val_accuracy: 0.9581\n",
            "Epoch 27/30\n",
            "1875/1875 [==============================] - 11s 6ms/step - loss: 0.1231 - accuracy: 0.9652 - val_loss: 0.1306 - val_accuracy: 0.9609\n",
            "Epoch 28/30\n",
            "1875/1875 [==============================] - 7s 4ms/step - loss: 0.1194 - accuracy: 0.9660 - val_loss: 0.1266 - val_accuracy: 0.9617\n",
            "Epoch 29/30\n",
            "1875/1875 [==============================] - 8s 4ms/step - loss: 0.1160 - accuracy: 0.9668 - val_loss: 0.1243 - val_accuracy: 0.9629\n",
            "Epoch 30/30\n",
            "1875/1875 [==============================] - 8s 4ms/step - loss: 0.1124 - accuracy: 0.9684 - val_loss: 0.1221 - val_accuracy: 0.9625\n"
          ]
        }
      ],
      "source": [
        "#train model\n",
        "training_history=model.fit(X_train,y_train,epochs=30,validation_data=(X_test,y_test),verbose=1)"
      ]
    },
    {
      "cell_type": "code",
      "execution_count": 79,
      "id": "f20524ab",
      "metadata": {
        "colab": {
          "base_uri": "https://localhost:8080/",
          "height": 990
        },
        "id": "f20524ab",
        "outputId": "b8e8405b-dca2-4b8b-953f-7aa9fc7b1b2f"
      },
      "outputs": [
        {
          "output_type": "execute_result",
          "data": {
            "text/plain": [
              "        loss  accuracy  val_loss  val_accuracy\n",
              "0   1.314154  0.708550  0.676146        0.8475\n",
              "1   0.544762  0.867633  0.432304        0.8920\n",
              "2   0.404745  0.892950  0.354211        0.9053\n",
              "3   0.347147  0.903783  0.314578        0.9130\n",
              "4   0.314226  0.910617  0.290139        0.9190\n",
              "5   0.291134  0.916750  0.271579        0.9224\n",
              "6   0.273172  0.921867  0.257829        0.9267\n",
              "7   0.258185  0.925700  0.245098        0.9305\n",
              "8   0.245354  0.928783  0.235026        0.9328\n",
              "9   0.233577  0.932200  0.224940        0.9349\n",
              "10  0.223084  0.935233  0.215478        0.9386\n",
              "11  0.213451  0.937700  0.207130        0.9401\n",
              "12  0.204250  0.941033  0.199907        0.9417\n",
              "13  0.195949  0.943617  0.192077        0.9441\n",
              "14  0.188049  0.945900  0.185324        0.9459\n",
              "15  0.180826  0.947700  0.177851        0.9477\n",
              "16  0.174011  0.949600  0.172828        0.9493\n",
              "17  0.167344  0.951267  0.167321        0.9500\n",
              "18  0.161535  0.953067  0.161832        0.9518\n",
              "19  0.155761  0.954550  0.157389        0.9527\n",
              "20  0.150292  0.956483  0.151867        0.9549\n",
              "21  0.145202  0.957800  0.149816        0.9550\n",
              "22  0.140192  0.959250  0.143700        0.9576\n",
              "23  0.135564  0.961183  0.140279        0.9583\n",
              "24  0.131187  0.962317  0.137502        0.9592\n",
              "25  0.126940  0.963183  0.134869        0.9581\n",
              "26  0.123055  0.965167  0.130556        0.9609\n",
              "27  0.119361  0.965950  0.126627        0.9617\n",
              "28  0.115983  0.966850  0.124272        0.9629\n",
              "29  0.112400  0.968367  0.122057        0.9625"
            ],
            "text/html": [
              "\n",
              "  <div id=\"df-16324af4-3c1d-4879-8391-db319b3c85f2\" class=\"colab-df-container\">\n",
              "    <div>\n",
              "<style scoped>\n",
              "    .dataframe tbody tr th:only-of-type {\n",
              "        vertical-align: middle;\n",
              "    }\n",
              "\n",
              "    .dataframe tbody tr th {\n",
              "        vertical-align: top;\n",
              "    }\n",
              "\n",
              "    .dataframe thead th {\n",
              "        text-align: right;\n",
              "    }\n",
              "</style>\n",
              "<table border=\"1\" class=\"dataframe\">\n",
              "  <thead>\n",
              "    <tr style=\"text-align: right;\">\n",
              "      <th></th>\n",
              "      <th>loss</th>\n",
              "      <th>accuracy</th>\n",
              "      <th>val_loss</th>\n",
              "      <th>val_accuracy</th>\n",
              "    </tr>\n",
              "  </thead>\n",
              "  <tbody>\n",
              "    <tr>\n",
              "      <th>0</th>\n",
              "      <td>1.314154</td>\n",
              "      <td>0.708550</td>\n",
              "      <td>0.676146</td>\n",
              "      <td>0.8475</td>\n",
              "    </tr>\n",
              "    <tr>\n",
              "      <th>1</th>\n",
              "      <td>0.544762</td>\n",
              "      <td>0.867633</td>\n",
              "      <td>0.432304</td>\n",
              "      <td>0.8920</td>\n",
              "    </tr>\n",
              "    <tr>\n",
              "      <th>2</th>\n",
              "      <td>0.404745</td>\n",
              "      <td>0.892950</td>\n",
              "      <td>0.354211</td>\n",
              "      <td>0.9053</td>\n",
              "    </tr>\n",
              "    <tr>\n",
              "      <th>3</th>\n",
              "      <td>0.347147</td>\n",
              "      <td>0.903783</td>\n",
              "      <td>0.314578</td>\n",
              "      <td>0.9130</td>\n",
              "    </tr>\n",
              "    <tr>\n",
              "      <th>4</th>\n",
              "      <td>0.314226</td>\n",
              "      <td>0.910617</td>\n",
              "      <td>0.290139</td>\n",
              "      <td>0.9190</td>\n",
              "    </tr>\n",
              "    <tr>\n",
              "      <th>5</th>\n",
              "      <td>0.291134</td>\n",
              "      <td>0.916750</td>\n",
              "      <td>0.271579</td>\n",
              "      <td>0.9224</td>\n",
              "    </tr>\n",
              "    <tr>\n",
              "      <th>6</th>\n",
              "      <td>0.273172</td>\n",
              "      <td>0.921867</td>\n",
              "      <td>0.257829</td>\n",
              "      <td>0.9267</td>\n",
              "    </tr>\n",
              "    <tr>\n",
              "      <th>7</th>\n",
              "      <td>0.258185</td>\n",
              "      <td>0.925700</td>\n",
              "      <td>0.245098</td>\n",
              "      <td>0.9305</td>\n",
              "    </tr>\n",
              "    <tr>\n",
              "      <th>8</th>\n",
              "      <td>0.245354</td>\n",
              "      <td>0.928783</td>\n",
              "      <td>0.235026</td>\n",
              "      <td>0.9328</td>\n",
              "    </tr>\n",
              "    <tr>\n",
              "      <th>9</th>\n",
              "      <td>0.233577</td>\n",
              "      <td>0.932200</td>\n",
              "      <td>0.224940</td>\n",
              "      <td>0.9349</td>\n",
              "    </tr>\n",
              "    <tr>\n",
              "      <th>10</th>\n",
              "      <td>0.223084</td>\n",
              "      <td>0.935233</td>\n",
              "      <td>0.215478</td>\n",
              "      <td>0.9386</td>\n",
              "    </tr>\n",
              "    <tr>\n",
              "      <th>11</th>\n",
              "      <td>0.213451</td>\n",
              "      <td>0.937700</td>\n",
              "      <td>0.207130</td>\n",
              "      <td>0.9401</td>\n",
              "    </tr>\n",
              "    <tr>\n",
              "      <th>12</th>\n",
              "      <td>0.204250</td>\n",
              "      <td>0.941033</td>\n",
              "      <td>0.199907</td>\n",
              "      <td>0.9417</td>\n",
              "    </tr>\n",
              "    <tr>\n",
              "      <th>13</th>\n",
              "      <td>0.195949</td>\n",
              "      <td>0.943617</td>\n",
              "      <td>0.192077</td>\n",
              "      <td>0.9441</td>\n",
              "    </tr>\n",
              "    <tr>\n",
              "      <th>14</th>\n",
              "      <td>0.188049</td>\n",
              "      <td>0.945900</td>\n",
              "      <td>0.185324</td>\n",
              "      <td>0.9459</td>\n",
              "    </tr>\n",
              "    <tr>\n",
              "      <th>15</th>\n",
              "      <td>0.180826</td>\n",
              "      <td>0.947700</td>\n",
              "      <td>0.177851</td>\n",
              "      <td>0.9477</td>\n",
              "    </tr>\n",
              "    <tr>\n",
              "      <th>16</th>\n",
              "      <td>0.174011</td>\n",
              "      <td>0.949600</td>\n",
              "      <td>0.172828</td>\n",
              "      <td>0.9493</td>\n",
              "    </tr>\n",
              "    <tr>\n",
              "      <th>17</th>\n",
              "      <td>0.167344</td>\n",
              "      <td>0.951267</td>\n",
              "      <td>0.167321</td>\n",
              "      <td>0.9500</td>\n",
              "    </tr>\n",
              "    <tr>\n",
              "      <th>18</th>\n",
              "      <td>0.161535</td>\n",
              "      <td>0.953067</td>\n",
              "      <td>0.161832</td>\n",
              "      <td>0.9518</td>\n",
              "    </tr>\n",
              "    <tr>\n",
              "      <th>19</th>\n",
              "      <td>0.155761</td>\n",
              "      <td>0.954550</td>\n",
              "      <td>0.157389</td>\n",
              "      <td>0.9527</td>\n",
              "    </tr>\n",
              "    <tr>\n",
              "      <th>20</th>\n",
              "      <td>0.150292</td>\n",
              "      <td>0.956483</td>\n",
              "      <td>0.151867</td>\n",
              "      <td>0.9549</td>\n",
              "    </tr>\n",
              "    <tr>\n",
              "      <th>21</th>\n",
              "      <td>0.145202</td>\n",
              "      <td>0.957800</td>\n",
              "      <td>0.149816</td>\n",
              "      <td>0.9550</td>\n",
              "    </tr>\n",
              "    <tr>\n",
              "      <th>22</th>\n",
              "      <td>0.140192</td>\n",
              "      <td>0.959250</td>\n",
              "      <td>0.143700</td>\n",
              "      <td>0.9576</td>\n",
              "    </tr>\n",
              "    <tr>\n",
              "      <th>23</th>\n",
              "      <td>0.135564</td>\n",
              "      <td>0.961183</td>\n",
              "      <td>0.140279</td>\n",
              "      <td>0.9583</td>\n",
              "    </tr>\n",
              "    <tr>\n",
              "      <th>24</th>\n",
              "      <td>0.131187</td>\n",
              "      <td>0.962317</td>\n",
              "      <td>0.137502</td>\n",
              "      <td>0.9592</td>\n",
              "    </tr>\n",
              "    <tr>\n",
              "      <th>25</th>\n",
              "      <td>0.126940</td>\n",
              "      <td>0.963183</td>\n",
              "      <td>0.134869</td>\n",
              "      <td>0.9581</td>\n",
              "    </tr>\n",
              "    <tr>\n",
              "      <th>26</th>\n",
              "      <td>0.123055</td>\n",
              "      <td>0.965167</td>\n",
              "      <td>0.130556</td>\n",
              "      <td>0.9609</td>\n",
              "    </tr>\n",
              "    <tr>\n",
              "      <th>27</th>\n",
              "      <td>0.119361</td>\n",
              "      <td>0.965950</td>\n",
              "      <td>0.126627</td>\n",
              "      <td>0.9617</td>\n",
              "    </tr>\n",
              "    <tr>\n",
              "      <th>28</th>\n",
              "      <td>0.115983</td>\n",
              "      <td>0.966850</td>\n",
              "      <td>0.124272</td>\n",
              "      <td>0.9629</td>\n",
              "    </tr>\n",
              "    <tr>\n",
              "      <th>29</th>\n",
              "      <td>0.112400</td>\n",
              "      <td>0.968367</td>\n",
              "      <td>0.122057</td>\n",
              "      <td>0.9625</td>\n",
              "    </tr>\n",
              "  </tbody>\n",
              "</table>\n",
              "</div>\n",
              "    <div class=\"colab-df-buttons\">\n",
              "\n",
              "  <div class=\"colab-df-container\">\n",
              "    <button class=\"colab-df-convert\" onclick=\"convertToInteractive('df-16324af4-3c1d-4879-8391-db319b3c85f2')\"\n",
              "            title=\"Convert this dataframe to an interactive table.\"\n",
              "            style=\"display:none;\">\n",
              "\n",
              "  <svg xmlns=\"http://www.w3.org/2000/svg\" height=\"24px\" viewBox=\"0 -960 960 960\">\n",
              "    <path d=\"M120-120v-720h720v720H120Zm60-500h600v-160H180v160Zm220 220h160v-160H400v160Zm0 220h160v-160H400v160ZM180-400h160v-160H180v160Zm440 0h160v-160H620v160ZM180-180h160v-160H180v160Zm440 0h160v-160H620v160Z\"/>\n",
              "  </svg>\n",
              "    </button>\n",
              "\n",
              "  <style>\n",
              "    .colab-df-container {\n",
              "      display:flex;\n",
              "      gap: 12px;\n",
              "    }\n",
              "\n",
              "    .colab-df-convert {\n",
              "      background-color: #E8F0FE;\n",
              "      border: none;\n",
              "      border-radius: 50%;\n",
              "      cursor: pointer;\n",
              "      display: none;\n",
              "      fill: #1967D2;\n",
              "      height: 32px;\n",
              "      padding: 0 0 0 0;\n",
              "      width: 32px;\n",
              "    }\n",
              "\n",
              "    .colab-df-convert:hover {\n",
              "      background-color: #E2EBFA;\n",
              "      box-shadow: 0px 1px 2px rgba(60, 64, 67, 0.3), 0px 1px 3px 1px rgba(60, 64, 67, 0.15);\n",
              "      fill: #174EA6;\n",
              "    }\n",
              "\n",
              "    .colab-df-buttons div {\n",
              "      margin-bottom: 4px;\n",
              "    }\n",
              "\n",
              "    [theme=dark] .colab-df-convert {\n",
              "      background-color: #3B4455;\n",
              "      fill: #D2E3FC;\n",
              "    }\n",
              "\n",
              "    [theme=dark] .colab-df-convert:hover {\n",
              "      background-color: #434B5C;\n",
              "      box-shadow: 0px 1px 3px 1px rgba(0, 0, 0, 0.15);\n",
              "      filter: drop-shadow(0px 1px 2px rgba(0, 0, 0, 0.3));\n",
              "      fill: #FFFFFF;\n",
              "    }\n",
              "  </style>\n",
              "\n",
              "    <script>\n",
              "      const buttonEl =\n",
              "        document.querySelector('#df-16324af4-3c1d-4879-8391-db319b3c85f2 button.colab-df-convert');\n",
              "      buttonEl.style.display =\n",
              "        google.colab.kernel.accessAllowed ? 'block' : 'none';\n",
              "\n",
              "      async function convertToInteractive(key) {\n",
              "        const element = document.querySelector('#df-16324af4-3c1d-4879-8391-db319b3c85f2');\n",
              "        const dataTable =\n",
              "          await google.colab.kernel.invokeFunction('convertToInteractive',\n",
              "                                                    [key], {});\n",
              "        if (!dataTable) return;\n",
              "\n",
              "        const docLinkHtml = 'Like what you see? Visit the ' +\n",
              "          '<a target=\"_blank\" href=https://colab.research.google.com/notebooks/data_table.ipynb>data table notebook</a>'\n",
              "          + ' to learn more about interactive tables.';\n",
              "        element.innerHTML = '';\n",
              "        dataTable['output_type'] = 'display_data';\n",
              "        await google.colab.output.renderOutput(dataTable, element);\n",
              "        const docLink = document.createElement('div');\n",
              "        docLink.innerHTML = docLinkHtml;\n",
              "        element.appendChild(docLink);\n",
              "      }\n",
              "    </script>\n",
              "  </div>\n",
              "\n",
              "\n",
              "<div id=\"df-fcea249c-43d5-4ad7-8a20-556e07ff5220\">\n",
              "  <button class=\"colab-df-quickchart\" onclick=\"quickchart('df-fcea249c-43d5-4ad7-8a20-556e07ff5220')\"\n",
              "            title=\"Suggest charts.\"\n",
              "            style=\"display:none;\">\n",
              "\n",
              "<svg xmlns=\"http://www.w3.org/2000/svg\" height=\"24px\"viewBox=\"0 0 24 24\"\n",
              "     width=\"24px\">\n",
              "    <g>\n",
              "        <path d=\"M19 3H5c-1.1 0-2 .9-2 2v14c0 1.1.9 2 2 2h14c1.1 0 2-.9 2-2V5c0-1.1-.9-2-2-2zM9 17H7v-7h2v7zm4 0h-2V7h2v10zm4 0h-2v-4h2v4z\"/>\n",
              "    </g>\n",
              "</svg>\n",
              "  </button>\n",
              "\n",
              "<style>\n",
              "  .colab-df-quickchart {\n",
              "      --bg-color: #E8F0FE;\n",
              "      --fill-color: #1967D2;\n",
              "      --hover-bg-color: #E2EBFA;\n",
              "      --hover-fill-color: #174EA6;\n",
              "      --disabled-fill-color: #AAA;\n",
              "      --disabled-bg-color: #DDD;\n",
              "  }\n",
              "\n",
              "  [theme=dark] .colab-df-quickchart {\n",
              "      --bg-color: #3B4455;\n",
              "      --fill-color: #D2E3FC;\n",
              "      --hover-bg-color: #434B5C;\n",
              "      --hover-fill-color: #FFFFFF;\n",
              "      --disabled-bg-color: #3B4455;\n",
              "      --disabled-fill-color: #666;\n",
              "  }\n",
              "\n",
              "  .colab-df-quickchart {\n",
              "    background-color: var(--bg-color);\n",
              "    border: none;\n",
              "    border-radius: 50%;\n",
              "    cursor: pointer;\n",
              "    display: none;\n",
              "    fill: var(--fill-color);\n",
              "    height: 32px;\n",
              "    padding: 0;\n",
              "    width: 32px;\n",
              "  }\n",
              "\n",
              "  .colab-df-quickchart:hover {\n",
              "    background-color: var(--hover-bg-color);\n",
              "    box-shadow: 0 1px 2px rgba(60, 64, 67, 0.3), 0 1px 3px 1px rgba(60, 64, 67, 0.15);\n",
              "    fill: var(--button-hover-fill-color);\n",
              "  }\n",
              "\n",
              "  .colab-df-quickchart-complete:disabled,\n",
              "  .colab-df-quickchart-complete:disabled:hover {\n",
              "    background-color: var(--disabled-bg-color);\n",
              "    fill: var(--disabled-fill-color);\n",
              "    box-shadow: none;\n",
              "  }\n",
              "\n",
              "  .colab-df-spinner {\n",
              "    border: 2px solid var(--fill-color);\n",
              "    border-color: transparent;\n",
              "    border-bottom-color: var(--fill-color);\n",
              "    animation:\n",
              "      spin 1s steps(1) infinite;\n",
              "  }\n",
              "\n",
              "  @keyframes spin {\n",
              "    0% {\n",
              "      border-color: transparent;\n",
              "      border-bottom-color: var(--fill-color);\n",
              "      border-left-color: var(--fill-color);\n",
              "    }\n",
              "    20% {\n",
              "      border-color: transparent;\n",
              "      border-left-color: var(--fill-color);\n",
              "      border-top-color: var(--fill-color);\n",
              "    }\n",
              "    30% {\n",
              "      border-color: transparent;\n",
              "      border-left-color: var(--fill-color);\n",
              "      border-top-color: var(--fill-color);\n",
              "      border-right-color: var(--fill-color);\n",
              "    }\n",
              "    40% {\n",
              "      border-color: transparent;\n",
              "      border-right-color: var(--fill-color);\n",
              "      border-top-color: var(--fill-color);\n",
              "    }\n",
              "    60% {\n",
              "      border-color: transparent;\n",
              "      border-right-color: var(--fill-color);\n",
              "    }\n",
              "    80% {\n",
              "      border-color: transparent;\n",
              "      border-right-color: var(--fill-color);\n",
              "      border-bottom-color: var(--fill-color);\n",
              "    }\n",
              "    90% {\n",
              "      border-color: transparent;\n",
              "      border-bottom-color: var(--fill-color);\n",
              "    }\n",
              "  }\n",
              "</style>\n",
              "\n",
              "  <script>\n",
              "    async function quickchart(key) {\n",
              "      const quickchartButtonEl =\n",
              "        document.querySelector('#' + key + ' button');\n",
              "      quickchartButtonEl.disabled = true;  // To prevent multiple clicks.\n",
              "      quickchartButtonEl.classList.add('colab-df-spinner');\n",
              "      try {\n",
              "        const charts = await google.colab.kernel.invokeFunction(\n",
              "            'suggestCharts', [key], {});\n",
              "      } catch (error) {\n",
              "        console.error('Error during call to suggestCharts:', error);\n",
              "      }\n",
              "      quickchartButtonEl.classList.remove('colab-df-spinner');\n",
              "      quickchartButtonEl.classList.add('colab-df-quickchart-complete');\n",
              "    }\n",
              "    (() => {\n",
              "      let quickchartButtonEl =\n",
              "        document.querySelector('#df-fcea249c-43d5-4ad7-8a20-556e07ff5220 button');\n",
              "      quickchartButtonEl.style.display =\n",
              "        google.colab.kernel.accessAllowed ? 'block' : 'none';\n",
              "    })();\n",
              "  </script>\n",
              "</div>\n",
              "    </div>\n",
              "  </div>\n"
            ]
          },
          "metadata": {},
          "execution_count": 79
        }
      ],
      "source": [
        "result=pd.DataFrame(training_history.history)\n",
        "result"
      ]
    },
    {
      "cell_type": "code",
      "execution_count": 80,
      "id": "7be2cf83",
      "metadata": {
        "colab": {
          "base_uri": "https://localhost:8080/",
          "height": 447
        },
        "id": "7be2cf83",
        "outputId": "2ccc958c-474e-42f8-9f11-071934c0a2aa"
      },
      "outputs": [
        {
          "output_type": "execute_result",
          "data": {
            "text/plain": [
              "<Axes: >"
            ]
          },
          "metadata": {},
          "execution_count": 80
        },
        {
          "output_type": "display_data",
          "data": {
            "text/plain": [
              "<Figure size 640x480 with 1 Axes>"
            ],
            "image/png": "[encoded data removed]"
          },
          "metadata": {}
        }
      ],
      "source": [
        "result[[\"loss\",\"val_loss\"]].plot()"
      ]
    },
    {
      "cell_type": "code",
      "execution_count": 81,
      "id": "3e98497f",
      "metadata": {
        "colab": {
          "base_uri": "https://localhost:8080/",
          "height": 447
        },
        "id": "3e98497f",
        "outputId": "b6292fc9-2c20-4398-a166-70fba5978177"
      },
      "outputs": [
        {
          "output_type": "execute_result",
          "data": {
            "text/plain": [
              "<Axes: >"
            ]
          },
          "metadata": {},
          "execution_count": 81
        },
        {
          "output_type": "display_data",
          "data": {
            "text/plain": [
              "<Figure size 640x480 with 1 Axes>"
            ],
            "image/png": "[encoded data removed]"
          },
          "metadata": {}
        }
      ],
      "source": [
        "result[[\"accuracy\",\"val_accuracy\"]].plot()"
      ]
    },
    {
      "cell_type": "code",
      "execution_count": 82,
      "id": "451d25e4",
      "metadata": {
        "colab": {
          "base_uri": "https://localhost:8080/"
        },
        "id": "451d25e4",
        "outputId": "0e42ab6b-2ef1-4fd3-823e-af753fe3d6ca"
      },
      "outputs": [
        {
          "output_type": "stream",
          "name": "stdout",
          "text": [
            "313/313 [==============================] - 1s 2ms/step\n"
          ]
        }
      ],
      "source": [
        "#making predictions\n",
        "y_pred=model.predict(X_test)"
      ]
    },
    {
      "cell_type": "code",
      "execution_count": 83,
      "id": "c62c73a8",
      "metadata": {
        "colab": {
          "base_uri": "https://localhost:8080/"
        },
        "id": "c62c73a8",
        "outputId": "8138521c-894c-4617-c256-38725f96b300"
      },
      "outputs": [
        {
          "output_type": "execute_result",
          "data": {
            "text/plain": [
              "array([[3.74896481e-05, 7.23329913e-06, 9.99554759e-04, ...,\n",
              "        9.95650768e-01, 6.46387161e-06, 2.61256704e-04],\n",
              "       [1.64723955e-03, 7.90167251e-04, 9.92629468e-01, ...,\n",
              "        1.30296121e-06, 2.90307595e-04, 1.82591364e-07],\n",
              "       [1.39985298e-06, 9.90555584e-01, 1.94359990e-03, ...,\n",
              "        2.45484314e-03, 1.36353180e-03, 1.13537426e-04],\n",
              "       ...,\n",
              "       [1.16447133e-07, 3.37016672e-06, 1.46834020e-06, ...,\n",
              "        1.21867211e-04, 3.40439583e-04, 1.31885346e-03],\n",
              "       [3.17061786e-05, 4.82604191e-05, 2.36560868e-06, ...,\n",
              "        3.69159409e-07, 3.22619011e-03, 8.68949792e-06],\n",
              "       [1.25325023e-04, 1.71941531e-06, 2.89418589e-04, ...,\n",
              "        1.13941815e-06, 1.50972774e-05, 1.54111387e-06]], dtype=float32)"
            ]
          },
          "metadata": {},
          "execution_count": 83
        }
      ],
      "source": [
        "y_pred"
      ]
    },
    {
      "cell_type": "code",
      "execution_count": 90,
      "id": "a665328e",
      "metadata": {
        "colab": {
          "base_uri": "https://localhost:8080/"
        },
        "id": "a665328e",
        "outputId": "c62d1d4e-4290-45a6-eb71-5a5d66928da6"
      },
      "outputs": [
        {
          "output_type": "execute_result",
          "data": {
            "text/plain": [
              "array([3.7489648e-05, 7.2332991e-06, 9.9955476e-04, 2.9491773e-03,\n",
              "       9.1047241e-07, 8.7050656e-05, 4.5401311e-08, 9.9565077e-01,\n",
              "       6.4638716e-06, 2.6125670e-04], dtype=float32)"
            ]
          },
          "metadata": {},
          "execution_count": 90
        }
      ],
      "source": [
        "y_pred[0]"
      ]
    },
    {
      "cell_type": "code",
      "execution_count": 103,
      "id": "19d625d2",
      "metadata": {
        "colab": {
          "base_uri": "https://localhost:8080/"
        },
        "id": "19d625d2",
        "outputId": "a98d3aca-30a6-4459-8756-94b790540d3d"
      },
      "outputs": [
        {
          "output_type": "execute_result",
          "data": {
            "text/plain": [
              "7"
            ]
          },
          "metadata": {},
          "execution_count": 103
        }
      ],
      "source": [
        "y_test[0]"
      ]
    },
    {
      "cell_type": "code",
      "execution_count": 93,
      "id": "85e49a2f",
      "metadata": {
        "colab": {
          "base_uri": "https://localhost:8080/",
          "height": 447
        },
        "id": "85e49a2f",
        "outputId": "5ff4fcba-94bb-46a4-dcda-3185c2dacecf"
      },
      "outputs": [
        {
          "output_type": "execute_result",
          "data": {
            "text/plain": [
              "<matplotlib.image.AxesImage at 0x7df41a484d30>"
            ]
          },
          "metadata": {},
          "execution_count": 93
        },
        {
          "output_type": "display_data",
          "data": {
            "text/plain": [
              "<Figure size 640x480 with 1 Axes>"
            ],
            "image/png": "[encoded data removed]"
          },
          "metadata": {}
        }
      ],
      "source": [
        "plt.imshow(X_test[0],cmap='gray')"
      ]
    },
    {
      "cell_type": "code",
      "execution_count": 94,
      "id": "d7dfd2b8",
      "metadata": {
        "colab": {
          "base_uri": "https://localhost:8080/"
        },
        "id": "d7dfd2b8",
        "outputId": "7294e852-cc33-4103-dbb7-379667e720f6"
      },
      "outputs": [
        {
          "output_type": "execute_result",
          "data": {
            "text/plain": [
              "7"
            ]
          },
          "metadata": {},
          "execution_count": 94
        }
      ],
      "source": [
        "np.argmax(y_pred[0])"
      ]
    },
    {
      "cell_type": "code",
      "execution_count": 95,
      "id": "505c2fe6",
      "metadata": {
        "colab": {
          "base_uri": "https://localhost:8080/"
        },
        "id": "505c2fe6",
        "outputId": "7ac8371d-f2a0-4fed-eda7-4013a4ae8852"
      },
      "outputs": [
        {
          "output_type": "execute_result",
          "data": {
            "text/plain": [
              "array([7, 2, 1, 0, 4, 1, 4, 9, 5, 9], dtype=uint8)"
            ]
          },
          "metadata": {},
          "execution_count": 95
        }
      ],
      "source": [
        "y_test[:10]"
      ]
    },
    {
      "cell_type": "code",
      "execution_count": 96,
      "id": "f1cde5c5",
      "metadata": {
        "id": "f1cde5c5"
      },
      "outputs": [],
      "source": [
        "y_pred_10=y_pred[0:10]"
      ]
    },
    {
      "cell_type": "code",
      "execution_count": 98,
      "id": "cb8f40d4",
      "metadata": {
        "colab": {
          "base_uri": "https://localhost:8080/"
        },
        "id": "cb8f40d4",
        "outputId": "70e085a3-4e16-4685-db5b-e56f35743cc0"
      },
      "outputs": [
        {
          "output_type": "execute_result",
          "data": {
            "text/plain": [
              "array([7, 2, 1, ..., 4, 5, 6])"
            ]
          },
          "metadata": {},
          "execution_count": 98
        }
      ],
      "source": [
        "final_y_predicted=np.argmax(y_pred,axis=1)\n",
        "final_y_predicted"
      ]
    },
    {
      "cell_type": "code",
      "execution_count": 101,
      "id": "6c1de217",
      "metadata": {
        "colab": {
          "base_uri": "https://localhost:8080/",
          "height": 145
        },
        "id": "6c1de217",
        "outputId": "49ce360f-4b37-4c37-83b5-79c3950542be"
      },
      "outputs": [
        {
          "output_type": "display_data",
          "data": {
            "text/plain": [
              "<Figure size 2000x1000 with 10 Axes>"
            ],
            "image/png": "[encoded data removed]"
          },
          "metadata": {}
        }
      ],
      "source": [
        "# Display some images\n",
        "fig, axes = plt.subplots(ncols=10, sharex=False,\n",
        "    sharey=True, figsize=(20, 10))\n",
        "for i in range(10):\n",
        "    axes[i].set_title(str(y_test[i])+\"-\"+str(np.argmax(y_pred[i])))\n",
        "    axes[i].imshow(X_test[i], cmap='gray')\n",
        "    axes[i].get_xaxis().set_visible(False)\n",
        "    axes[i].get_yaxis().set_visible(False)\n",
        "plt.show()"
      ]
    },
    {
      "cell_type": "code",
      "execution_count": null,
      "id": "5ae1e359",
      "metadata": {
        "id": "5ae1e359",
        "outputId": "922a6fd1-53ea-4dfd-9ddc-77480a953893"
      },
      "outputs": [
        {
          "data": {
            "text/plain": [
              "<tf.Tensor: shape=(10, 10), dtype=int32, numpy=\n",
              "array([[ 969,    0,    1,    2,    0,    3,    2,    2,    1,    0],\n",
              "       [   0, 1119,    1,    3,    0,    1,    4,    2,    5,    0],\n",
              "       [   7,    2,  991,    9,    6,    0,    3,    9,    4,    1],\n",
              "       [   1,    0,    7,  977,    0,    7,    0,    9,    6,    3],\n",
              "       [   1,    0,    5,    0,  948,    0,    7,    2,    2,   17],\n",
              "       [   6,    3,    0,   15,    2,  845,    9,    2,    6,    4],\n",
              "       [   9,    3,    1,    0,    8,   12,  921,    1,    3,    0],\n",
              "       [   0,    9,   11,    4,    1,    2,    0,  991,    0,   10],\n",
              "       [   4,    2,    4,   16,    3,    7,    6,    5,  922,    5],\n",
              "       [   8,    6,    1,   14,   21,    1,    1,   11,    2,  944]])>"
            ]
          },
          "execution_count": 49,
          "metadata": {},
          "output_type": "execute_result"
        }
      ],
      "source": [
        "cm = tf.math.confusion_matrix(labels=y_test,predictions=final_y_predicted)\n",
        "cm"
      ]
    },
    {
      "cell_type": "code",
      "execution_count": null,
      "id": "09265e42",
      "metadata": {
        "id": "09265e42",
        "outputId": "f1f16401-a01d-4ac7-fb9a-223ad4a38a49"
      },
      "outputs": [
        {
          "data": {
            "text/plain": [
              "Text(154.75, 0.5, 'Actual  digit')"
            ]
          },
          "execution_count": 50,
          "metadata": {},
          "output_type": "execute_result"
        },
        {
          "data": {
            "image/png": "[encoded data removed]",
            "text/plain": [
              "<Figure size 1500x700 with 2 Axes>"
            ]
          },
          "metadata": {},
          "output_type": "display_data"
        }
      ],
      "source": [
        "import seaborn as sns\n",
        "sns.set(rc={'figure.figsize':(15,7)})\n",
        "sns.heatmap(cm,annot=True,cmap='PuBu_r',fmt='g')\n",
        "plt.xlabel(\"Predicted digit\")\n",
        "plt.ylabel(\"Actual  digit\")"
      ]
    },
    {
      "cell_type": "code",
      "execution_count": null,
      "id": "ddde156b",
      "metadata": {
        "id": "ddde156b"
      },
      "outputs": [],
      "source": []
    }
  ],
  "metadata": {
    "kernelspec": {
      "display_name": "Python 3 (ipykernel)",
      "language": "python",
      "name": "python3"
    },
    "language_info": {
      "codemirror_mode": {
        "name": "ipython",
        "version": 3
      },
      "file_extension": ".py",
      "mimetype": "text/x-python",
      "name": "python",
      "nbconvert_exporter": "python",
      "pygments_lexer": "ipython3",
      "version": "3.9.16"
    },
    "colab": {
      "provenance": [],
      "include_colab_link": true
    }
  },
  "nbformat": 4,
  "nbformat_minor": 5
}