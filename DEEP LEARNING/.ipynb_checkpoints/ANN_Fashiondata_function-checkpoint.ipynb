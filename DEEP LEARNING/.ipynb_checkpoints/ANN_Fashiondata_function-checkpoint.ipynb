{
 "cells": [
  {
   "cell_type": "markdown",
   "metadata": {
    "id": "9IxB9zT5EcSg"
   },
   "source": [
    "##### Artificial Neural Network(ANN) Implementation on Fashion Minst Dataset"
   ]
  },
  {
   "cell_type": "markdown",
   "metadata": {
    "id": "Sa4GQ6hAEbNj"
   },
   "source": []
  },
  {
   "cell_type": "code",
   "execution_count": 1,
   "metadata": {
    "id": "zLgBdHUdxLoV"
   },
   "outputs": [],
   "source": [
    "# Import libraries\n",
    "import pandas as pd\n",
    "import numpy as np\n",
    "import matplotlib.pyplot as plt\n",
    "import seaborn as sns\n",
    "import tensorflow as tf\n",
    "from tensorflow import keras"
   ]
  },
  {
   "cell_type": "code",
   "execution_count": 2,
   "metadata": {
    "colab": {
     "base_uri": "https://localhost:8080/"
    },
    "id": "5M51V59Uypo9",
    "outputId": "b238d542-25e1-4304-a856-b4881f18dc51"
   },
   "outputs": [
    {
     "name": "stdout",
     "output_type": "stream",
     "text": [
      "Downloading data from https://storage.googleapis.com/tensorflow/tf-keras-datasets/train-labels-idx1-ubyte.gz\n",
      "29515/29515 [==============================] - 0s 1us/step\n",
      "Downloading data from https://storage.googleapis.com/tensorflow/tf-keras-datasets/train-images-idx3-ubyte.gz\n",
      "26421880/26421880 [==============================] - 2s 0us/step\n",
      "Downloading data from https://storage.googleapis.com/tensorflow/tf-keras-datasets/t10k-labels-idx1-ubyte.gz\n",
      "5148/5148 [==============================] - 0s 0us/step\n",
      "Downloading data from https://storage.googleapis.com/tensorflow/tf-keras-datasets/t10k-images-idx3-ubyte.gz\n",
      "4422102/4422102 [==============================] - 1s 0us/step\n"
     ]
    }
   ],
   "source": [
    "# Load dataset\n",
    "(x_train, y_train), (x_test, y_test) = keras.datasets.fashion_mnist.load_data()"
   ]
  },
  {
   "cell_type": "code",
   "execution_count": 6,
   "metadata": {
    "colab": {
     "base_uri": "https://localhost:8080/"
    },
    "id": "s_mBc7qOy38b",
    "outputId": "275f1cfc-a872-471a-bea1-c6d305654653"
   },
   "outputs": [
    {
     "name": "stdout",
     "output_type": "stream",
     "text": [
      "Lenght of x_train dataset:  60000\n",
      "Lenght of y_train dataset:  60000\n",
      "Lenght of x_test dataset:  10000\n",
      "Lenght of y_test dataset:  10000\n"
     ]
    },
    {
     "data": {
      "text/plain": [
       "(None, None, None, None)"
      ]
     },
     "execution_count": 6,
     "metadata": {},
     "output_type": "execute_result"
    }
   ],
   "source": [
    "# explore dataset\n",
    "print(\"Lenght of x_train dataset: \", len(x_train)), print(\"Lenght of y_train dataset: \", len(y_train)), print(\"Lenght of x_test dataset: \", len(x_test)), print(\"Lenght of y_test dataset: \", len(y_test))"
   ]
  },
  {
   "cell_type": "code",
   "execution_count": 11,
   "metadata": {
    "colab": {
     "base_uri": "https://localhost:8080/"
    },
    "id": "OWGlCsYYzeLV",
    "outputId": "82c9e3ac-4b88-4773-a02c-6afea9048e3e"
   },
   "outputs": [
    {
     "name": "stdout",
     "output_type": "stream",
     "text": [
      "Dimension of x_train dataset:  (60000, 28, 28)\n",
      "Dimension of y_train dataset:  (60000,)\n",
      "Dimension of x_test dataset:  (10000, 28, 28)\n",
      "Dimension of y_test dataset:  (10000,)\n"
     ]
    },
    {
     "data": {
      "text/plain": [
       "(None, None, None, None)"
      ]
     },
     "execution_count": 11,
     "metadata": {},
     "output_type": "execute_result"
    }
   ],
   "source": [
    "print(\"Dimension of x_train dataset: \",x_train.shape), print(\"Dimension of y_train dataset: \",y_train.shape), print(\"Dimension of x_test dataset: \",x_test.shape), print(\"Dimension of y_test dataset: \",y_test.shape)"
   ]
  },
  {
   "cell_type": "code",
   "execution_count": 14,
   "metadata": {
    "colab": {
     "base_uri": "https://localhost:8080/"
    },
    "id": "qeVw3pZT0HdS",
    "outputId": "849659ed-2304-4438-c0f1-62c322965d09"
   },
   "outputs": [
    {
     "name": "stdout",
     "output_type": "stream",
     "text": [
      "Shape of 1st row in x_train dataset (28, 28)\n",
      "Shape of 1st row in y_train dataset ()\n",
      "Shape of 1st row in x_test dataset (28, 28)\n",
      "Shape of 1st row in y_test dataset ()\n"
     ]
    },
    {
     "data": {
      "text/plain": [
       "(None, None, None, None)"
      ]
     },
     "execution_count": 14,
     "metadata": {},
     "output_type": "execute_result"
    }
   ],
   "source": [
    "print(\"Shape of 1st row in x_train dataset\", x_train[0].shape), print(\"Shape of 1st row in y_train dataset\", y_train[0].shape),  print(\"Shape of 1st row in x_test dataset\", x_test[0].shape),  print(\"Shape of 1st row in y_test dataset\", y_test[0].shape)"
   ]
  },
  {
   "cell_type": "code",
   "execution_count": 17,
   "metadata": {
    "colab": {
     "base_uri": "https://localhost:8080/"
    },
    "id": "x_z8kumI1RGg",
    "outputId": "d3ae2ed1-1600-4cdb-8be6-75148c564fb6"
   },
   "outputs": [
    {
     "name": "stdout",
     "output_type": "stream",
     "text": [
      "Sample dataset for x_train \n",
      " [[  0   0   0   0   0   0   0   0   0   0   0   0   0   0   0   0   0   0\n",
      "    0   0   0   0   0   0   0   0   0   0]\n",
      " [  0   0   0   0   0   0   0   0   0   0   0   0   0   0   0   0   0   0\n",
      "    0   0   0   0   0   0   0   0   0   0]\n",
      " [  0   0   0   0   0   0   0   0   0   0   0   0   0   0   0   0   0   0\n",
      "    0   0   0   0   0   0   0   0   0   0]\n",
      " [  0   0   0   0   0   0   0   0   0   0   0   0   1   0   0  13  73   0\n",
      "    0   1   4   0   0   0   0   1   1   0]\n",
      " [  0   0   0   0   0   0   0   0   0   0   0   0   3   0  36 136 127  62\n",
      "   54   0   0   0   1   3   4   0   0   3]\n",
      " [  0   0   0   0   0   0   0   0   0   0   0   0   6   0 102 204 176 134\n",
      "  144 123  23   0   0   0   0  12  10   0]\n",
      " [  0   0   0   0   0   0   0   0   0   0   0   0   0   0 155 236 207 178\n",
      "  107 156 161 109  64  23  77 130  72  15]\n",
      " [  0   0   0   0   0   0   0   0   0   0   0   1   0  69 207 223 218 216\n",
      "  216 163 127 121 122 146 141  88 172  66]\n",
      " [  0   0   0   0   0   0   0   0   0   1   1   1   0 200 232 232 233 229\n",
      "  223 223 215 213 164 127 123 196 229   0]\n",
      " [  0   0   0   0   0   0   0   0   0   0   0   0   0 183 225 216 223 228\n",
      "  235 227 224 222 224 221 223 245 173   0]\n",
      " [  0   0   0   0   0   0   0   0   0   0   0   0   0 193 228 218 213 198\n",
      "  180 212 210 211 213 223 220 243 202   0]\n",
      " [  0   0   0   0   0   0   0   0   0   1   3   0  12 219 220 212 218 192\n",
      "  169 227 208 218 224 212 226 197 209  52]\n",
      " [  0   0   0   0   0   0   0   0   0   0   6   0  99 244 222 220 218 203\n",
      "  198 221 215 213 222 220 245 119 167  56]\n",
      " [  0   0   0   0   0   0   0   0   0   4   0   0  55 236 228 230 228 240\n",
      "  232 213 218 223 234 217 217 209  92   0]\n",
      " [  0   0   1   4   6   7   2   0   0   0   0   0 237 226 217 223 222 219\n",
      "  222 221 216 223 229 215 218 255  77   0]\n",
      " [  0   3   0   0   0   0   0   0   0  62 145 204 228 207 213 221 218 208\n",
      "  211 218 224 223 219 215 224 244 159   0]\n",
      " [  0   0   0   0  18  44  82 107 189 228 220 222 217 226 200 205 211 230\n",
      "  224 234 176 188 250 248 233 238 215   0]\n",
      " [  0  57 187 208 224 221 224 208 204 214 208 209 200 159 245 193 206 223\n",
      "  255 255 221 234 221 211 220 232 246   0]\n",
      " [  3 202 228 224 221 211 211 214 205 205 205 220 240  80 150 255 229 221\n",
      "  188 154 191 210 204 209 222 228 225   0]\n",
      " [ 98 233 198 210 222 229 229 234 249 220 194 215 217 241  65  73 106 117\n",
      "  168 219 221 215 217 223 223 224 229  29]\n",
      " [ 75 204 212 204 193 205 211 225 216 185 197 206 198 213 240 195 227 245\n",
      "  239 223 218 212 209 222 220 221 230  67]\n",
      " [ 48 203 183 194 213 197 185 190 194 192 202 214 219 221 220 236 225 216\n",
      "  199 206 186 181 177 172 181 205 206 115]\n",
      " [  0 122 219 193 179 171 183 196 204 210 213 207 211 210 200 196 194 191\n",
      "  195 191 198 192 176 156 167 177 210  92]\n",
      " [  0   0  74 189 212 191 175 172 175 181 185 188 189 188 193 198 204 209\n",
      "  210 210 211 188 188 194 192 216 170   0]\n",
      " [  2   0   0   0  66 200 222 237 239 242 246 243 244 221 220 193 191 179\n",
      "  182 182 181 176 166 168  99  58   0   0]\n",
      " [  0   0   0   0   0   0   0  40  61  44  72  41  35   0   0   0   0   0\n",
      "    0   0   0   0   0   0   0   0   0   0]\n",
      " [  0   0   0   0   0   0   0   0   0   0   0   0   0   0   0   0   0   0\n",
      "    0   0   0   0   0   0   0   0   0   0]\n",
      " [  0   0   0   0   0   0   0   0   0   0   0   0   0   0   0   0   0   0\n",
      "    0   0   0   0   0   0   0   0   0   0]]\n",
      "Sample label dataset for y_train \n",
      " 9\n"
     ]
    },
    {
     "data": {
      "text/plain": [
       "(None, None)"
      ]
     },
     "execution_count": 17,
     "metadata": {},
     "output_type": "execute_result"
    }
   ],
   "source": [
    "print(\"Sample dataset for x_train \\n\", x_train[0]), print(\"Sample label dataset for y_train \\n\", y_train[0])"
   ]
  },
  {
   "cell_type": "code",
   "execution_count": 24,
   "metadata": {
    "colab": {
     "base_uri": "https://localhost:8080/",
     "height": 449
    },
    "id": "qYHzj-3g1uD2",
    "outputId": "18e8fd87-4a84-4972-de12-88ba2503985f"
   },
   "outputs": [
    {
     "data": {
      "image/png": "[encoded data removed]",
      "text/plain": [
       "<Figure size 640x480 with 1 Axes>"
      ]
     },
     "metadata": {},
     "output_type": "display_data"
    }
   ],
   "source": [
    "# Visualize sample image with corresponding label\n",
    "plt.imshow(x_train[10])\n",
    "plt.xlabel(y_train[10])\n",
    "plt.show()"
   ]
  },
  {
   "cell_type": "code",
   "execution_count": 25,
   "metadata": {
    "id": "TjqK6Fz62zyN"
   },
   "outputs": [],
   "source": [
    "# normalize dataset\n",
    "X_train = x_train/255\n",
    "X_test = x_test/255"
   ]
  },
  {
   "cell_type": "code",
   "execution_count": 32,
   "metadata": {
    "id": "EkhOhtVP3BL6"
   },
   "outputs": [],
   "source": [
    "# build model function\n",
    "def fashion_ann_model():\n",
    "  model = keras.models.Sequential([\n",
    "      keras.layers.Flatten(input_shape=x_train[0].shape),\n",
    "      keras.layers.Dense(units=20, activation='relu'),\n",
    "      keras.layers.Dense(units=15, activation='sigmoid'),\n",
    "      keras.layers.Dense(units=10,activation='softmax')\n",
    "  ])\n",
    "  model.compile(optimizer=keras.optimizers.SGD(), loss='sparse_categorical_crossentropy', metrics=['accuracy'])\n",
    "  return model"
   ]
  },
  {
   "cell_type": "code",
   "execution_count": 55,
   "metadata": {
    "colab": {
     "base_uri": "https://localhost:8080/"
    },
    "id": "B7NhaVVY5ilh",
    "outputId": "2d7037e7-5221-48e2-a400-b47fb53c8ea0"
   },
   "outputs": [
    {
     "name": "stdout",
     "output_type": "stream",
     "text": [
      "Epoch 1/11\n",
      "10000/10000 [==============================] - 34s 3ms/step - loss: 1.0263 - accuracy: 0.6803 - val_loss: 0.6759 - val_accuracy: 0.7799\n",
      "Epoch 2/11\n",
      "10000/10000 [==============================] - 33s 3ms/step - loss: 0.5750 - accuracy: 0.8091 - val_loss: 0.5394 - val_accuracy: 0.8166\n",
      "Epoch 3/11\n",
      "10000/10000 [==============================] - 33s 3ms/step - loss: 0.4903 - accuracy: 0.8343 - val_loss: 0.5102 - val_accuracy: 0.8271\n",
      "Epoch 4/11\n",
      "10000/10000 [==============================] - 31s 3ms/step - loss: 0.4540 - accuracy: 0.8443 - val_loss: 0.4759 - val_accuracy: 0.8364\n",
      "Epoch 5/11\n",
      "10000/10000 [==============================] - 33s 3ms/step - loss: 0.4302 - accuracy: 0.8522 - val_loss: 0.4467 - val_accuracy: 0.8457\n",
      "Epoch 6/11\n",
      "10000/10000 [==============================] - 31s 3ms/step - loss: 0.4119 - accuracy: 0.8577 - val_loss: 0.4527 - val_accuracy: 0.8411\n",
      "Epoch 7/11\n",
      "10000/10000 [==============================] - 33s 3ms/step - loss: 0.3987 - accuracy: 0.8606 - val_loss: 0.4348 - val_accuracy: 0.8493\n",
      "Epoch 8/11\n",
      "10000/10000 [==============================] - 33s 3ms/step - loss: 0.3875 - accuracy: 0.8643 - val_loss: 0.4215 - val_accuracy: 0.8522\n",
      "Epoch 9/11\n",
      "10000/10000 [==============================] - 30s 3ms/step - loss: 0.3776 - accuracy: 0.8679 - val_loss: 0.4276 - val_accuracy: 0.8505\n",
      "Epoch 10/11\n",
      "10000/10000 [==============================] - 30s 3ms/step - loss: 0.3679 - accuracy: 0.8710 - val_loss: 0.4131 - val_accuracy: 0.8543\n",
      "Epoch 11/11\n",
      "10000/10000 [==============================] - 33s 3ms/step - loss: 0.3610 - accuracy: 0.8719 - val_loss: 0.4105 - val_accuracy: 0.8552\n"
     ]
    }
   ],
   "source": [
    "# train model\n",
    "def train_ann_fashion_model(x,y):\n",
    "  model = fashion_ann_model()\n",
    "  history = model.fit(\n",
    "      X_train,\n",
    "      y_train,\n",
    "      epochs=x,\n",
    "      validation_data=(X_test,y_test),\n",
    "      batch_size=y,\n",
    "      verbose=1\n",
    "  )\n",
    "  summary = pd.DataFrame(history.history)\n",
    "  summary['epoch'] = history.epoch\n",
    "  return (model,summary)\n",
    "\n",
    "# run model\n",
    "history, result = train_ann_fashion_model(11,6)"
   ]
  },
  {
   "cell_type": "code",
   "execution_count": 56,
   "metadata": {
    "colab": {
     "base_uri": "https://localhost:8080/",
     "height": 394
    },
    "id": "hF9dA_WVGUeC",
    "outputId": "09595d3e-44e4-4548-cddd-5bab9c66d091"
   },
   "outputs": [
    {
     "data": {
      "text/html": [
       "\n",
       "  <div id=\"df-c140b6cf-5f32-4ae1-acb0-1c49eeb3c63b\" class=\"colab-df-container\">\n",
       "    <div>\n",
       "<style scoped>\n",
       "    .dataframe tbody tr th:only-of-type {\n",
       "        vertical-align: middle;\n",
       "    }\n",
       "\n",
       "    .dataframe tbody tr th {\n",
       "        vertical-align: top;\n",
       "    }\n",
       "\n",
       "    .dataframe thead th {\n",
       "        text-align: right;\n",
       "    }\n",
       "</style>\n",
       "<table border=\"1\" class=\"dataframe\">\n",
       "  <thead>\n",
       "    <tr style=\"text-align: right;\">\n",
       "      <th></th>\n",
       "      <th>loss</th>\n",
       "      <th>accuracy</th>\n",
       "      <th>val_loss</th>\n",
       "      <th>val_accuracy</th>\n",
       "      <th>epoch</th>\n",
       "    </tr>\n",
       "  </thead>\n",
       "  <tbody>\n",
       "    <tr>\n",
       "      <th>0</th>\n",
       "      <td>1.026312</td>\n",
       "      <td>0.680300</td>\n",
       "      <td>0.675920</td>\n",
       "      <td>0.7799</td>\n",
       "      <td>0</td>\n",
       "    </tr>\n",
       "    <tr>\n",
       "      <th>1</th>\n",
       "      <td>0.575015</td>\n",
       "      <td>0.809150</td>\n",
       "      <td>0.539367</td>\n",
       "      <td>0.8166</td>\n",
       "      <td>1</td>\n",
       "    </tr>\n",
       "    <tr>\n",
       "      <th>2</th>\n",
       "      <td>0.490276</td>\n",
       "      <td>0.834317</td>\n",
       "      <td>0.510153</td>\n",
       "      <td>0.8271</td>\n",
       "      <td>2</td>\n",
       "    </tr>\n",
       "    <tr>\n",
       "      <th>3</th>\n",
       "      <td>0.454009</td>\n",
       "      <td>0.844250</td>\n",
       "      <td>0.475879</td>\n",
       "      <td>0.8364</td>\n",
       "      <td>3</td>\n",
       "    </tr>\n",
       "    <tr>\n",
       "      <th>4</th>\n",
       "      <td>0.430244</td>\n",
       "      <td>0.852250</td>\n",
       "      <td>0.446717</td>\n",
       "      <td>0.8457</td>\n",
       "      <td>4</td>\n",
       "    </tr>\n",
       "    <tr>\n",
       "      <th>5</th>\n",
       "      <td>0.411892</td>\n",
       "      <td>0.857683</td>\n",
       "      <td>0.452694</td>\n",
       "      <td>0.8411</td>\n",
       "      <td>5</td>\n",
       "    </tr>\n",
       "    <tr>\n",
       "      <th>6</th>\n",
       "      <td>0.398654</td>\n",
       "      <td>0.860567</td>\n",
       "      <td>0.434819</td>\n",
       "      <td>0.8493</td>\n",
       "      <td>6</td>\n",
       "    </tr>\n",
       "    <tr>\n",
       "      <th>7</th>\n",
       "      <td>0.387508</td>\n",
       "      <td>0.864267</td>\n",
       "      <td>0.421495</td>\n",
       "      <td>0.8522</td>\n",
       "      <td>7</td>\n",
       "    </tr>\n",
       "    <tr>\n",
       "      <th>8</th>\n",
       "      <td>0.377597</td>\n",
       "      <td>0.867850</td>\n",
       "      <td>0.427567</td>\n",
       "      <td>0.8505</td>\n",
       "      <td>8</td>\n",
       "    </tr>\n",
       "    <tr>\n",
       "      <th>9</th>\n",
       "      <td>0.367863</td>\n",
       "      <td>0.870983</td>\n",
       "      <td>0.413133</td>\n",
       "      <td>0.8543</td>\n",
       "      <td>9</td>\n",
       "    </tr>\n",
       "    <tr>\n",
       "      <th>10</th>\n",
       "      <td>0.361036</td>\n",
       "      <td>0.871867</td>\n",
       "      <td>0.410473</td>\n",
       "      <td>0.8552</td>\n",
       "      <td>10</td>\n",
       "    </tr>\n",
       "  </tbody>\n",
       "</table>\n",
       "</div>\n",
       "    <div class=\"colab-df-buttons\">\n",
       "\n",
       "  <div class=\"colab-df-container\">\n",
       "    <button class=\"colab-df-convert\" onclick=\"convertToInteractive('df-c140b6cf-5f32-4ae1-acb0-1c49eeb3c63b')\"\n",
       "            title=\"Convert this dataframe to an interactive table.\"\n",
       "            style=\"display:none;\">\n",
       "\n",
       "  <svg xmlns=\"http://www.w3.org/2000/svg\" height=\"24px\" viewBox=\"0 -960 960 960\">\n",
       "    <path d=\"M120-120v-720h720v720H120Zm60-500h600v-160H180v160Zm220 220h160v-160H400v160Zm0 220h160v-160H400v160ZM180-400h160v-160H180v160Zm440 0h160v-160H620v160ZM180-180h160v-160H180v160Zm440 0h160v-160H620v160Z\"/>\n",
       "  </svg>\n",
       "    </button>\n",
       "\n",
       "  <style>\n",
       "    .colab-df-container {\n",
       "      display:flex;\n",
       "      gap: 12px;\n",
       "    }\n",
       "\n",
       "    .colab-df-convert {\n",
       "      background-color: #E8F0FE;\n",
       "      border: none;\n",
       "      border-radius: 50%;\n",
       "      cursor: pointer;\n",
       "      display: none;\n",
       "      fill: #1967D2;\n",
       "      height: 32px;\n",
       "      padding: 0 0 0 0;\n",
       "      width: 32px;\n",
       "    }\n",
       "\n",
       "    .colab-df-convert:hover {\n",
       "      background-color: #E2EBFA;\n",
       "      box-shadow: 0px 1px 2px rgba(60, 64, 67, 0.3), 0px 1px 3px 1px rgba(60, 64, 67, 0.15);\n",
       "      fill: #174EA6;\n",
       "    }\n",
       "\n",
       "    .colab-df-buttons div {\n",
       "      margin-bottom: 4px;\n",
       "    }\n",
       "\n",
       "    [theme=dark] .colab-df-convert {\n",
       "      background-color: #3B4455;\n",
       "      fill: #D2E3FC;\n",
       "    }\n",
       "\n",
       "    [theme=dark] .colab-df-convert:hover {\n",
       "      background-color: #434B5C;\n",
       "      box-shadow: 0px 1px 3px 1px rgba(0, 0, 0, 0.15);\n",
       "      filter: drop-shadow(0px 1px 2px rgba(0, 0, 0, 0.3));\n",
       "      fill: #FFFFFF;\n",
       "    }\n",
       "  </style>\n",
       "\n",
       "    <script>\n",
       "      const buttonEl =\n",
       "        document.querySelector('#df-c140b6cf-5f32-4ae1-acb0-1c49eeb3c63b button.colab-df-convert');\n",
       "      buttonEl.style.display =\n",
       "        google.colab.kernel.accessAllowed ? 'block' : 'none';\n",
       "\n",
       "      async function convertToInteractive(key) {\n",
       "        const element = document.querySelector('#df-c140b6cf-5f32-4ae1-acb0-1c49eeb3c63b');\n",
       "        const dataTable =\n",
       "          await google.colab.kernel.invokeFunction('convertToInteractive',\n",
       "                                                    [key], {});\n",
       "        if (!dataTable) return;\n",
       "\n",
       "        const docLinkHtml = 'Like what you see? Visit the ' +\n",
       "          '<a target=\"_blank\" href=https://colab.research.google.com/notebooks/data_table.ipynb>data table notebook</a>'\n",
       "          + ' to learn more about interactive tables.';\n",
       "        element.innerHTML = '';\n",
       "        dataTable['output_type'] = 'display_data';\n",
       "        await google.colab.output.renderOutput(dataTable, element);\n",
       "        const docLink = document.createElement('div');\n",
       "        docLink.innerHTML = docLinkHtml;\n",
       "        element.appendChild(docLink);\n",
       "      }\n",
       "    </script>\n",
       "  </div>\n",
       "\n",
       "\n",
       "<div id=\"df-a8310d2d-8be7-4e38-941e-b05e1b0d025c\">\n",
       "  <button class=\"colab-df-quickchart\" onclick=\"quickchart('df-a8310d2d-8be7-4e38-941e-b05e1b0d025c')\"\n",
       "            title=\"Suggest charts.\"\n",
       "            style=\"display:none;\">\n",
       "\n",
       "<svg xmlns=\"http://www.w3.org/2000/svg\" height=\"24px\"viewBox=\"0 0 24 24\"\n",
       "     width=\"24px\">\n",
       "    <g>\n",
       "        <path d=\"M19 3H5c-1.1 0-2 .9-2 2v14c0 1.1.9 2 2 2h14c1.1 0 2-.9 2-2V5c0-1.1-.9-2-2-2zM9 17H7v-7h2v7zm4 0h-2V7h2v10zm4 0h-2v-4h2v4z\"/>\n",
       "    </g>\n",
       "</svg>\n",
       "  </button>\n",
       "\n",
       "<style>\n",
       "  .colab-df-quickchart {\n",
       "      --bg-color: #E8F0FE;\n",
       "      --fill-color: #1967D2;\n",
       "      --hover-bg-color: #E2EBFA;\n",
       "      --hover-fill-color: #174EA6;\n",
       "      --disabled-fill-color: #AAA;\n",
       "      --disabled-bg-color: #DDD;\n",
       "  }\n",
       "\n",
       "  [theme=dark] .colab-df-quickchart {\n",
       "      --bg-color: #3B4455;\n",
       "      --fill-color: #D2E3FC;\n",
       "      --hover-bg-color: #434B5C;\n",
       "      --hover-fill-color: #FFFFFF;\n",
       "      --disabled-bg-color: #3B4455;\n",
       "      --disabled-fill-color: #666;\n",
       "  }\n",
       "\n",
       "  .colab-df-quickchart {\n",
       "    background-color: var(--bg-color);\n",
       "    border: none;\n",
       "    border-radius: 50%;\n",
       "    cursor: pointer;\n",
       "    display: none;\n",
       "    fill: var(--fill-color);\n",
       "    height: 32px;\n",
       "    padding: 0;\n",
       "    width: 32px;\n",
       "  }\n",
       "\n",
       "  .colab-df-quickchart:hover {\n",
       "    background-color: var(--hover-bg-color);\n",
       "    box-shadow: 0 1px 2px rgba(60, 64, 67, 0.3), 0 1px 3px 1px rgba(60, 64, 67, 0.15);\n",
       "    fill: var(--button-hover-fill-color);\n",
       "  }\n",
       "\n",
       "  .colab-df-quickchart-complete:disabled,\n",
       "  .colab-df-quickchart-complete:disabled:hover {\n",
       "    background-color: var(--disabled-bg-color);\n",
       "    fill: var(--disabled-fill-color);\n",
       "    box-shadow: none;\n",
       "  }\n",
       "\n",
       "  .colab-df-spinner {\n",
       "    border: 2px solid var(--fill-color);\n",
       "    border-color: transparent;\n",
       "    border-bottom-color: var(--fill-color);\n",
       "    animation:\n",
       "      spin 1s steps(1) infinite;\n",
       "  }\n",
       "\n",
       "  @keyframes spin {\n",
       "    0% {\n",
       "      border-color: transparent;\n",
       "      border-bottom-color: var(--fill-color);\n",
       "      border-left-color: var(--fill-color);\n",
       "    }\n",
       "    20% {\n",
       "      border-color: transparent;\n",
       "      border-left-color: var(--fill-color);\n",
       "      border-top-color: var(--fill-color);\n",
       "    }\n",
       "    30% {\n",
       "      border-color: transparent;\n",
       "      border-left-color: var(--fill-color);\n",
       "      border-top-color: var(--fill-color);\n",
       "      border-right-color: var(--fill-color);\n",
       "    }\n",
       "    40% {\n",
       "      border-color: transparent;\n",
       "      border-right-color: var(--fill-color);\n",
       "      border-top-color: var(--fill-color);\n",
       "    }\n",
       "    60% {\n",
       "      border-color: transparent;\n",
       "      border-right-color: var(--fill-color);\n",
       "    }\n",
       "    80% {\n",
       "      border-color: transparent;\n",
       "      border-right-color: var(--fill-color);\n",
       "      border-bottom-color: var(--fill-color);\n",
       "    }\n",
       "    90% {\n",
       "      border-color: transparent;\n",
       "      border-bottom-color: var(--fill-color);\n",
       "    }\n",
       "  }\n",
       "</style>\n",
       "\n",
       "  <script>\n",
       "    async function quickchart(key) {\n",
       "      const quickchartButtonEl =\n",
       "        document.querySelector('#' + key + ' button');\n",
       "      quickchartButtonEl.disabled = true;  // To prevent multiple clicks.\n",
       "      quickchartButtonEl.classList.add('colab-df-spinner');\n",
       "      try {\n",
       "        const charts = await google.colab.kernel.invokeFunction(\n",
       "            'suggestCharts', [key], {});\n",
       "      } catch (error) {\n",
       "        console.error('Error during call to suggestCharts:', error);\n",
       "      }\n",
       "      quickchartButtonEl.classList.remove('colab-df-spinner');\n",
       "      quickchartButtonEl.classList.add('colab-df-quickchart-complete');\n",
       "    }\n",
       "    (() => {\n",
       "      let quickchartButtonEl =\n",
       "        document.querySelector('#df-a8310d2d-8be7-4e38-941e-b05e1b0d025c button');\n",
       "      quickchartButtonEl.style.display =\n",
       "        google.colab.kernel.accessAllowed ? 'block' : 'none';\n",
       "    })();\n",
       "  </script>\n",
       "</div>\n",
       "    </div>\n",
       "  </div>\n"
      ],
      "text/plain": [
       "        loss  accuracy  val_loss  val_accuracy  epoch\n",
       "0   1.026312  0.680300  0.675920        0.7799      0\n",
       "1   0.575015  0.809150  0.539367        0.8166      1\n",
       "2   0.490276  0.834317  0.510153        0.8271      2\n",
       "3   0.454009  0.844250  0.475879        0.8364      3\n",
       "4   0.430244  0.852250  0.446717        0.8457      4\n",
       "5   0.411892  0.857683  0.452694        0.8411      5\n",
       "6   0.398654  0.860567  0.434819        0.8493      6\n",
       "7   0.387508  0.864267  0.421495        0.8522      7\n",
       "8   0.377597  0.867850  0.427567        0.8505      8\n",
       "9   0.367863  0.870983  0.413133        0.8543      9\n",
       "10  0.361036  0.871867  0.410473        0.8552     10"
      ]
     },
     "execution_count": 56,
     "metadata": {},
     "output_type": "execute_result"
    }
   ],
   "source": [
    "# plot visuals of model sumarry\n",
    "df = pd.DataFrame(result)\n",
    "df"
   ]
  },
  {
   "cell_type": "code",
   "execution_count": 57,
   "metadata": {
    "colab": {
     "base_uri": "https://localhost:8080/",
     "height": 447
    },
    "id": "7rOYDgbwGwfB",
    "outputId": "344d4f20-4b4d-4fec-97ef-265a5b6c5d89"
   },
   "outputs": [
    {
     "data": {
      "text/plain": [
       "<Axes: >"
      ]
     },
     "execution_count": 57,
     "metadata": {},
     "output_type": "execute_result"
    },
    {
     "data": {
      "image/png": "[encoded data removed]",
      "text/plain": [
       "<Figure size 640x480 with 1 Axes>"
      ]
     },
     "metadata": {},
     "output_type": "display_data"
    }
   ],
   "source": [
    "# Plot train vs test data loss\n",
    "result[['loss','val_loss']].plot()"
   ]
  },
  {
   "cell_type": "code",
   "execution_count": 58,
   "metadata": {
    "colab": {
     "base_uri": "https://localhost:8080/",
     "height": 447
    },
    "id": "X1gKjnNKG5rs",
    "outputId": "4407df76-4bdb-4057-f814-723217617f2c"
   },
   "outputs": [
    {
     "data": {
      "text/plain": [
       "<Axes: >"
      ]
     },
     "execution_count": 58,
     "metadata": {},
     "output_type": "execute_result"
    },
    {
     "data": {
      "image/png": "[encoded data removed]",
      "text/plain": [
       "<Figure size 640x480 with 1 Axes>"
      ]
     },
     "metadata": {},
     "output_type": "display_data"
    }
   ],
   "source": [
    "# plot train vs test data accuracy\n",
    "result[['accuracy', 'val_accuracy']].plot()"
   ]
  },
  {
   "cell_type": "code",
   "execution_count": 66,
   "metadata": {
    "colab": {
     "base_uri": "https://localhost:8080/"
    },
    "id": "1h1Vk4YmHIeO",
    "outputId": "7653bcf9-3886-4af5-96d3-48e51df8dfad"
   },
   "outputs": [
    {
     "name": "stdout",
     "output_type": "stream",
     "text": [
      "313/313 [==============================] - 1s 2ms/step - loss: 0.4105 - accuracy: 0.8552\n",
      "Test Accuracy : [0.4104723036289215, 0.8551999926567078]\n"
     ]
    }
   ],
   "source": [
    "# evaluate model\n",
    "model_evaluate = history.evaluate(X_test, y_test)\n",
    "print(\"Test Accuracy :\",model_evaluate)"
   ]
  },
  {
   "cell_type": "code",
   "execution_count": 73,
   "metadata": {
    "colab": {
     "base_uri": "https://localhost:8080/"
    },
    "id": "92Dp7PQGVJsx",
    "outputId": "5bccb4a9-b1a6-49fa-b940-1d5a559c52e7"
   },
   "outputs": [
    {
     "name": "stdout",
     "output_type": "stream",
     "text": [
      "313/313 [==============================] - 1s 2ms/step\n",
      "Predicted:  9\n",
      "Actual Value 9\n"
     ]
    },
    {
     "data": {
      "text/plain": [
       "(None, None)"
      ]
     },
     "execution_count": 73,
     "metadata": {},
     "output_type": "execute_result"
    }
   ],
   "source": [
    "# predict with model\n",
    "y_pred = history.predict(X_test)\n",
    "print(\"Predicted: \",np.argmax(y_pred[0])), print(\"Actual Value\",y_test[0])"
   ]
  },
  {
   "cell_type": "code",
   "execution_count": 67,
   "metadata": {
    "colab": {
     "base_uri": "https://localhost:8080/"
    },
    "id": "hFMd-pNfXUDX",
    "outputId": "706c215d-3c19-4041-df3d-82ce05abb316"
   },
   "outputs": [
    {
     "data": {
      "text/plain": [
       "<tf.Tensor: shape=(10, 10), dtype=int32, numpy=\n",
       "array([[834,   2,  11,  25,   5,   0, 105,   0,  18,   0],\n",
       "       [  3, 955,   6,  26,   4,   0,   5,   0,   1,   0],\n",
       "       [ 20,   1, 761,  13, 158,   1,  43,   0,   3,   0],\n",
       "       [ 29,  10,  11, 845,  66,   1,  35,   0,   3,   0],\n",
       "       [  0,   1,  87,  15, 857,   0,  35,   0,   5,   0],\n",
       "       [  0,   1,   0,   2,   0, 897,   0,  69,   9,  22],\n",
       "       [158,   1, 120,  29, 128,   0, 543,   0,  21,   0],\n",
       "       [  0,   0,   0,   0,   0,  13,   0, 975,   0,  12],\n",
       "       [  1,   1,  10,   9,   3,   2,  10,   7, 957,   0],\n",
       "       [  0,   0,   0,   0,   0,   4,   0,  67,   1, 928]], dtype=int32)>"
      ]
     },
     "execution_count": 67,
     "metadata": {},
     "output_type": "execute_result"
    }
   ],
   "source": [
    "# confusion matrix for model\n",
    "confusion_matrix = tf.math.confusion_matrix(labels=y_test,predictions=np.argmax(y_pred, axis=1))\n",
    "confusion_matrix"
   ]
  },
  {
   "cell_type": "code",
   "execution_count": 71,
   "metadata": {
    "colab": {
     "base_uri": "https://localhost:8080/",
     "height": 567
    },
    "id": "wJQehWgdXdL1",
    "outputId": "f604fe97-98ca-458f-956f-cc1a24eb5c45"
   },
   "outputs": [
    {
     "data": {
      "text/plain": [
       "Text(141.25, 0.5, 'Actual  digit')"
      ]
     },
     "execution_count": 71,
     "metadata": {},
     "output_type": "execute_result"
    },
    {
     "data": {
      "image/png": "[encoded data removed]",
      "text/plain": [
       "<Figure size 1400x600 with 2 Axes>"
      ]
     },
     "metadata": {},
     "output_type": "display_data"
    }
   ],
   "source": [
    "# Plot heatmap for confusion matrix\n",
    "sns.heatmap(confusion_matrix,annot=True,cmap='PuBu_r',fmt='g')\n",
    "plt.xlabel(\"Predicted digit\")\n",
    "plt.ylabel(\"Actual  digit\")"
   ]
  },
  {
   "cell_type": "code",
   "execution_count": null,
   "metadata": {},
   "outputs": [],
   "source": [
    "# Adding many layers effieciently\n",
    "def model_nlayers(num_neurons, num_layers):\n",
    "  # build model\n",
    "  inputs = keras.Input(shape=748) #Input layer\n",
    "  # first hidden layer\n",
    "  dense = keras.layers.Dense(num_neurons, activation='relu')#(inputs)\n",
    "  # customize number of layers and neurons per layer\n",
    "  for i in range(num_layers - 1):\n",
    "    dense = keras.layers.Dense(num_neurons, activation='relu')#(dense)\n",
    "  outputs = keras.layers.Dense(10, activation='softmax')#(dense)\n",
    "  model = keras.Model(\n",
    "      inputs=inputs,\n",
    "      outputs=outputs,\n",
    "      name='model'\n",
    "  )\n",
    "  # Set optimizer and loss\n",
    "  opt = keras.optimizers.SGD(momentum=0.9,learning_rate=0.0001)\n",
    "  model.compile(optimizer=opt,loss='categorical_crossentropy',metrics=['categorical_accurracy'])\n",
    "  # train model\n",
    "  history = model.fit(x_train,y_train,epochs=20,batch_size=20,verbose=1)\n",
    "  # set performance\n",
    "  hist = pd.DataFrame(history.history)\n",
    "  hist['Epoch'] = history.epoch\n",
    "  return history\n",
    "layer_5_3 = model_nlayers(4,3)\n",
    "layer_5_3"
   ]
  }
 ],
 "metadata": {
  "accelerator": "GPU",
  "colab": {
   "gpuType": "T4",
   "provenance": []
  },
  "kernelspec": {
   "display_name": "Python 3 (ipykernel)",
   "language": "python",
   "name": "python3"
  },
  "language_info": {
   "codemirror_mode": {
    "name": "ipython",
    "version": 3
   },
   "file_extension": ".py",
   "mimetype": "text/x-python",
   "name": "python",
   "nbconvert_exporter": "python",
   "pygments_lexer": "ipython3",
   "version": "3.10.4"
  }
 },
 "nbformat": 4,
 "nbformat_minor": 4
}
