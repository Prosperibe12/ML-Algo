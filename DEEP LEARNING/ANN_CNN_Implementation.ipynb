{
  "nbformat": 4,
  "nbformat_minor": 0,
  "metadata": {
    "colab": {
      "provenance": [],
      "gpuType": "T4"
    },
    "kernelspec": {
      "name": "python3",
      "display_name": "Python 3"
    },
    "language_info": {
      "name": "python"
    },
    "accelerator": "GPU"
  },
  "cells": [
    {
      "cell_type": "markdown",
      "source": [
        "##### ANN IMPLEMENTATION"
      ],
      "metadata": {
        "id": "-DE3LZ6SO3Kl"
      }
    },
    {
      "cell_type": "markdown",
      "source": [],
      "metadata": {
        "id": "gdD07p8lO2c8"
      }
    },
    {
      "cell_type": "code",
      "source": [
        "%pip install -q -U keras-tuner"
      ],
      "metadata": {
        "colab": {
          "base_uri": "https://localhost:8080/"
        },
        "id": "0A2HkUL-6cyu",
        "outputId": "ea9e2b92-e682-4c88-cd45-3e4726e2414f"
      },
      "execution_count": null,
      "outputs": [
        {
          "output_type": "stream",
          "name": "stdout",
          "text": [
            "\u001b[2K     \u001b[90m━━━━━━━━━━━━━━━━━━━━━━━━━━━━━━━━━━━━━━━\u001b[0m \u001b[32m127.9/127.9 kB\u001b[0m \u001b[31m3.8 MB/s\u001b[0m eta \u001b[36m0:00:00\u001b[0m\n",
            "\u001b[2K     \u001b[90m━━━━━━━━━━━━━━━━━━━━━━━━━━━━━━━━━━━━━━\u001b[0m \u001b[32m950.8/950.8 kB\u001b[0m \u001b[31m28.5 MB/s\u001b[0m eta \u001b[36m0:00:00\u001b[0m\n",
            "\u001b[?25h"
          ]
        }
      ]
    },
    {
      "cell_type": "code",
      "execution_count": 1,
      "metadata": {
        "id": "DrZdY_NC43t8"
      },
      "outputs": [],
      "source": [
        "import pandas as pd\n",
        "import numpy as np\n",
        "import matplotlib.pyplot as plt\n",
        "import seaborn as sns\n",
        "import tensorflow as tf\n",
        "from tensorflow import keras"
      ]
    },
    {
      "cell_type": "code",
      "source": [
        "# Load dataset\n",
        "(x_train, y_train), (x_test, y_test) = keras.datasets.fashion_mnist.load_data()"
      ],
      "metadata": {
        "colab": {
          "base_uri": "https://localhost:8080/"
        },
        "id": "G9Ze1tx25Vw9",
        "outputId": "cfd78edc-4d4a-49d6-920a-5075d894447e"
      },
      "execution_count": 2,
      "outputs": [
        {
          "output_type": "stream",
          "name": "stdout",
          "text": [
            "Downloading data from https://storage.googleapis.com/tensorflow/tf-keras-datasets/train-labels-idx1-ubyte.gz\n",
            "29515/29515 [==============================] - 0s 0us/step\n",
            "Downloading data from https://storage.googleapis.com/tensorflow/tf-keras-datasets/train-images-idx3-ubyte.gz\n",
            "26421880/26421880 [==============================] - 0s 0us/step\n",
            "Downloading data from https://storage.googleapis.com/tensorflow/tf-keras-datasets/t10k-labels-idx1-ubyte.gz\n",
            "5148/5148 [==============================] - 0s 0us/step\n",
            "Downloading data from https://storage.googleapis.com/tensorflow/tf-keras-datasets/t10k-images-idx3-ubyte.gz\n",
            "4422102/4422102 [==============================] - 0s 0us/step\n"
          ]
        }
      ]
    },
    {
      "cell_type": "code",
      "source": [
        "# Explore dataset and preprocess\n",
        "len(x_train), len(y_train), len(x_test), len(y_test)"
      ],
      "metadata": {
        "colab": {
          "base_uri": "https://localhost:8080/"
        },
        "id": "M2IL0gvh7I0d",
        "outputId": "13fc8850-a103-45c8-ddb5-9cae39bbc8a0"
      },
      "execution_count": 3,
      "outputs": [
        {
          "output_type": "execute_result",
          "data": {
            "text/plain": [
              "(60000, 60000, 10000, 10000)"
            ]
          },
          "metadata": {},
          "execution_count": 3
        }
      ]
    },
    {
      "cell_type": "code",
      "source": [
        "x_train.shape, y_train.shape, x_test.shape, y_test.shape"
      ],
      "metadata": {
        "colab": {
          "base_uri": "https://localhost:8080/"
        },
        "id": "S53HhuVv7fxG",
        "outputId": "b32f0915-8648-4ca7-c796-4fb57b87ca0a"
      },
      "execution_count": 4,
      "outputs": [
        {
          "output_type": "execute_result",
          "data": {
            "text/plain": [
              "((60000, 28, 28), (60000,), (10000, 28, 28), (10000,))"
            ]
          },
          "metadata": {},
          "execution_count": 4
        }
      ]
    },
    {
      "cell_type": "code",
      "source": [
        "y_train[0]"
      ],
      "metadata": {
        "colab": {
          "base_uri": "https://localhost:8080/"
        },
        "id": "ZwZW2vGN8Uxo",
        "outputId": "10a01d41-7350-40b8-f4b2-bea00090d617"
      },
      "execution_count": 5,
      "outputs": [
        {
          "output_type": "execute_result",
          "data": {
            "text/plain": [
              "9"
            ]
          },
          "metadata": {},
          "execution_count": 5
        }
      ]
    },
    {
      "cell_type": "code",
      "source": [
        "# visualize data\n",
        "plt.imshow(x_train[0])\n",
        "plt.ylabel(y_train[0])\n",
        "plt.show()"
      ],
      "metadata": {
        "colab": {
          "base_uri": "https://localhost:8080/",
          "height": 430
        },
        "id": "cGAIVYO07rUe",
        "outputId": "090b3596-5c52-4656-d215-366f309b231b"
      },
      "execution_count": 6,
      "outputs": [
        {
          "output_type": "display_data",
          "data": {
            "text/plain": [
              "<Figure size 640x480 with 1 Axes>"
            ],
            "image/png": "[encoded data removed]"
          },
          "metadata": {}
        }
      ]
    },
    {
      "cell_type": "code",
      "source": [
        "# normalize dataset\n",
        "X_train = x_train/255.0\n",
        "X_test = x_test/255.0"
      ],
      "metadata": {
        "id": "k5sHT0ojBL_C"
      },
      "execution_count": 7,
      "outputs": []
    },
    {
      "cell_type": "code",
      "source": [
        "# build model\n",
        "def Ann_Model(a,b):\n",
        "  model = keras.models.Sequential([\n",
        "    keras.layers.Flatten(input_shape=x_train[0].shape),\n",
        "    keras.layers.Dense(units=a, activation=\"relu\"),\n",
        "    keras.layers.Dense(units=b, activation=\"sigmoid\"),\n",
        "    keras.layers.Dense(units=10, activation=\"softmax\")\n",
        "  ])\n",
        "  model.compile(optimizer=keras.optimizers.SGD(), loss=\"sparse_categorical_crossentropy\", metrics=[\"accuracy\"])\n",
        "  return model"
      ],
      "metadata": {
        "id": "u5rmVFzF8zE_"
      },
      "execution_count": 8,
      "outputs": []
    },
    {
      "cell_type": "code",
      "source": [
        "# train model\n",
        "def train_Ann_Model(x: int, y: int):\n",
        "  model = Ann_Model(200, 120)\n",
        "  history = model.fit(\n",
        "      X_train,\n",
        "      y_train,\n",
        "      epochs=x,\n",
        "      batch_size=y,\n",
        "      validation_data=(X_test,y_test),\n",
        "      verbose=1\n",
        "  )\n",
        "  df = pd.DataFrame(history.history)\n",
        "  df[\"epoch\"] = history.epoch\n",
        "  return (model, df)"
      ],
      "metadata": {
        "id": "jQbhSzaw_07Q"
      },
      "execution_count": 10,
      "outputs": []
    },
    {
      "cell_type": "code",
      "source": [
        "# implement model\n",
        "model, summary = train_Ann_Model(15,20)"
      ],
      "metadata": {
        "colab": {
          "base_uri": "https://localhost:8080/"
        },
        "id": "wH73oDF_CWeF",
        "outputId": "b52050cc-b627-47d4-9aef-e279a8a2059a"
      },
      "execution_count": 11,
      "outputs": [
        {
          "output_type": "stream",
          "name": "stdout",
          "text": [
            "Epoch 1/15\n",
            "3000/3000 [==============================] - 14s 3ms/step - loss: 1.0092 - accuracy: 0.6893 - val_loss: 0.6764 - val_accuracy: 0.7619\n",
            "Epoch 2/15\n",
            "3000/3000 [==============================] - 9s 3ms/step - loss: 0.5914 - accuracy: 0.7928 - val_loss: 0.5631 - val_accuracy: 0.7988\n",
            "Epoch 3/15\n",
            "3000/3000 [==============================] - 8s 3ms/step - loss: 0.5100 - accuracy: 0.8210 - val_loss: 0.5107 - val_accuracy: 0.8196\n",
            "Epoch 4/15\n",
            "3000/3000 [==============================] - 10s 3ms/step - loss: 0.4698 - accuracy: 0.8350 - val_loss: 0.4860 - val_accuracy: 0.8257\n",
            "Epoch 5/15\n",
            "3000/3000 [==============================] - 9s 3ms/step - loss: 0.4452 - accuracy: 0.8416 - val_loss: 0.4630 - val_accuracy: 0.8344\n",
            "Epoch 6/15\n",
            "3000/3000 [==============================] - 9s 3ms/step - loss: 0.4265 - accuracy: 0.8485 - val_loss: 0.4534 - val_accuracy: 0.8348\n",
            "Epoch 7/15\n",
            "3000/3000 [==============================] - 9s 3ms/step - loss: 0.4123 - accuracy: 0.8536 - val_loss: 0.4455 - val_accuracy: 0.8415\n",
            "Epoch 8/15\n",
            "3000/3000 [==============================] - 9s 3ms/step - loss: 0.4006 - accuracy: 0.8587 - val_loss: 0.4349 - val_accuracy: 0.8420\n",
            "Epoch 9/15\n",
            "3000/3000 [==============================] - 10s 3ms/step - loss: 0.3911 - accuracy: 0.8611 - val_loss: 0.4279 - val_accuracy: 0.8473\n",
            "Epoch 10/15\n",
            "3000/3000 [==============================] - 10s 3ms/step - loss: 0.3827 - accuracy: 0.8629 - val_loss: 0.4130 - val_accuracy: 0.8507\n",
            "Epoch 11/15\n",
            "3000/3000 [==============================] - 9s 3ms/step - loss: 0.3752 - accuracy: 0.8665 - val_loss: 0.4108 - val_accuracy: 0.8536\n",
            "Epoch 12/15\n",
            "3000/3000 [==============================] - 9s 3ms/step - loss: 0.3684 - accuracy: 0.8683 - val_loss: 0.4107 - val_accuracy: 0.8543\n",
            "Epoch 13/15\n",
            "3000/3000 [==============================] - 9s 3ms/step - loss: 0.3625 - accuracy: 0.8709 - val_loss: 0.3977 - val_accuracy: 0.8582\n",
            "Epoch 14/15\n",
            "3000/3000 [==============================] - 10s 3ms/step - loss: 0.3573 - accuracy: 0.8719 - val_loss: 0.3949 - val_accuracy: 0.8587\n",
            "Epoch 15/15\n",
            "3000/3000 [==============================] - 9s 3ms/step - loss: 0.3510 - accuracy: 0.8738 - val_loss: 0.3886 - val_accuracy: 0.8615\n"
          ]
        }
      ]
    },
    {
      "cell_type": "code",
      "source": [
        "# model performance\n",
        "summary"
      ],
      "metadata": {
        "colab": {
          "base_uri": "https://localhost:8080/",
          "height": 520
        },
        "id": "GqZUeFISEY2K",
        "outputId": "4d1eb37b-1d14-48e6-ca5c-dbff6f9e5eee"
      },
      "execution_count": null,
      "outputs": [
        {
          "output_type": "execute_result",
          "data": {
            "text/plain": [
              "        loss  accuracy  val_loss  val_accuracy  epoch\n",
              "0   1.001358  0.696367  0.672032        0.7663      0\n",
              "1   0.585669  0.795033  0.554516        0.8050      1\n",
              "2   0.507177  0.822683  0.509292        0.8163      2\n",
              "3   0.467798  0.834983  0.483315        0.8278      3\n",
              "4   0.443017  0.844217  0.461471        0.8363      4\n",
              "5   0.424993  0.849183  0.450976        0.8377      5\n",
              "6   0.411127  0.854683  0.441438        0.8386      6\n",
              "7   0.399426  0.858633  0.440783        0.8429      7\n",
              "8   0.389663  0.862417  0.427178        0.8459      8\n",
              "9   0.381192  0.864567  0.418314        0.8503      9\n",
              "10  0.373575  0.868100  0.409047        0.8542     10\n",
              "11  0.367372  0.869583  0.402703        0.8560     11\n",
              "12  0.360703  0.872517  0.398802        0.8557     12\n",
              "13  0.355482  0.872567  0.397051        0.8586     13\n",
              "14  0.350707  0.875717  0.389433        0.8625     14"
            ],
            "text/html": [
              "\n",
              "  <div id=\"df-703082d8-a0d5-4418-b1b8-0c6beedbeb0a\" class=\"colab-df-container\">\n",
              "    <div>\n",
              "<style scoped>\n",
              "    .dataframe tbody tr th:only-of-type {\n",
              "        vertical-align: middle;\n",
              "    }\n",
              "\n",
              "    .dataframe tbody tr th {\n",
              "        vertical-align: top;\n",
              "    }\n",
              "\n",
              "    .dataframe thead th {\n",
              "        text-align: right;\n",
              "    }\n",
              "</style>\n",
              "<table border=\"1\" class=\"dataframe\">\n",
              "  <thead>\n",
              "    <tr style=\"text-align: right;\">\n",
              "      <th></th>\n",
              "      <th>loss</th>\n",
              "      <th>accuracy</th>\n",
              "      <th>val_loss</th>\n",
              "      <th>val_accuracy</th>\n",
              "      <th>epoch</th>\n",
              "    </tr>\n",
              "  </thead>\n",
              "  <tbody>\n",
              "    <tr>\n",
              "      <th>0</th>\n",
              "      <td>1.001358</td>\n",
              "      <td>0.696367</td>\n",
              "      <td>0.672032</td>\n",
              "      <td>0.7663</td>\n",
              "      <td>0</td>\n",
              "    </tr>\n",
              "    <tr>\n",
              "      <th>1</th>\n",
              "      <td>0.585669</td>\n",
              "      <td>0.795033</td>\n",
              "      <td>0.554516</td>\n",
              "      <td>0.8050</td>\n",
              "      <td>1</td>\n",
              "    </tr>\n",
              "    <tr>\n",
              "      <th>2</th>\n",
              "      <td>0.507177</td>\n",
              "      <td>0.822683</td>\n",
              "      <td>0.509292</td>\n",
              "      <td>0.8163</td>\n",
              "      <td>2</td>\n",
              "    </tr>\n",
              "    <tr>\n",
              "      <th>3</th>\n",
              "      <td>0.467798</td>\n",
              "      <td>0.834983</td>\n",
              "      <td>0.483315</td>\n",
              "      <td>0.8278</td>\n",
              "      <td>3</td>\n",
              "    </tr>\n",
              "    <tr>\n",
              "      <th>4</th>\n",
              "      <td>0.443017</td>\n",
              "      <td>0.844217</td>\n",
              "      <td>0.461471</td>\n",
              "      <td>0.8363</td>\n",
              "      <td>4</td>\n",
              "    </tr>\n",
              "    <tr>\n",
              "      <th>5</th>\n",
              "      <td>0.424993</td>\n",
              "      <td>0.849183</td>\n",
              "      <td>0.450976</td>\n",
              "      <td>0.8377</td>\n",
              "      <td>5</td>\n",
              "    </tr>\n",
              "    <tr>\n",
              "      <th>6</th>\n",
              "      <td>0.411127</td>\n",
              "      <td>0.854683</td>\n",
              "      <td>0.441438</td>\n",
              "      <td>0.8386</td>\n",
              "      <td>6</td>\n",
              "    </tr>\n",
              "    <tr>\n",
              "      <th>7</th>\n",
              "      <td>0.399426</td>\n",
              "      <td>0.858633</td>\n",
              "      <td>0.440783</td>\n",
              "      <td>0.8429</td>\n",
              "      <td>7</td>\n",
              "    </tr>\n",
              "    <tr>\n",
              "      <th>8</th>\n",
              "      <td>0.389663</td>\n",
              "      <td>0.862417</td>\n",
              "      <td>0.427178</td>\n",
              "      <td>0.8459</td>\n",
              "      <td>8</td>\n",
              "    </tr>\n",
              "    <tr>\n",
              "      <th>9</th>\n",
              "      <td>0.381192</td>\n",
              "      <td>0.864567</td>\n",
              "      <td>0.418314</td>\n",
              "      <td>0.8503</td>\n",
              "      <td>9</td>\n",
              "    </tr>\n",
              "    <tr>\n",
              "      <th>10</th>\n",
              "      <td>0.373575</td>\n",
              "      <td>0.868100</td>\n",
              "      <td>0.409047</td>\n",
              "      <td>0.8542</td>\n",
              "      <td>10</td>\n",
              "    </tr>\n",
              "    <tr>\n",
              "      <th>11</th>\n",
              "      <td>0.367372</td>\n",
              "      <td>0.869583</td>\n",
              "      <td>0.402703</td>\n",
              "      <td>0.8560</td>\n",
              "      <td>11</td>\n",
              "    </tr>\n",
              "    <tr>\n",
              "      <th>12</th>\n",
              "      <td>0.360703</td>\n",
              "      <td>0.872517</td>\n",
              "      <td>0.398802</td>\n",
              "      <td>0.8557</td>\n",
              "      <td>12</td>\n",
              "    </tr>\n",
              "    <tr>\n",
              "      <th>13</th>\n",
              "      <td>0.355482</td>\n",
              "      <td>0.872567</td>\n",
              "      <td>0.397051</td>\n",
              "      <td>0.8586</td>\n",
              "      <td>13</td>\n",
              "    </tr>\n",
              "    <tr>\n",
              "      <th>14</th>\n",
              "      <td>0.350707</td>\n",
              "      <td>0.875717</td>\n",
              "      <td>0.389433</td>\n",
              "      <td>0.8625</td>\n",
              "      <td>14</td>\n",
              "    </tr>\n",
              "  </tbody>\n",
              "</table>\n",
              "</div>\n",
              "    <div class=\"colab-df-buttons\">\n",
              "\n",
              "  <div class=\"colab-df-container\">\n",
              "    <button class=\"colab-df-convert\" onclick=\"convertToInteractive('df-703082d8-a0d5-4418-b1b8-0c6beedbeb0a')\"\n",
              "            title=\"Convert this dataframe to an interactive table.\"\n",
              "            style=\"display:none;\">\n",
              "\n",
              "  <svg xmlns=\"http://www.w3.org/2000/svg\" height=\"24px\" viewBox=\"0 -960 960 960\">\n",
              "    <path d=\"M120-120v-720h720v720H120Zm60-500h600v-160H180v160Zm220 220h160v-160H400v160Zm0 220h160v-160H400v160ZM180-400h160v-160H180v160Zm440 0h160v-160H620v160ZM180-180h160v-160H180v160Zm440 0h160v-160H620v160Z\"/>\n",
              "  </svg>\n",
              "    </button>\n",
              "\n",
              "  <style>\n",
              "    .colab-df-container {\n",
              "      display:flex;\n",
              "      gap: 12px;\n",
              "    }\n",
              "\n",
              "    .colab-df-convert {\n",
              "      background-color: #E8F0FE;\n",
              "      border: none;\n",
              "      border-radius: 50%;\n",
              "      cursor: pointer;\n",
              "      display: none;\n",
              "      fill: #1967D2;\n",
              "      height: 32px;\n",
              "      padding: 0 0 0 0;\n",
              "      width: 32px;\n",
              "    }\n",
              "\n",
              "    .colab-df-convert:hover {\n",
              "      background-color: #E2EBFA;\n",
              "      box-shadow: 0px 1px 2px rgba(60, 64, 67, 0.3), 0px 1px 3px 1px rgba(60, 64, 67, 0.15);\n",
              "      fill: #174EA6;\n",
              "    }\n",
              "\n",
              "    .colab-df-buttons div {\n",
              "      margin-bottom: 4px;\n",
              "    }\n",
              "\n",
              "    [theme=dark] .colab-df-convert {\n",
              "      background-color: #3B4455;\n",
              "      fill: #D2E3FC;\n",
              "    }\n",
              "\n",
              "    [theme=dark] .colab-df-convert:hover {\n",
              "      background-color: #434B5C;\n",
              "      box-shadow: 0px 1px 3px 1px rgba(0, 0, 0, 0.15);\n",
              "      filter: drop-shadow(0px 1px 2px rgba(0, 0, 0, 0.3));\n",
              "      fill: #FFFFFF;\n",
              "    }\n",
              "  </style>\n",
              "\n",
              "    <script>\n",
              "      const buttonEl =\n",
              "        document.querySelector('#df-703082d8-a0d5-4418-b1b8-0c6beedbeb0a button.colab-df-convert');\n",
              "      buttonEl.style.display =\n",
              "        google.colab.kernel.accessAllowed ? 'block' : 'none';\n",
              "\n",
              "      async function convertToInteractive(key) {\n",
              "        const element = document.querySelector('#df-703082d8-a0d5-4418-b1b8-0c6beedbeb0a');\n",
              "        const dataTable =\n",
              "          await google.colab.kernel.invokeFunction('convertToInteractive',\n",
              "                                                    [key], {});\n",
              "        if (!dataTable) return;\n",
              "\n",
              "        const docLinkHtml = 'Like what you see? Visit the ' +\n",
              "          '<a target=\"_blank\" href=https://colab.research.google.com/notebooks/data_table.ipynb>data table notebook</a>'\n",
              "          + ' to learn more about interactive tables.';\n",
              "        element.innerHTML = '';\n",
              "        dataTable['output_type'] = 'display_data';\n",
              "        await google.colab.output.renderOutput(dataTable, element);\n",
              "        const docLink = document.createElement('div');\n",
              "        docLink.innerHTML = docLinkHtml;\n",
              "        element.appendChild(docLink);\n",
              "      }\n",
              "    </script>\n",
              "  </div>\n",
              "\n",
              "\n",
              "<div id=\"df-6f7aad36-f8b4-44fd-be13-a53d276e8bb1\">\n",
              "  <button class=\"colab-df-quickchart\" onclick=\"quickchart('df-6f7aad36-f8b4-44fd-be13-a53d276e8bb1')\"\n",
              "            title=\"Suggest charts.\"\n",
              "            style=\"display:none;\">\n",
              "\n",
              "<svg xmlns=\"http://www.w3.org/2000/svg\" height=\"24px\"viewBox=\"0 0 24 24\"\n",
              "     width=\"24px\">\n",
              "    <g>\n",
              "        <path d=\"M19 3H5c-1.1 0-2 .9-2 2v14c0 1.1.9 2 2 2h14c1.1 0 2-.9 2-2V5c0-1.1-.9-2-2-2zM9 17H7v-7h2v7zm4 0h-2V7h2v10zm4 0h-2v-4h2v4z\"/>\n",
              "    </g>\n",
              "</svg>\n",
              "  </button>\n",
              "\n",
              "<style>\n",
              "  .colab-df-quickchart {\n",
              "      --bg-color: #E8F0FE;\n",
              "      --fill-color: #1967D2;\n",
              "      --hover-bg-color: #E2EBFA;\n",
              "      --hover-fill-color: #174EA6;\n",
              "      --disabled-fill-color: #AAA;\n",
              "      --disabled-bg-color: #DDD;\n",
              "  }\n",
              "\n",
              "  [theme=dark] .colab-df-quickchart {\n",
              "      --bg-color: #3B4455;\n",
              "      --fill-color: #D2E3FC;\n",
              "      --hover-bg-color: #434B5C;\n",
              "      --hover-fill-color: #FFFFFF;\n",
              "      --disabled-bg-color: #3B4455;\n",
              "      --disabled-fill-color: #666;\n",
              "  }\n",
              "\n",
              "  .colab-df-quickchart {\n",
              "    background-color: var(--bg-color);\n",
              "    border: none;\n",
              "    border-radius: 50%;\n",
              "    cursor: pointer;\n",
              "    display: none;\n",
              "    fill: var(--fill-color);\n",
              "    height: 32px;\n",
              "    padding: 0;\n",
              "    width: 32px;\n",
              "  }\n",
              "\n",
              "  .colab-df-quickchart:hover {\n",
              "    background-color: var(--hover-bg-color);\n",
              "    box-shadow: 0 1px 2px rgba(60, 64, 67, 0.3), 0 1px 3px 1px rgba(60, 64, 67, 0.15);\n",
              "    fill: var(--button-hover-fill-color);\n",
              "  }\n",
              "\n",
              "  .colab-df-quickchart-complete:disabled,\n",
              "  .colab-df-quickchart-complete:disabled:hover {\n",
              "    background-color: var(--disabled-bg-color);\n",
              "    fill: var(--disabled-fill-color);\n",
              "    box-shadow: none;\n",
              "  }\n",
              "\n",
              "  .colab-df-spinner {\n",
              "    border: 2px solid var(--fill-color);\n",
              "    border-color: transparent;\n",
              "    border-bottom-color: var(--fill-color);\n",
              "    animation:\n",
              "      spin 1s steps(1) infinite;\n",
              "  }\n",
              "\n",
              "  @keyframes spin {\n",
              "    0% {\n",
              "      border-color: transparent;\n",
              "      border-bottom-color: var(--fill-color);\n",
              "      border-left-color: var(--fill-color);\n",
              "    }\n",
              "    20% {\n",
              "      border-color: transparent;\n",
              "      border-left-color: var(--fill-color);\n",
              "      border-top-color: var(--fill-color);\n",
              "    }\n",
              "    30% {\n",
              "      border-color: transparent;\n",
              "      border-left-color: var(--fill-color);\n",
              "      border-top-color: var(--fill-color);\n",
              "      border-right-color: var(--fill-color);\n",
              "    }\n",
              "    40% {\n",
              "      border-color: transparent;\n",
              "      border-right-color: var(--fill-color);\n",
              "      border-top-color: var(--fill-color);\n",
              "    }\n",
              "    60% {\n",
              "      border-color: transparent;\n",
              "      border-right-color: var(--fill-color);\n",
              "    }\n",
              "    80% {\n",
              "      border-color: transparent;\n",
              "      border-right-color: var(--fill-color);\n",
              "      border-bottom-color: var(--fill-color);\n",
              "    }\n",
              "    90% {\n",
              "      border-color: transparent;\n",
              "      border-bottom-color: var(--fill-color);\n",
              "    }\n",
              "  }\n",
              "</style>\n",
              "\n",
              "  <script>\n",
              "    async function quickchart(key) {\n",
              "      const quickchartButtonEl =\n",
              "        document.querySelector('#' + key + ' button');\n",
              "      quickchartButtonEl.disabled = true;  // To prevent multiple clicks.\n",
              "      quickchartButtonEl.classList.add('colab-df-spinner');\n",
              "      try {\n",
              "        const charts = await google.colab.kernel.invokeFunction(\n",
              "            'suggestCharts', [key], {});\n",
              "      } catch (error) {\n",
              "        console.error('Error during call to suggestCharts:', error);\n",
              "      }\n",
              "      quickchartButtonEl.classList.remove('colab-df-spinner');\n",
              "      quickchartButtonEl.classList.add('colab-df-quickchart-complete');\n",
              "    }\n",
              "    (() => {\n",
              "      let quickchartButtonEl =\n",
              "        document.querySelector('#df-6f7aad36-f8b4-44fd-be13-a53d276e8bb1 button');\n",
              "      quickchartButtonEl.style.display =\n",
              "        google.colab.kernel.accessAllowed ? 'block' : 'none';\n",
              "    })();\n",
              "  </script>\n",
              "</div>\n",
              "    </div>\n",
              "  </div>\n"
            ]
          },
          "metadata": {},
          "execution_count": 37
        }
      ]
    },
    {
      "cell_type": "code",
      "source": [
        "# plot loss for traiming and testing dataset\n",
        "summary[[\"loss\",\"val_loss\"]].plot()"
      ],
      "metadata": {
        "colab": {
          "base_uri": "https://localhost:8080/",
          "height": 447
        },
        "id": "vSexW-D5EgL4",
        "outputId": "e80eb4f1-cba1-495e-8564-993ec2819226"
      },
      "execution_count": null,
      "outputs": [
        {
          "output_type": "execute_result",
          "data": {
            "text/plain": [
              "<Axes: >"
            ]
          },
          "metadata": {},
          "execution_count": 38
        },
        {
          "output_type": "display_data",
          "data": {
            "text/plain": [
              "<Figure size 640x480 with 1 Axes>"
            ],
            "image/png": "[encoded data removed]"
          },
          "metadata": {}
        }
      ]
    },
    {
      "cell_type": "code",
      "source": [
        "# plot accuracy for training and testing data\n",
        "summary[[\"accuracy\", \"val_accuracy\"]].plot()"
      ],
      "metadata": {
        "colab": {
          "base_uri": "https://localhost:8080/",
          "height": 447
        },
        "id": "wgKScs-sEvG2",
        "outputId": "7221800a-3a5f-45eb-dd43-8a7a53f1d74d"
      },
      "execution_count": null,
      "outputs": [
        {
          "output_type": "execute_result",
          "data": {
            "text/plain": [
              "<Axes: >"
            ]
          },
          "metadata": {},
          "execution_count": 39
        },
        {
          "output_type": "display_data",
          "data": {
            "text/plain": [
              "<Figure size 640x480 with 1 Axes>"
            ],
            "image/png": "[encoded data removed]"
          },
          "metadata": {}
        }
      ]
    },
    {
      "cell_type": "code",
      "source": [
        "# predict with model\n",
        "y_pred = model.predict(X_test)\n",
        "np.argmax(y_pred, axis=1)"
      ],
      "metadata": {
        "colab": {
          "base_uri": "https://localhost:8080/"
        },
        "id": "C1H1OSiDFDj0",
        "outputId": "e8bb50fa-1999-4f4f-e3da-00d80f2ee751"
      },
      "execution_count": null,
      "outputs": [
        {
          "output_type": "stream",
          "name": "stdout",
          "text": [
            "313/313 [==============================] - 0s 2ms/step\n"
          ]
        },
        {
          "output_type": "execute_result",
          "data": {
            "text/plain": [
              "array([9, 2, 1, ..., 8, 1, 5])"
            ]
          },
          "metadata": {},
          "execution_count": 42
        }
      ]
    },
    {
      "cell_type": "code",
      "source": [
        "# compare random predictions\n",
        "for i in range(1000, 1011):\n",
        "  print(f\"Actual value is {y_test[i]} and Predicted value is {np.argmax(y_pred[i])}\")"
      ],
      "metadata": {
        "colab": {
          "base_uri": "https://localhost:8080/"
        },
        "id": "yRfiYEvpHpih",
        "outputId": "746f5328-6f9d-4688-c44e-7cc910793b35"
      },
      "execution_count": null,
      "outputs": [
        {
          "output_type": "stream",
          "name": "stdout",
          "text": [
            "Actual value is 0 and Predicted value is 0\n",
            "Actual value is 3 and Predicted value is 3\n",
            "Actual value is 5 and Predicted value is 5\n",
            "Actual value is 5 and Predicted value is 5\n",
            "Actual value is 6 and Predicted value is 2\n",
            "Actual value is 0 and Predicted value is 4\n",
            "Actual value is 5 and Predicted value is 5\n",
            "Actual value is 9 and Predicted value is 9\n",
            "Actual value is 6 and Predicted value is 6\n",
            "Actual value is 3 and Predicted value is 3\n",
            "Actual value is 7 and Predicted value is 7\n"
          ]
        }
      ]
    },
    {
      "cell_type": "code",
      "source": [
        "# evaluate model performance\n",
        "cf = tf.math.confusion_matrix(labels=y_test,predictions=np.argmax(y_pred, axis=1))\n",
        "cf"
      ],
      "metadata": {
        "colab": {
          "base_uri": "https://localhost:8080/"
        },
        "id": "4oh6WRikJvGY",
        "outputId": "b5fa5ac0-69b7-41f2-dfbb-10f3fa3d4908"
      },
      "execution_count": null,
      "outputs": [
        {
          "output_type": "execute_result",
          "data": {
            "text/plain": [
              "<tf.Tensor: shape=(10, 10), dtype=int32, numpy=\n",
              "array([[849,   0,  12,  39,   2,   0,  86,   0,  12,   0],\n",
              "       [  3, 959,   3,  27,   4,   0,   3,   0,   1,   0],\n",
              "       [ 19,   1, 804,  13, 108,   1,  50,   0,   4,   0],\n",
              "       [ 29,  11,  11, 893,  26,   0,  25,   0,   5,   0],\n",
              "       [  0,   1, 123,  48, 775,   1,  48,   0,   4,   0],\n",
              "       [  0,   0,   0,   1,   0, 938,   0,  35,   3,  23],\n",
              "       [144,   1, 132,  42,  91,   0, 575,   0,  15,   0],\n",
              "       [  0,   0,   0,   0,   0,  30,   0, 921,   0,  49],\n",
              "       [  3,   1,  13,   9,   3,   3,  14,   5, 949,   0],\n",
              "       [  0,   0,   0,   0,   0,   6,   0,  31,   1, 962]], dtype=int32)>"
            ]
          },
          "metadata": {},
          "execution_count": 47
        }
      ]
    },
    {
      "cell_type": "markdown",
      "source": [
        "#### CNN IMPLEMENTATION"
      ],
      "metadata": {
        "id": "ixyI45t6Okmy"
      }
    },
    {
      "cell_type": "code",
      "source": [
        "# load dataset for CNN\n",
        "(cx_train, cy_train), (cx_test, cy_test) = keras.datasets.cifar10.load_data()"
      ],
      "metadata": {
        "id": "SpEQrtnCO_hI",
        "colab": {
          "base_uri": "https://localhost:8080/"
        },
        "outputId": "e0009d5a-814e-474d-9ed9-ec1b3c3cce68"
      },
      "execution_count": null,
      "outputs": [
        {
          "output_type": "stream",
          "name": "stdout",
          "text": [
            "Downloading data from https://www.cs.toronto.edu/~kriz/cifar-10-python.tar.gz\n",
            "170498071/170498071 [==============================] - 14s 0us/step\n"
          ]
        }
      ]
    },
    {
      "cell_type": "code",
      "source": [
        "# Explore dataset and preprocess\n",
        "len(cx_train), len(cy_train), len(cx_test), len(cy_test)"
      ],
      "metadata": {
        "colab": {
          "base_uri": "https://localhost:8080/"
        },
        "id": "4p30scXNPdVc",
        "outputId": "1415cc8c-5a62-443b-9f88-6abbf9f01ea5"
      },
      "execution_count": null,
      "outputs": [
        {
          "output_type": "execute_result",
          "data": {
            "text/plain": [
              "(50000, 50000, 10000, 10000)"
            ]
          },
          "metadata": {},
          "execution_count": 6
        }
      ]
    },
    {
      "cell_type": "code",
      "source": [
        "# shape of dataset\n",
        "cx_train.shape, cy_train.shape, cx_test.shape, cy_test.shape"
      ],
      "metadata": {
        "colab": {
          "base_uri": "https://localhost:8080/"
        },
        "id": "pV3iExugPolp",
        "outputId": "9224d9be-f5b2-42a8-c361-d1bb4d9bbf3b"
      },
      "execution_count": null,
      "outputs": [
        {
          "output_type": "execute_result",
          "data": {
            "text/plain": [
              "((50000, 32, 32, 3), (50000, 1), (10000, 32, 32, 3), (10000, 1))"
            ]
          },
          "metadata": {},
          "execution_count": 7
        }
      ]
    },
    {
      "cell_type": "code",
      "source": [
        "# shape of individual dataset\n",
        "cx_train[0].shape, cy_train[0].shape, cx_test[0].shape, cy_test[0].shape"
      ],
      "metadata": {
        "colab": {
          "base_uri": "https://localhost:8080/"
        },
        "id": "yQP4zHzKQSoi",
        "outputId": "48c77be5-c047-444b-dc92-df9f5c3e127e"
      },
      "execution_count": null,
      "outputs": [
        {
          "output_type": "execute_result",
          "data": {
            "text/plain": [
              "((32, 32, 3), (1,), (32, 32, 3), (1,))"
            ]
          },
          "metadata": {},
          "execution_count": 8
        }
      ]
    },
    {
      "cell_type": "code",
      "source": [
        "# Normalize pixel values between 0 and 1\n",
        "cx_train = cx_train.astype('float32') / 255.0\n",
        "cx_test = cx_test.astype('float32') / 255.0"
      ],
      "metadata": {
        "id": "lIWfKMjbj5X_"
      },
      "execution_count": null,
      "outputs": []
    },
    {
      "cell_type": "code",
      "source": [
        "# reshape dataset\n",
        "cx_train = cx_train.reshape(cx_train.shape[0], 32,32,3)\n",
        "cx_test = cx_test.reshape(cx_test.shape[0], 32,32,3)"
      ],
      "metadata": {
        "id": "D9c6EGY-rEqp"
      },
      "execution_count": null,
      "outputs": []
    },
    {
      "cell_type": "code",
      "source": [
        "# build moodel\n",
        "def CNN_Model():\n",
        "  model = keras.models.Sequential([\n",
        "      keras.layers.Conv2D(\n",
        "          filters=62,\n",
        "          kernel_size=(3,3),\n",
        "          strides=(1,1),\n",
        "          padding=\"same\",\n",
        "          activation=\"relu\",\n",
        "          input_shape= cx_train[0].shape\n",
        "      ),\n",
        "      keras.layers.Conv2D(\n",
        "        filters=35,\n",
        "        kernel_size=3,\n",
        "        strides=1,\n",
        "        padding=\"same\",\n",
        "        activation=\"relu\",\n",
        "        input_shape=cx_train[0].shape\n",
        "      ),\n",
        "      keras.layers.Conv2D(\n",
        "          filters=40,\n",
        "          kernel_size=(3,3),\n",
        "          strides=(1,1),\n",
        "          padding=\"valid\",\n",
        "          activation=\"relu\",\n",
        "          input_shape= cx_train[0].shape\n",
        "      ),\n",
        "      keras.layers.MaxPool2D(pool_size=(2,2)),\n",
        "      keras.layers.Flatten(),\n",
        "      keras.layers.Dense(units=300, activation=\"relu\"),\n",
        "      keras.layers.Dense(units=150, activation=\"relu\"),\n",
        "      keras.layers.Dense(units=100, activation=\"relu\"),\n",
        "      keras.layers.Dense(units=10, activation=\"softmax\")\n",
        "  ])\n",
        "  model.compile(optimizer=keras.optimizers.Adam(), loss=\"sparse_categorical_crossentropy\", metrics=[\"accuracy\"])\n",
        "  return model"
      ],
      "metadata": {
        "id": "sV2K-qQpVGYz"
      },
      "execution_count": null,
      "outputs": []
    },
    {
      "cell_type": "code",
      "source": [
        "cnn_model = CNN_Model()\n",
        "cnn_model.summary()"
      ],
      "metadata": {
        "colab": {
          "base_uri": "https://localhost:8080/"
        },
        "id": "DhUZdZ61gpRw",
        "outputId": "be1cbddb-d2ad-4c49-e042-0341b96d51fd"
      },
      "execution_count": null,
      "outputs": [
        {
          "output_type": "stream",
          "name": "stdout",
          "text": [
            "Model: \"sequential_2\"\n",
            "_________________________________________________________________\n",
            " Layer (type)                Output Shape              Param #   \n",
            "=================================================================\n",
            " conv2d_5 (Conv2D)           (None, 32, 32, 62)        1736      \n",
            "                                                                 \n",
            " conv2d_6 (Conv2D)           (None, 32, 32, 35)        19565     \n",
            "                                                                 \n",
            " conv2d_7 (Conv2D)           (None, 30, 30, 40)        12640     \n",
            "                                                                 \n",
            " max_pooling2d_2 (MaxPoolin  (None, 15, 15, 40)        0         \n",
            " g2D)                                                            \n",
            "                                                                 \n",
            " flatten_2 (Flatten)         (None, 9000)              0         \n",
            "                                                                 \n",
            " dense_8 (Dense)             (None, 300)               2700300   \n",
            "                                                                 \n",
            " dense_9 (Dense)             (None, 150)               45150     \n",
            "                                                                 \n",
            " dense_10 (Dense)            (None, 100)               15100     \n",
            "                                                                 \n",
            " dense_11 (Dense)            (None, 10)                1010      \n",
            "                                                                 \n",
            "=================================================================\n",
            "Total params: 2795501 (10.66 MB)\n",
            "Trainable params: 2795501 (10.66 MB)\n",
            "Non-trainable params: 0 (0.00 Byte)\n",
            "_________________________________________________________________\n"
          ]
        }
      ]
    },
    {
      "cell_type": "code",
      "source": [
        "# train model\n",
        "def train_CNN_Model(x,y):\n",
        "  model = CNN_Model()\n",
        "  history = model.fit(\n",
        "      cx_train,\n",
        "      cy_train,\n",
        "      epochs=x,\n",
        "      batch_size=y,\n",
        "      validation_data=(cx_test,cy_test),\n",
        "      verbose=1\n",
        "  )\n",
        "  df = pd.DataFrame(history.history)\n",
        "  df[\"epoch\"] = history.epoch\n",
        "  return (model, df)"
      ],
      "metadata": {
        "id": "cFA40CiLXJU_"
      },
      "execution_count": null,
      "outputs": []
    },
    {
      "cell_type": "code",
      "source": [
        "# implement model\n",
        "a, b = train_CNN_Model(15,10)"
      ],
      "metadata": {
        "colab": {
          "base_uri": "https://localhost:8080/"
        },
        "id": "S4w7FhZXYcjd",
        "outputId": "cc5b434b-ac24-436a-9acb-db125e843c0f"
      },
      "execution_count": null,
      "outputs": [
        {
          "output_type": "stream",
          "name": "stdout",
          "text": [
            "Epoch 1/15\n",
            "5000/5000 [==============================] - 28s 5ms/step - loss: 1.5331 - accuracy: 0.4374 - val_loss: 1.1825 - val_accuracy: 0.5768\n",
            "Epoch 2/15\n",
            "5000/5000 [==============================] - 26s 5ms/step - loss: 1.0458 - accuracy: 0.6301 - val_loss: 1.0222 - val_accuracy: 0.6462\n",
            "Epoch 3/15\n",
            "5000/5000 [==============================] - 27s 5ms/step - loss: 0.8303 - accuracy: 0.7105 - val_loss: 1.0071 - val_accuracy: 0.6535\n",
            "Epoch 4/15\n",
            "5000/5000 [==============================] - 26s 5ms/step - loss: 0.6532 - accuracy: 0.7717 - val_loss: 1.0399 - val_accuracy: 0.6685\n",
            "Epoch 5/15\n",
            "5000/5000 [==============================] - 25s 5ms/step - loss: 0.4958 - accuracy: 0.8270 - val_loss: 1.0948 - val_accuracy: 0.6609\n",
            "Epoch 6/15\n",
            "5000/5000 [==============================] - 25s 5ms/step - loss: 0.3723 - accuracy: 0.8725 - val_loss: 1.1658 - val_accuracy: 0.6737\n",
            "Epoch 7/15\n",
            "5000/5000 [==============================] - 25s 5ms/step - loss: 0.2853 - accuracy: 0.9021 - val_loss: 1.3973 - val_accuracy: 0.6572\n",
            "Epoch 8/15\n",
            "5000/5000 [==============================] - 25s 5ms/step - loss: 0.2227 - accuracy: 0.9242 - val_loss: 1.5347 - val_accuracy: 0.6622\n",
            "Epoch 9/15\n",
            "5000/5000 [==============================] - 26s 5ms/step - loss: 0.1862 - accuracy: 0.9385 - val_loss: 1.7389 - val_accuracy: 0.6547\n",
            "Epoch 10/15\n",
            "5000/5000 [==============================] - 26s 5ms/step - loss: 0.1626 - accuracy: 0.9478 - val_loss: 1.7802 - val_accuracy: 0.6623\n",
            "Epoch 11/15\n",
            "5000/5000 [==============================] - 25s 5ms/step - loss: 0.1403 - accuracy: 0.9557 - val_loss: 1.8167 - val_accuracy: 0.6718\n",
            "Epoch 12/15\n",
            "5000/5000 [==============================] - 25s 5ms/step - loss: 0.1287 - accuracy: 0.9591 - val_loss: 1.9366 - val_accuracy: 0.6578\n",
            "Epoch 13/15\n",
            "5000/5000 [==============================] - 25s 5ms/step - loss: 0.1150 - accuracy: 0.9642 - val_loss: 2.2663 - val_accuracy: 0.6511\n",
            "Epoch 14/15\n",
            "5000/5000 [==============================] - 26s 5ms/step - loss: 0.1064 - accuracy: 0.9675 - val_loss: 2.0109 - val_accuracy: 0.6487\n",
            "Epoch 15/15\n",
            "5000/5000 [==============================] - 25s 5ms/step - loss: 0.0973 - accuracy: 0.9704 - val_loss: 2.2216 - val_accuracy: 0.6518\n"
          ]
        }
      ]
    },
    {
      "cell_type": "code",
      "source": [
        "# display dataframe of loss and accuracy for training & testing\n",
        "b"
      ],
      "metadata": {
        "colab": {
          "base_uri": "https://localhost:8080/",
          "height": 676
        },
        "id": "ABup-Ke06Kdc",
        "outputId": "f762abcb-2f8d-4eb1-fe2f-4a4adddeb44e"
      },
      "execution_count": null,
      "outputs": [
        {
          "output_type": "execute_result",
          "data": {
            "text/plain": [
              "        loss  accuracy  val_loss  val_accuracy  epoch\n",
              "0   1.351684   0.51198  1.119205        0.6054      0\n",
              "1   0.975944   0.65430  1.039401        0.6372      1\n",
              "2   0.806346   0.71766  1.053188        0.6352      2\n",
              "3   0.671064   0.76458  0.993739        0.6663      3\n",
              "4   0.548872   0.80464  1.086241        0.6669      4\n",
              "5   0.444367   0.84186  1.306182        0.6559      5\n",
              "6   0.360193   0.87336  1.355415        0.6547      6\n",
              "7   0.295541   0.89648  1.584864        0.6490      7\n",
              "8   0.242924   0.91334  1.693832        0.6475      8\n",
              "9   0.207807   0.92772  1.741472        0.6486      9\n",
              "10  0.184819   0.93684  2.013185        0.6426     10\n",
              "11  0.164457   0.94378  2.144465        0.6416     11\n",
              "12  0.144604   0.95188  2.341500        0.6401     12\n",
              "13  0.132286   0.95616  2.569397        0.6290     13\n",
              "14  0.126916   0.95790  2.538848        0.6394     14\n",
              "15  0.117707   0.96100  2.571902        0.6411     15\n",
              "16  0.112245   0.96378  2.713260        0.6341     16\n",
              "17  0.108861   0.96546  2.735318        0.6380     17\n",
              "18  0.104991   0.96666  2.953985        0.6308     18\n",
              "19  0.101731   0.96904  3.141515        0.6272     19"
            ],
            "text/html": [
              "\n",
              "  <div id=\"df-58ed32bc-5884-4785-8587-031f994eb4bc\" class=\"colab-df-container\">\n",
              "    <div>\n",
              "<style scoped>\n",
              "    .dataframe tbody tr th:only-of-type {\n",
              "        vertical-align: middle;\n",
              "    }\n",
              "\n",
              "    .dataframe tbody tr th {\n",
              "        vertical-align: top;\n",
              "    }\n",
              "\n",
              "    .dataframe thead th {\n",
              "        text-align: right;\n",
              "    }\n",
              "</style>\n",
              "<table border=\"1\" class=\"dataframe\">\n",
              "  <thead>\n",
              "    <tr style=\"text-align: right;\">\n",
              "      <th></th>\n",
              "      <th>loss</th>\n",
              "      <th>accuracy</th>\n",
              "      <th>val_loss</th>\n",
              "      <th>val_accuracy</th>\n",
              "      <th>epoch</th>\n",
              "    </tr>\n",
              "  </thead>\n",
              "  <tbody>\n",
              "    <tr>\n",
              "      <th>0</th>\n",
              "      <td>1.351684</td>\n",
              "      <td>0.51198</td>\n",
              "      <td>1.119205</td>\n",
              "      <td>0.6054</td>\n",
              "      <td>0</td>\n",
              "    </tr>\n",
              "    <tr>\n",
              "      <th>1</th>\n",
              "      <td>0.975944</td>\n",
              "      <td>0.65430</td>\n",
              "      <td>1.039401</td>\n",
              "      <td>0.6372</td>\n",
              "      <td>1</td>\n",
              "    </tr>\n",
              "    <tr>\n",
              "      <th>2</th>\n",
              "      <td>0.806346</td>\n",
              "      <td>0.71766</td>\n",
              "      <td>1.053188</td>\n",
              "      <td>0.6352</td>\n",
              "      <td>2</td>\n",
              "    </tr>\n",
              "    <tr>\n",
              "      <th>3</th>\n",
              "      <td>0.671064</td>\n",
              "      <td>0.76458</td>\n",
              "      <td>0.993739</td>\n",
              "      <td>0.6663</td>\n",
              "      <td>3</td>\n",
              "    </tr>\n",
              "    <tr>\n",
              "      <th>4</th>\n",
              "      <td>0.548872</td>\n",
              "      <td>0.80464</td>\n",
              "      <td>1.086241</td>\n",
              "      <td>0.6669</td>\n",
              "      <td>4</td>\n",
              "    </tr>\n",
              "    <tr>\n",
              "      <th>5</th>\n",
              "      <td>0.444367</td>\n",
              "      <td>0.84186</td>\n",
              "      <td>1.306182</td>\n",
              "      <td>0.6559</td>\n",
              "      <td>5</td>\n",
              "    </tr>\n",
              "    <tr>\n",
              "      <th>6</th>\n",
              "      <td>0.360193</td>\n",
              "      <td>0.87336</td>\n",
              "      <td>1.355415</td>\n",
              "      <td>0.6547</td>\n",
              "      <td>6</td>\n",
              "    </tr>\n",
              "    <tr>\n",
              "      <th>7</th>\n",
              "      <td>0.295541</td>\n",
              "      <td>0.89648</td>\n",
              "      <td>1.584864</td>\n",
              "      <td>0.6490</td>\n",
              "      <td>7</td>\n",
              "    </tr>\n",
              "    <tr>\n",
              "      <th>8</th>\n",
              "      <td>0.242924</td>\n",
              "      <td>0.91334</td>\n",
              "      <td>1.693832</td>\n",
              "      <td>0.6475</td>\n",
              "      <td>8</td>\n",
              "    </tr>\n",
              "    <tr>\n",
              "      <th>9</th>\n",
              "      <td>0.207807</td>\n",
              "      <td>0.92772</td>\n",
              "      <td>1.741472</td>\n",
              "      <td>0.6486</td>\n",
              "      <td>9</td>\n",
              "    </tr>\n",
              "    <tr>\n",
              "      <th>10</th>\n",
              "      <td>0.184819</td>\n",
              "      <td>0.93684</td>\n",
              "      <td>2.013185</td>\n",
              "      <td>0.6426</td>\n",
              "      <td>10</td>\n",
              "    </tr>\n",
              "    <tr>\n",
              "      <th>11</th>\n",
              "      <td>0.164457</td>\n",
              "      <td>0.94378</td>\n",
              "      <td>2.144465</td>\n",
              "      <td>0.6416</td>\n",
              "      <td>11</td>\n",
              "    </tr>\n",
              "    <tr>\n",
              "      <th>12</th>\n",
              "      <td>0.144604</td>\n",
              "      <td>0.95188</td>\n",
              "      <td>2.341500</td>\n",
              "      <td>0.6401</td>\n",
              "      <td>12</td>\n",
              "    </tr>\n",
              "    <tr>\n",
              "      <th>13</th>\n",
              "      <td>0.132286</td>\n",
              "      <td>0.95616</td>\n",
              "      <td>2.569397</td>\n",
              "      <td>0.6290</td>\n",
              "      <td>13</td>\n",
              "    </tr>\n",
              "    <tr>\n",
              "      <th>14</th>\n",
              "      <td>0.126916</td>\n",
              "      <td>0.95790</td>\n",
              "      <td>2.538848</td>\n",
              "      <td>0.6394</td>\n",
              "      <td>14</td>\n",
              "    </tr>\n",
              "    <tr>\n",
              "      <th>15</th>\n",
              "      <td>0.117707</td>\n",
              "      <td>0.96100</td>\n",
              "      <td>2.571902</td>\n",
              "      <td>0.6411</td>\n",
              "      <td>15</td>\n",
              "    </tr>\n",
              "    <tr>\n",
              "      <th>16</th>\n",
              "      <td>0.112245</td>\n",
              "      <td>0.96378</td>\n",
              "      <td>2.713260</td>\n",
              "      <td>0.6341</td>\n",
              "      <td>16</td>\n",
              "    </tr>\n",
              "    <tr>\n",
              "      <th>17</th>\n",
              "      <td>0.108861</td>\n",
              "      <td>0.96546</td>\n",
              "      <td>2.735318</td>\n",
              "      <td>0.6380</td>\n",
              "      <td>17</td>\n",
              "    </tr>\n",
              "    <tr>\n",
              "      <th>18</th>\n",
              "      <td>0.104991</td>\n",
              "      <td>0.96666</td>\n",
              "      <td>2.953985</td>\n",
              "      <td>0.6308</td>\n",
              "      <td>18</td>\n",
              "    </tr>\n",
              "    <tr>\n",
              "      <th>19</th>\n",
              "      <td>0.101731</td>\n",
              "      <td>0.96904</td>\n",
              "      <td>3.141515</td>\n",
              "      <td>0.6272</td>\n",
              "      <td>19</td>\n",
              "    </tr>\n",
              "  </tbody>\n",
              "</table>\n",
              "</div>\n",
              "    <div class=\"colab-df-buttons\">\n",
              "\n",
              "  <div class=\"colab-df-container\">\n",
              "    <button class=\"colab-df-convert\" onclick=\"convertToInteractive('df-58ed32bc-5884-4785-8587-031f994eb4bc')\"\n",
              "            title=\"Convert this dataframe to an interactive table.\"\n",
              "            style=\"display:none;\">\n",
              "\n",
              "  <svg xmlns=\"http://www.w3.org/2000/svg\" height=\"24px\" viewBox=\"0 -960 960 960\">\n",
              "    <path d=\"M120-120v-720h720v720H120Zm60-500h600v-160H180v160Zm220 220h160v-160H400v160Zm0 220h160v-160H400v160ZM180-400h160v-160H180v160Zm440 0h160v-160H620v160ZM180-180h160v-160H180v160Zm440 0h160v-160H620v160Z\"/>\n",
              "  </svg>\n",
              "    </button>\n",
              "\n",
              "  <style>\n",
              "    .colab-df-container {\n",
              "      display:flex;\n",
              "      gap: 12px;\n",
              "    }\n",
              "\n",
              "    .colab-df-convert {\n",
              "      background-color: #E8F0FE;\n",
              "      border: none;\n",
              "      border-radius: 50%;\n",
              "      cursor: pointer;\n",
              "      display: none;\n",
              "      fill: #1967D2;\n",
              "      height: 32px;\n",
              "      padding: 0 0 0 0;\n",
              "      width: 32px;\n",
              "    }\n",
              "\n",
              "    .colab-df-convert:hover {\n",
              "      background-color: #E2EBFA;\n",
              "      box-shadow: 0px 1px 2px rgba(60, 64, 67, 0.3), 0px 1px 3px 1px rgba(60, 64, 67, 0.15);\n",
              "      fill: #174EA6;\n",
              "    }\n",
              "\n",
              "    .colab-df-buttons div {\n",
              "      margin-bottom: 4px;\n",
              "    }\n",
              "\n",
              "    [theme=dark] .colab-df-convert {\n",
              "      background-color: #3B4455;\n",
              "      fill: #D2E3FC;\n",
              "    }\n",
              "\n",
              "    [theme=dark] .colab-df-convert:hover {\n",
              "      background-color: #434B5C;\n",
              "      box-shadow: 0px 1px 3px 1px rgba(0, 0, 0, 0.15);\n",
              "      filter: drop-shadow(0px 1px 2px rgba(0, 0, 0, 0.3));\n",
              "      fill: #FFFFFF;\n",
              "    }\n",
              "  </style>\n",
              "\n",
              "    <script>\n",
              "      const buttonEl =\n",
              "        document.querySelector('#df-58ed32bc-5884-4785-8587-031f994eb4bc button.colab-df-convert');\n",
              "      buttonEl.style.display =\n",
              "        google.colab.kernel.accessAllowed ? 'block' : 'none';\n",
              "\n",
              "      async function convertToInteractive(key) {\n",
              "        const element = document.querySelector('#df-58ed32bc-5884-4785-8587-031f994eb4bc');\n",
              "        const dataTable =\n",
              "          await google.colab.kernel.invokeFunction('convertToInteractive',\n",
              "                                                    [key], {});\n",
              "        if (!dataTable) return;\n",
              "\n",
              "        const docLinkHtml = 'Like what you see? Visit the ' +\n",
              "          '<a target=\"_blank\" href=https://colab.research.google.com/notebooks/data_table.ipynb>data table notebook</a>'\n",
              "          + ' to learn more about interactive tables.';\n",
              "        element.innerHTML = '';\n",
              "        dataTable['output_type'] = 'display_data';\n",
              "        await google.colab.output.renderOutput(dataTable, element);\n",
              "        const docLink = document.createElement('div');\n",
              "        docLink.innerHTML = docLinkHtml;\n",
              "        element.appendChild(docLink);\n",
              "      }\n",
              "    </script>\n",
              "  </div>\n",
              "\n",
              "\n",
              "<div id=\"df-40e2f637-87c1-4651-9e16-fa7a38044d43\">\n",
              "  <button class=\"colab-df-quickchart\" onclick=\"quickchart('df-40e2f637-87c1-4651-9e16-fa7a38044d43')\"\n",
              "            title=\"Suggest charts.\"\n",
              "            style=\"display:none;\">\n",
              "\n",
              "<svg xmlns=\"http://www.w3.org/2000/svg\" height=\"24px\"viewBox=\"0 0 24 24\"\n",
              "     width=\"24px\">\n",
              "    <g>\n",
              "        <path d=\"M19 3H5c-1.1 0-2 .9-2 2v14c0 1.1.9 2 2 2h14c1.1 0 2-.9 2-2V5c0-1.1-.9-2-2-2zM9 17H7v-7h2v7zm4 0h-2V7h2v10zm4 0h-2v-4h2v4z\"/>\n",
              "    </g>\n",
              "</svg>\n",
              "  </button>\n",
              "\n",
              "<style>\n",
              "  .colab-df-quickchart {\n",
              "      --bg-color: #E8F0FE;\n",
              "      --fill-color: #1967D2;\n",
              "      --hover-bg-color: #E2EBFA;\n",
              "      --hover-fill-color: #174EA6;\n",
              "      --disabled-fill-color: #AAA;\n",
              "      --disabled-bg-color: #DDD;\n",
              "  }\n",
              "\n",
              "  [theme=dark] .colab-df-quickchart {\n",
              "      --bg-color: #3B4455;\n",
              "      --fill-color: #D2E3FC;\n",
              "      --hover-bg-color: #434B5C;\n",
              "      --hover-fill-color: #FFFFFF;\n",
              "      --disabled-bg-color: #3B4455;\n",
              "      --disabled-fill-color: #666;\n",
              "  }\n",
              "\n",
              "  .colab-df-quickchart {\n",
              "    background-color: var(--bg-color);\n",
              "    border: none;\n",
              "    border-radius: 50%;\n",
              "    cursor: pointer;\n",
              "    display: none;\n",
              "    fill: var(--fill-color);\n",
              "    height: 32px;\n",
              "    padding: 0;\n",
              "    width: 32px;\n",
              "  }\n",
              "\n",
              "  .colab-df-quickchart:hover {\n",
              "    background-color: var(--hover-bg-color);\n",
              "    box-shadow: 0 1px 2px rgba(60, 64, 67, 0.3), 0 1px 3px 1px rgba(60, 64, 67, 0.15);\n",
              "    fill: var(--button-hover-fill-color);\n",
              "  }\n",
              "\n",
              "  .colab-df-quickchart-complete:disabled,\n",
              "  .colab-df-quickchart-complete:disabled:hover {\n",
              "    background-color: var(--disabled-bg-color);\n",
              "    fill: var(--disabled-fill-color);\n",
              "    box-shadow: none;\n",
              "  }\n",
              "\n",
              "  .colab-df-spinner {\n",
              "    border: 2px solid var(--fill-color);\n",
              "    border-color: transparent;\n",
              "    border-bottom-color: var(--fill-color);\n",
              "    animation:\n",
              "      spin 1s steps(1) infinite;\n",
              "  }\n",
              "\n",
              "  @keyframes spin {\n",
              "    0% {\n",
              "      border-color: transparent;\n",
              "      border-bottom-color: var(--fill-color);\n",
              "      border-left-color: var(--fill-color);\n",
              "    }\n",
              "    20% {\n",
              "      border-color: transparent;\n",
              "      border-left-color: var(--fill-color);\n",
              "      border-top-color: var(--fill-color);\n",
              "    }\n",
              "    30% {\n",
              "      border-color: transparent;\n",
              "      border-left-color: var(--fill-color);\n",
              "      border-top-color: var(--fill-color);\n",
              "      border-right-color: var(--fill-color);\n",
              "    }\n",
              "    40% {\n",
              "      border-color: transparent;\n",
              "      border-right-color: var(--fill-color);\n",
              "      border-top-color: var(--fill-color);\n",
              "    }\n",
              "    60% {\n",
              "      border-color: transparent;\n",
              "      border-right-color: var(--fill-color);\n",
              "    }\n",
              "    80% {\n",
              "      border-color: transparent;\n",
              "      border-right-color: var(--fill-color);\n",
              "      border-bottom-color: var(--fill-color);\n",
              "    }\n",
              "    90% {\n",
              "      border-color: transparent;\n",
              "      border-bottom-color: var(--fill-color);\n",
              "    }\n",
              "  }\n",
              "</style>\n",
              "\n",
              "  <script>\n",
              "    async function quickchart(key) {\n",
              "      const quickchartButtonEl =\n",
              "        document.querySelector('#' + key + ' button');\n",
              "      quickchartButtonEl.disabled = true;  // To prevent multiple clicks.\n",
              "      quickchartButtonEl.classList.add('colab-df-spinner');\n",
              "      try {\n",
              "        const charts = await google.colab.kernel.invokeFunction(\n",
              "            'suggestCharts', [key], {});\n",
              "      } catch (error) {\n",
              "        console.error('Error during call to suggestCharts:', error);\n",
              "      }\n",
              "      quickchartButtonEl.classList.remove('colab-df-spinner');\n",
              "      quickchartButtonEl.classList.add('colab-df-quickchart-complete');\n",
              "    }\n",
              "    (() => {\n",
              "      let quickchartButtonEl =\n",
              "        document.querySelector('#df-40e2f637-87c1-4651-9e16-fa7a38044d43 button');\n",
              "      quickchartButtonEl.style.display =\n",
              "        google.colab.kernel.accessAllowed ? 'block' : 'none';\n",
              "    })();\n",
              "  </script>\n",
              "</div>\n",
              "    </div>\n",
              "  </div>\n"
            ]
          },
          "metadata": {},
          "execution_count": 35
        }
      ]
    }
  ]
}