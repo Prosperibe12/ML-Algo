{
 "cells": [
  {
   "cell_type": "code",
   "execution_count": 1,
   "id": "8da3cb75",
   "metadata": {},
   "outputs": [],
   "source": [
    "import pandas as pd \n",
    "import numpy as np \n",
    "from matplotlib import pyplot as plt"
   ]
  },
  {
   "cell_type": "code",
   "execution_count": 2,
   "id": "8be63598",
   "metadata": {},
   "outputs": [],
   "source": [
    "advert=pd.read_csv('../DATASET/Advertising_sales.csv')"
   ]
  },
  {
   "cell_type": "code",
   "execution_count": 3,
   "id": "d7875158",
   "metadata": {},
   "outputs": [
    {
     "data": {
      "text/html": [
       "<div>\n",
       "<style scoped>\n",
       "    .dataframe tbody tr th:only-of-type {\n",
       "        vertical-align: middle;\n",
       "    }\n",
       "\n",
       "    .dataframe tbody tr th {\n",
       "        vertical-align: top;\n",
       "    }\n",
       "\n",
       "    .dataframe thead th {\n",
       "        text-align: right;\n",
       "    }\n",
       "</style>\n",
       "<table border=\"1\" class=\"dataframe\">\n",
       "  <thead>\n",
       "    <tr style=\"text-align: right;\">\n",
       "      <th></th>\n",
       "      <th>Unnamed: 0</th>\n",
       "      <th>TV</th>\n",
       "      <th>Radio</th>\n",
       "      <th>Newspaper</th>\n",
       "      <th>Sales</th>\n",
       "    </tr>\n",
       "  </thead>\n",
       "  <tbody>\n",
       "    <tr>\n",
       "      <th>count</th>\n",
       "      <td>200.000000</td>\n",
       "      <td>200.000000</td>\n",
       "      <td>200.000000</td>\n",
       "      <td>200.000000</td>\n",
       "      <td>200.000000</td>\n",
       "    </tr>\n",
       "    <tr>\n",
       "      <th>mean</th>\n",
       "      <td>100.500000</td>\n",
       "      <td>147.042500</td>\n",
       "      <td>23.264000</td>\n",
       "      <td>30.554000</td>\n",
       "      <td>14.022500</td>\n",
       "    </tr>\n",
       "    <tr>\n",
       "      <th>std</th>\n",
       "      <td>57.879185</td>\n",
       "      <td>85.854236</td>\n",
       "      <td>14.846809</td>\n",
       "      <td>21.778621</td>\n",
       "      <td>5.217457</td>\n",
       "    </tr>\n",
       "    <tr>\n",
       "      <th>min</th>\n",
       "      <td>1.000000</td>\n",
       "      <td>0.700000</td>\n",
       "      <td>0.000000</td>\n",
       "      <td>0.300000</td>\n",
       "      <td>1.600000</td>\n",
       "    </tr>\n",
       "    <tr>\n",
       "      <th>25%</th>\n",
       "      <td>50.750000</td>\n",
       "      <td>74.375000</td>\n",
       "      <td>9.975000</td>\n",
       "      <td>12.750000</td>\n",
       "      <td>10.375000</td>\n",
       "    </tr>\n",
       "    <tr>\n",
       "      <th>50%</th>\n",
       "      <td>100.500000</td>\n",
       "      <td>149.750000</td>\n",
       "      <td>22.900000</td>\n",
       "      <td>25.750000</td>\n",
       "      <td>12.900000</td>\n",
       "    </tr>\n",
       "    <tr>\n",
       "      <th>75%</th>\n",
       "      <td>150.250000</td>\n",
       "      <td>218.825000</td>\n",
       "      <td>36.525000</td>\n",
       "      <td>45.100000</td>\n",
       "      <td>17.400000</td>\n",
       "    </tr>\n",
       "    <tr>\n",
       "      <th>max</th>\n",
       "      <td>200.000000</td>\n",
       "      <td>296.400000</td>\n",
       "      <td>49.600000</td>\n",
       "      <td>114.000000</td>\n",
       "      <td>27.000000</td>\n",
       "    </tr>\n",
       "  </tbody>\n",
       "</table>\n",
       "</div>"
      ],
      "text/plain": [
       "       Unnamed: 0          TV       Radio   Newspaper       Sales\n",
       "count  200.000000  200.000000  200.000000  200.000000  200.000000\n",
       "mean   100.500000  147.042500   23.264000   30.554000   14.022500\n",
       "std     57.879185   85.854236   14.846809   21.778621    5.217457\n",
       "min      1.000000    0.700000    0.000000    0.300000    1.600000\n",
       "25%     50.750000   74.375000    9.975000   12.750000   10.375000\n",
       "50%    100.500000  149.750000   22.900000   25.750000   12.900000\n",
       "75%    150.250000  218.825000   36.525000   45.100000   17.400000\n",
       "max    200.000000  296.400000   49.600000  114.000000   27.000000"
      ]
     },
     "execution_count": 3,
     "metadata": {},
     "output_type": "execute_result"
    }
   ],
   "source": [
    "advert.describe()"
   ]
  },
  {
   "cell_type": "code",
   "execution_count": 4,
   "id": "c5ffa203",
   "metadata": {},
   "outputs": [
    {
     "data": {
      "text/html": [
       "<div>\n",
       "<style scoped>\n",
       "    .dataframe tbody tr th:only-of-type {\n",
       "        vertical-align: middle;\n",
       "    }\n",
       "\n",
       "    .dataframe tbody tr th {\n",
       "        vertical-align: top;\n",
       "    }\n",
       "\n",
       "    .dataframe thead th {\n",
       "        text-align: right;\n",
       "    }\n",
       "</style>\n",
       "<table border=\"1\" class=\"dataframe\">\n",
       "  <thead>\n",
       "    <tr style=\"text-align: right;\">\n",
       "      <th></th>\n",
       "      <th>Unnamed: 0</th>\n",
       "      <th>TV</th>\n",
       "      <th>Radio</th>\n",
       "      <th>Newspaper</th>\n",
       "      <th>Sales</th>\n",
       "    </tr>\n",
       "  </thead>\n",
       "  <tbody>\n",
       "    <tr>\n",
       "      <th>0</th>\n",
       "      <td>1</td>\n",
       "      <td>230.1</td>\n",
       "      <td>37.8</td>\n",
       "      <td>69.2</td>\n",
       "      <td>22.1</td>\n",
       "    </tr>\n",
       "    <tr>\n",
       "      <th>1</th>\n",
       "      <td>2</td>\n",
       "      <td>44.5</td>\n",
       "      <td>39.3</td>\n",
       "      <td>45.1</td>\n",
       "      <td>10.4</td>\n",
       "    </tr>\n",
       "    <tr>\n",
       "      <th>2</th>\n",
       "      <td>3</td>\n",
       "      <td>17.2</td>\n",
       "      <td>45.9</td>\n",
       "      <td>69.3</td>\n",
       "      <td>9.3</td>\n",
       "    </tr>\n",
       "    <tr>\n",
       "      <th>3</th>\n",
       "      <td>4</td>\n",
       "      <td>151.5</td>\n",
       "      <td>41.3</td>\n",
       "      <td>58.5</td>\n",
       "      <td>18.5</td>\n",
       "    </tr>\n",
       "    <tr>\n",
       "      <th>4</th>\n",
       "      <td>5</td>\n",
       "      <td>180.8</td>\n",
       "      <td>10.8</td>\n",
       "      <td>58.4</td>\n",
       "      <td>12.9</td>\n",
       "    </tr>\n",
       "  </tbody>\n",
       "</table>\n",
       "</div>"
      ],
      "text/plain": [
       "   Unnamed: 0     TV  Radio  Newspaper  Sales\n",
       "0           1  230.1   37.8       69.2   22.1\n",
       "1           2   44.5   39.3       45.1   10.4\n",
       "2           3   17.2   45.9       69.3    9.3\n",
       "3           4  151.5   41.3       58.5   18.5\n",
       "4           5  180.8   10.8       58.4   12.9"
      ]
     },
     "execution_count": 4,
     "metadata": {},
     "output_type": "execute_result"
    }
   ],
   "source": [
    "advert.head()"
   ]
  },
  {
   "cell_type": "code",
   "execution_count": 7,
   "id": "989295c3",
   "metadata": {},
   "outputs": [
    {
     "data": {
      "text/html": [
       "<div>\n",
       "<style scoped>\n",
       "    .dataframe tbody tr th:only-of-type {\n",
       "        vertical-align: middle;\n",
       "    }\n",
       "\n",
       "    .dataframe tbody tr th {\n",
       "        vertical-align: top;\n",
       "    }\n",
       "\n",
       "    .dataframe thead th {\n",
       "        text-align: right;\n",
       "    }\n",
       "</style>\n",
       "<table border=\"1\" class=\"dataframe\">\n",
       "  <thead>\n",
       "    <tr style=\"text-align: right;\">\n",
       "      <th></th>\n",
       "      <th>Unnamed: 0</th>\n",
       "      <th>TV</th>\n",
       "      <th>Radio</th>\n",
       "      <th>Newspaper</th>\n",
       "      <th>Sales</th>\n",
       "    </tr>\n",
       "  </thead>\n",
       "  <tbody>\n",
       "    <tr>\n",
       "      <th>Unnamed: 0</th>\n",
       "      <td>1.000000</td>\n",
       "      <td>0.017715</td>\n",
       "      <td>-0.110680</td>\n",
       "      <td>-0.154944</td>\n",
       "      <td>-0.051616</td>\n",
       "    </tr>\n",
       "    <tr>\n",
       "      <th>TV</th>\n",
       "      <td>0.017715</td>\n",
       "      <td>1.000000</td>\n",
       "      <td>0.054809</td>\n",
       "      <td>0.056648</td>\n",
       "      <td>0.782224</td>\n",
       "    </tr>\n",
       "    <tr>\n",
       "      <th>Radio</th>\n",
       "      <td>-0.110680</td>\n",
       "      <td>0.054809</td>\n",
       "      <td>1.000000</td>\n",
       "      <td>0.354104</td>\n",
       "      <td>0.576223</td>\n",
       "    </tr>\n",
       "    <tr>\n",
       "      <th>Newspaper</th>\n",
       "      <td>-0.154944</td>\n",
       "      <td>0.056648</td>\n",
       "      <td>0.354104</td>\n",
       "      <td>1.000000</td>\n",
       "      <td>0.228299</td>\n",
       "    </tr>\n",
       "    <tr>\n",
       "      <th>Sales</th>\n",
       "      <td>-0.051616</td>\n",
       "      <td>0.782224</td>\n",
       "      <td>0.576223</td>\n",
       "      <td>0.228299</td>\n",
       "      <td>1.000000</td>\n",
       "    </tr>\n",
       "  </tbody>\n",
       "</table>\n",
       "</div>"
      ],
      "text/plain": [
       "            Unnamed: 0        TV     Radio  Newspaper     Sales\n",
       "Unnamed: 0    1.000000  0.017715 -0.110680  -0.154944 -0.051616\n",
       "TV            0.017715  1.000000  0.054809   0.056648  0.782224\n",
       "Radio        -0.110680  0.054809  1.000000   0.354104  0.576223\n",
       "Newspaper    -0.154944  0.056648  0.354104   1.000000  0.228299\n",
       "Sales        -0.051616  0.782224  0.576223   0.228299  1.000000"
      ]
     },
     "execution_count": 7,
     "metadata": {},
     "output_type": "execute_result"
    }
   ],
   "source": [
    "advert.corr().T"
   ]
  },
  {
   "cell_type": "code",
   "execution_count": 6,
   "id": "9234cd0f",
   "metadata": {},
   "outputs": [
    {
     "data": {
      "text/plain": [
       "Index(['Unnamed: 0', 'TV', 'Radio', 'Newspaper', 'Sales'], dtype='object')"
      ]
     },
     "execution_count": 6,
     "metadata": {},
     "output_type": "execute_result"
    }
   ],
   "source": [
    "advert.columns"
   ]
  },
  {
   "cell_type": "markdown",
   "id": "9455724e",
   "metadata": {},
   "source": [
    "# Linear Regression"
   ]
  },
  {
   "cell_type": "code",
   "execution_count": 8,
   "id": "6eb9736e",
   "metadata": {},
   "outputs": [],
   "source": [
    "x=advert[['TV']]"
   ]
  },
  {
   "cell_type": "code",
   "execution_count": 9,
   "id": "25aa654a",
   "metadata": {},
   "outputs": [
    {
     "data": {
      "text/html": [
       "<div>\n",
       "<style scoped>\n",
       "    .dataframe tbody tr th:only-of-type {\n",
       "        vertical-align: middle;\n",
       "    }\n",
       "\n",
       "    .dataframe tbody tr th {\n",
       "        vertical-align: top;\n",
       "    }\n",
       "\n",
       "    .dataframe thead th {\n",
       "        text-align: right;\n",
       "    }\n",
       "</style>\n",
       "<table border=\"1\" class=\"dataframe\">\n",
       "  <thead>\n",
       "    <tr style=\"text-align: right;\">\n",
       "      <th></th>\n",
       "      <th>TV</th>\n",
       "    </tr>\n",
       "  </thead>\n",
       "  <tbody>\n",
       "    <tr>\n",
       "      <th>0</th>\n",
       "      <td>230.1</td>\n",
       "    </tr>\n",
       "    <tr>\n",
       "      <th>1</th>\n",
       "      <td>44.5</td>\n",
       "    </tr>\n",
       "    <tr>\n",
       "      <th>2</th>\n",
       "      <td>17.2</td>\n",
       "    </tr>\n",
       "    <tr>\n",
       "      <th>3</th>\n",
       "      <td>151.5</td>\n",
       "    </tr>\n",
       "    <tr>\n",
       "      <th>4</th>\n",
       "      <td>180.8</td>\n",
       "    </tr>\n",
       "  </tbody>\n",
       "</table>\n",
       "</div>"
      ],
      "text/plain": [
       "      TV\n",
       "0  230.1\n",
       "1   44.5\n",
       "2   17.2\n",
       "3  151.5\n",
       "4  180.8"
      ]
     },
     "execution_count": 9,
     "metadata": {},
     "output_type": "execute_result"
    }
   ],
   "source": [
    "x.head()"
   ]
  },
  {
   "cell_type": "code",
   "execution_count": 10,
   "id": "17eb2efb",
   "metadata": {},
   "outputs": [],
   "source": [
    "y=advert.Sales"
   ]
  },
  {
   "cell_type": "code",
   "execution_count": 11,
   "id": "8dc7c05a",
   "metadata": {},
   "outputs": [
    {
     "data": {
      "text/plain": [
       "0    22.1\n",
       "1    10.4\n",
       "2     9.3\n",
       "3    18.5\n",
       "4    12.9\n",
       "Name: Sales, dtype: float64"
      ]
     },
     "execution_count": 11,
     "metadata": {},
     "output_type": "execute_result"
    }
   ],
   "source": [
    "y.head()"
   ]
  },
  {
   "cell_type": "code",
   "execution_count": 13,
   "id": "9ba76f00",
   "metadata": {},
   "outputs": [],
   "source": [
    "from sklearn.model_selection import train_test_split\n",
    "x_train,x_test,y_train,y_test=train_test_split(x,y,test_size=0.2,random_state=1 )"
   ]
  },
  {
   "cell_type": "code",
   "execution_count": 14,
   "id": "42bf4e94",
   "metadata": {},
   "outputs": [
    {
     "data": {
      "text/html": [
       "<style>#sk-container-id-1 {color: black;}#sk-container-id-1 pre{padding: 0;}#sk-container-id-1 div.sk-toggleable {background-color: white;}#sk-container-id-1 label.sk-toggleable__label {cursor: pointer;display: block;width: 100%;margin-bottom: 0;padding: 0.3em;box-sizing: border-box;text-align: center;}#sk-container-id-1 label.sk-toggleable__label-arrow:before {content: \"▸\";float: left;margin-right: 0.25em;color: #696969;}#sk-container-id-1 label.sk-toggleable__label-arrow:hover:before {color: black;}#sk-container-id-1 div.sk-estimator:hover label.sk-toggleable__label-arrow:before {color: black;}#sk-container-id-1 div.sk-toggleable__content {max-height: 0;max-width: 0;overflow: hidden;text-align: left;background-color: #f0f8ff;}#sk-container-id-1 div.sk-toggleable__content pre {margin: 0.2em;color: black;border-radius: 0.25em;background-color: #f0f8ff;}#sk-container-id-1 input.sk-toggleable__control:checked~div.sk-toggleable__content {max-height: 200px;max-width: 100%;overflow: auto;}#sk-container-id-1 input.sk-toggleable__control:checked~label.sk-toggleable__label-arrow:before {content: \"▾\";}#sk-container-id-1 div.sk-estimator input.sk-toggleable__control:checked~label.sk-toggleable__label {background-color: #d4ebff;}#sk-container-id-1 div.sk-label input.sk-toggleable__control:checked~label.sk-toggleable__label {background-color: #d4ebff;}#sk-container-id-1 input.sk-hidden--visually {border: 0;clip: rect(1px 1px 1px 1px);clip: rect(1px, 1px, 1px, 1px);height: 1px;margin: -1px;overflow: hidden;padding: 0;position: absolute;width: 1px;}#sk-container-id-1 div.sk-estimator {font-family: monospace;background-color: #f0f8ff;border: 1px dotted black;border-radius: 0.25em;box-sizing: border-box;margin-bottom: 0.5em;}#sk-container-id-1 div.sk-estimator:hover {background-color: #d4ebff;}#sk-container-id-1 div.sk-parallel-item::after {content: \"\";width: 100%;border-bottom: 1px solid gray;flex-grow: 1;}#sk-container-id-1 div.sk-label:hover label.sk-toggleable__label {background-color: #d4ebff;}#sk-container-id-1 div.sk-serial::before {content: \"\";position: absolute;border-left: 1px solid gray;box-sizing: border-box;top: 0;bottom: 0;left: 50%;z-index: 0;}#sk-container-id-1 div.sk-serial {display: flex;flex-direction: column;align-items: center;background-color: white;padding-right: 0.2em;padding-left: 0.2em;position: relative;}#sk-container-id-1 div.sk-item {position: relative;z-index: 1;}#sk-container-id-1 div.sk-parallel {display: flex;align-items: stretch;justify-content: center;background-color: white;position: relative;}#sk-container-id-1 div.sk-item::before, #sk-container-id-1 div.sk-parallel-item::before {content: \"\";position: absolute;border-left: 1px solid gray;box-sizing: border-box;top: 0;bottom: 0;left: 50%;z-index: -1;}#sk-container-id-1 div.sk-parallel-item {display: flex;flex-direction: column;z-index: 1;position: relative;background-color: white;}#sk-container-id-1 div.sk-parallel-item:first-child::after {align-self: flex-end;width: 50%;}#sk-container-id-1 div.sk-parallel-item:last-child::after {align-self: flex-start;width: 50%;}#sk-container-id-1 div.sk-parallel-item:only-child::after {width: 0;}#sk-container-id-1 div.sk-dashed-wrapped {border: 1px dashed gray;margin: 0 0.4em 0.5em 0.4em;box-sizing: border-box;padding-bottom: 0.4em;background-color: white;}#sk-container-id-1 div.sk-label label {font-family: monospace;font-weight: bold;display: inline-block;line-height: 1.2em;}#sk-container-id-1 div.sk-label-container {text-align: center;}#sk-container-id-1 div.sk-container {/* jupyter's `normalize.less` sets `[hidden] { display: none; }` but bootstrap.min.css set `[hidden] { display: none !important; }` so we also need the `!important` here to be able to override the default hidden behavior on the sphinx rendered scikit-learn.org. See: https://github.com/scikit-learn/scikit-learn/issues/21755 */display: inline-block !important;position: relative;}#sk-container-id-1 div.sk-text-repr-fallback {display: none;}</style><div id=\"sk-container-id-1\" class=\"sk-top-container\"><div class=\"sk-text-repr-fallback\"><pre>LinearRegression()</pre><b>In a Jupyter environment, please rerun this cell to show the HTML representation or trust the notebook. <br />On GitHub, the HTML representation is unable to render, please try loading this page with nbviewer.org.</b></div><div class=\"sk-container\" hidden><div class=\"sk-item\"><div class=\"sk-estimator sk-toggleable\"><input class=\"sk-toggleable__control sk-hidden--visually\" id=\"sk-estimator-id-1\" type=\"checkbox\" checked><label for=\"sk-estimator-id-1\" class=\"sk-toggleable__label sk-toggleable__label-arrow\">LinearRegression</label><div class=\"sk-toggleable__content\"><pre>LinearRegression()</pre></div></div></div></div></div>"
      ],
      "text/plain": [
       "LinearRegression()"
      ]
     },
     "execution_count": 14,
     "metadata": {},
     "output_type": "execute_result"
    }
   ],
   "source": [
    "from sklearn.linear_model import LinearRegression\n",
    "linreg=LinearRegression()\n",
    "linreg.fit(x_train,y_train)"
   ]
  },
  {
   "cell_type": "code",
   "execution_count": 15,
   "id": "47b5fccf",
   "metadata": {},
   "outputs": [],
   "source": [
    "y_pred=linreg.predict(x_test)"
   ]
  },
  {
   "cell_type": "code",
   "execution_count": 17,
   "id": "0ee61392",
   "metadata": {},
   "outputs": [],
   "source": [
    "from sklearn import metrics as m"
   ]
  },
  {
   "cell_type": "code",
   "execution_count": 18,
   "id": "4eedc675",
   "metadata": {},
   "outputs": [
    {
     "data": {
      "text/plain": [
       "2.4659827815717366"
      ]
     },
     "execution_count": 18,
     "metadata": {},
     "output_type": "execute_result"
    }
   ],
   "source": [
    "m.mean_absolute_error(y_test,y_pred)"
   ]
  },
  {
   "cell_type": "code",
   "execution_count": 19,
   "id": "47985eab",
   "metadata": {},
   "outputs": [
    {
     "data": {
      "text/plain": [
       "10.85934532560827"
      ]
     },
     "execution_count": 19,
     "metadata": {},
     "output_type": "execute_result"
    }
   ],
   "source": [
    "m.mean_squared_error(y_test,y_pred)"
   ]
  },
  {
   "cell_type": "code",
   "execution_count": 20,
   "id": "29edfb5e",
   "metadata": {},
   "outputs": [
    {
     "data": {
      "text/plain": [
       "3.2953520791575928"
      ]
     },
     "execution_count": 20,
     "metadata": {},
     "output_type": "execute_result"
    }
   ],
   "source": [
    "np.sqrt(m.mean_squared_error(y_test,y_pred))"
   ]
  },
  {
   "cell_type": "code",
   "execution_count": 21,
   "id": "b2d6c833",
   "metadata": {},
   "outputs": [
    {
     "data": {
      "text/plain": [
       "0.41535307148347855"
      ]
     },
     "execution_count": 21,
     "metadata": {},
     "output_type": "execute_result"
    }
   ],
   "source": [
    "m.r2_score(y_test,y_pred)  # accuarcy on testing dataset"
   ]
  },
  {
   "cell_type": "markdown",
   "id": "e510dcd5",
   "metadata": {},
   "source": [
    "X_train , Y_train > Model Building\n"
   ]
  },
  {
   "cell_type": "code",
   "execution_count": 22,
   "id": "cf6ac37e",
   "metadata": {},
   "outputs": [
    {
     "data": {
      "text/plain": [
       "0.6393874827744095"
      ]
     },
     "execution_count": 22,
     "metadata": {},
     "output_type": "execute_result"
    }
   ],
   "source": [
    "y_train_pred= linreg.predict(x_train)\n",
    "\n",
    "m.r2_score(y_train,y_train_pred)  # accuarcy on traing dataset"
   ]
  },
  {
   "cell_type": "code",
   "execution_count": null,
   "id": "897a9164",
   "metadata": {},
   "outputs": [],
   "source": []
  },
  {
   "cell_type": "markdown",
   "id": "57f1b748",
   "metadata": {},
   "source": [
    "# Multiple Linear Regression"
   ]
  },
  {
   "cell_type": "code",
   "execution_count": 23,
   "id": "318728df",
   "metadata": {},
   "outputs": [
    {
     "data": {
      "text/html": [
       "<div>\n",
       "<style scoped>\n",
       "    .dataframe tbody tr th:only-of-type {\n",
       "        vertical-align: middle;\n",
       "    }\n",
       "\n",
       "    .dataframe tbody tr th {\n",
       "        vertical-align: top;\n",
       "    }\n",
       "\n",
       "    .dataframe thead th {\n",
       "        text-align: right;\n",
       "    }\n",
       "</style>\n",
       "<table border=\"1\" class=\"dataframe\">\n",
       "  <thead>\n",
       "    <tr style=\"text-align: right;\">\n",
       "      <th></th>\n",
       "      <th>Unnamed: 0</th>\n",
       "      <th>TV</th>\n",
       "      <th>Radio</th>\n",
       "      <th>Newspaper</th>\n",
       "      <th>Sales</th>\n",
       "    </tr>\n",
       "  </thead>\n",
       "  <tbody>\n",
       "    <tr>\n",
       "      <th>0</th>\n",
       "      <td>1</td>\n",
       "      <td>230.1</td>\n",
       "      <td>37.8</td>\n",
       "      <td>69.2</td>\n",
       "      <td>22.1</td>\n",
       "    </tr>\n",
       "    <tr>\n",
       "      <th>1</th>\n",
       "      <td>2</td>\n",
       "      <td>44.5</td>\n",
       "      <td>39.3</td>\n",
       "      <td>45.1</td>\n",
       "      <td>10.4</td>\n",
       "    </tr>\n",
       "    <tr>\n",
       "      <th>2</th>\n",
       "      <td>3</td>\n",
       "      <td>17.2</td>\n",
       "      <td>45.9</td>\n",
       "      <td>69.3</td>\n",
       "      <td>9.3</td>\n",
       "    </tr>\n",
       "    <tr>\n",
       "      <th>3</th>\n",
       "      <td>4</td>\n",
       "      <td>151.5</td>\n",
       "      <td>41.3</td>\n",
       "      <td>58.5</td>\n",
       "      <td>18.5</td>\n",
       "    </tr>\n",
       "    <tr>\n",
       "      <th>4</th>\n",
       "      <td>5</td>\n",
       "      <td>180.8</td>\n",
       "      <td>10.8</td>\n",
       "      <td>58.4</td>\n",
       "      <td>12.9</td>\n",
       "    </tr>\n",
       "    <tr>\n",
       "      <th>...</th>\n",
       "      <td>...</td>\n",
       "      <td>...</td>\n",
       "      <td>...</td>\n",
       "      <td>...</td>\n",
       "      <td>...</td>\n",
       "    </tr>\n",
       "    <tr>\n",
       "      <th>195</th>\n",
       "      <td>196</td>\n",
       "      <td>38.2</td>\n",
       "      <td>3.7</td>\n",
       "      <td>13.8</td>\n",
       "      <td>7.6</td>\n",
       "    </tr>\n",
       "    <tr>\n",
       "      <th>196</th>\n",
       "      <td>197</td>\n",
       "      <td>94.2</td>\n",
       "      <td>4.9</td>\n",
       "      <td>8.1</td>\n",
       "      <td>9.7</td>\n",
       "    </tr>\n",
       "    <tr>\n",
       "      <th>197</th>\n",
       "      <td>198</td>\n",
       "      <td>177.0</td>\n",
       "      <td>9.3</td>\n",
       "      <td>6.4</td>\n",
       "      <td>12.8</td>\n",
       "    </tr>\n",
       "    <tr>\n",
       "      <th>198</th>\n",
       "      <td>199</td>\n",
       "      <td>283.6</td>\n",
       "      <td>42.0</td>\n",
       "      <td>66.2</td>\n",
       "      <td>25.5</td>\n",
       "    </tr>\n",
       "    <tr>\n",
       "      <th>199</th>\n",
       "      <td>200</td>\n",
       "      <td>232.1</td>\n",
       "      <td>8.6</td>\n",
       "      <td>8.7</td>\n",
       "      <td>13.4</td>\n",
       "    </tr>\n",
       "  </tbody>\n",
       "</table>\n",
       "<p>200 rows × 5 columns</p>\n",
       "</div>"
      ],
      "text/plain": [
       "     Unnamed: 0     TV  Radio  Newspaper  Sales\n",
       "0             1  230.1   37.8       69.2   22.1\n",
       "1             2   44.5   39.3       45.1   10.4\n",
       "2             3   17.2   45.9       69.3    9.3\n",
       "3             4  151.5   41.3       58.5   18.5\n",
       "4             5  180.8   10.8       58.4   12.9\n",
       "..          ...    ...    ...        ...    ...\n",
       "195         196   38.2    3.7       13.8    7.6\n",
       "196         197   94.2    4.9        8.1    9.7\n",
       "197         198  177.0    9.3        6.4   12.8\n",
       "198         199  283.6   42.0       66.2   25.5\n",
       "199         200  232.1    8.6        8.7   13.4\n",
       "\n",
       "[200 rows x 5 columns]"
      ]
     },
     "execution_count": 23,
     "metadata": {},
     "output_type": "execute_result"
    }
   ],
   "source": [
    "advert"
   ]
  },
  {
   "cell_type": "code",
   "execution_count": 24,
   "id": "4cc4ba3a",
   "metadata": {},
   "outputs": [],
   "source": [
    "advert.drop(['Unnamed: 0'],axis=1,inplace=True)"
   ]
  },
  {
   "cell_type": "code",
   "execution_count": 25,
   "id": "90228ee5",
   "metadata": {},
   "outputs": [
    {
     "data": {
      "text/html": [
       "<div>\n",
       "<style scoped>\n",
       "    .dataframe tbody tr th:only-of-type {\n",
       "        vertical-align: middle;\n",
       "    }\n",
       "\n",
       "    .dataframe tbody tr th {\n",
       "        vertical-align: top;\n",
       "    }\n",
       "\n",
       "    .dataframe thead th {\n",
       "        text-align: right;\n",
       "    }\n",
       "</style>\n",
       "<table border=\"1\" class=\"dataframe\">\n",
       "  <thead>\n",
       "    <tr style=\"text-align: right;\">\n",
       "      <th></th>\n",
       "      <th>TV</th>\n",
       "      <th>Radio</th>\n",
       "      <th>Newspaper</th>\n",
       "      <th>Sales</th>\n",
       "    </tr>\n",
       "  </thead>\n",
       "  <tbody>\n",
       "    <tr>\n",
       "      <th>0</th>\n",
       "      <td>230.1</td>\n",
       "      <td>37.8</td>\n",
       "      <td>69.2</td>\n",
       "      <td>22.1</td>\n",
       "    </tr>\n",
       "    <tr>\n",
       "      <th>1</th>\n",
       "      <td>44.5</td>\n",
       "      <td>39.3</td>\n",
       "      <td>45.1</td>\n",
       "      <td>10.4</td>\n",
       "    </tr>\n",
       "    <tr>\n",
       "      <th>2</th>\n",
       "      <td>17.2</td>\n",
       "      <td>45.9</td>\n",
       "      <td>69.3</td>\n",
       "      <td>9.3</td>\n",
       "    </tr>\n",
       "    <tr>\n",
       "      <th>3</th>\n",
       "      <td>151.5</td>\n",
       "      <td>41.3</td>\n",
       "      <td>58.5</td>\n",
       "      <td>18.5</td>\n",
       "    </tr>\n",
       "    <tr>\n",
       "      <th>4</th>\n",
       "      <td>180.8</td>\n",
       "      <td>10.8</td>\n",
       "      <td>58.4</td>\n",
       "      <td>12.9</td>\n",
       "    </tr>\n",
       "  </tbody>\n",
       "</table>\n",
       "</div>"
      ],
      "text/plain": [
       "      TV  Radio  Newspaper  Sales\n",
       "0  230.1   37.8       69.2   22.1\n",
       "1   44.5   39.3       45.1   10.4\n",
       "2   17.2   45.9       69.3    9.3\n",
       "3  151.5   41.3       58.5   18.5\n",
       "4  180.8   10.8       58.4   12.9"
      ]
     },
     "execution_count": 25,
     "metadata": {},
     "output_type": "execute_result"
    }
   ],
   "source": [
    "advert.head()"
   ]
  },
  {
   "cell_type": "code",
   "execution_count": 26,
   "id": "ebcb9a57",
   "metadata": {},
   "outputs": [
    {
     "data": {
      "text/plain": [
       "(200, 4)"
      ]
     },
     "execution_count": 26,
     "metadata": {},
     "output_type": "execute_result"
    }
   ],
   "source": [
    "advert.shape"
   ]
  },
  {
   "cell_type": "code",
   "execution_count": 27,
   "id": "86b1ce16",
   "metadata": {},
   "outputs": [],
   "source": [
    "import seaborn as sns"
   ]
  },
  {
   "cell_type": "code",
   "execution_count": 28,
   "id": "c582d5f0",
   "metadata": {},
   "outputs": [
    {
     "name": "stderr",
     "output_type": "stream",
     "text": [
      "C:\\Users\\USER\\AppData\\Local\\Programs\\Python\\Python310\\lib\\site-packages\\seaborn\\axisgrid.py:118: UserWarning: The figure layout has changed to tight\n",
      "  self._figure.tight_layout(*args, **kwargs)\n"
     ]
    },
    {
     "data": {
      "text/plain": [
       "<seaborn.axisgrid.PairGrid at 0x1a5698a0880>"
      ]
     },
     "execution_count": 28,
     "metadata": {},
     "output_type": "execute_result"
    },
    {
     "data": {
      "image/png": "[encoded data removed]",
      "text/plain": [
       "<Figure size 360x360 with 6 Axes>"
      ]
     },
     "metadata": {
      "needs_background": "light"
     },
     "output_type": "display_data"
    }
   ],
   "source": [
    "sns.pairplot(advert,vars=['TV','Sales'],kind='reg') #kind{‘scatter’, ‘kde’, ‘hist’, ‘reg’}"
   ]
  },
  {
   "cell_type": "code",
   "execution_count": 29,
   "id": "00b6e2f5",
   "metadata": {},
   "outputs": [
    {
     "name": "stderr",
     "output_type": "stream",
     "text": [
      "C:\\Users\\USER\\AppData\\Local\\Programs\\Python\\Python310\\lib\\site-packages\\seaborn\\axisgrid.py:118: UserWarning: The figure layout has changed to tight\n",
      "  self._figure.tight_layout(*args, **kwargs)\n"
     ]
    },
    {
     "data": {
      "text/plain": [
       "<seaborn.axisgrid.PairGrid at 0x1a5698a0850>"
      ]
     },
     "execution_count": 29,
     "metadata": {},
     "output_type": "execute_result"
    },
    {
     "data": {
      "image/png": "[encoded data removed]",
      "text/plain": [
       "<Figure size 720x720 with 20 Axes>"
      ]
     },
     "metadata": {
      "needs_background": "light"
     },
     "output_type": "display_data"
    }
   ],
   "source": [
    "sns.pairplot(advert,kind='reg')"
   ]
  },
  {
   "cell_type": "code",
   "execution_count": 30,
   "id": "d47c858b",
   "metadata": {},
   "outputs": [
    {
     "data": {
      "text/html": [
       "<div>\n",
       "<style scoped>\n",
       "    .dataframe tbody tr th:only-of-type {\n",
       "        vertical-align: middle;\n",
       "    }\n",
       "\n",
       "    .dataframe tbody tr th {\n",
       "        vertical-align: top;\n",
       "    }\n",
       "\n",
       "    .dataframe thead th {\n",
       "        text-align: right;\n",
       "    }\n",
       "</style>\n",
       "<table border=\"1\" class=\"dataframe\">\n",
       "  <thead>\n",
       "    <tr style=\"text-align: right;\">\n",
       "      <th></th>\n",
       "      <th>TV</th>\n",
       "      <th>Radio</th>\n",
       "      <th>Newspaper</th>\n",
       "      <th>Sales</th>\n",
       "    </tr>\n",
       "  </thead>\n",
       "  <tbody>\n",
       "    <tr>\n",
       "      <th>TV</th>\n",
       "      <td>1.000000</td>\n",
       "      <td>0.054809</td>\n",
       "      <td>0.056648</td>\n",
       "      <td>0.782224</td>\n",
       "    </tr>\n",
       "    <tr>\n",
       "      <th>Radio</th>\n",
       "      <td>0.054809</td>\n",
       "      <td>1.000000</td>\n",
       "      <td>0.354104</td>\n",
       "      <td>0.576223</td>\n",
       "    </tr>\n",
       "    <tr>\n",
       "      <th>Newspaper</th>\n",
       "      <td>0.056648</td>\n",
       "      <td>0.354104</td>\n",
       "      <td>1.000000</td>\n",
       "      <td>0.228299</td>\n",
       "    </tr>\n",
       "    <tr>\n",
       "      <th>Sales</th>\n",
       "      <td>0.782224</td>\n",
       "      <td>0.576223</td>\n",
       "      <td>0.228299</td>\n",
       "      <td>1.000000</td>\n",
       "    </tr>\n",
       "  </tbody>\n",
       "</table>\n",
       "</div>"
      ],
      "text/plain": [
       "                 TV     Radio  Newspaper     Sales\n",
       "TV         1.000000  0.054809   0.056648  0.782224\n",
       "Radio      0.054809  1.000000   0.354104  0.576223\n",
       "Newspaper  0.056648  0.354104   1.000000  0.228299\n",
       "Sales      0.782224  0.576223   0.228299  1.000000"
      ]
     },
     "execution_count": 30,
     "metadata": {},
     "output_type": "execute_result"
    }
   ],
   "source": [
    "advert.corr()"
   ]
  },
  {
   "cell_type": "code",
   "execution_count": 31,
   "id": "1436513d",
   "metadata": {},
   "outputs": [
    {
     "data": {
      "text/plain": [
       "<Axes: >"
      ]
     },
     "execution_count": 31,
     "metadata": {},
     "output_type": "execute_result"
    },
    {
     "data": {
      "image/png": "[encoded data removed]",
      "text/plain": [
       "<Figure size 432x288 with 2 Axes>"
      ]
     },
     "metadata": {
      "needs_background": "light"
     },
     "output_type": "display_data"
    }
   ],
   "source": [
    "sns.heatmap(advert.corr(),annot=True) # annot, If True, write the data value in each cell."
   ]
  },
  {
   "cell_type": "code",
   "execution_count": 32,
   "id": "909ea0bb",
   "metadata": {},
   "outputs": [],
   "source": [
    "x=advert[['TV','Radio','Newspaper']]"
   ]
  },
  {
   "cell_type": "code",
   "execution_count": 33,
   "id": "908e0b49",
   "metadata": {},
   "outputs": [
    {
     "name": "stdout",
     "output_type": "stream",
     "text": [
      "        TV  Radio  Newspaper\n",
      "0    230.1   37.8       69.2\n",
      "1     44.5   39.3       45.1\n",
      "2     17.2   45.9       69.3\n",
      "3    151.5   41.3       58.5\n",
      "4    180.8   10.8       58.4\n",
      "..     ...    ...        ...\n",
      "195   38.2    3.7       13.8\n",
      "196   94.2    4.9        8.1\n",
      "197  177.0    9.3        6.4\n",
      "198  283.6   42.0       66.2\n",
      "199  232.1    8.6        8.7\n",
      "\n",
      "[200 rows x 3 columns]\n"
     ]
    }
   ],
   "source": [
    "print(x)"
   ]
  },
  {
   "cell_type": "code",
   "execution_count": 34,
   "id": "1ba53703",
   "metadata": {},
   "outputs": [],
   "source": [
    "y=advert.Sales"
   ]
  },
  {
   "cell_type": "code",
   "execution_count": 35,
   "id": "fdae45aa",
   "metadata": {},
   "outputs": [
    {
     "data": {
      "text/plain": [
       "0      22.1\n",
       "1      10.4\n",
       "2       9.3\n",
       "3      18.5\n",
       "4      12.9\n",
       "       ... \n",
       "195     7.6\n",
       "196     9.7\n",
       "197    12.8\n",
       "198    25.5\n",
       "199    13.4\n",
       "Name: Sales, Length: 200, dtype: float64"
      ]
     },
     "execution_count": 35,
     "metadata": {},
     "output_type": "execute_result"
    }
   ],
   "source": [
    "y"
   ]
  },
  {
   "cell_type": "code",
   "execution_count": 36,
   "id": "7a6dd5ee",
   "metadata": {},
   "outputs": [],
   "source": [
    "from sklearn.model_selection import train_test_split\n",
    "x_train,x_test,y_train,y_test=train_test_split(x,y,test_size=0.2,random_state=1)"
   ]
  },
  {
   "cell_type": "code",
   "execution_count": 37,
   "id": "73d8717f",
   "metadata": {},
   "outputs": [
    {
     "name": "stdout",
     "output_type": "stream",
     "text": [
      "        TV  Radio  Newspaper\n",
      "108   13.1    0.4       25.6\n",
      "107   90.4    0.3       23.2\n",
      "189   18.7   12.1       23.4\n",
      "14   204.1   32.9       46.0\n",
      "56     7.3   28.1       41.4\n",
      "..     ...    ...        ...\n",
      "133  219.8   33.5       45.1\n",
      "137  273.7   28.9       59.7\n",
      "72    26.8   33.0       19.3\n",
      "140   73.4   17.0       12.9\n",
      "37    74.7   49.4       45.7\n",
      "\n",
      "[160 rows x 3 columns]\n"
     ]
    }
   ],
   "source": [
    "print(x_train)"
   ]
  },
  {
   "cell_type": "code",
   "execution_count": 38,
   "id": "96babdc6",
   "metadata": {},
   "outputs": [
    {
     "name": "stdout",
     "output_type": "stream",
     "text": [
      "        TV  Radio  Newspaper\n",
      "58   210.8   49.6       37.7\n",
      "40   202.5   22.3       31.6\n",
      "34    95.7    1.4        7.4\n",
      "102  280.2   10.1       21.4\n",
      "184  253.8   21.3       30.0\n",
      "198  283.6   42.0       66.2\n",
      "95   163.3   31.6       52.9\n",
      "4    180.8   10.8       58.4\n",
      "29    70.6   16.0       40.8\n",
      "168  215.4   23.6       57.6\n",
      "171  164.5   20.9       47.4\n",
      "18    69.2   20.5       18.3\n",
      "11   214.7   24.0        4.0\n",
      "89   109.8   47.8       51.4\n",
      "110  225.8    8.2       56.5\n",
      "118  125.7   36.9       79.2\n",
      "159  131.7   18.4       34.6\n",
      "35   290.7    4.1        8.5\n",
      "136   25.6   39.0        9.3\n",
      "59   210.7   29.5        9.3\n",
      "51   100.4    9.6        3.6\n",
      "16    67.8   36.6      114.0\n",
      "44    25.1   25.7       43.3\n",
      "94   107.4   14.0       10.9\n",
      "31   112.9   17.4       38.6\n",
      "162  188.4   18.1       25.6\n",
      "38    43.1   26.7       35.1\n",
      "28   248.8   27.1       22.9\n",
      "193  166.8   42.0        3.6\n",
      "27   240.1   16.7       22.9\n",
      "47   239.9   41.5       18.5\n",
      "165  234.5    3.4       84.8\n",
      "194  149.7   35.6        6.0\n",
      "177  170.2    7.8       35.2\n",
      "176  248.4   30.2       20.3\n",
      "97   184.9   21.0       22.0\n",
      "174  222.4    3.4       13.1\n",
      "73   129.4    5.7       31.3\n",
      "69   216.8   43.9       27.2\n",
      "172   19.6   20.1       17.0\n"
     ]
    }
   ],
   "source": [
    "print(x_test)"
   ]
  },
  {
   "cell_type": "code",
   "execution_count": 39,
   "id": "bd80d289",
   "metadata": {},
   "outputs": [],
   "source": [
    "from sklearn.preprocessing import StandardScaler\n",
    "st=StandardScaler()\n",
    "x_train=st.fit_transform(x_train)\n",
    "x_test=st.transform(x_test)"
   ]
  },
  {
   "cell_type": "code",
   "execution_count": 38,
   "id": "59ff5c71",
   "metadata": {},
   "outputs": [
    {
     "name": "stdout",
     "output_type": "stream",
     "text": [
      "[[-1.47861420e+00 -1.50740896e+00 -2.07096465e-01]\n",
      " [-5.93912087e-01 -1.51399099e+00 -3.21290955e-01]\n",
      " [-1.41452194e+00 -7.37311102e-01 -3.11774748e-01]\n",
      " [ 7.07389725e-01  6.31751749e-01  7.63556698e-01]\n",
      " [-1.54499547e+00  3.15814168e-01  5.44683926e-01]\n",
      " [ 5.73110715e-02  3.93687845e-02 -5.16373209e-01]\n",
      " [-7.33541657e-01  1.54665433e+00  2.16374768e-01]\n",
      " [ 9.80926342e-01  9.47689330e-01  9.74221741e-02]\n",
      " [ 7.17690268e-01  1.43475977e+00 -4.92582690e-01]\n",
      " [ 9.98093912e-01  5.92259551e-01  2.10534195e+00]\n",
      " [ 1.68708573e+00  1.25046284e+00  1.01097809e+00]\n",
      " [-2.19659059e-01  7.43646309e-01 -8.35166159e-01]\n",
      " [-1.40651040e+00 -4.80611817e-01 -3.64113889e-01]\n",
      " [ 4.61321221e-01  1.50716213e+00  1.36783587e+00]\n",
      " [ 1.41126010e+00 -2.17330500e-01 -1.41089671e+00]\n",
      " [ 2.66755427e-01 -8.75533794e-01 -5.87744765e-01]\n",
      " [ 8.72198398e-01 -1.17830731e+00 -1.21450598e-01]\n",
      " [-1.34241814e+00 -8.09713464e-01 -1.20142119e-02]\n",
      " [ 1.02785103e+00 -9.67682255e-01 -1.01121600e+00]\n",
      " [-1.13640730e+00  1.71009443e-01 -4.49759756e-01]\n",
      " [-3.53938070e-02 -5.92506377e-01 -2.07096465e-01]\n",
      " [-3.42493023e-02 -5.79342311e-01 -9.39844442e-01]\n",
      " [-1.56674106e+00  4.34290761e-01 -9.77909272e-01]\n",
      " [ 1.73172141e+00  2.89486036e-01 -1.33952516e+00]\n",
      " [ 1.59209184e+00  1.07274796e+00  1.22985086e+00]\n",
      " [-1.52897240e+00  1.68487702e+00  2.14340678e+00]\n",
      " [-7.10651564e-01 -1.53373709e+00 -9.87425479e-01]\n",
      " [-5.02723677e-02  1.52032619e+00  1.38211018e+00]\n",
      " [ 9.71770305e-01 -4.93775883e-01  9.49122744e-01]\n",
      " [-1.26802534e+00  8.54430150e-02 -1.32049274e+00]\n",
      " [ 1.37806946e+00  3.61888398e-01 -6.68632528e-01]\n",
      " [ 8.14973165e-01  1.29653708e+00  1.83068041e-01]\n",
      " [ 1.66305113e+00  1.29653708e+00  1.99114746e+00]\n",
      " [-1.49463726e+00  8.95033066e-01  7.25491868e-01]\n",
      " [-1.42367797e+00  9.41107297e-01 -3.97420615e-01]\n",
      " [ 7.70337482e-01 -1.77838302e-01 -9.16053923e-01]\n",
      " [-1.35615220e+00  7.76556473e-01  1.71041934e+00]\n",
      " [-7.54142741e-01 -1.48108082e+00 -7.20971670e-01]\n",
      " [ 1.24301791e+00  8.68704934e-01  2.01493798e+00]\n",
      " [-1.13592089e-02  2.30247740e-01  7.73072905e-01]\n",
      " [ 5.20835464e-01 -1.44928138e-01 -9.73151168e-01]\n",
      " [-9.14745359e-02 -1.21121747e+00 -9.82667375e-01]\n",
      " [ 1.11597789e+00 -1.26387374e+00  3.30569257e-01]\n",
      " [ 9.35146155e-01 -1.37576830e+00 -6.82906840e-01]\n",
      " [-7.64443283e-01 -8.22877530e-01 -1.13968480e+00]\n",
      " [-5.12652255e-01 -1.03350258e+00 -1.08258755e+00]\n",
      " [-7.66732293e-01 -1.97584401e-01  1.21212693e-01]\n",
      " [-1.53240592e+00  2.56575871e-01 -1.32525084e+00]\n",
      " [ 5.58604118e-01  3.55306365e-01 -5.59196142e-01]\n",
      " [ 3.75483370e-01 -5.27796766e-02  7.36316554e-02]\n",
      " [-8.11739939e-02  1.21097065e+00  7.58798594e-01]\n",
      " [ 1.42613866e+00  1.34919334e+00 -1.18726584e+00]\n",
      " [-6.47703807e-01  8.22630704e-01  9.20574121e-01]\n",
      " [-3.19602930e-02 -1.39551440e+00 -1.59515428e-01]\n",
      " [ 3.31992193e-01  1.07932999e+00  3.68634087e-01]\n",
      " [ 5.21979969e-01 -4.01627422e-01 -5.73470454e-01]\n",
      " [-1.19134353e+00 -1.29020187e+00 -7.68552707e-01]\n",
      " [ 3.97228959e-01 -9.21608024e-01 -1.12065238e+00]\n",
      " [-1.19363254e+00  1.11882219e+00 -8.58956678e-01]\n",
      " [ 2.98801557e-01 -1.06641275e+00 -8.16133744e-01]\n",
      " [-1.43512302e+00  1.34261131e+00  2.82857372e+00]\n",
      " [ 1.08850978e+00 -1.19805341e+00 -3.07016644e-01]\n",
      " [-1.30121597e+00 -1.43500659e+00  1.45003212e-01]\n",
      " [ 6.32996922e-01 -1.23413118e-04 -7.49520292e-01]\n",
      " [-1.43168951e+00  1.48741603e+00  1.87219487e+00]\n",
      " [ 6.50164492e-01  4.80364991e-01  4.16215125e-01]\n",
      " [ 5.82638716e-01 -3.22643027e-01  1.70090314e+00]\n",
      " [ 1.58408030e+00 -6.18834509e-01  3.35327361e-01]\n",
      " [-9.70454124e-01  6.25169716e-01 -3.07016644e-01]\n",
      " [ 3.82350398e-01 -5.20104015e-01 -1.31097653e+00]\n",
      " [ 1.00496094e+00  9.54271363e-01  1.86743677e+00]\n",
      " [-1.58161962e+00 -7.70221267e-01 -1.15395911e+00]\n",
      " [-2.49416181e-01  3.42142300e-01 -7.49520292e-01]\n",
      " [-8.38836087e-01 -9.21608024e-01 -1.38234809e+00]\n",
      " [ 6.47875482e-01  1.71778718e+00  1.42969122e+00]\n",
      " [ 7.38291352e-01 -1.19147137e+00 -5.02098897e-01]\n",
      " [-6.17946685e-01  1.44681311e-01  2.06727712e+00]\n",
      " [-1.62053278e+00  1.07274796e+00 -1.01121600e+00]\n",
      " [-6.01923620e-01 -8.82115826e-01  2.73472013e-01]\n",
      " [ 1.11025537e+00 -5.13521982e-01 -1.26208702e-01]\n",
      " [ 8.13828660e-01  8.54430150e-02 -8.01859433e-01]\n",
      " [ 8.63042361e-01  6.71243946e-01  1.38211018e+00]\n",
      " [ 1.15489105e+00  1.69145905e+00  6.82668934e-01]\n",
      " [ 3.45726249e-01 -3.42389126e-01  3.55668255e-02]\n",
      " [-4.31392424e-01 -1.15856121e+00  2.11616664e-01]\n",
      " [-3.61577639e-01  1.13856828e+00  1.58195054e+00]\n",
      " [ 1.63750006e-01 -1.36260423e+00 -1.03024841e+00]\n",
      " [-2.28042556e-02 -1.40867846e+00 -9.96941687e-01]\n",
      " [-2.87184835e-01 -5.66178246e-01 -1.16823342e+00]\n",
      " [-8.72026723e-01 -1.15197918e+00 -2.73709918e-01]\n",
      " [-5.16085769e-01 -1.43500659e+00  2.26009928e-03]\n",
      " [-8.45703115e-01  1.39526757e+00  2.68713909e-01]\n",
      " [-9.85332685e-01 -1.15856121e+00 -1.20142119e-02]\n",
      " [ 9.16834081e-01 -1.25070967e+00  9.44364640e-01]\n",
      " [-6.30536237e-01 -7.57057201e-01 -1.92822154e-01]\n",
      " [ 9.84359856e-01 -4.21373521e-01 -1.78547843e-01]\n",
      " [-1.53927295e+00  1.02667372e+00  9.82429470e-01]\n",
      " [ 6.58176025e-01 -1.36260423e+00 -4.16453030e-01]\n",
      " [-1.05629197e+00 -7.70221267e-01 -5.49679935e-01]\n",
      " [ 1.09766582e+00  7.23900210e-01 -1.17299152e+00]\n",
      " [-2.43693657e-01 -9.80846321e-01  8.92025499e-01]\n",
      " [-1.07574855e+00  1.55981839e+00 -1.02073221e+00]\n",
      " [ 1.13772348e+00  9.67435428e-01 -3.21290955e-01]\n",
      " [ 1.64473905e+00 -6.18834509e-01 -1.24912118e+00]\n",
      " [-1.28098685e-01  1.28337301e+00 -5.00790419e-02]\n",
      " [ 6.07817819e-01  1.60589262e+00  1.09186586e+00]\n",
      " [ 3.97228959e-01  6.64661913e-01  4.16215125e-01]\n",
      " [ 2.42720828e-01  8.88451033e-01 -1.07307135e+00]\n",
      " [ 1.29452062e+00  2.36829773e-01 -1.16347532e+00]\n",
      " [-7.54142741e-01  2.23665707e-01 -3.64113889e-01]\n",
      " [ 8.48163800e-01  1.21097065e+00  4.59038059e-01]\n",
      " [ 6.95286589e-03  3.94798563e-01 -8.25649952e-01]\n",
      " [-1.31380553e+00 -1.42842456e+00 -4.40243549e-01]\n",
      " [ 7.39435856e-01 -9.80846321e-01 -1.69031635e-01]\n",
      " [-9.15517900e-01 -7.04400937e-01 -5.54438039e-01]\n",
      " [ 1.05380268e-01  1.18464252e+00  1.35831967e+00]\n",
      " [ 1.62528247e+00 -8.36041596e-01 -1.12065238e+00]\n",
      " [-8.62870685e-01 -7.63639234e-01  3.25811154e-01]\n",
      " [-1.11695072e+00  1.64427410e-01 -4.45001652e-01]\n",
      " [ 1.40668208e+00 -1.34285813e+00  6.20813586e-01]\n",
      " [-1.17646497e+00  1.17147845e+00 -1.14920101e+00]\n",
      " [ 1.72370987e+00  3.28978234e-01  6.30329793e-01]\n",
      " [-1.41337743e+00 -1.05435940e-01  9.72913263e-01]\n",
      " [-7.69021302e-01  7.69974440e-01  1.08234965e+00]\n",
      " [ 1.54058913e+00  1.68487702e+00  5.63716341e-01]\n",
      " [-1.53011691e+00 -1.39551440e+00 -1.37758999e+00]\n",
      " [-1.01623431e+00 -1.40209643e+00 -4.06936823e-01]\n",
      " [ 8.92799482e-01  1.69145905e+00 -1.27291170e+00]\n",
      " [-1.11923973e+00  1.05300186e+00  7.20733764e-01]\n",
      " [-6.97289472e-02 -2.69986763e-01 -6.35325802e-01]\n",
      " [-1.47746969e+00 -4.87193850e-01  9.34848433e-01]\n",
      " [ 1.36204640e+00  1.27679098e+00  1.17751172e+00]\n",
      " [-4.53138012e-01  4.14544662e-01 -1.02549031e+00]\n",
      " [-2.52849695e-01 -2.43658632e-01 -8.73230989e-01]\n",
      " [-5.50420910e-01 -1.21121747e+00 -1.03976462e+00]\n",
      " [ 5.88361240e-01  7.96302572e-01  2.17195541e+00]\n",
      " [-7.55287246e-01  2.76321970e-01 -6.63874425e-01]\n",
      " [ 6.32996922e-01 -1.30336593e+00 -1.14444290e+00]\n",
      " [ 1.08850978e+00  2.76321970e-01 -9.01779612e-01]\n",
      " [ 6.58176025e-01 -1.32969407e+00  2.21132871e-01]\n",
      " [ 8.95088492e-01  6.51497847e-01  3.78150295e-01]\n",
      " [ 8.59236883e-02 -1.44817066e+00 -2.68951814e-01]\n",
      " [-5.53854424e-01  1.32944724e+00  9.77671366e-01]\n",
      " [ 4.87644828e-01  1.35577537e+00 -1.34428326e+00]\n",
      " [ 1.11941141e+00 -1.05324868e+00 -1.01121600e+00]\n",
      " [ 1.76376754e+00  8.55540868e-01  3.37575565e+00]\n",
      " [ 8.71053894e-01  2.89486036e-01  1.11565637e+00]\n",
      " [ 1.53830012e+00 -1.38235033e+00 -2.97500436e-01]\n",
      " [ 1.38035847e+00 -1.30336593e+00 -4.97340794e-01]\n",
      " [-1.20622209e+00  1.00692763e+00  1.69614503e+00]\n",
      " [-3.71878181e-01 -5.92506377e-01  8.31478629e-02]\n",
      " [-9.46419526e-01 -7.43893135e-01  6.25571689e-01]\n",
      " [-5.27530816e-01 -5.59596213e-01  4.25731332e-01]\n",
      " [-1.43168951e+00 -1.26387374e+00  7.83897591e-02]\n",
      " [-3.00918891e-01 -1.02692055e+00 -3.26049059e-01]\n",
      " [ 8.87076959e-01  6.71243946e-01  7.20733764e-01]\n",
      " [ 1.50396498e+00  3.68470431e-01  1.41541691e+00]\n",
      " [-1.32181706e+00  6.38333782e-01 -5.06857001e-01]\n",
      " [-7.88477881e-01 -4.14791488e-01 -8.11375641e-01]\n",
      " [-7.73599321e-01  1.71778718e+00  7.49282387e-01]]\n"
     ]
    }
   ],
   "source": [
    "print(x_train)"
   ]
  },
  {
   "cell_type": "code",
   "execution_count": 39,
   "id": "afe2b491",
   "metadata": {},
   "outputs": [
    {
     "name": "stdout",
     "output_type": "stream",
     "text": [
      "[[ 7.84071539e-01  1.73095125e+00  3.68634087e-01]\n",
      " [ 6.89077651e-01 -6.59437425e-02  7.83897591e-02]\n",
      " [-5.33253340e-01 -1.44158863e+00 -1.07307135e+00]\n",
      " [ 1.57835778e+00 -8.68951761e-01 -4.06936823e-01]\n",
      " [ 1.27620855e+00 -1.31764072e-01  2.26009928e-03]\n",
      " [ 1.61727094e+00  1.23071675e+00  1.72469365e+00]\n",
      " [ 2.40431819e-01  5.46185321e-01  1.09186586e+00]\n",
      " [ 4.40720137e-01 -8.22877530e-01  1.35356156e+00]\n",
      " [-8.20524012e-01 -4.80611817e-01  5.16135303e-01]\n",
      " [ 8.36718753e-01  1.96226857e-02  1.31549673e+00]\n",
      " [ 2.54165875e-01 -1.58092204e-01  8.30170150e-01]\n",
      " [-8.36547078e-01 -1.84420335e-01 -5.54438039e-01]\n",
      " [ 8.28707221e-01  4.59508174e-02 -1.23484687e+00]\n",
      " [-3.71878181e-01  1.61247466e+00  1.02049430e+00]\n",
      " [ 9.55747239e-01 -9.94010386e-01  1.26315759e+00]\n",
      " [-1.89901938e-01  8.95033066e-01  2.34324714e+00]\n",
      " [-1.21231657e-01 -3.22643027e-01  2.21132871e-01]\n",
      " [ 1.69853077e+00 -1.26387374e+00 -1.02073221e+00]\n",
      " [-1.33555111e+00  1.03325576e+00 -9.82667375e-01]\n",
      " [ 7.82927034e-01  4.07962629e-01 -9.82667375e-01]\n",
      " [-4.79461620e-01 -9.01861925e-01 -1.25387929e+00]\n",
      " [-8.52570143e-01  8.75286967e-01  3.99906724e+00]\n",
      " [-1.34127364e+00  1.57845377e-01  6.35087897e-01]\n",
      " [-3.99346293e-01 -6.12252476e-01 -9.06537715e-01]\n",
      " [-3.36398536e-01 -3.88463356e-01  4.11457021e-01]\n",
      " [ 5.27702492e-01 -3.42389126e-01 -2.07096465e-01]\n",
      " [-1.13526280e+00  2.23665707e-01  2.44923390e-01]\n",
      " [ 1.21898331e+00  2.49993838e-01 -3.35565266e-01]\n",
      " [ 2.80489483e-01  1.23071675e+00 -1.25387929e+00]\n",
      " [ 1.11941141e+00 -4.34537587e-01 -3.35565266e-01]\n",
      " [ 1.11712240e+00  1.19780658e+00 -5.44921831e-01]\n",
      " [ 1.05531915e+00 -1.30994797e+00  2.60970095e+00]\n",
      " [ 8.47791836e-02  8.09466638e-01 -1.13968480e+00]\n",
      " [ 3.19402641e-01 -1.02033852e+00  2.49681494e-01]\n",
      " [ 1.21440530e+00  4.54036859e-01 -4.59275964e-01]\n",
      " [ 4.87644828e-01 -1.51510171e-01 -3.78388200e-01]\n",
      " [ 9.16834081e-01 -1.30994797e+00 -8.01859433e-01]\n",
      " [-1.47555265e-01 -1.15856121e+00  6.41154479e-02]\n",
      " [ 8.52741819e-01  1.35577537e+00 -1.30966805e-01]\n",
      " [-1.40422140e+00 -2.10748467e-01 -6.16293387e-01]]\n"
     ]
    }
   ],
   "source": [
    "print(x_test)"
   ]
  },
  {
   "cell_type": "code",
   "execution_count": null,
   "id": "be0cbd0a",
   "metadata": {},
   "outputs": [],
   "source": []
  },
  {
   "cell_type": "code",
   "execution_count": null,
   "id": "18943406",
   "metadata": {},
   "outputs": [],
   "source": []
  },
  {
   "cell_type": "code",
   "execution_count": 40,
   "id": "3dadeb4c",
   "metadata": {},
   "outputs": [
    {
     "data": {
      "text/html": [
       "<style>#sk-container-id-2 {color: black;}#sk-container-id-2 pre{padding: 0;}#sk-container-id-2 div.sk-toggleable {background-color: white;}#sk-container-id-2 label.sk-toggleable__label {cursor: pointer;display: block;width: 100%;margin-bottom: 0;padding: 0.3em;box-sizing: border-box;text-align: center;}#sk-container-id-2 label.sk-toggleable__label-arrow:before {content: \"▸\";float: left;margin-right: 0.25em;color: #696969;}#sk-container-id-2 label.sk-toggleable__label-arrow:hover:before {color: black;}#sk-container-id-2 div.sk-estimator:hover label.sk-toggleable__label-arrow:before {color: black;}#sk-container-id-2 div.sk-toggleable__content {max-height: 0;max-width: 0;overflow: hidden;text-align: left;background-color: #f0f8ff;}#sk-container-id-2 div.sk-toggleable__content pre {margin: 0.2em;color: black;border-radius: 0.25em;background-color: #f0f8ff;}#sk-container-id-2 input.sk-toggleable__control:checked~div.sk-toggleable__content {max-height: 200px;max-width: 100%;overflow: auto;}#sk-container-id-2 input.sk-toggleable__control:checked~label.sk-toggleable__label-arrow:before {content: \"▾\";}#sk-container-id-2 div.sk-estimator input.sk-toggleable__control:checked~label.sk-toggleable__label {background-color: #d4ebff;}#sk-container-id-2 div.sk-label input.sk-toggleable__control:checked~label.sk-toggleable__label {background-color: #d4ebff;}#sk-container-id-2 input.sk-hidden--visually {border: 0;clip: rect(1px 1px 1px 1px);clip: rect(1px, 1px, 1px, 1px);height: 1px;margin: -1px;overflow: hidden;padding: 0;position: absolute;width: 1px;}#sk-container-id-2 div.sk-estimator {font-family: monospace;background-color: #f0f8ff;border: 1px dotted black;border-radius: 0.25em;box-sizing: border-box;margin-bottom: 0.5em;}#sk-container-id-2 div.sk-estimator:hover {background-color: #d4ebff;}#sk-container-id-2 div.sk-parallel-item::after {content: \"\";width: 100%;border-bottom: 1px solid gray;flex-grow: 1;}#sk-container-id-2 div.sk-label:hover label.sk-toggleable__label {background-color: #d4ebff;}#sk-container-id-2 div.sk-serial::before {content: \"\";position: absolute;border-left: 1px solid gray;box-sizing: border-box;top: 0;bottom: 0;left: 50%;z-index: 0;}#sk-container-id-2 div.sk-serial {display: flex;flex-direction: column;align-items: center;background-color: white;padding-right: 0.2em;padding-left: 0.2em;position: relative;}#sk-container-id-2 div.sk-item {position: relative;z-index: 1;}#sk-container-id-2 div.sk-parallel {display: flex;align-items: stretch;justify-content: center;background-color: white;position: relative;}#sk-container-id-2 div.sk-item::before, #sk-container-id-2 div.sk-parallel-item::before {content: \"\";position: absolute;border-left: 1px solid gray;box-sizing: border-box;top: 0;bottom: 0;left: 50%;z-index: -1;}#sk-container-id-2 div.sk-parallel-item {display: flex;flex-direction: column;z-index: 1;position: relative;background-color: white;}#sk-container-id-2 div.sk-parallel-item:first-child::after {align-self: flex-end;width: 50%;}#sk-container-id-2 div.sk-parallel-item:last-child::after {align-self: flex-start;width: 50%;}#sk-container-id-2 div.sk-parallel-item:only-child::after {width: 0;}#sk-container-id-2 div.sk-dashed-wrapped {border: 1px dashed gray;margin: 0 0.4em 0.5em 0.4em;box-sizing: border-box;padding-bottom: 0.4em;background-color: white;}#sk-container-id-2 div.sk-label label {font-family: monospace;font-weight: bold;display: inline-block;line-height: 1.2em;}#sk-container-id-2 div.sk-label-container {text-align: center;}#sk-container-id-2 div.sk-container {/* jupyter's `normalize.less` sets `[hidden] { display: none; }` but bootstrap.min.css set `[hidden] { display: none !important; }` so we also need the `!important` here to be able to override the default hidden behavior on the sphinx rendered scikit-learn.org. See: https://github.com/scikit-learn/scikit-learn/issues/21755 */display: inline-block !important;position: relative;}#sk-container-id-2 div.sk-text-repr-fallback {display: none;}</style><div id=\"sk-container-id-2\" class=\"sk-top-container\"><div class=\"sk-text-repr-fallback\"><pre>LinearRegression()</pre><b>In a Jupyter environment, please rerun this cell to show the HTML representation or trust the notebook. <br />On GitHub, the HTML representation is unable to render, please try loading this page with nbviewer.org.</b></div><div class=\"sk-container\" hidden><div class=\"sk-item\"><div class=\"sk-estimator sk-toggleable\"><input class=\"sk-toggleable__control sk-hidden--visually\" id=\"sk-estimator-id-2\" type=\"checkbox\" checked><label for=\"sk-estimator-id-2\" class=\"sk-toggleable__label sk-toggleable__label-arrow\">LinearRegression</label><div class=\"sk-toggleable__content\"><pre>LinearRegression()</pre></div></div></div></div></div>"
      ],
      "text/plain": [
       "LinearRegression()"
      ]
     },
     "execution_count": 40,
     "metadata": {},
     "output_type": "execute_result"
    }
   ],
   "source": [
    "from sklearn.linear_model import LinearRegression\n",
    "linreg=LinearRegression()\n",
    "linreg.fit(x_train,y_train)"
   ]
  },
  {
   "cell_type": "code",
   "execution_count": null,
   "id": "bf0da703",
   "metadata": {},
   "outputs": [],
   "source": []
  },
  {
   "cell_type": "code",
   "execution_count": 41,
   "id": "8de99506",
   "metadata": {},
   "outputs": [
    {
     "data": {
      "text/plain": [
       "13.811250000000001"
      ]
     },
     "execution_count": 41,
     "metadata": {},
     "output_type": "execute_result"
    }
   ],
   "source": [
    "linreg.intercept_"
   ]
  },
  {
   "cell_type": "code",
   "execution_count": 42,
   "id": "8e9f6391",
   "metadata": {},
   "outputs": [
    {
     "data": {
      "text/plain": [
       "array([4.09287129, 2.7126018 , 0.05435329])"
      ]
     },
     "execution_count": 42,
     "metadata": {},
     "output_type": "execute_result"
    }
   ],
   "source": [
    "linreg.coef_"
   ]
  },
  {
   "cell_type": "code",
   "execution_count": 43,
   "id": "fc06d77e",
   "metadata": {},
   "outputs": [],
   "source": [
    "y_pred=linreg.predict(x_test)"
   ]
  },
  {
   "cell_type": "code",
   "execution_count": 44,
   "id": "b5006f11",
   "metadata": {},
   "outputs": [
    {
     "data": {
      "text/plain": [
       "array([21.73577184, 16.45693776,  7.65993185, 17.89202679, 18.67730671,\n",
       "       23.86271904, 16.33623628, 13.45649226,  9.177296  , 17.36056228,\n",
       "       14.4677995 ,  9.85697601, 17.26057027, 16.71866935, 15.09530285,\n",
       "       15.58923732, 12.45188167, 17.27925151, 11.0944114 , 18.06889853,\n",
       "        9.33433055, 12.91345761,  8.7842804 , 10.46670654, 11.40303174,\n",
       "       15.03104665,  9.78479388, 19.46028647, 18.22954934, 17.1958903 ,\n",
       "       21.60304218, 14.71901407, 16.29205532, 12.36432281, 19.98831261,\n",
       "       15.37556411, 13.96678297, 10.06809496, 20.97197274,  7.45877832])"
      ]
     },
     "execution_count": 44,
     "metadata": {},
     "output_type": "execute_result"
    }
   ],
   "source": [
    "y_pred"
   ]
  },
  {
   "cell_type": "code",
   "execution_count": 45,
   "id": "3ebf667a",
   "metadata": {},
   "outputs": [
    {
     "name": "stdout",
     "output_type": "stream",
     "text": [
      "58     23.8\n",
      "40     16.6\n",
      "34      9.5\n",
      "102    14.8\n",
      "184    17.6\n",
      "198    25.5\n",
      "95     16.9\n",
      "4      12.9\n",
      "29     10.5\n",
      "168    17.1\n",
      "171    14.5\n",
      "18     11.3\n",
      "11     17.4\n",
      "89     16.7\n",
      "110    13.4\n",
      "118    15.9\n",
      "159    12.9\n",
      "35     12.8\n",
      "136     9.5\n",
      "59     18.4\n",
      "51     10.7\n",
      "16     12.5\n",
      "44      8.5\n",
      "94     11.5\n",
      "31     11.9\n",
      "162    14.9\n",
      "38     10.1\n",
      "28     18.9\n",
      "193    19.6\n",
      "27     15.9\n",
      "47     23.2\n",
      "165    11.9\n",
      "194    17.3\n",
      "177    11.7\n",
      "176    20.2\n",
      "97     15.5\n",
      "174    11.5\n",
      "73     11.0\n",
      "69     22.3\n",
      "172     7.6\n",
      "Name: Sales, dtype: float64\n"
     ]
    }
   ],
   "source": [
    "print(y_test)"
   ]
  },
  {
   "cell_type": "code",
   "execution_count": 46,
   "id": "19097d11",
   "metadata": {},
   "outputs": [
    {
     "name": "stdout",
     "output_type": "stream",
     "text": [
      "     Actual  Predicted\n",
      "58     23.8  21.735772\n",
      "40     16.6  16.456938\n",
      "34      9.5   7.659932\n",
      "102    14.8  17.892027\n",
      "184    17.6  18.677307\n",
      "198    25.5  23.862719\n",
      "95     16.9  16.336236\n",
      "4      12.9  13.456492\n",
      "29     10.5   9.177296\n",
      "168    17.1  17.360562\n",
      "171    14.5  14.467799\n",
      "18     11.3   9.856976\n",
      "11     17.4  17.260570\n",
      "89     16.7  16.718669\n",
      "110    13.4  15.095303\n",
      "118    15.9  15.589237\n",
      "159    12.9  12.451882\n",
      "35     12.8  17.279252\n",
      "136     9.5  11.094411\n",
      "59     18.4  18.068899\n",
      "51     10.7   9.334331\n",
      "16     12.5  12.913458\n",
      "44      8.5   8.784280\n",
      "94     11.5  10.466707\n",
      "31     11.9  11.403032\n",
      "162    14.9  15.031047\n",
      "38     10.1   9.784794\n",
      "28     18.9  19.460286\n",
      "193    19.6  18.229549\n",
      "27     15.9  17.195890\n",
      "47     23.2  21.603042\n",
      "165    11.9  14.719014\n",
      "194    17.3  16.292055\n",
      "177    11.7  12.364323\n",
      "176    20.2  19.988313\n",
      "97     15.5  15.375564\n",
      "174    11.5  13.966783\n",
      "73     11.0  10.068095\n",
      "69     22.3  20.971973\n",
      "172     7.6   7.458778\n"
     ]
    }
   ],
   "source": [
    "df=pd.DataFrame({'Actual':y_test,'Predicted':y_pred})\n",
    "print(df)"
   ]
  },
  {
   "cell_type": "code",
   "execution_count": 47,
   "id": "3e3b186f",
   "metadata": {},
   "outputs": [],
   "source": [
    "from sklearn import metrics as m"
   ]
  },
  {
   "cell_type": "code",
   "execution_count": 48,
   "id": "897dd372",
   "metadata": {},
   "outputs": [
    {
     "data": {
      "text/plain": [
       "1.0402154012924716"
      ]
     },
     "execution_count": 48,
     "metadata": {},
     "output_type": "execute_result"
    }
   ],
   "source": [
    "m.mean_absolute_error(y_test,y_pred)"
   ]
  },
  {
   "cell_type": "code",
   "execution_count": 49,
   "id": "69a7a95e",
   "metadata": {},
   "outputs": [
    {
     "data": {
      "text/plain": [
       "1.9918855518287895"
      ]
     },
     "execution_count": 49,
     "metadata": {},
     "output_type": "execute_result"
    }
   ],
   "source": [
    "m.mean_squared_error(y_test,y_pred)"
   ]
  },
  {
   "cell_type": "code",
   "execution_count": 50,
   "id": "03398a0c",
   "metadata": {},
   "outputs": [
    {
     "data": {
      "text/plain": [
       "1.4113417558581582"
      ]
     },
     "execution_count": 50,
     "metadata": {},
     "output_type": "execute_result"
    }
   ],
   "source": [
    "np.sqrt(m.mean_squared_error(y_test,y_pred ))"
   ]
  },
  {
   "cell_type": "code",
   "execution_count": 51,
   "id": "963f62f3",
   "metadata": {},
   "outputs": [
    {
     "data": {
      "text/plain": [
       "0.8927605914615384"
      ]
     },
     "execution_count": 51,
     "metadata": {},
     "output_type": "execute_result"
    }
   ],
   "source": [
    "m.r2_score(y_test,y_pred)"
   ]
  },
  {
   "cell_type": "markdown",
   "id": "b8eddaa1",
   "metadata": {},
   "source": [
    "# Ridge Regression"
   ]
  },
  {
   "cell_type": "code",
   "execution_count": 33,
   "id": "f5a923f6",
   "metadata": {},
   "outputs": [
    {
     "name": "stdout",
     "output_type": "stream",
     "text": [
      "1.7369053262931264\n",
      "0.8959369353717952\n",
      "1.4114339875992916\n",
      "0.8927465747281528\n"
     ]
    }
   ],
   "source": [
    "from sklearn.linear_model import Ridge\n",
    "from sklearn.linear_model import Lasso\n",
    "from sklearn.metrics import r2_score\n",
    "\n",
    "rr = Ridge(alpha=0.1)\n",
    "rr.fit(x_train, y_train) \n",
    "pred_train_rr= rr.predict(x_train)\n",
    "\n",
    "print(np.sqrt(m.mean_squared_error(y_train,pred_train_rr)))  # RMSE Training\n",
    "print(r2_score(y_train, pred_train_rr))    #R2 Training\n",
    "\n",
    "pred_test_rr= rr.predict(x_test)\n",
    "\n",
    "print(np.sqrt(m.mean_squared_error(y_test,pred_test_rr))) # RMSE Testining\n",
    "print(r2_score(y_test, pred_test_rr))  # R2 Testining"
   ]
  },
  {
   "cell_type": "code",
   "execution_count": 34,
   "id": "bae6c17f",
   "metadata": {},
   "outputs": [
    {
     "name": "stdout",
     "output_type": "stream",
     "text": [
      "13.811250000000001\n"
     ]
    }
   ],
   "source": [
    "print(rr.intercept_)"
   ]
  },
  {
   "cell_type": "code",
   "execution_count": 35,
   "id": "9cddd6fb",
   "metadata": {},
   "outputs": [
    {
     "name": "stdout",
     "output_type": "stream",
     "text": [
      "[4.09039051 2.71071608 0.05528077]\n"
     ]
    }
   ],
   "source": [
    "print(rr.coef_)"
   ]
  },
  {
   "cell_type": "markdown",
   "id": "ee09dd3b",
   "metadata": {},
   "source": [
    "# LASSO Regression"
   ]
  },
  {
   "cell_type": "code",
   "execution_count": 36,
   "id": "fffdb587",
   "metadata": {},
   "outputs": [
    {
     "name": "stdout",
     "output_type": "stream",
     "text": [
      "1.7429431206670047\n",
      "0.8952121941459656\n",
      "1.410339505592532\n",
      "0.8929128473727164\n"
     ]
    }
   ],
   "source": [
    "model_lasso = Lasso(alpha=0.1)\n",
    "model_lasso.fit(x_train, y_train) \n",
    "pred_train_lasso= model_lasso.predict(x_train)\n",
    "print(np.sqrt(m.mean_squared_error(y_train,pred_train_lasso)))\n",
    "print(r2_score(y_train, pred_train_lasso))\n",
    "\n",
    "pred_test_lasso= model_lasso.predict(x_test)\n",
    "print(np.sqrt(m.mean_squared_error(y_test,pred_test_lasso))) \n",
    "print(r2_score(y_test, pred_test_lasso))"
   ]
  },
  {
   "cell_type": "code",
   "execution_count": 37,
   "id": "c6b1171b",
   "metadata": {},
   "outputs": [
    {
     "name": "stdout",
     "output_type": "stream",
     "text": [
      "13.811250000000001\n"
     ]
    }
   ],
   "source": [
    "print(model_lasso.intercept_)"
   ]
  },
  {
   "cell_type": "code",
   "execution_count": 38,
   "id": "9a7616c5",
   "metadata": {},
   "outputs": [
    {
     "name": "stdout",
     "output_type": "stream",
     "text": [
      "[4.00235498 2.64195196 0.        ]\n"
     ]
    }
   ],
   "source": [
    "print(model_lasso.coef_)"
   ]
  },
  {
   "cell_type": "code",
   "execution_count": null,
   "id": "772f6dab",
   "metadata": {},
   "outputs": [],
   "source": []
  },
  {
   "cell_type": "code",
   "execution_count": null,
   "id": "d1e9431a",
   "metadata": {},
   "outputs": [],
   "source": []
  },
  {
   "cell_type": "code",
   "execution_count": null,
   "id": "23455c23",
   "metadata": {},
   "outputs": [],
   "source": []
  }
 ],
 "metadata": {
  "kernelspec": {
   "display_name": "Python 3 (ipykernel)",
   "language": "python",
   "name": "python3"
  },
  "language_info": {
   "codemirror_mode": {
    "name": "ipython",
    "version": 3
   },
   "file_extension": ".py",
   "mimetype": "text/x-python",
   "name": "python",
   "nbconvert_exporter": "python",
   "pygments_lexer": "ipython3",
   "version": "3.10.4"
  }
 },
 "nbformat": 4,
 "nbformat_minor": 5
}
