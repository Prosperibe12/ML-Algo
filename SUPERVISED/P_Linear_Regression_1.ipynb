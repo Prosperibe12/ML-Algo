{
 "cells": [
  {
   "cell_type": "markdown",
   "id": "3ec12898-bf2a-4945-bb7c-5b0258b95951",
   "metadata": {},
   "source": [
    "### ML Linear Regression\n",
    "* Predict Canada per Capita income"
   ]
  },
  {
   "cell_type": "code",
   "execution_count": 20,
   "id": "0d517f06-fba5-427c-93d8-73a3fc8d0b25",
   "metadata": {},
   "outputs": [],
   "source": [
    "# Import Libraries\n",
    "import pandas as pd\n",
    "import numpy as np\n",
    "import matplotlib.pyplot as plt\n",
    "from sklearn.model_selection import train_test_split\n",
    "from sklearn.linear_model import LinearRegression\n",
    "from sklearn.metrics import (mean_absolute_error, mean_squared_error, r2_score)"
   ]
  },
  {
   "cell_type": "markdown",
   "id": "23622526-4627-49d7-9e37-267af7838b15",
   "metadata": {},
   "source": [
    "#### Import Data and Perform EDA"
   ]
  },
  {
   "cell_type": "code",
   "execution_count": 3,
   "id": "ddb289a9-6e9c-4269-bc4c-793a478827f0",
   "metadata": {},
   "outputs": [
    {
     "data": {
      "text/html": [
       "<div>\n",
       "<style scoped>\n",
       "    .dataframe tbody tr th:only-of-type {\n",
       "        vertical-align: middle;\n",
       "    }\n",
       "\n",
       "    .dataframe tbody tr th {\n",
       "        vertical-align: top;\n",
       "    }\n",
       "\n",
       "    .dataframe thead th {\n",
       "        text-align: right;\n",
       "    }\n",
       "</style>\n",
       "<table border=\"1\" class=\"dataframe\">\n",
       "  <thead>\n",
       "    <tr style=\"text-align: right;\">\n",
       "      <th></th>\n",
       "      <th>year</th>\n",
       "      <th>per capita income (US$)</th>\n",
       "    </tr>\n",
       "  </thead>\n",
       "  <tbody>\n",
       "    <tr>\n",
       "      <th>0</th>\n",
       "      <td>1970</td>\n",
       "      <td>3399.299037</td>\n",
       "    </tr>\n",
       "    <tr>\n",
       "      <th>1</th>\n",
       "      <td>1971</td>\n",
       "      <td>3768.297935</td>\n",
       "    </tr>\n",
       "    <tr>\n",
       "      <th>2</th>\n",
       "      <td>1972</td>\n",
       "      <td>4251.175484</td>\n",
       "    </tr>\n",
       "    <tr>\n",
       "      <th>3</th>\n",
       "      <td>1973</td>\n",
       "      <td>4804.463248</td>\n",
       "    </tr>\n",
       "    <tr>\n",
       "      <th>4</th>\n",
       "      <td>1974</td>\n",
       "      <td>5576.514583</td>\n",
       "    </tr>\n",
       "  </tbody>\n",
       "</table>\n",
       "</div>"
      ],
      "text/plain": [
       "   year  per capita income (US$)\n",
       "0  1970              3399.299037\n",
       "1  1971              3768.297935\n",
       "2  1972              4251.175484\n",
       "3  1973              4804.463248\n",
       "4  1974              5576.514583"
      ]
     },
     "execution_count": 3,
     "metadata": {},
     "output_type": "execute_result"
    }
   ],
   "source": [
    "# Read CSV\n",
    "df = pd.read_csv(\"../DATASET/canada_per_capita.csv\")\n",
    "df.head()"
   ]
  },
  {
   "cell_type": "code",
   "execution_count": 4,
   "id": "863509f8-1650-46d2-b683-a7bad87beca6",
   "metadata": {},
   "outputs": [
    {
     "data": {
      "text/plain": [
       "(47, 2)"
      ]
     },
     "execution_count": 4,
     "metadata": {},
     "output_type": "execute_result"
    }
   ],
   "source": [
    "# Check dimension\n",
    "df.shape"
   ]
  },
  {
   "cell_type": "code",
   "execution_count": 5,
   "id": "c37460ca-f3e3-44ce-b2a4-67e0c34fa0e3",
   "metadata": {},
   "outputs": [
    {
     "data": {
      "text/plain": [
       "Index(['year', 'per capita income (US$)'], dtype='object')"
      ]
     },
     "execution_count": 5,
     "metadata": {},
     "output_type": "execute_result"
    }
   ],
   "source": [
    "# Check column names\n",
    "df.columns"
   ]
  },
  {
   "cell_type": "code",
   "execution_count": 6,
   "id": "5c5a8fe2-10b0-4ce5-ae11-b2a8db469902",
   "metadata": {},
   "outputs": [
    {
     "name": "stdout",
     "output_type": "stream",
     "text": [
      "<class 'pandas.core.frame.DataFrame'>\n",
      "RangeIndex: 47 entries, 0 to 46\n",
      "Data columns (total 2 columns):\n",
      " #   Column                   Non-Null Count  Dtype  \n",
      "---  ------                   --------------  -----  \n",
      " 0   year                     47 non-null     int64  \n",
      " 1   per capita income (US$)  47 non-null     float64\n",
      "dtypes: float64(1), int64(1)\n",
      "memory usage: 880.0 bytes\n"
     ]
    }
   ],
   "source": [
    "# Check Info\n",
    "df.info()"
   ]
  },
  {
   "cell_type": "code",
   "execution_count": 7,
   "id": "7df9614c-e347-4c0a-b71e-d2f84eaa381d",
   "metadata": {},
   "outputs": [
    {
     "data": {
      "text/html": [
       "<div>\n",
       "<style scoped>\n",
       "    .dataframe tbody tr th:only-of-type {\n",
       "        vertical-align: middle;\n",
       "    }\n",
       "\n",
       "    .dataframe tbody tr th {\n",
       "        vertical-align: top;\n",
       "    }\n",
       "\n",
       "    .dataframe thead th {\n",
       "        text-align: right;\n",
       "    }\n",
       "</style>\n",
       "<table border=\"1\" class=\"dataframe\">\n",
       "  <thead>\n",
       "    <tr style=\"text-align: right;\">\n",
       "      <th></th>\n",
       "      <th>count</th>\n",
       "      <th>mean</th>\n",
       "      <th>std</th>\n",
       "      <th>min</th>\n",
       "      <th>25%</th>\n",
       "      <th>50%</th>\n",
       "      <th>75%</th>\n",
       "      <th>max</th>\n",
       "    </tr>\n",
       "  </thead>\n",
       "  <tbody>\n",
       "    <tr>\n",
       "      <th>year</th>\n",
       "      <td>47.0</td>\n",
       "      <td>1993.000000</td>\n",
       "      <td>13.711309</td>\n",
       "      <td>1970.000000</td>\n",
       "      <td>1981.500000</td>\n",
       "      <td>1993.00000</td>\n",
       "      <td>2004.50000</td>\n",
       "      <td>2016.00000</td>\n",
       "    </tr>\n",
       "    <tr>\n",
       "      <th>per capita income (US$)</th>\n",
       "      <td>47.0</td>\n",
       "      <td>18920.137063</td>\n",
       "      <td>12034.679438</td>\n",
       "      <td>3399.299037</td>\n",
       "      <td>9526.914515</td>\n",
       "      <td>16426.72548</td>\n",
       "      <td>27458.60142</td>\n",
       "      <td>42676.46837</td>\n",
       "    </tr>\n",
       "  </tbody>\n",
       "</table>\n",
       "</div>"
      ],
      "text/plain": [
       "                         count          mean           std          min  \\\n",
       "year                      47.0   1993.000000     13.711309  1970.000000   \n",
       "per capita income (US$)   47.0  18920.137063  12034.679438  3399.299037   \n",
       "\n",
       "                                 25%          50%          75%          max  \n",
       "year                     1981.500000   1993.00000   2004.50000   2016.00000  \n",
       "per capita income (US$)  9526.914515  16426.72548  27458.60142  42676.46837  "
      ]
     },
     "execution_count": 7,
     "metadata": {},
     "output_type": "execute_result"
    }
   ],
   "source": [
    "# Check Summary statistics\n",
    "df.describe().T"
   ]
  },
  {
   "cell_type": "code",
   "execution_count": 8,
   "id": "5656a73d-de4e-44e7-9e74-15aa4834df38",
   "metadata": {},
   "outputs": [
    {
     "data": {
      "text/plain": [
       "year                       0\n",
       "per capita income (US$)    0\n",
       "dtype: int64"
      ]
     },
     "execution_count": 8,
     "metadata": {},
     "output_type": "execute_result"
    }
   ],
   "source": [
    "# Check for Null Values\n",
    "df.isna().sum()"
   ]
  },
  {
   "cell_type": "code",
   "execution_count": 9,
   "id": "abb348c8-f4c7-4ab8-98ee-844fb5884a16",
   "metadata": {},
   "outputs": [
    {
     "data": {
      "text/html": [
       "<div>\n",
       "<style scoped>\n",
       "    .dataframe tbody tr th:only-of-type {\n",
       "        vertical-align: middle;\n",
       "    }\n",
       "\n",
       "    .dataframe tbody tr th {\n",
       "        vertical-align: top;\n",
       "    }\n",
       "\n",
       "    .dataframe thead th {\n",
       "        text-align: right;\n",
       "    }\n",
       "</style>\n",
       "<table border=\"1\" class=\"dataframe\">\n",
       "  <thead>\n",
       "    <tr style=\"text-align: right;\">\n",
       "      <th></th>\n",
       "      <th>year</th>\n",
       "      <th>per capita income (US$)</th>\n",
       "    </tr>\n",
       "  </thead>\n",
       "  <tbody>\n",
       "  </tbody>\n",
       "</table>\n",
       "</div>"
      ],
      "text/plain": [
       "Empty DataFrame\n",
       "Columns: [year, per capita income (US$)]\n",
       "Index: []"
      ]
     },
     "execution_count": 9,
     "metadata": {},
     "output_type": "execute_result"
    }
   ],
   "source": [
    "# Check for duplicated values\n",
    "df.loc[df.duplicated(subset=['year','per capita income (US$)'])]"
   ]
  },
  {
   "cell_type": "code",
   "execution_count": 134,
   "id": "c0601f65-5a2a-4ed9-8294-55a9074525c3",
   "metadata": {},
   "outputs": [
    {
     "data": {
      "text/plain": [
       "<Axes: xlabel='year'>"
      ]
     },
     "execution_count": 134,
     "metadata": {},
     "output_type": "execute_result"
    },
    {
     "data": {
      "image/png": "[encoded data removed]",
      "text/plain": [
       "<Figure size 432x288 with 1 Axes>"
      ]
     },
     "metadata": {
      "needs_background": "light"
     },
     "output_type": "display_data"
    }
   ],
   "source": [
    "# Make plot\n",
    "ax = df.plot.bar(x='year',y='per capita income (US$)')\n",
    "ax"
   ]
  },
  {
   "cell_type": "code",
   "execution_count": 135,
   "id": "ec96c46b-6488-4359-bc55-45d773453337",
   "metadata": {},
   "outputs": [
    {
     "data": {
      "image/png": "[encoded data removed]",
      "text/plain": [
       "<Figure size 432x288 with 1 Axes>"
      ]
     },
     "metadata": {
      "needs_background": "light"
     },
     "output_type": "display_data"
    }
   ],
   "source": [
    "plt.scatter(x=df['year'],y=df['per capita income (US$)'])\n",
    "plt.title(\"Canada per Capita Income\")\n",
    "plt.xlabel(\"Year\")\n",
    "plt.ylabel(\"per capita income (US$)\")\n",
    "plt.show()"
   ]
  },
  {
   "cell_type": "code",
   "execution_count": 10,
   "id": "239f5b55-f748-4363-a393-0c902912764e",
   "metadata": {},
   "outputs": [
    {
     "data": {
      "text/html": [
       "<div>\n",
       "<style scoped>\n",
       "    .dataframe tbody tr th:only-of-type {\n",
       "        vertical-align: middle;\n",
       "    }\n",
       "\n",
       "    .dataframe tbody tr th {\n",
       "        vertical-align: top;\n",
       "    }\n",
       "\n",
       "    .dataframe thead th {\n",
       "        text-align: right;\n",
       "    }\n",
       "</style>\n",
       "<table border=\"1\" class=\"dataframe\">\n",
       "  <thead>\n",
       "    <tr style=\"text-align: right;\">\n",
       "      <th></th>\n",
       "      <th>year</th>\n",
       "      <th>per capita income (US$)</th>\n",
       "    </tr>\n",
       "  </thead>\n",
       "  <tbody>\n",
       "    <tr>\n",
       "      <th>year</th>\n",
       "      <td>1.000000</td>\n",
       "      <td>0.943884</td>\n",
       "    </tr>\n",
       "    <tr>\n",
       "      <th>per capita income (US$)</th>\n",
       "      <td>0.943884</td>\n",
       "      <td>1.000000</td>\n",
       "    </tr>\n",
       "  </tbody>\n",
       "</table>\n",
       "</div>"
      ],
      "text/plain": [
       "                             year  per capita income (US$)\n",
       "year                     1.000000                 0.943884\n",
       "per capita income (US$)  0.943884                 1.000000"
      ]
     },
     "execution_count": 10,
     "metadata": {},
     "output_type": "execute_result"
    }
   ],
   "source": [
    "# Correlation\n",
    "df.corr().T"
   ]
  },
  {
   "cell_type": "markdown",
   "id": "11d5524b-a29c-4b4a-83a0-f78335b834ca",
   "metadata": {},
   "source": [
    "##### Apply ML Regression Model\n",
    "* Split Dataset to X & Y\n",
    "* Split Dataset for Model Train & Test"
   ]
  },
  {
   "cell_type": "code",
   "execution_count": 11,
   "id": "60a4fc91-3970-4bd3-ad3a-7c99d7a27f40",
   "metadata": {},
   "outputs": [
    {
     "data": {
      "text/html": [
       "<div>\n",
       "<style scoped>\n",
       "    .dataframe tbody tr th:only-of-type {\n",
       "        vertical-align: middle;\n",
       "    }\n",
       "\n",
       "    .dataframe tbody tr th {\n",
       "        vertical-align: top;\n",
       "    }\n",
       "\n",
       "    .dataframe thead th {\n",
       "        text-align: right;\n",
       "    }\n",
       "</style>\n",
       "<table border=\"1\" class=\"dataframe\">\n",
       "  <thead>\n",
       "    <tr style=\"text-align: right;\">\n",
       "      <th></th>\n",
       "      <th>year</th>\n",
       "      <th>per capita income (US$)</th>\n",
       "    </tr>\n",
       "  </thead>\n",
       "  <tbody>\n",
       "    <tr>\n",
       "      <th>0</th>\n",
       "      <td>1970</td>\n",
       "      <td>3399.299037</td>\n",
       "    </tr>\n",
       "    <tr>\n",
       "      <th>1</th>\n",
       "      <td>1971</td>\n",
       "      <td>3768.297935</td>\n",
       "    </tr>\n",
       "    <tr>\n",
       "      <th>2</th>\n",
       "      <td>1972</td>\n",
       "      <td>4251.175484</td>\n",
       "    </tr>\n",
       "    <tr>\n",
       "      <th>3</th>\n",
       "      <td>1973</td>\n",
       "      <td>4804.463248</td>\n",
       "    </tr>\n",
       "    <tr>\n",
       "      <th>4</th>\n",
       "      <td>1974</td>\n",
       "      <td>5576.514583</td>\n",
       "    </tr>\n",
       "    <tr>\n",
       "      <th>5</th>\n",
       "      <td>1975</td>\n",
       "      <td>5998.144346</td>\n",
       "    </tr>\n",
       "    <tr>\n",
       "      <th>6</th>\n",
       "      <td>1976</td>\n",
       "      <td>7062.131392</td>\n",
       "    </tr>\n",
       "    <tr>\n",
       "      <th>7</th>\n",
       "      <td>1977</td>\n",
       "      <td>7100.126170</td>\n",
       "    </tr>\n",
       "    <tr>\n",
       "      <th>8</th>\n",
       "      <td>1978</td>\n",
       "      <td>7247.967035</td>\n",
       "    </tr>\n",
       "    <tr>\n",
       "      <th>9</th>\n",
       "      <td>1979</td>\n",
       "      <td>7602.912681</td>\n",
       "    </tr>\n",
       "  </tbody>\n",
       "</table>\n",
       "</div>"
      ],
      "text/plain": [
       "   year  per capita income (US$)\n",
       "0  1970              3399.299037\n",
       "1  1971              3768.297935\n",
       "2  1972              4251.175484\n",
       "3  1973              4804.463248\n",
       "4  1974              5576.514583\n",
       "5  1975              5998.144346\n",
       "6  1976              7062.131392\n",
       "7  1977              7100.126170\n",
       "8  1978              7247.967035\n",
       "9  1979              7602.912681"
      ]
     },
     "execution_count": 11,
     "metadata": {},
     "output_type": "execute_result"
    }
   ],
   "source": [
    "# View dataset\n",
    "df.head(10)"
   ]
  },
  {
   "cell_type": "code",
   "execution_count": 14,
   "id": "e7a95da6-5991-4857-9d7f-2fd0e635f73c",
   "metadata": {},
   "outputs": [],
   "source": [
    "# Split dataset\n",
    "X=df.iloc[:,:1].values\n",
    "Y=df.iloc[:,1].values"
   ]
  },
  {
   "cell_type": "code",
   "execution_count": 16,
   "id": "50fb12bf-d8f9-4519-8f64-25ab652745db",
   "metadata": {},
   "outputs": [
    {
     "name": "stdout",
     "output_type": "stream",
     "text": [
      "[ 3399.299037  3768.297935  4251.175484  4804.463248  5576.514583\n",
      "  5998.144346  7062.131392  7100.12617   7247.967035  7602.912681\n",
      "  8355.96812   9434.390652  9619.438377 10416.53659  10790.32872\n",
      " 11018.95585  11482.89153  12974.80662  15080.28345  16426.72548\n",
      " 16838.6732   17266.09769  16412.08309  15875.58673  15755.82027\n",
      " 16369.31725  16699.82668  17310.75775  16622.67187  17581.02414\n",
      " 18987.38241  18601.39724  19232.17556  22739.42628  25719.14715\n",
      " 29198.05569  32738.2629   36144.48122  37446.48609  32755.17682\n",
      " 38420.52289  42334.71121  42665.25597  42676.46837  41039.8936\n",
      " 35175.18898  34229.19363 ]\n"
     ]
    }
   ],
   "source": [
    "print(Y)"
   ]
  },
  {
   "cell_type": "code",
   "execution_count": 17,
   "id": "dfe2f4d4-a75c-443b-a238-5b313088c6e9",
   "metadata": {},
   "outputs": [],
   "source": [
    "# split X & Y dataset for training and testing\n",
    "x_train, x_test, y_train, y_test = train_test_split(X,Y,test_size=0.2,random_state=0)"
   ]
  },
  {
   "cell_type": "markdown",
   "id": "93dff0ef-b9ac-40b8-8462-7f90cf905987",
   "metadata": {},
   "source": [
    "###### Creating a Linear Regression Model\n",
    "Using y=mx+c"
   ]
  },
  {
   "cell_type": "code",
   "execution_count": 18,
   "id": "154087c7-90e9-431b-8d29-0b40188b230f",
   "metadata": {},
   "outputs": [
    {
     "data": {
      "text/html": [
       "<style>#sk-container-id-1 {color: black;}#sk-container-id-1 pre{padding: 0;}#sk-container-id-1 div.sk-toggleable {background-color: white;}#sk-container-id-1 label.sk-toggleable__label {cursor: pointer;display: block;width: 100%;margin-bottom: 0;padding: 0.3em;box-sizing: border-box;text-align: center;}#sk-container-id-1 label.sk-toggleable__label-arrow:before {content: \"▸\";float: left;margin-right: 0.25em;color: #696969;}#sk-container-id-1 label.sk-toggleable__label-arrow:hover:before {color: black;}#sk-container-id-1 div.sk-estimator:hover label.sk-toggleable__label-arrow:before {color: black;}#sk-container-id-1 div.sk-toggleable__content {max-height: 0;max-width: 0;overflow: hidden;text-align: left;background-color: #f0f8ff;}#sk-container-id-1 div.sk-toggleable__content pre {margin: 0.2em;color: black;border-radius: 0.25em;background-color: #f0f8ff;}#sk-container-id-1 input.sk-toggleable__control:checked~div.sk-toggleable__content {max-height: 200px;max-width: 100%;overflow: auto;}#sk-container-id-1 input.sk-toggleable__control:checked~label.sk-toggleable__label-arrow:before {content: \"▾\";}#sk-container-id-1 div.sk-estimator input.sk-toggleable__control:checked~label.sk-toggleable__label {background-color: #d4ebff;}#sk-container-id-1 div.sk-label input.sk-toggleable__control:checked~label.sk-toggleable__label {background-color: #d4ebff;}#sk-container-id-1 input.sk-hidden--visually {border: 0;clip: rect(1px 1px 1px 1px);clip: rect(1px, 1px, 1px, 1px);height: 1px;margin: -1px;overflow: hidden;padding: 0;position: absolute;width: 1px;}#sk-container-id-1 div.sk-estimator {font-family: monospace;background-color: #f0f8ff;border: 1px dotted black;border-radius: 0.25em;box-sizing: border-box;margin-bottom: 0.5em;}#sk-container-id-1 div.sk-estimator:hover {background-color: #d4ebff;}#sk-container-id-1 div.sk-parallel-item::after {content: \"\";width: 100%;border-bottom: 1px solid gray;flex-grow: 1;}#sk-container-id-1 div.sk-label:hover label.sk-toggleable__label {background-color: #d4ebff;}#sk-container-id-1 div.sk-serial::before {content: \"\";position: absolute;border-left: 1px solid gray;box-sizing: border-box;top: 0;bottom: 0;left: 50%;z-index: 0;}#sk-container-id-1 div.sk-serial {display: flex;flex-direction: column;align-items: center;background-color: white;padding-right: 0.2em;padding-left: 0.2em;position: relative;}#sk-container-id-1 div.sk-item {position: relative;z-index: 1;}#sk-container-id-1 div.sk-parallel {display: flex;align-items: stretch;justify-content: center;background-color: white;position: relative;}#sk-container-id-1 div.sk-item::before, #sk-container-id-1 div.sk-parallel-item::before {content: \"\";position: absolute;border-left: 1px solid gray;box-sizing: border-box;top: 0;bottom: 0;left: 50%;z-index: -1;}#sk-container-id-1 div.sk-parallel-item {display: flex;flex-direction: column;z-index: 1;position: relative;background-color: white;}#sk-container-id-1 div.sk-parallel-item:first-child::after {align-self: flex-end;width: 50%;}#sk-container-id-1 div.sk-parallel-item:last-child::after {align-self: flex-start;width: 50%;}#sk-container-id-1 div.sk-parallel-item:only-child::after {width: 0;}#sk-container-id-1 div.sk-dashed-wrapped {border: 1px dashed gray;margin: 0 0.4em 0.5em 0.4em;box-sizing: border-box;padding-bottom: 0.4em;background-color: white;}#sk-container-id-1 div.sk-label label {font-family: monospace;font-weight: bold;display: inline-block;line-height: 1.2em;}#sk-container-id-1 div.sk-label-container {text-align: center;}#sk-container-id-1 div.sk-container {/* jupyter's `normalize.less` sets `[hidden] { display: none; }` but bootstrap.min.css set `[hidden] { display: none !important; }` so we also need the `!important` here to be able to override the default hidden behavior on the sphinx rendered scikit-learn.org. See: https://github.com/scikit-learn/scikit-learn/issues/21755 */display: inline-block !important;position: relative;}#sk-container-id-1 div.sk-text-repr-fallback {display: none;}</style><div id=\"sk-container-id-1\" class=\"sk-top-container\"><div class=\"sk-text-repr-fallback\"><pre>LinearRegression()</pre><b>In a Jupyter environment, please rerun this cell to show the HTML representation or trust the notebook. <br />On GitHub, the HTML representation is unable to render, please try loading this page with nbviewer.org.</b></div><div class=\"sk-container\" hidden><div class=\"sk-item\"><div class=\"sk-estimator sk-toggleable\"><input class=\"sk-toggleable__control sk-hidden--visually\" id=\"sk-estimator-id-1\" type=\"checkbox\" checked><label for=\"sk-estimator-id-1\" class=\"sk-toggleable__label sk-toggleable__label-arrow\">LinearRegression</label><div class=\"sk-toggleable__content\"><pre>LinearRegression()</pre></div></div></div></div></div>"
      ],
      "text/plain": [
       "LinearRegression()"
      ]
     },
     "execution_count": 18,
     "metadata": {},
     "output_type": "execute_result"
    }
   ],
   "source": [
    "# Instantiate the LinearRegression and train the model\n",
    "regression = LinearRegression()\n",
    "regression.fit(x_train,y_train)"
   ]
  },
  {
   "cell_type": "code",
   "execution_count": 19,
   "id": "6ee816c5-ffa9-4421-b2af-d1891909c75d",
   "metadata": {},
   "outputs": [
    {
     "name": "stdout",
     "output_type": "stream",
     "text": [
      "Coefficient [838.48247458]\n",
      "Intercept -1651800.0965383372\n"
     ]
    }
   ],
   "source": [
    "# The model returns a the (coefficient or slope) and the (intercept)\n",
    "print(\"Coefficient\",regression.coef_)\n",
    "print(\"Intercept\", regression.intercept_)"
   ]
  },
  {
   "cell_type": "markdown",
   "id": "cdc27961-193a-458e-ab2a-563aaa7f89f6",
   "metadata": {},
   "source": [
    "##### The Coefficient and Intercept can then be substituted into the equation\n",
    "y = mx + c\n",
    "* y = (838.482)* (Year) + (-1651800.096)"
   ]
  },
  {
   "cell_type": "code",
   "execution_count": 164,
   "id": "55a74760-aca4-467c-8c10-3f43b4ee3e77",
   "metadata": {},
   "outputs": [],
   "source": [
    "# predicting with the trained model\n",
    "y_predict = regression.predict(x_test)"
   ]
  },
  {
   "cell_type": "code",
   "execution_count": 165,
   "id": "3ed72a14-e58f-4878-acc9-70da7503c5ce",
   "metadata": {},
   "outputs": [
    {
     "name": "stdout",
     "output_type": "stream",
     "text": [
      "Predicted Y [23487.88766587 27680.30003875 25164.85261502  3364.30827603\n",
      " 15103.0629201   9233.68559806 35226.64230994 26003.3350896\n",
      " 18456.99281841  8395.20312349]\n",
      "Actual Y [16622.67187  22739.42628  18987.38241   5576.514583 15080.28345\n",
      "  9434.390652 42665.25597  18601.39724  16412.08309   8355.96812 ]\n"
     ]
    }
   ],
   "source": [
    "print(\"Predicted Y\",y_predict)\n",
    "print(\"Actual Y\",y_test)"
   ]
  },
  {
   "cell_type": "code",
   "execution_count": 145,
   "id": "00e295c5-beb2-42c3-ad3d-db6794d33d9d",
   "metadata": {},
   "outputs": [
    {
     "data": {
      "text/html": [
       "<div>\n",
       "<style scoped>\n",
       "    .dataframe tbody tr th:only-of-type {\n",
       "        vertical-align: middle;\n",
       "    }\n",
       "\n",
       "    .dataframe tbody tr th {\n",
       "        vertical-align: top;\n",
       "    }\n",
       "\n",
       "    .dataframe thead th {\n",
       "        text-align: right;\n",
       "    }\n",
       "</style>\n",
       "<table border=\"1\" class=\"dataframe\">\n",
       "  <thead>\n",
       "    <tr style=\"text-align: right;\">\n",
       "      <th></th>\n",
       "      <th>Predicted Y</th>\n",
       "      <th>Actual Y</th>\n",
       "    </tr>\n",
       "  </thead>\n",
       "  <tbody>\n",
       "    <tr>\n",
       "      <th>0</th>\n",
       "      <td>23487.887666</td>\n",
       "      <td>16622.671870</td>\n",
       "    </tr>\n",
       "    <tr>\n",
       "      <th>1</th>\n",
       "      <td>27680.300039</td>\n",
       "      <td>22739.426280</td>\n",
       "    </tr>\n",
       "    <tr>\n",
       "      <th>2</th>\n",
       "      <td>25164.852615</td>\n",
       "      <td>18987.382410</td>\n",
       "    </tr>\n",
       "    <tr>\n",
       "      <th>3</th>\n",
       "      <td>3364.308276</td>\n",
       "      <td>5576.514583</td>\n",
       "    </tr>\n",
       "    <tr>\n",
       "      <th>4</th>\n",
       "      <td>15103.062920</td>\n",
       "      <td>15080.283450</td>\n",
       "    </tr>\n",
       "    <tr>\n",
       "      <th>5</th>\n",
       "      <td>9233.685598</td>\n",
       "      <td>9434.390652</td>\n",
       "    </tr>\n",
       "    <tr>\n",
       "      <th>6</th>\n",
       "      <td>35226.642310</td>\n",
       "      <td>42665.255970</td>\n",
       "    </tr>\n",
       "    <tr>\n",
       "      <th>7</th>\n",
       "      <td>26003.335090</td>\n",
       "      <td>18601.397240</td>\n",
       "    </tr>\n",
       "    <tr>\n",
       "      <th>8</th>\n",
       "      <td>18456.992818</td>\n",
       "      <td>16412.083090</td>\n",
       "    </tr>\n",
       "    <tr>\n",
       "      <th>9</th>\n",
       "      <td>8395.203123</td>\n",
       "      <td>8355.968120</td>\n",
       "    </tr>\n",
       "  </tbody>\n",
       "</table>\n",
       "</div>"
      ],
      "text/plain": [
       "    Predicted Y      Actual Y\n",
       "0  23487.887666  16622.671870\n",
       "1  27680.300039  22739.426280\n",
       "2  25164.852615  18987.382410\n",
       "3   3364.308276   5576.514583\n",
       "4  15103.062920  15080.283450\n",
       "5   9233.685598   9434.390652\n",
       "6  35226.642310  42665.255970\n",
       "7  26003.335090  18601.397240\n",
       "8  18456.992818  16412.083090\n",
       "9   8395.203123   8355.968120"
      ]
     },
     "execution_count": 145,
     "metadata": {},
     "output_type": "execute_result"
    }
   ],
   "source": [
    "# Comparing the values the \n",
    "predict_df = pd.DataFrame({\n",
    "    \"Predicted Y\": y_predict,\n",
    "    \"Actual Y\": y_test\n",
    "}, columns=[\"Predicted Y\", \"Actual Y\"])\n",
    "predict_df"
   ]
  },
  {
   "cell_type": "code",
   "execution_count": 146,
   "id": "6b8e0d16-628a-4479-81f4-dd4b72d58989",
   "metadata": {},
   "outputs": [
    {
     "data": {
      "image/png": "[encoded data removed]",
      "text/plain": [
       "<Figure size 432x288 with 1 Axes>"
      ]
     },
     "metadata": {
      "needs_background": "light"
     },
     "output_type": "display_data"
    }
   ],
   "source": [
    "# Plot the x_test and y_predict\n",
    "plt.plot(x_train,regression.predict(x_train),color='red')\n",
    "plt.scatter(x=df['year'],y=df['per capita income (US$)'])\n",
    "plt.title('Per Capita Income')\n",
    "plt.xlabel('Year')\n",
    "plt.ylabel('Per Capita Income (USD)')\n",
    "plt.show()"
   ]
  },
  {
   "cell_type": "markdown",
   "id": "55d83980-26c4-423a-accd-068413d095bd",
   "metadata": {},
   "source": [
    "### Model Evaluation Metrics\n",
    "* Mean Absolute Error\n",
    "* Mean Squared Error\n",
    "* Root Mean Squared Error\n",
    "* R Squared Score"
   ]
  },
  {
   "cell_type": "code",
   "execution_count": 148,
   "id": "8b8809a0-d561-439a-9c26-1e063d62475b",
   "metadata": {},
   "outputs": [
    {
     "name": "stdout",
     "output_type": "stream",
     "text": [
      "Mean Absolute Error 3734.394683220244\n"
     ]
    }
   ],
   "source": [
    "# Mean Absolute Error\n",
    "mean_abs_error = mean_absolute_error(y_test,y_predict)\n",
    "print(\"Mean Absolute Error\",mean_abs_error)"
   ]
  },
  {
   "cell_type": "code",
   "execution_count": 149,
   "id": "c41d5b7b-cb1c-4e42-9b36-00a6c11971ba",
   "metadata": {},
   "outputs": [
    {
     "name": "stdout",
     "output_type": "stream",
     "text": [
      "Mean Squared Error 22894407.002098337\n"
     ]
    }
   ],
   "source": [
    "# Mean Squared Error\n",
    "mean_sqr_error = mean_squared_error(y_test,y_predict)\n",
    "print(\"Mean Squared Error\",mean_sqr_error)"
   ]
  },
  {
   "cell_type": "code",
   "execution_count": 150,
   "id": "aca2b145-1ed8-4d7e-b413-83cba0b20c38",
   "metadata": {},
   "outputs": [
    {
     "name": "stdout",
     "output_type": "stream",
     "text": [
      "Root Mean Squared Error 4784.810027796123\n"
     ]
    }
   ],
   "source": [
    "# Root Mean Squared Error\n",
    "root_mean_sqr_error = np.sqrt(mean_sqr_error)\n",
    "print(\"Root Mean Squared Error\",root_mean_sqr_error)"
   ]
  },
  {
   "cell_type": "code",
   "execution_count": 151,
   "id": "2ddc5f1c-4b4f-4941-adc5-57e2ccdff946",
   "metadata": {},
   "outputs": [
    {
     "name": "stdout",
     "output_type": "stream",
     "text": [
      "R Squared 0.7622063756926367\n"
     ]
    }
   ],
   "source": [
    "# R Squared Score\n",
    "SSR = sum((y_test - y_predict)**2)\n",
    "SSM = sum((y_test - y_test.mean())**2)\n",
    "r_squared = 1 - SSR/SSM\n",
    "print(\"R Squared\",r_squared)"
   ]
  },
  {
   "cell_type": "code",
   "execution_count": 154,
   "id": "e6e5b40a-6d82-4c5c-947f-f8ea52f01297",
   "metadata": {},
   "outputs": [
    {
     "name": "stdout",
     "output_type": "stream",
     "text": [
      "R2 0.7622063756926367\n"
     ]
    }
   ],
   "source": [
    "# using the inbuilt r-squared score method\n",
    "r2 = r2_score(y_test,y_predict)\n",
    "print(\"R2\",r2)"
   ]
  },
  {
   "cell_type": "code",
   "execution_count": 168,
   "id": "1168a909-42cb-4661-9c7d-429e0977722a",
   "metadata": {},
   "outputs": [
    {
     "name": "stdout",
     "output_type": "stream",
     "text": [
      "The Coefficient of determinant for train score:  0.9109145155451552\n",
      "The Coefficient of determinant for test score:  0.7622063756926367\n"
     ]
    }
   ],
   "source": [
    "# using regression score\n",
    "train_score = regression.score(x_train,y_train)\n",
    "test_score = regression.score(x_test,y_test)\n",
    "print(\"The Coefficient of determinant for train score: \",train_score)\n",
    "print(\"The Coefficient of determinant for test score: \",test_score)"
   ]
  },
  {
   "cell_type": "markdown",
   "id": "c7058416-e48b-4779-b53b-f81d57248f32",
   "metadata": {},
   "source": [
    "##### Prediction"
   ]
  },
  {
   "cell_type": "code",
   "execution_count": 167,
   "id": "1ad344c8-a71d-4b17-a570-e5d397dd87a8",
   "metadata": {},
   "outputs": [
    {
     "data": {
      "text/plain": [
       "array([47803.87942859])"
      ]
     },
     "execution_count": 167,
     "metadata": {},
     "output_type": "execute_result"
    }
   ],
   "source": [
    "pred = regression.predict([[2027]])\n",
    "pred"
   ]
  }
 ],
 "metadata": {
  "kernelspec": {
   "display_name": "Python 3 (ipykernel)",
   "language": "python",
   "name": "python3"
  },
  "language_info": {
   "codemirror_mode": {
    "name": "ipython",
    "version": 3
   },
   "file_extension": ".py",
   "mimetype": "text/x-python",
   "name": "python",
   "nbconvert_exporter": "python",
   "pygments_lexer": "ipython3",
   "version": "3.10.4"
  }
 },
 "nbformat": 4,
 "nbformat_minor": 5
}
