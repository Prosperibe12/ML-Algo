{
 "cells": [
  {
   "cell_type": "markdown",
   "id": "0e8bc136-032a-4476-8422-ef593ebbe1dd",
   "metadata": {},
   "source": [
    "### Problem Statement\n",
    "* Predict the Price of houses based on available Dataset"
   ]
  },
  {
   "cell_type": "markdown",
   "id": "a635627c-bb7c-4960-9273-40a0941bdbf3",
   "metadata": {},
   "source": [
    "- Linear Regression Model will be used since we are predicting a continuos output value"
   ]
  },
  {
   "cell_type": "code",
   "execution_count": 1,
   "id": "dfbb87aa-f83e-4232-a99e-168f14f51eba",
   "metadata": {},
   "outputs": [],
   "source": [
    "# Import Libraries\n",
    "import pandas as pd\n",
    "import numpy as np\n",
    "import matplotlib.pyplot as plt\n",
    "import seaborn as sns\n",
    "from sklearn.model_selection import train_test_split\n",
    "from sklearn.preprocessing import StandardScaler\n",
    "from sklearn.linear_model import (LinearRegression, LassoCV, RidgeCV)\n",
    "from sklearn.metrics import (mean_absolute_error, mean_squared_error, r2_score)"
   ]
  },
  {
   "cell_type": "code",
   "execution_count": 2,
   "id": "6e4957ab-1d6e-4084-ac7d-f31ec8b46325",
   "metadata": {},
   "outputs": [
    {
     "data": {
      "text/html": [
       "<div>\n",
       "<style scoped>\n",
       "    .dataframe tbody tr th:only-of-type {\n",
       "        vertical-align: middle;\n",
       "    }\n",
       "\n",
       "    .dataframe tbody tr th {\n",
       "        vertical-align: top;\n",
       "    }\n",
       "\n",
       "    .dataframe thead th {\n",
       "        text-align: right;\n",
       "    }\n",
       "</style>\n",
       "<table border=\"1\" class=\"dataframe\">\n",
       "  <thead>\n",
       "    <tr style=\"text-align: right;\">\n",
       "      <th></th>\n",
       "      <th>bath</th>\n",
       "      <th>balcony</th>\n",
       "      <th>price</th>\n",
       "      <th>total_sqft_int</th>\n",
       "      <th>bhk</th>\n",
       "      <th>price_per_sqft</th>\n",
       "    </tr>\n",
       "  </thead>\n",
       "  <tbody>\n",
       "    <tr>\n",
       "      <th>0</th>\n",
       "      <td>3</td>\n",
       "      <td>2.0</td>\n",
       "      <td>150.0</td>\n",
       "      <td>1672.0</td>\n",
       "      <td>3</td>\n",
       "      <td>8971.291866</td>\n",
       "    </tr>\n",
       "    <tr>\n",
       "      <th>1</th>\n",
       "      <td>3</td>\n",
       "      <td>3.0</td>\n",
       "      <td>149.0</td>\n",
       "      <td>1750.0</td>\n",
       "      <td>3</td>\n",
       "      <td>8514.285714</td>\n",
       "    </tr>\n",
       "    <tr>\n",
       "      <th>2</th>\n",
       "      <td>3</td>\n",
       "      <td>2.0</td>\n",
       "      <td>150.0</td>\n",
       "      <td>1750.0</td>\n",
       "      <td>3</td>\n",
       "      <td>8571.428571</td>\n",
       "    </tr>\n",
       "    <tr>\n",
       "      <th>3</th>\n",
       "      <td>2</td>\n",
       "      <td>2.0</td>\n",
       "      <td>40.0</td>\n",
       "      <td>1250.0</td>\n",
       "      <td>2</td>\n",
       "      <td>3200.000000</td>\n",
       "    </tr>\n",
       "    <tr>\n",
       "      <th>4</th>\n",
       "      <td>2</td>\n",
       "      <td>2.0</td>\n",
       "      <td>83.0</td>\n",
       "      <td>1200.0</td>\n",
       "      <td>2</td>\n",
       "      <td>6916.666667</td>\n",
       "    </tr>\n",
       "  </tbody>\n",
       "</table>\n",
       "</div>"
      ],
      "text/plain": [
       "   bath  balcony  price  total_sqft_int  bhk  price_per_sqft\n",
       "0     3      2.0  150.0          1672.0    3     8971.291866\n",
       "1     3      3.0  149.0          1750.0    3     8514.285714\n",
       "2     3      2.0  150.0          1750.0    3     8571.428571\n",
       "3     2      2.0   40.0          1250.0    2     3200.000000\n",
       "4     2      2.0   83.0          1200.0    2     6916.666667"
      ]
     },
     "execution_count": 2,
     "metadata": {},
     "output_type": "execute_result"
    }
   ],
   "source": [
    "# Load Dataset\n",
    "df = pd.read_csv(\"../DATASET/house_price_data.csv\")\n",
    "df.head()"
   ]
  },
  {
   "cell_type": "markdown",
   "id": "690a110d-8c4e-45c3-bda8-34bf9223586e",
   "metadata": {},
   "source": [
    "##### Perform Exploratory Data Analysis"
   ]
  },
  {
   "cell_type": "code",
   "execution_count": 3,
   "id": "a35a5ca8-d020-4221-8458-cf6d0f2880d5",
   "metadata": {},
   "outputs": [
    {
     "data": {
      "text/plain": [
       "(7120, 6)"
      ]
     },
     "execution_count": 3,
     "metadata": {},
     "output_type": "execute_result"
    }
   ],
   "source": [
    "# Check dimension of dataset\n",
    "df.shape"
   ]
  },
  {
   "cell_type": "code",
   "execution_count": 4,
   "id": "97f01f25-33d7-43f4-a734-a52d7c02edf2",
   "metadata": {},
   "outputs": [
    {
     "data": {
      "text/plain": [
       "Index(['bath', 'balcony', 'price', 'total_sqft_int', 'bhk', 'price_per_sqft'], dtype='object')"
      ]
     },
     "execution_count": 4,
     "metadata": {},
     "output_type": "execute_result"
    }
   ],
   "source": [
    "# check columns\n",
    "df.columns"
   ]
  },
  {
   "cell_type": "code",
   "execution_count": 5,
   "id": "31f5a9eb-0771-465c-9fc1-845e99f31b44",
   "metadata": {},
   "outputs": [
    {
     "name": "stdout",
     "output_type": "stream",
     "text": [
      "<class 'pandas.core.frame.DataFrame'>\n",
      "RangeIndex: 7120 entries, 0 to 7119\n",
      "Data columns (total 6 columns):\n",
      " #   Column          Non-Null Count  Dtype  \n",
      "---  ------          --------------  -----  \n",
      " 0   bath            7120 non-null   int64  \n",
      " 1   balcony         7120 non-null   float64\n",
      " 2   price           7120 non-null   float64\n",
      " 3   total_sqft_int  7120 non-null   float64\n",
      " 4   bhk             7120 non-null   int64  \n",
      " 5   price_per_sqft  7120 non-null   float64\n",
      "dtypes: float64(4), int64(2)\n",
      "memory usage: 333.9 KB\n"
     ]
    }
   ],
   "source": [
    "# Check summary info\n",
    "df.info()"
   ]
  },
  {
   "cell_type": "code",
   "execution_count": 6,
   "id": "da9d1037-ddd4-4f4f-8518-791ca76445d6",
   "metadata": {},
   "outputs": [
    {
     "data": {
      "text/html": [
       "<div>\n",
       "<style scoped>\n",
       "    .dataframe tbody tr th:only-of-type {\n",
       "        vertical-align: middle;\n",
       "    }\n",
       "\n",
       "    .dataframe tbody tr th {\n",
       "        vertical-align: top;\n",
       "    }\n",
       "\n",
       "    .dataframe thead th {\n",
       "        text-align: right;\n",
       "    }\n",
       "</style>\n",
       "<table border=\"1\" class=\"dataframe\">\n",
       "  <thead>\n",
       "    <tr style=\"text-align: right;\">\n",
       "      <th></th>\n",
       "      <th>bath</th>\n",
       "      <th>balcony</th>\n",
       "      <th>price</th>\n",
       "      <th>total_sqft_int</th>\n",
       "      <th>bhk</th>\n",
       "      <th>price_per_sqft</th>\n",
       "    </tr>\n",
       "  </thead>\n",
       "  <tbody>\n",
       "    <tr>\n",
       "      <th>count</th>\n",
       "      <td>7120.000000</td>\n",
       "      <td>7120.000000</td>\n",
       "      <td>7120.000000</td>\n",
       "      <td>7120.000000</td>\n",
       "      <td>7120.000000</td>\n",
       "      <td>7120.000000</td>\n",
       "    </tr>\n",
       "    <tr>\n",
       "      <th>mean</th>\n",
       "      <td>2.390871</td>\n",
       "      <td>1.572759</td>\n",
       "      <td>96.454991</td>\n",
       "      <td>1479.729806</td>\n",
       "      <td>2.465169</td>\n",
       "      <td>5923.806855</td>\n",
       "    </tr>\n",
       "    <tr>\n",
       "      <th>std</th>\n",
       "      <td>0.876822</td>\n",
       "      <td>0.770583</td>\n",
       "      <td>116.185034</td>\n",
       "      <td>913.779769</td>\n",
       "      <td>0.841520</td>\n",
       "      <td>2556.650935</td>\n",
       "    </tr>\n",
       "    <tr>\n",
       "      <th>min</th>\n",
       "      <td>1.000000</td>\n",
       "      <td>0.000000</td>\n",
       "      <td>10.000000</td>\n",
       "      <td>350.000000</td>\n",
       "      <td>1.000000</td>\n",
       "      <td>1250.000000</td>\n",
       "    </tr>\n",
       "    <tr>\n",
       "      <th>25%</th>\n",
       "      <td>2.000000</td>\n",
       "      <td>1.000000</td>\n",
       "      <td>49.230000</td>\n",
       "      <td>1100.000000</td>\n",
       "      <td>2.000000</td>\n",
       "      <td>4416.761042</td>\n",
       "    </tr>\n",
       "    <tr>\n",
       "      <th>50%</th>\n",
       "      <td>2.000000</td>\n",
       "      <td>2.000000</td>\n",
       "      <td>69.000000</td>\n",
       "      <td>1255.000000</td>\n",
       "      <td>2.000000</td>\n",
       "      <td>5417.855612</td>\n",
       "    </tr>\n",
       "    <tr>\n",
       "      <th>75%</th>\n",
       "      <td>3.000000</td>\n",
       "      <td>2.000000</td>\n",
       "      <td>104.000000</td>\n",
       "      <td>1640.250000</td>\n",
       "      <td>3.000000</td>\n",
       "      <td>6618.285651</td>\n",
       "    </tr>\n",
       "    <tr>\n",
       "      <th>max</th>\n",
       "      <td>9.000000</td>\n",
       "      <td>3.000000</td>\n",
       "      <td>2912.000000</td>\n",
       "      <td>30400.000000</td>\n",
       "      <td>9.000000</td>\n",
       "      <td>35000.000000</td>\n",
       "    </tr>\n",
       "  </tbody>\n",
       "</table>\n",
       "</div>"
      ],
      "text/plain": [
       "              bath      balcony        price  total_sqft_int          bhk  \\\n",
       "count  7120.000000  7120.000000  7120.000000     7120.000000  7120.000000   \n",
       "mean      2.390871     1.572759    96.454991     1479.729806     2.465169   \n",
       "std       0.876822     0.770583   116.185034      913.779769     0.841520   \n",
       "min       1.000000     0.000000    10.000000      350.000000     1.000000   \n",
       "25%       2.000000     1.000000    49.230000     1100.000000     2.000000   \n",
       "50%       2.000000     2.000000    69.000000     1255.000000     2.000000   \n",
       "75%       3.000000     2.000000   104.000000     1640.250000     3.000000   \n",
       "max       9.000000     3.000000  2912.000000    30400.000000     9.000000   \n",
       "\n",
       "       price_per_sqft  \n",
       "count     7120.000000  \n",
       "mean      5923.806855  \n",
       "std       2556.650935  \n",
       "min       1250.000000  \n",
       "25%       4416.761042  \n",
       "50%       5417.855612  \n",
       "75%       6618.285651  \n",
       "max      35000.000000  "
      ]
     },
     "execution_count": 6,
     "metadata": {},
     "output_type": "execute_result"
    }
   ],
   "source": [
    "# Check summary statistics\n",
    "df.describe()"
   ]
  },
  {
   "cell_type": "code",
   "execution_count": 7,
   "id": "c384af6a-c406-41bc-99a9-bf851b533df6",
   "metadata": {},
   "outputs": [
    {
     "data": {
      "text/plain": [
       "bath              False\n",
       "balcony           False\n",
       "price             False\n",
       "total_sqft_int    False\n",
       "bhk               False\n",
       "price_per_sqft    False\n",
       "dtype: bool"
      ]
     },
     "execution_count": 7,
     "metadata": {},
     "output_type": "execute_result"
    }
   ],
   "source": [
    "# Check null values\n",
    "df.isna().any()"
   ]
  },
  {
   "cell_type": "code",
   "execution_count": 8,
   "id": "77160ba3-d616-405f-ba61-140d6beb89e2",
   "metadata": {},
   "outputs": [
    {
     "data": {
      "text/html": [
       "<div>\n",
       "<style scoped>\n",
       "    .dataframe tbody tr th:only-of-type {\n",
       "        vertical-align: middle;\n",
       "    }\n",
       "\n",
       "    .dataframe tbody tr th {\n",
       "        vertical-align: top;\n",
       "    }\n",
       "\n",
       "    .dataframe thead th {\n",
       "        text-align: right;\n",
       "    }\n",
       "</style>\n",
       "<table border=\"1\" class=\"dataframe\">\n",
       "  <thead>\n",
       "    <tr style=\"text-align: right;\">\n",
       "      <th></th>\n",
       "      <th>bath</th>\n",
       "      <th>balcony</th>\n",
       "      <th>price</th>\n",
       "      <th>total_sqft_int</th>\n",
       "      <th>bhk</th>\n",
       "      <th>price_per_sqft</th>\n",
       "    </tr>\n",
       "  </thead>\n",
       "  <tbody>\n",
       "    <tr>\n",
       "      <th>58</th>\n",
       "      <td>3</td>\n",
       "      <td>2.0</td>\n",
       "      <td>90.00</td>\n",
       "      <td>1480.0</td>\n",
       "      <td>3</td>\n",
       "      <td>6081.081081</td>\n",
       "    </tr>\n",
       "    <tr>\n",
       "      <th>69</th>\n",
       "      <td>2</td>\n",
       "      <td>2.0</td>\n",
       "      <td>47.25</td>\n",
       "      <td>1350.0</td>\n",
       "      <td>3</td>\n",
       "      <td>3500.000000</td>\n",
       "    </tr>\n",
       "    <tr>\n",
       "      <th>72</th>\n",
       "      <td>2</td>\n",
       "      <td>2.0</td>\n",
       "      <td>47.25</td>\n",
       "      <td>1350.0</td>\n",
       "      <td>3</td>\n",
       "      <td>3500.000000</td>\n",
       "    </tr>\n",
       "    <tr>\n",
       "      <th>73</th>\n",
       "      <td>2</td>\n",
       "      <td>1.0</td>\n",
       "      <td>40.25</td>\n",
       "      <td>1150.0</td>\n",
       "      <td>2</td>\n",
       "      <td>3500.000000</td>\n",
       "    </tr>\n",
       "    <tr>\n",
       "      <th>111</th>\n",
       "      <td>2</td>\n",
       "      <td>1.0</td>\n",
       "      <td>62.80</td>\n",
       "      <td>1256.0</td>\n",
       "      <td>2</td>\n",
       "      <td>5000.000000</td>\n",
       "    </tr>\n",
       "    <tr>\n",
       "      <th>...</th>\n",
       "      <td>...</td>\n",
       "      <td>...</td>\n",
       "      <td>...</td>\n",
       "      <td>...</td>\n",
       "      <td>...</td>\n",
       "      <td>...</td>\n",
       "    </tr>\n",
       "    <tr>\n",
       "      <th>7073</th>\n",
       "      <td>2</td>\n",
       "      <td>2.0</td>\n",
       "      <td>45.60</td>\n",
       "      <td>1200.0</td>\n",
       "      <td>2</td>\n",
       "      <td>3800.000000</td>\n",
       "    </tr>\n",
       "    <tr>\n",
       "      <th>7075</th>\n",
       "      <td>2</td>\n",
       "      <td>2.0</td>\n",
       "      <td>44.08</td>\n",
       "      <td>1160.0</td>\n",
       "      <td>2</td>\n",
       "      <td>3800.000000</td>\n",
       "    </tr>\n",
       "    <tr>\n",
       "      <th>7107</th>\n",
       "      <td>3</td>\n",
       "      <td>3.0</td>\n",
       "      <td>140.00</td>\n",
       "      <td>1855.0</td>\n",
       "      <td>3</td>\n",
       "      <td>7547.169811</td>\n",
       "    </tr>\n",
       "    <tr>\n",
       "      <th>7118</th>\n",
       "      <td>2</td>\n",
       "      <td>1.0</td>\n",
       "      <td>55.00</td>\n",
       "      <td>1000.0</td>\n",
       "      <td>2</td>\n",
       "      <td>5500.000000</td>\n",
       "    </tr>\n",
       "    <tr>\n",
       "      <th>7119</th>\n",
       "      <td>2</td>\n",
       "      <td>1.0</td>\n",
       "      <td>78.00</td>\n",
       "      <td>1400.0</td>\n",
       "      <td>3</td>\n",
       "      <td>5571.428571</td>\n",
       "    </tr>\n",
       "  </tbody>\n",
       "</table>\n",
       "<p>838 rows × 6 columns</p>\n",
       "</div>"
      ],
      "text/plain": [
       "      bath  balcony   price  total_sqft_int  bhk  price_per_sqft\n",
       "58       3      2.0   90.00          1480.0    3     6081.081081\n",
       "69       2      2.0   47.25          1350.0    3     3500.000000\n",
       "72       2      2.0   47.25          1350.0    3     3500.000000\n",
       "73       2      1.0   40.25          1150.0    2     3500.000000\n",
       "111      2      1.0   62.80          1256.0    2     5000.000000\n",
       "...    ...      ...     ...             ...  ...             ...\n",
       "7073     2      2.0   45.60          1200.0    2     3800.000000\n",
       "7075     2      2.0   44.08          1160.0    2     3800.000000\n",
       "7107     3      3.0  140.00          1855.0    3     7547.169811\n",
       "7118     2      1.0   55.00          1000.0    2     5500.000000\n",
       "7119     2      1.0   78.00          1400.0    3     5571.428571\n",
       "\n",
       "[838 rows x 6 columns]"
      ]
     },
     "execution_count": 8,
     "metadata": {},
     "output_type": "execute_result"
    }
   ],
   "source": [
    "# Check for duplicated values or row\n",
    "df.loc[df.duplicated(subset=['bath', 'balcony', 'price', 'total_sqft_int', 'bhk', 'price_per_sqft'])]"
   ]
  },
  {
   "cell_type": "code",
   "execution_count": 9,
   "id": "fbf54966-2f2f-45a5-a077-0fc180a89a11",
   "metadata": {},
   "outputs": [
    {
     "data": {
      "text/html": [
       "<div>\n",
       "<style scoped>\n",
       "    .dataframe tbody tr th:only-of-type {\n",
       "        vertical-align: middle;\n",
       "    }\n",
       "\n",
       "    .dataframe tbody tr th {\n",
       "        vertical-align: top;\n",
       "    }\n",
       "\n",
       "    .dataframe thead th {\n",
       "        text-align: right;\n",
       "    }\n",
       "</style>\n",
       "<table border=\"1\" class=\"dataframe\">\n",
       "  <thead>\n",
       "    <tr style=\"text-align: right;\">\n",
       "      <th></th>\n",
       "      <th>bath</th>\n",
       "      <th>balcony</th>\n",
       "      <th>price</th>\n",
       "      <th>total_sqft_int</th>\n",
       "      <th>bhk</th>\n",
       "      <th>price_per_sqft</th>\n",
       "    </tr>\n",
       "  </thead>\n",
       "  <tbody>\n",
       "    <tr>\n",
       "      <th>0</th>\n",
       "      <td>3</td>\n",
       "      <td>2.0</td>\n",
       "      <td>150.0</td>\n",
       "      <td>1672.0</td>\n",
       "      <td>3</td>\n",
       "      <td>8971.291866</td>\n",
       "    </tr>\n",
       "    <tr>\n",
       "      <th>1</th>\n",
       "      <td>3</td>\n",
       "      <td>3.0</td>\n",
       "      <td>149.0</td>\n",
       "      <td>1750.0</td>\n",
       "      <td>3</td>\n",
       "      <td>8514.285714</td>\n",
       "    </tr>\n",
       "    <tr>\n",
       "      <th>2</th>\n",
       "      <td>3</td>\n",
       "      <td>2.0</td>\n",
       "      <td>150.0</td>\n",
       "      <td>1750.0</td>\n",
       "      <td>3</td>\n",
       "      <td>8571.428571</td>\n",
       "    </tr>\n",
       "    <tr>\n",
       "      <th>3</th>\n",
       "      <td>2</td>\n",
       "      <td>2.0</td>\n",
       "      <td>40.0</td>\n",
       "      <td>1250.0</td>\n",
       "      <td>2</td>\n",
       "      <td>3200.000000</td>\n",
       "    </tr>\n",
       "    <tr>\n",
       "      <th>4</th>\n",
       "      <td>2</td>\n",
       "      <td>2.0</td>\n",
       "      <td>83.0</td>\n",
       "      <td>1200.0</td>\n",
       "      <td>2</td>\n",
       "      <td>6916.666667</td>\n",
       "    </tr>\n",
       "  </tbody>\n",
       "</table>\n",
       "</div>"
      ],
      "text/plain": [
       "   bath  balcony  price  total_sqft_int  bhk  price_per_sqft\n",
       "0     3      2.0  150.0          1672.0    3     8971.291866\n",
       "1     3      3.0  149.0          1750.0    3     8514.285714\n",
       "2     3      2.0  150.0          1750.0    3     8571.428571\n",
       "3     2      2.0   40.0          1250.0    2     3200.000000\n",
       "4     2      2.0   83.0          1200.0    2     6916.666667"
      ]
     },
     "execution_count": 9,
     "metadata": {},
     "output_type": "execute_result"
    }
   ],
   "source": [
    "# drop duplicates\n",
    "new_df = df.drop_duplicates(keep='first')\n",
    "new_df.head()"
   ]
  },
  {
   "cell_type": "code",
   "execution_count": 10,
   "id": "1bb53d67-c800-4cd2-a153-aff9b581bd54",
   "metadata": {},
   "outputs": [
    {
     "data": {
      "text/plain": [
       "0       False\n",
       "1       False\n",
       "2       False\n",
       "3       False\n",
       "4       False\n",
       "        ...  \n",
       "7113    False\n",
       "7114    False\n",
       "7115    False\n",
       "7116    False\n",
       "7117    False\n",
       "Length: 6282, dtype: bool"
      ]
     },
     "execution_count": 10,
     "metadata": {},
     "output_type": "execute_result"
    }
   ],
   "source": [
    "# Check for duplicate rows on new dataframe\n",
    "new_df.duplicated(subset=['bath', 'balcony', 'price', 'total_sqft_int', 'bhk', 'price_per_sqft'])"
   ]
  },
  {
   "cell_type": "code",
   "execution_count": 11,
   "id": "f21eb4eb-8454-4b7c-8b59-cc6120c47ec4",
   "metadata": {},
   "outputs": [
    {
     "data": {
      "text/html": [
       "<div>\n",
       "<style scoped>\n",
       "    .dataframe tbody tr th:only-of-type {\n",
       "        vertical-align: middle;\n",
       "    }\n",
       "\n",
       "    .dataframe tbody tr th {\n",
       "        vertical-align: top;\n",
       "    }\n",
       "\n",
       "    .dataframe thead th {\n",
       "        text-align: right;\n",
       "    }\n",
       "</style>\n",
       "<table border=\"1\" class=\"dataframe\">\n",
       "  <thead>\n",
       "    <tr style=\"text-align: right;\">\n",
       "      <th></th>\n",
       "      <th>bath</th>\n",
       "      <th>balcony</th>\n",
       "      <th>price</th>\n",
       "      <th>total_sqft_int</th>\n",
       "      <th>bhk</th>\n",
       "      <th>price_per_sqft</th>\n",
       "    </tr>\n",
       "  </thead>\n",
       "  <tbody>\n",
       "    <tr>\n",
       "      <th>count</th>\n",
       "      <td>6282.000000</td>\n",
       "      <td>6282.000000</td>\n",
       "      <td>6282.000000</td>\n",
       "      <td>6282.000000</td>\n",
       "      <td>6282.000000</td>\n",
       "      <td>6282.000000</td>\n",
       "    </tr>\n",
       "    <tr>\n",
       "      <th>mean</th>\n",
       "      <td>2.422159</td>\n",
       "      <td>1.577981</td>\n",
       "      <td>100.468874</td>\n",
       "      <td>1510.115153</td>\n",
       "      <td>2.496975</td>\n",
       "      <td>6036.373686</td>\n",
       "    </tr>\n",
       "    <tr>\n",
       "      <th>std</th>\n",
       "      <td>0.906067</td>\n",
       "      <td>0.786136</td>\n",
       "      <td>122.353500</td>\n",
       "      <td>959.170042</td>\n",
       "      <td>0.867467</td>\n",
       "      <td>2644.838512</td>\n",
       "    </tr>\n",
       "    <tr>\n",
       "      <th>min</th>\n",
       "      <td>1.000000</td>\n",
       "      <td>0.000000</td>\n",
       "      <td>10.000000</td>\n",
       "      <td>350.000000</td>\n",
       "      <td>1.000000</td>\n",
       "      <td>1250.000000</td>\n",
       "    </tr>\n",
       "    <tr>\n",
       "      <th>25%</th>\n",
       "      <td>2.000000</td>\n",
       "      <td>1.000000</td>\n",
       "      <td>50.000000</td>\n",
       "      <td>1100.000000</td>\n",
       "      <td>2.000000</td>\n",
       "      <td>4491.202321</td>\n",
       "    </tr>\n",
       "    <tr>\n",
       "      <th>50%</th>\n",
       "      <td>2.000000</td>\n",
       "      <td>2.000000</td>\n",
       "      <td>70.000000</td>\n",
       "      <td>1280.000000</td>\n",
       "      <td>2.000000</td>\n",
       "      <td>5500.000000</td>\n",
       "    </tr>\n",
       "    <tr>\n",
       "      <th>75%</th>\n",
       "      <td>3.000000</td>\n",
       "      <td>2.000000</td>\n",
       "      <td>110.000000</td>\n",
       "      <td>1680.000000</td>\n",
       "      <td>3.000000</td>\n",
       "      <td>6696.384953</td>\n",
       "    </tr>\n",
       "    <tr>\n",
       "      <th>max</th>\n",
       "      <td>9.000000</td>\n",
       "      <td>3.000000</td>\n",
       "      <td>2912.000000</td>\n",
       "      <td>30400.000000</td>\n",
       "      <td>9.000000</td>\n",
       "      <td>35000.000000</td>\n",
       "    </tr>\n",
       "  </tbody>\n",
       "</table>\n",
       "</div>"
      ],
      "text/plain": [
       "              bath      balcony        price  total_sqft_int          bhk  \\\n",
       "count  6282.000000  6282.000000  6282.000000     6282.000000  6282.000000   \n",
       "mean      2.422159     1.577981   100.468874     1510.115153     2.496975   \n",
       "std       0.906067     0.786136   122.353500      959.170042     0.867467   \n",
       "min       1.000000     0.000000    10.000000      350.000000     1.000000   \n",
       "25%       2.000000     1.000000    50.000000     1100.000000     2.000000   \n",
       "50%       2.000000     2.000000    70.000000     1280.000000     2.000000   \n",
       "75%       3.000000     2.000000   110.000000     1680.000000     3.000000   \n",
       "max       9.000000     3.000000  2912.000000    30400.000000     9.000000   \n",
       "\n",
       "       price_per_sqft  \n",
       "count     6282.000000  \n",
       "mean      6036.373686  \n",
       "std       2644.838512  \n",
       "min       1250.000000  \n",
       "25%       4491.202321  \n",
       "50%       5500.000000  \n",
       "75%       6696.384953  \n",
       "max      35000.000000  "
      ]
     },
     "execution_count": 11,
     "metadata": {},
     "output_type": "execute_result"
    }
   ],
   "source": [
    "# check summaary statistics\n",
    "new_df.describe()"
   ]
  },
  {
   "cell_type": "code",
   "execution_count": 12,
   "id": "d7a3f4c7-7139-45d8-b94b-28092e6221f9",
   "metadata": {},
   "outputs": [
    {
     "data": {
      "text/html": [
       "<div>\n",
       "<style scoped>\n",
       "    .dataframe tbody tr th:only-of-type {\n",
       "        vertical-align: middle;\n",
       "    }\n",
       "\n",
       "    .dataframe tbody tr th {\n",
       "        vertical-align: top;\n",
       "    }\n",
       "\n",
       "    .dataframe thead th {\n",
       "        text-align: right;\n",
       "    }\n",
       "</style>\n",
       "<table border=\"1\" class=\"dataframe\">\n",
       "  <thead>\n",
       "    <tr style=\"text-align: right;\">\n",
       "      <th></th>\n",
       "      <th>bath</th>\n",
       "      <th>balcony</th>\n",
       "      <th>price</th>\n",
       "      <th>total_sqft_int</th>\n",
       "      <th>bhk</th>\n",
       "      <th>price_per_sqft</th>\n",
       "    </tr>\n",
       "  </thead>\n",
       "  <tbody>\n",
       "    <tr>\n",
       "      <th>bath</th>\n",
       "      <td>1.000000</td>\n",
       "      <td>0.272286</td>\n",
       "      <td>0.517204</td>\n",
       "      <td>0.646550</td>\n",
       "      <td>0.882972</td>\n",
       "      <td>0.337810</td>\n",
       "    </tr>\n",
       "    <tr>\n",
       "      <th>balcony</th>\n",
       "      <td>0.272286</td>\n",
       "      <td>1.000000</td>\n",
       "      <td>0.132035</td>\n",
       "      <td>0.190504</td>\n",
       "      <td>0.259130</td>\n",
       "      <td>0.060735</td>\n",
       "    </tr>\n",
       "    <tr>\n",
       "      <th>price</th>\n",
       "      <td>0.517204</td>\n",
       "      <td>0.132035</td>\n",
       "      <td>1.000000</td>\n",
       "      <td>0.795581</td>\n",
       "      <td>0.490886</td>\n",
       "      <td>0.715079</td>\n",
       "    </tr>\n",
       "    <tr>\n",
       "      <th>total_sqft_int</th>\n",
       "      <td>0.646550</td>\n",
       "      <td>0.190504</td>\n",
       "      <td>0.795581</td>\n",
       "      <td>1.000000</td>\n",
       "      <td>0.640613</td>\n",
       "      <td>0.367155</td>\n",
       "    </tr>\n",
       "    <tr>\n",
       "      <th>bhk</th>\n",
       "      <td>0.882972</td>\n",
       "      <td>0.259130</td>\n",
       "      <td>0.490886</td>\n",
       "      <td>0.640613</td>\n",
       "      <td>1.000000</td>\n",
       "      <td>0.309464</td>\n",
       "    </tr>\n",
       "    <tr>\n",
       "      <th>price_per_sqft</th>\n",
       "      <td>0.337810</td>\n",
       "      <td>0.060735</td>\n",
       "      <td>0.715079</td>\n",
       "      <td>0.367155</td>\n",
       "      <td>0.309464</td>\n",
       "      <td>1.000000</td>\n",
       "    </tr>\n",
       "  </tbody>\n",
       "</table>\n",
       "</div>"
      ],
      "text/plain": [
       "                    bath   balcony     price  total_sqft_int       bhk  \\\n",
       "bath            1.000000  0.272286  0.517204        0.646550  0.882972   \n",
       "balcony         0.272286  1.000000  0.132035        0.190504  0.259130   \n",
       "price           0.517204  0.132035  1.000000        0.795581  0.490886   \n",
       "total_sqft_int  0.646550  0.190504  0.795581        1.000000  0.640613   \n",
       "bhk             0.882972  0.259130  0.490886        0.640613  1.000000   \n",
       "price_per_sqft  0.337810  0.060735  0.715079        0.367155  0.309464   \n",
       "\n",
       "                price_per_sqft  \n",
       "bath                  0.337810  \n",
       "balcony               0.060735  \n",
       "price                 0.715079  \n",
       "total_sqft_int        0.367155  \n",
       "bhk                   0.309464  \n",
       "price_per_sqft        1.000000  "
      ]
     },
     "execution_count": 12,
     "metadata": {},
     "output_type": "execute_result"
    }
   ],
   "source": [
    "# Check correlation\n",
    "new_df.corr().T"
   ]
  },
  {
   "cell_type": "markdown",
   "id": "87e4a69e-443e-46f6-a6e4-ae286dea8b8c",
   "metadata": {},
   "source": [
    "#### Model Training"
   ]
  },
  {
   "cell_type": "code",
   "execution_count": 13,
   "id": "5956ec14-75aa-496d-b54b-e7250e214418",
   "metadata": {},
   "outputs": [],
   "source": [
    "# Separate dataset\n",
    "x = new_df.drop(columns=['price'], axis=1)\n",
    "y = new_df['price']"
   ]
  },
  {
   "cell_type": "code",
   "execution_count": 14,
   "id": "ce647451-d7be-4cee-bae6-76faff37699f",
   "metadata": {},
   "outputs": [],
   "source": [
    "# Split Dataset\n",
    "x_train,x_test,y_train,y_test = train_test_split(x,y,test_size=0.2,random_state=0)"
   ]
  },
  {
   "cell_type": "code",
   "execution_count": 15,
   "id": "fd03f4c8-bc06-4981-aa43-c362a5a3d060",
   "metadata": {},
   "outputs": [],
   "source": [
    "# feature scaling\n",
    "st = StandardScaler()\n",
    "x_train = st.fit_transform(x_train)\n",
    "x_test = st.fit_transform(x_test)"
   ]
  },
  {
   "cell_type": "code",
   "execution_count": 16,
   "id": "3464102c-e00d-45cb-a26e-67c8302c0e08",
   "metadata": {},
   "outputs": [
    {
     "data": {
      "text/html": [
       "<style>#sk-container-id-1 {color: black;}#sk-container-id-1 pre{padding: 0;}#sk-container-id-1 div.sk-toggleable {background-color: white;}#sk-container-id-1 label.sk-toggleable__label {cursor: pointer;display: block;width: 100%;margin-bottom: 0;padding: 0.3em;box-sizing: border-box;text-align: center;}#sk-container-id-1 label.sk-toggleable__label-arrow:before {content: \"▸\";float: left;margin-right: 0.25em;color: #696969;}#sk-container-id-1 label.sk-toggleable__label-arrow:hover:before {color: black;}#sk-container-id-1 div.sk-estimator:hover label.sk-toggleable__label-arrow:before {color: black;}#sk-container-id-1 div.sk-toggleable__content {max-height: 0;max-width: 0;overflow: hidden;text-align: left;background-color: #f0f8ff;}#sk-container-id-1 div.sk-toggleable__content pre {margin: 0.2em;color: black;border-radius: 0.25em;background-color: #f0f8ff;}#sk-container-id-1 input.sk-toggleable__control:checked~div.sk-toggleable__content {max-height: 200px;max-width: 100%;overflow: auto;}#sk-container-id-1 input.sk-toggleable__control:checked~label.sk-toggleable__label-arrow:before {content: \"▾\";}#sk-container-id-1 div.sk-estimator input.sk-toggleable__control:checked~label.sk-toggleable__label {background-color: #d4ebff;}#sk-container-id-1 div.sk-label input.sk-toggleable__control:checked~label.sk-toggleable__label {background-color: #d4ebff;}#sk-container-id-1 input.sk-hidden--visually {border: 0;clip: rect(1px 1px 1px 1px);clip: rect(1px, 1px, 1px, 1px);height: 1px;margin: -1px;overflow: hidden;padding: 0;position: absolute;width: 1px;}#sk-container-id-1 div.sk-estimator {font-family: monospace;background-color: #f0f8ff;border: 1px dotted black;border-radius: 0.25em;box-sizing: border-box;margin-bottom: 0.5em;}#sk-container-id-1 div.sk-estimator:hover {background-color: #d4ebff;}#sk-container-id-1 div.sk-parallel-item::after {content: \"\";width: 100%;border-bottom: 1px solid gray;flex-grow: 1;}#sk-container-id-1 div.sk-label:hover label.sk-toggleable__label {background-color: #d4ebff;}#sk-container-id-1 div.sk-serial::before {content: \"\";position: absolute;border-left: 1px solid gray;box-sizing: border-box;top: 0;bottom: 0;left: 50%;z-index: 0;}#sk-container-id-1 div.sk-serial {display: flex;flex-direction: column;align-items: center;background-color: white;padding-right: 0.2em;padding-left: 0.2em;position: relative;}#sk-container-id-1 div.sk-item {position: relative;z-index: 1;}#sk-container-id-1 div.sk-parallel {display: flex;align-items: stretch;justify-content: center;background-color: white;position: relative;}#sk-container-id-1 div.sk-item::before, #sk-container-id-1 div.sk-parallel-item::before {content: \"\";position: absolute;border-left: 1px solid gray;box-sizing: border-box;top: 0;bottom: 0;left: 50%;z-index: -1;}#sk-container-id-1 div.sk-parallel-item {display: flex;flex-direction: column;z-index: 1;position: relative;background-color: white;}#sk-container-id-1 div.sk-parallel-item:first-child::after {align-self: flex-end;width: 50%;}#sk-container-id-1 div.sk-parallel-item:last-child::after {align-self: flex-start;width: 50%;}#sk-container-id-1 div.sk-parallel-item:only-child::after {width: 0;}#sk-container-id-1 div.sk-dashed-wrapped {border: 1px dashed gray;margin: 0 0.4em 0.5em 0.4em;box-sizing: border-box;padding-bottom: 0.4em;background-color: white;}#sk-container-id-1 div.sk-label label {font-family: monospace;font-weight: bold;display: inline-block;line-height: 1.2em;}#sk-container-id-1 div.sk-label-container {text-align: center;}#sk-container-id-1 div.sk-container {/* jupyter's `normalize.less` sets `[hidden] { display: none; }` but bootstrap.min.css set `[hidden] { display: none !important; }` so we also need the `!important` here to be able to override the default hidden behavior on the sphinx rendered scikit-learn.org. See: https://github.com/scikit-learn/scikit-learn/issues/21755 */display: inline-block !important;position: relative;}#sk-container-id-1 div.sk-text-repr-fallback {display: none;}</style><div id=\"sk-container-id-1\" class=\"sk-top-container\"><div class=\"sk-text-repr-fallback\"><pre>LinearRegression()</pre><b>In a Jupyter environment, please rerun this cell to show the HTML representation or trust the notebook. <br />On GitHub, the HTML representation is unable to render, please try loading this page with nbviewer.org.</b></div><div class=\"sk-container\" hidden><div class=\"sk-item\"><div class=\"sk-estimator sk-toggleable\"><input class=\"sk-toggleable__control sk-hidden--visually\" id=\"sk-estimator-id-1\" type=\"checkbox\" checked><label for=\"sk-estimator-id-1\" class=\"sk-toggleable__label sk-toggleable__label-arrow\">LinearRegression</label><div class=\"sk-toggleable__content\"><pre>LinearRegression()</pre></div></div></div></div></div>"
      ],
      "text/plain": [
       "LinearRegression()"
      ]
     },
     "execution_count": 16,
     "metadata": {},
     "output_type": "execute_result"
    }
   ],
   "source": [
    "# train model\n",
    "regressor = LinearRegression()\n",
    "regressor.fit(x_train,y_train)"
   ]
  },
  {
   "cell_type": "code",
   "execution_count": 17,
   "id": "0e4596b7-0392-4f62-814c-54cba7dad66e",
   "metadata": {},
   "outputs": [
    {
     "name": "stdout",
     "output_type": "stream",
     "text": [
      "Intercept:  101.69266268656715\n",
      "Coefficient:  [-1.65302160e+00 -6.27136933e-02  8.70992146e+01 -1.19574495e+01\n",
      "  6.46652453e+01]\n"
     ]
    }
   ],
   "source": [
    "# print coefficient and intercept\n",
    "print(\"Intercept: \",regressor.intercept_)\n",
    "print(\"Coefficient: \",regressor.coef_)"
   ]
  },
  {
   "cell_type": "code",
   "execution_count": 18,
   "id": "cd94546b-7162-4f62-8f9d-91dd9050ccb3",
   "metadata": {},
   "outputs": [],
   "source": [
    "# predict with trained model\n",
    "y_pred = regressor.predict(x_test)"
   ]
  },
  {
   "cell_type": "code",
   "execution_count": 19,
   "id": "a698c100-9670-47bb-bd16-9f87c77d602d",
   "metadata": {},
   "outputs": [
    {
     "data": {
      "text/html": [
       "<div>\n",
       "<style scoped>\n",
       "    .dataframe tbody tr th:only-of-type {\n",
       "        vertical-align: middle;\n",
       "    }\n",
       "\n",
       "    .dataframe tbody tr th {\n",
       "        vertical-align: top;\n",
       "    }\n",
       "\n",
       "    .dataframe thead th {\n",
       "        text-align: right;\n",
       "    }\n",
       "</style>\n",
       "<table border=\"1\" class=\"dataframe\">\n",
       "  <thead>\n",
       "    <tr style=\"text-align: right;\">\n",
       "      <th></th>\n",
       "      <th>Actual</th>\n",
       "      <th>Predicted</th>\n",
       "    </tr>\n",
       "  </thead>\n",
       "  <tbody>\n",
       "    <tr>\n",
       "      <th>3443</th>\n",
       "      <td>110.0</td>\n",
       "      <td>185.489253</td>\n",
       "    </tr>\n",
       "    <tr>\n",
       "      <th>4775</th>\n",
       "      <td>65.0</td>\n",
       "      <td>55.409725</td>\n",
       "    </tr>\n",
       "    <tr>\n",
       "      <th>3763</th>\n",
       "      <td>35.0</td>\n",
       "      <td>-9.608763</td>\n",
       "    </tr>\n",
       "    <tr>\n",
       "      <th>6992</th>\n",
       "      <td>175.0</td>\n",
       "      <td>214.796746</td>\n",
       "    </tr>\n",
       "    <tr>\n",
       "      <th>3015</th>\n",
       "      <td>45.0</td>\n",
       "      <td>18.495092</td>\n",
       "    </tr>\n",
       "  </tbody>\n",
       "</table>\n",
       "</div>"
      ],
      "text/plain": [
       "      Actual   Predicted\n",
       "3443   110.0  185.489253\n",
       "4775    65.0   55.409725\n",
       "3763    35.0   -9.608763\n",
       "6992   175.0  214.796746\n",
       "3015    45.0   18.495092"
      ]
     },
     "execution_count": 19,
     "metadata": {},
     "output_type": "execute_result"
    }
   ],
   "source": [
    "# Compare Actual vs Predicted Value\n",
    "pred_df = pd.DataFrame({\n",
    "    \"Actual\": y_test,\n",
    "    \"Predicted\": y_pred\n",
    "})\n",
    "pred_df.head()"
   ]
  },
  {
   "cell_type": "markdown",
   "id": "e8448596-1c53-461c-90a9-1c4b8e43008e",
   "metadata": {},
   "source": [
    "#### Model Evaluation"
   ]
  },
  {
   "cell_type": "code",
   "execution_count": 20,
   "id": "18a24e7d-638c-46e2-acaa-493c106c3b97",
   "metadata": {},
   "outputs": [
    {
     "name": "stdout",
     "output_type": "stream",
     "text": [
      "Mean Absolute Error:  27.605609611157806\n",
      "Mean Squared Error:  1738.740995922244\n",
      "Root Mean Squared Error:  41.6982133420875\n",
      "R Squared Score:  0.773472404694659\n"
     ]
    }
   ],
   "source": [
    "# Model evaluation based on testing data\n",
    "t_mean_absolute_err = mean_absolute_error(y_test,y_pred)\n",
    "t_mean_squared_err = mean_squared_error(y_test,y_pred)\n",
    "t_root_mean_sqr_err = np.sqrt(mean_squared_error(y_test,y_pred))\n",
    "t_r_sqrd_score = r2_score(y_test,y_pred)\n",
    "\n",
    "print(\"Mean Absolute Error: \",t_mean_absolute_err)\n",
    "print(\"Mean Squared Error: \",t_mean_squared_err)\n",
    "print(\"Root Mean Squared Error: \",t_root_mean_sqr_err)\n",
    "print(\"R Squared Score: \",t_r_sqrd_score)"
   ]
  },
  {
   "cell_type": "code",
   "execution_count": 21,
   "id": "89aaaad9-7c89-4a4d-8fbb-e74be50e2d51",
   "metadata": {},
   "outputs": [
    {
     "name": "stdout",
     "output_type": "stream",
     "text": [
      "Mean Absolute Error:  20.393584322755856\n",
      "Mean Squared Error:  2680.191956629029\n",
      "Root Mean Squared Error:  51.77057037187275\n",
      "R Squared Score:  0.8403192671576583\n"
     ]
    }
   ],
   "source": [
    "# Model Evaluation based on training data\n",
    "train_pred = regressor.predict(x_train)\n",
    "\n",
    "x_mean_absolute_err = mean_absolute_error(y_train,train_pred)\n",
    "x_mean_squared_err = mean_squared_error(y_train,train_pred)\n",
    "x_root_mean_sqr_err = np.sqrt(mean_squared_error(y_train,train_pred))\n",
    "x_r_sqrd_score = r2_score(y_train,train_pred)\n",
    "\n",
    "print(\"Mean Absolute Error: \",x_mean_absolute_err)\n",
    "print(\"Mean Squared Error: \",x_mean_squared_err)\n",
    "print(\"Root Mean Squared Error: \",x_root_mean_sqr_err)\n",
    "print(\"R Squared Score: \",x_r_sqrd_score)"
   ]
  },
  {
   "cell_type": "code",
   "execution_count": 22,
   "id": "6b7a9ee3-7c4d-4b19-99dc-253af6aafe13",
   "metadata": {},
   "outputs": [
    {
     "name": "stdout",
     "output_type": "stream",
     "text": [
      "Variance:  10.072357029785252\n"
     ]
    }
   ],
   "source": [
    "# Variance = (Bais of Trianing) - (Bais of Testing)\n",
    "variance = x_root_mean_sqr_err - t_root_mean_sqr_err\n",
    "print(\"Variance: \", variance)"
   ]
  },
  {
   "cell_type": "markdown",
   "id": "15e0fe1f-bfe2-4b6b-a75b-bad21356817e",
   "metadata": {},
   "source": [
    "#### Perform Regularization using LassoCV and RidgeCV"
   ]
  },
  {
   "cell_type": "markdown",
   "id": "70645262-fc8e-49e1-94f9-78d786400a47",
   "metadata": {},
   "source": [
    "- LassocV"
   ]
  },
  {
   "cell_type": "code",
   "execution_count": 23,
   "id": "48a77486-6a4c-4171-9ad7-853697b1e896",
   "metadata": {},
   "outputs": [],
   "source": [
    "# Implementing LassoCV\n",
    "\n",
    "alphas = [0.01, 0.1, 1.0, 10]\n",
    "lasso = LassoCV(alphas=alphas)"
   ]
  },
  {
   "cell_type": "code",
   "execution_count": 24,
   "id": "4ee571be-c7d6-454d-a1e8-6b5597506fd3",
   "metadata": {},
   "outputs": [
    {
     "data": {
      "text/html": [
       "<style>#sk-container-id-2 {color: black;}#sk-container-id-2 pre{padding: 0;}#sk-container-id-2 div.sk-toggleable {background-color: white;}#sk-container-id-2 label.sk-toggleable__label {cursor: pointer;display: block;width: 100%;margin-bottom: 0;padding: 0.3em;box-sizing: border-box;text-align: center;}#sk-container-id-2 label.sk-toggleable__label-arrow:before {content: \"▸\";float: left;margin-right: 0.25em;color: #696969;}#sk-container-id-2 label.sk-toggleable__label-arrow:hover:before {color: black;}#sk-container-id-2 div.sk-estimator:hover label.sk-toggleable__label-arrow:before {color: black;}#sk-container-id-2 div.sk-toggleable__content {max-height: 0;max-width: 0;overflow: hidden;text-align: left;background-color: #f0f8ff;}#sk-container-id-2 div.sk-toggleable__content pre {margin: 0.2em;color: black;border-radius: 0.25em;background-color: #f0f8ff;}#sk-container-id-2 input.sk-toggleable__control:checked~div.sk-toggleable__content {max-height: 200px;max-width: 100%;overflow: auto;}#sk-container-id-2 input.sk-toggleable__control:checked~label.sk-toggleable__label-arrow:before {content: \"▾\";}#sk-container-id-2 div.sk-estimator input.sk-toggleable__control:checked~label.sk-toggleable__label {background-color: #d4ebff;}#sk-container-id-2 div.sk-label input.sk-toggleable__control:checked~label.sk-toggleable__label {background-color: #d4ebff;}#sk-container-id-2 input.sk-hidden--visually {border: 0;clip: rect(1px 1px 1px 1px);clip: rect(1px, 1px, 1px, 1px);height: 1px;margin: -1px;overflow: hidden;padding: 0;position: absolute;width: 1px;}#sk-container-id-2 div.sk-estimator {font-family: monospace;background-color: #f0f8ff;border: 1px dotted black;border-radius: 0.25em;box-sizing: border-box;margin-bottom: 0.5em;}#sk-container-id-2 div.sk-estimator:hover {background-color: #d4ebff;}#sk-container-id-2 div.sk-parallel-item::after {content: \"\";width: 100%;border-bottom: 1px solid gray;flex-grow: 1;}#sk-container-id-2 div.sk-label:hover label.sk-toggleable__label {background-color: #d4ebff;}#sk-container-id-2 div.sk-serial::before {content: \"\";position: absolute;border-left: 1px solid gray;box-sizing: border-box;top: 0;bottom: 0;left: 50%;z-index: 0;}#sk-container-id-2 div.sk-serial {display: flex;flex-direction: column;align-items: center;background-color: white;padding-right: 0.2em;padding-left: 0.2em;position: relative;}#sk-container-id-2 div.sk-item {position: relative;z-index: 1;}#sk-container-id-2 div.sk-parallel {display: flex;align-items: stretch;justify-content: center;background-color: white;position: relative;}#sk-container-id-2 div.sk-item::before, #sk-container-id-2 div.sk-parallel-item::before {content: \"\";position: absolute;border-left: 1px solid gray;box-sizing: border-box;top: 0;bottom: 0;left: 50%;z-index: -1;}#sk-container-id-2 div.sk-parallel-item {display: flex;flex-direction: column;z-index: 1;position: relative;background-color: white;}#sk-container-id-2 div.sk-parallel-item:first-child::after {align-self: flex-end;width: 50%;}#sk-container-id-2 div.sk-parallel-item:last-child::after {align-self: flex-start;width: 50%;}#sk-container-id-2 div.sk-parallel-item:only-child::after {width: 0;}#sk-container-id-2 div.sk-dashed-wrapped {border: 1px dashed gray;margin: 0 0.4em 0.5em 0.4em;box-sizing: border-box;padding-bottom: 0.4em;background-color: white;}#sk-container-id-2 div.sk-label label {font-family: monospace;font-weight: bold;display: inline-block;line-height: 1.2em;}#sk-container-id-2 div.sk-label-container {text-align: center;}#sk-container-id-2 div.sk-container {/* jupyter's `normalize.less` sets `[hidden] { display: none; }` but bootstrap.min.css set `[hidden] { display: none !important; }` so we also need the `!important` here to be able to override the default hidden behavior on the sphinx rendered scikit-learn.org. See: https://github.com/scikit-learn/scikit-learn/issues/21755 */display: inline-block !important;position: relative;}#sk-container-id-2 div.sk-text-repr-fallback {display: none;}</style><div id=\"sk-container-id-2\" class=\"sk-top-container\"><div class=\"sk-text-repr-fallback\"><pre>LassoCV(alphas=[0.01, 0.1, 1.0, 10])</pre><b>In a Jupyter environment, please rerun this cell to show the HTML representation or trust the notebook. <br />On GitHub, the HTML representation is unable to render, please try loading this page with nbviewer.org.</b></div><div class=\"sk-container\" hidden><div class=\"sk-item\"><div class=\"sk-estimator sk-toggleable\"><input class=\"sk-toggleable__control sk-hidden--visually\" id=\"sk-estimator-id-2\" type=\"checkbox\" checked><label for=\"sk-estimator-id-2\" class=\"sk-toggleable__label sk-toggleable__label-arrow\">LassoCV</label><div class=\"sk-toggleable__content\"><pre>LassoCV(alphas=[0.01, 0.1, 1.0, 10])</pre></div></div></div></div></div>"
      ],
      "text/plain": [
       "LassoCV(alphas=[0.01, 0.1, 1.0, 10])"
      ]
     },
     "execution_count": 24,
     "metadata": {},
     "output_type": "execute_result"
    }
   ],
   "source": [
    "# train model\n",
    "lasso.fit(x_train,y_train)"
   ]
  },
  {
   "cell_type": "code",
   "execution_count": 28,
   "id": "f97c5e43-3163-4ef6-9bb8-03ee60a5c3ee",
   "metadata": {},
   "outputs": [],
   "source": [
    "# Predict with model\n",
    "lasso_pred = lasso.predict(x_test)"
   ]
  },
  {
   "cell_type": "code",
   "execution_count": 29,
   "id": "1ba62b3d-d402-45ab-b338-583cd7b72a55",
   "metadata": {},
   "outputs": [
    {
     "name": "stdout",
     "output_type": "stream",
     "text": [
      "Mean Abs Error : 27.19143168167381\n",
      "Mean Sqrd Error : 1637.0829258506017\n",
      "Root Mean Sqrd Error : 40.46088142701048\n",
      "R Squared : 0.786716676389361\n"
     ]
    }
   ],
   "source": [
    "# Model Evaluation Metrics\n",
    "l_mean_abs_err = mean_absolute_error(y_test,lasso_pred)\n",
    "l_mean_sqrd_error = mean_squared_error(y_test,lasso_pred)\n",
    "l_root_mean_sqrd_err = np.sqrt(mean_squared_error(y_test,lasso_pred))\n",
    "l_r_squared = r2_score(y_test,lasso_pred)b\n",
    "\n",
    "print(\"Mean Abs Error :\", l_mean_abs_err)\n",
    "print(\"Mean Sqrd Error :\", l_mean_sqrd_error)\n",
    "print(\"Root Mean Sqrd Error :\", l_root_mean_sqrd_err)\n",
    "print(\"R Squared :\", l_r_squared)"
   ]
  },
  {
   "cell_type": "code",
   "execution_count": 31,
   "id": "2a3bb4ae-ab2f-4bef-ae38-dbdd50a78e83",
   "metadata": {},
   "outputs": [
    {
     "name": "stdout",
     "output_type": "stream",
     "text": [
      "Mean Abs Error : 20.083617431810715\n",
      "Mean Sqrd Error : 2687.1040209924267\n",
      "Root Mean Sqrd Error : 51.83728408194653\n",
      "R Squared : 0.8399074595256448\n"
     ]
    }
   ],
   "source": [
    "# Model Evaluation metrics on Training Data\n",
    "\n",
    "# Predict with model on training dataset\n",
    "lasso_t_pred = lasso.predict(x_train)\n",
    "\n",
    "lt_mean_abs_err = mean_absolute_error(y_train,lasso_t_pred)\n",
    "lt_mean_sqrd_error = mean_squared_error(y_train,lasso_t_pred)\n",
    "lt_root_mean_sqrd_err = np.sqrt(mean_squared_error(y_train,lasso_t_pred))\n",
    "lt_r_squared = r2_score(y_train,lasso_t_pred)\n",
    "\n",
    "print(\"Mean Abs Error :\", lt_mean_abs_err)\n",
    "print(\"Mean Sqrd Error :\", lt_mean_sqrd_error)\n",
    "print(\"Root Mean Sqrd Error :\", lt_root_mean_sqrd_err)\n",
    "print(\"R Squared :\", lt_r_squared)"
   ]
  },
  {
   "cell_type": "code",
   "execution_count": 32,
   "id": "e03cb21c-58b5-4311-ad68-9a7ce1823be1",
   "metadata": {},
   "outputs": [
    {
     "name": "stdout",
     "output_type": "stream",
     "text": [
      "LassoCV Variance : 11.37640265493605\n"
     ]
    }
   ],
   "source": [
    "# Variance on LassoCV model\n",
    "variance = lt_root_mean_sqrd_err - l_root_mean_sqrd_err\n",
    "print(\"LassoCV Variance :\", variance)"
   ]
  },
  {
   "cell_type": "markdown",
   "id": "acd22f18-aea2-4205-b52c-3163e843dd71",
   "metadata": {},
   "source": [
    "- RidgeCV"
   ]
  },
  {
   "cell_type": "code",
   "execution_count": 33,
   "id": "14500df8-bab5-449b-ae84-21661339e4ea",
   "metadata": {},
   "outputs": [
    {
     "data": {
      "text/html": [
       "<style>#sk-container-id-3 {color: black;}#sk-container-id-3 pre{padding: 0;}#sk-container-id-3 div.sk-toggleable {background-color: white;}#sk-container-id-3 label.sk-toggleable__label {cursor: pointer;display: block;width: 100%;margin-bottom: 0;padding: 0.3em;box-sizing: border-box;text-align: center;}#sk-container-id-3 label.sk-toggleable__label-arrow:before {content: \"▸\";float: left;margin-right: 0.25em;color: #696969;}#sk-container-id-3 label.sk-toggleable__label-arrow:hover:before {color: black;}#sk-container-id-3 div.sk-estimator:hover label.sk-toggleable__label-arrow:before {color: black;}#sk-container-id-3 div.sk-toggleable__content {max-height: 0;max-width: 0;overflow: hidden;text-align: left;background-color: #f0f8ff;}#sk-container-id-3 div.sk-toggleable__content pre {margin: 0.2em;color: black;border-radius: 0.25em;background-color: #f0f8ff;}#sk-container-id-3 input.sk-toggleable__control:checked~div.sk-toggleable__content {max-height: 200px;max-width: 100%;overflow: auto;}#sk-container-id-3 input.sk-toggleable__control:checked~label.sk-toggleable__label-arrow:before {content: \"▾\";}#sk-container-id-3 div.sk-estimator input.sk-toggleable__control:checked~label.sk-toggleable__label {background-color: #d4ebff;}#sk-container-id-3 div.sk-label input.sk-toggleable__control:checked~label.sk-toggleable__label {background-color: #d4ebff;}#sk-container-id-3 input.sk-hidden--visually {border: 0;clip: rect(1px 1px 1px 1px);clip: rect(1px, 1px, 1px, 1px);height: 1px;margin: -1px;overflow: hidden;padding: 0;position: absolute;width: 1px;}#sk-container-id-3 div.sk-estimator {font-family: monospace;background-color: #f0f8ff;border: 1px dotted black;border-radius: 0.25em;box-sizing: border-box;margin-bottom: 0.5em;}#sk-container-id-3 div.sk-estimator:hover {background-color: #d4ebff;}#sk-container-id-3 div.sk-parallel-item::after {content: \"\";width: 100%;border-bottom: 1px solid gray;flex-grow: 1;}#sk-container-id-3 div.sk-label:hover label.sk-toggleable__label {background-color: #d4ebff;}#sk-container-id-3 div.sk-serial::before {content: \"\";position: absolute;border-left: 1px solid gray;box-sizing: border-box;top: 0;bottom: 0;left: 50%;z-index: 0;}#sk-container-id-3 div.sk-serial {display: flex;flex-direction: column;align-items: center;background-color: white;padding-right: 0.2em;padding-left: 0.2em;position: relative;}#sk-container-id-3 div.sk-item {position: relative;z-index: 1;}#sk-container-id-3 div.sk-parallel {display: flex;align-items: stretch;justify-content: center;background-color: white;position: relative;}#sk-container-id-3 div.sk-item::before, #sk-container-id-3 div.sk-parallel-item::before {content: \"\";position: absolute;border-left: 1px solid gray;box-sizing: border-box;top: 0;bottom: 0;left: 50%;z-index: -1;}#sk-container-id-3 div.sk-parallel-item {display: flex;flex-direction: column;z-index: 1;position: relative;background-color: white;}#sk-container-id-3 div.sk-parallel-item:first-child::after {align-self: flex-end;width: 50%;}#sk-container-id-3 div.sk-parallel-item:last-child::after {align-self: flex-start;width: 50%;}#sk-container-id-3 div.sk-parallel-item:only-child::after {width: 0;}#sk-container-id-3 div.sk-dashed-wrapped {border: 1px dashed gray;margin: 0 0.4em 0.5em 0.4em;box-sizing: border-box;padding-bottom: 0.4em;background-color: white;}#sk-container-id-3 div.sk-label label {font-family: monospace;font-weight: bold;display: inline-block;line-height: 1.2em;}#sk-container-id-3 div.sk-label-container {text-align: center;}#sk-container-id-3 div.sk-container {/* jupyter's `normalize.less` sets `[hidden] { display: none; }` but bootstrap.min.css set `[hidden] { display: none !important; }` so we also need the `!important` here to be able to override the default hidden behavior on the sphinx rendered scikit-learn.org. See: https://github.com/scikit-learn/scikit-learn/issues/21755 */display: inline-block !important;position: relative;}#sk-container-id-3 div.sk-text-repr-fallback {display: none;}</style><div id=\"sk-container-id-3\" class=\"sk-top-container\"><div class=\"sk-text-repr-fallback\"><pre>RidgeCV(alphas=[0.01, 0.1, 1.0, 10])</pre><b>In a Jupyter environment, please rerun this cell to show the HTML representation or trust the notebook. <br />On GitHub, the HTML representation is unable to render, please try loading this page with nbviewer.org.</b></div><div class=\"sk-container\" hidden><div class=\"sk-item\"><div class=\"sk-estimator sk-toggleable\"><input class=\"sk-toggleable__control sk-hidden--visually\" id=\"sk-estimator-id-3\" type=\"checkbox\" checked><label for=\"sk-estimator-id-3\" class=\"sk-toggleable__label sk-toggleable__label-arrow\">RidgeCV</label><div class=\"sk-toggleable__content\"><pre>RidgeCV(alphas=[0.01, 0.1, 1.0, 10])</pre></div></div></div></div></div>"
      ],
      "text/plain": [
       "RidgeCV(alphas=[0.01, 0.1, 1.0, 10])"
      ]
     },
     "execution_count": 33,
     "metadata": {},
     "output_type": "execute_result"
    }
   ],
   "source": [
    "alphas = [0.01, 0.1, 1.0, 10]\n",
    "ridge = RidgeCV(alphas=alphas)\n",
    "\n",
    "# train model\n",
    "ridge.fit(x_train,y_train)"
   ]
  },
  {
   "cell_type": "code",
   "execution_count": 35,
   "id": "39cea872-3885-478e-9b3b-a90643386fdf",
   "metadata": {},
   "outputs": [
    {
     "name": "stdout",
     "output_type": "stream",
     "text": [
      "Mean Abs Error : 27.52777162987131\n",
      "Mean Sqrd Error : 1724.8041376035492\n",
      "Root Mean Sqrd Error : 41.53076134148698\n",
      "R Squared : 0.7752881340117047\n"
     ]
    }
   ],
   "source": [
    "# predict on testing data\n",
    "ridge_predict = ridge.predict(x_test)\n",
    "\n",
    "# Model Evaluation\n",
    "ridge_t_mean_abs_err = mean_absolute_error(y_test,ridge_predict)\n",
    "ridge_t_mean_sqrd_error = mean_squared_error(y_test,ridge_predict)\n",
    "ridge_t_root_mean_sqrd_err = np.sqrt(mean_squared_error(y_test,ridge_predict))\n",
    "ridge_t_r_squared = r2_score(y_test,ridge_predict)\n",
    "\n",
    "print(\"Mean Abs Error :\", ridge_t_mean_abs_err)\n",
    "print(\"Mean Sqrd Error :\", ridge_t_mean_sqrd_error)\n",
    "print(\"Root Mean Sqrd Error :\", ridge_t_root_mean_sqrd_err)\n",
    "print(\"R Squared :\", ridge_t_r_squared)"
   ]
  },
  {
   "cell_type": "code",
   "execution_count": 36,
   "id": "0f00d672-1143-4343-8e5f-87491b4ae676",
   "metadata": {},
   "outputs": [
    {
     "name": "stdout",
     "output_type": "stream",
     "text": [
      "Mean Abs Error : 20.332209607580964\n",
      "Mean Sqrd Error : 2680.2601629351207\n",
      "Root Mean Sqrd Error : 51.77122910396392\n",
      "R Squared : 0.8403152035558278\n"
     ]
    }
   ],
   "source": [
    "# predict on training data\n",
    "ridge_train_predict = ridge.predict(x_train)\n",
    "\n",
    "# model evaluation\n",
    "ridge_lt_mean_abs_err = mean_absolute_error(y_train,ridge_train_predict)\n",
    "ridge_lt_mean_sqrd_error = mean_squared_error(y_train,ridge_train_predict)\n",
    "ridge_lt_root_mean_sqrd_err = np.sqrt(mean_squared_error(y_train,ridge_train_predict))\n",
    "ridge_lt_r_squared = r2_score(y_train,ridge_train_predict)\n",
    "\n",
    "print(\"Mean Abs Error :\", ridge_lt_mean_abs_err)\n",
    "print(\"Mean Sqrd Error :\", ridge_lt_mean_sqrd_error)\n",
    "print(\"Root Mean Sqrd Error :\", ridge_lt_root_mean_sqrd_err)\n",
    "print(\"R Squared :\", ridge_lt_r_squared)"
   ]
  },
  {
   "cell_type": "code",
   "execution_count": 37,
   "id": "1d0172fc-69cd-4044-9770-cbd7a0cde36f",
   "metadata": {},
   "outputs": [
    {
     "name": "stdout",
     "output_type": "stream",
     "text": [
      "RidgeCV Variance : 10.24046776247694\n"
     ]
    }
   ],
   "source": [
    "# Variance on RidgeCV model\n",
    "variance = ridge_lt_root_mean_sqrd_err - ridge_t_root_mean_sqrd_err\n",
    "print(\"RidgeCV Variance :\", variance)"
   ]
  }
 ],
 "metadata": {
  "kernelspec": {
   "display_name": "Python 3 (ipykernel)",
   "language": "python",
   "name": "python3"
  },
  "language_info": {
   "codemirror_mode": {
    "name": "ipython",
    "version": 3
   },
   "file_extension": ".py",
   "mimetype": "text/x-python",
   "name": "python",
   "nbconvert_exporter": "python",
   "pygments_lexer": "ipython3",
   "version": "3.10.4"
  }
 },
 "nbformat": 4,
 "nbformat_minor": 5
}
