{
 "cells": [
  {
   "cell_type": "markdown",
   "id": "cddc8113",
   "metadata": {},
   "source": [
    "# Linear Regression"
   ]
  },
  {
   "cell_type": "markdown",
   "id": "028836f6",
   "metadata": {},
   "source": [
    "# Use Case: Score Prediction\n",
    "\n",
    "Problem Statement:\n",
    "\n",
    "Build a model to predict salary based on the number years of experience.\n",
    "\n",
    "\n",
    "\n",
    "Data:\n",
    "\n",
    "Use the Salary_Data dataset and analyse the relationship between YearsExperience and Salary variables using a linear regression."
   ]
  },
  {
   "cell_type": "markdown",
   "id": "b23b9863",
   "metadata": {},
   "source": [
    "# Import Libraries"
   ]
  },
  {
   "cell_type": "code",
   "execution_count": 29,
   "id": "0918f14d",
   "metadata": {},
   "outputs": [],
   "source": [
    "import numpy as np\n",
    "import pandas as pd\n",
    "from matplotlib import pyplot as plt"
   ]
  },
  {
   "cell_type": "markdown",
   "id": "d28092c5",
   "metadata": {},
   "source": [
    "# Import Dataset"
   ]
  },
  {
   "cell_type": "code",
   "execution_count": 30,
   "id": "815ab10e",
   "metadata": {},
   "outputs": [],
   "source": [
    "d1=pd.read_csv('../DATASET/Salary_Data.csv')"
   ]
  },
  {
   "cell_type": "code",
   "execution_count": 31,
   "id": "243bdcf2",
   "metadata": {},
   "outputs": [
    {
     "name": "stdout",
     "output_type": "stream",
     "text": [
      "    YearsExperience  Salary\n",
      "0               1.1   39343\n",
      "1               1.3   46205\n",
      "2               1.5   37731\n",
      "3               2.0   43525\n",
      "4               2.2   39891\n",
      "5               2.9   56642\n",
      "6               3.0   60150\n",
      "7               3.2   54445\n",
      "8               3.2   64445\n",
      "9               3.7   57189\n",
      "10              3.9   63218\n",
      "11              4.0   55794\n",
      "12              4.0   56957\n",
      "13              4.1   57081\n",
      "14              4.5   61111\n",
      "15              4.9   67938\n",
      "16              5.1   66029\n",
      "17              5.3   83088\n",
      "18              5.9   81363\n",
      "19              6.0   93940\n",
      "20              6.8   91738\n",
      "21              7.1   98273\n",
      "22              7.9  101302\n",
      "23              8.2  113812\n",
      "24              8.7  109431\n",
      "25              9.0  105582\n",
      "26              9.5  116969\n",
      "27              9.6  112635\n",
      "28             10.3  122391\n",
      "29             10.5  121872\n"
     ]
    }
   ],
   "source": [
    "print(d1)"
   ]
  },
  {
   "cell_type": "markdown",
   "id": "e040e69c",
   "metadata": {},
   "source": [
    "# Exploratory Data Analysis(EDA)"
   ]
  },
  {
   "cell_type": "code",
   "execution_count": 32,
   "id": "ec3a246c",
   "metadata": {},
   "outputs": [
    {
     "data": {
      "text/html": [
       "<div>\n",
       "<style scoped>\n",
       "    .dataframe tbody tr th:only-of-type {\n",
       "        vertical-align: middle;\n",
       "    }\n",
       "\n",
       "    .dataframe tbody tr th {\n",
       "        vertical-align: top;\n",
       "    }\n",
       "\n",
       "    .dataframe thead th {\n",
       "        text-align: right;\n",
       "    }\n",
       "</style>\n",
       "<table border=\"1\" class=\"dataframe\">\n",
       "  <thead>\n",
       "    <tr style=\"text-align: right;\">\n",
       "      <th></th>\n",
       "      <th>YearsExperience</th>\n",
       "      <th>Salary</th>\n",
       "    </tr>\n",
       "  </thead>\n",
       "  <tbody>\n",
       "    <tr>\n",
       "      <th>0</th>\n",
       "      <td>1.1</td>\n",
       "      <td>39343</td>\n",
       "    </tr>\n",
       "    <tr>\n",
       "      <th>1</th>\n",
       "      <td>1.3</td>\n",
       "      <td>46205</td>\n",
       "    </tr>\n",
       "    <tr>\n",
       "      <th>2</th>\n",
       "      <td>1.5</td>\n",
       "      <td>37731</td>\n",
       "    </tr>\n",
       "    <tr>\n",
       "      <th>3</th>\n",
       "      <td>2.0</td>\n",
       "      <td>43525</td>\n",
       "    </tr>\n",
       "    <tr>\n",
       "      <th>4</th>\n",
       "      <td>2.2</td>\n",
       "      <td>39891</td>\n",
       "    </tr>\n",
       "  </tbody>\n",
       "</table>\n",
       "</div>"
      ],
      "text/plain": [
       "   YearsExperience  Salary\n",
       "0              1.1   39343\n",
       "1              1.3   46205\n",
       "2              1.5   37731\n",
       "3              2.0   43525\n",
       "4              2.2   39891"
      ]
     },
     "execution_count": 32,
     "metadata": {},
     "output_type": "execute_result"
    }
   ],
   "source": [
    "d1.head()"
   ]
  },
  {
   "cell_type": "code",
   "execution_count": 33,
   "id": "5203cb7f",
   "metadata": {},
   "outputs": [
    {
     "data": {
      "text/html": [
       "<div>\n",
       "<style scoped>\n",
       "    .dataframe tbody tr th:only-of-type {\n",
       "        vertical-align: middle;\n",
       "    }\n",
       "\n",
       "    .dataframe tbody tr th {\n",
       "        vertical-align: top;\n",
       "    }\n",
       "\n",
       "    .dataframe thead th {\n",
       "        text-align: right;\n",
       "    }\n",
       "</style>\n",
       "<table border=\"1\" class=\"dataframe\">\n",
       "  <thead>\n",
       "    <tr style=\"text-align: right;\">\n",
       "      <th></th>\n",
       "      <th>YearsExperience</th>\n",
       "      <th>Salary</th>\n",
       "    </tr>\n",
       "  </thead>\n",
       "  <tbody>\n",
       "    <tr>\n",
       "      <th>25</th>\n",
       "      <td>9.0</td>\n",
       "      <td>105582</td>\n",
       "    </tr>\n",
       "    <tr>\n",
       "      <th>26</th>\n",
       "      <td>9.5</td>\n",
       "      <td>116969</td>\n",
       "    </tr>\n",
       "    <tr>\n",
       "      <th>27</th>\n",
       "      <td>9.6</td>\n",
       "      <td>112635</td>\n",
       "    </tr>\n",
       "    <tr>\n",
       "      <th>28</th>\n",
       "      <td>10.3</td>\n",
       "      <td>122391</td>\n",
       "    </tr>\n",
       "    <tr>\n",
       "      <th>29</th>\n",
       "      <td>10.5</td>\n",
       "      <td>121872</td>\n",
       "    </tr>\n",
       "  </tbody>\n",
       "</table>\n",
       "</div>"
      ],
      "text/plain": [
       "    YearsExperience  Salary\n",
       "25              9.0  105582\n",
       "26              9.5  116969\n",
       "27              9.6  112635\n",
       "28             10.3  122391\n",
       "29             10.5  121872"
      ]
     },
     "execution_count": 33,
     "metadata": {},
     "output_type": "execute_result"
    }
   ],
   "source": [
    "d1.tail()"
   ]
  },
  {
   "cell_type": "code",
   "execution_count": 34,
   "id": "6bd325f8",
   "metadata": {},
   "outputs": [
    {
     "data": {
      "text/html": [
       "<div>\n",
       "<style scoped>\n",
       "    .dataframe tbody tr th:only-of-type {\n",
       "        vertical-align: middle;\n",
       "    }\n",
       "\n",
       "    .dataframe tbody tr th {\n",
       "        vertical-align: top;\n",
       "    }\n",
       "\n",
       "    .dataframe thead th {\n",
       "        text-align: right;\n",
       "    }\n",
       "</style>\n",
       "<table border=\"1\" class=\"dataframe\">\n",
       "  <thead>\n",
       "    <tr style=\"text-align: right;\">\n",
       "      <th></th>\n",
       "      <th>YearsExperience</th>\n",
       "      <th>Salary</th>\n",
       "    </tr>\n",
       "  </thead>\n",
       "  <tbody>\n",
       "    <tr>\n",
       "      <th>count</th>\n",
       "      <td>30.000000</td>\n",
       "      <td>30.000000</td>\n",
       "    </tr>\n",
       "    <tr>\n",
       "      <th>mean</th>\n",
       "      <td>5.313333</td>\n",
       "      <td>76003.000000</td>\n",
       "    </tr>\n",
       "    <tr>\n",
       "      <th>std</th>\n",
       "      <td>2.837888</td>\n",
       "      <td>27414.429785</td>\n",
       "    </tr>\n",
       "    <tr>\n",
       "      <th>min</th>\n",
       "      <td>1.100000</td>\n",
       "      <td>37731.000000</td>\n",
       "    </tr>\n",
       "    <tr>\n",
       "      <th>25%</th>\n",
       "      <td>3.200000</td>\n",
       "      <td>56720.750000</td>\n",
       "    </tr>\n",
       "    <tr>\n",
       "      <th>50%</th>\n",
       "      <td>4.700000</td>\n",
       "      <td>65237.000000</td>\n",
       "    </tr>\n",
       "    <tr>\n",
       "      <th>75%</th>\n",
       "      <td>7.700000</td>\n",
       "      <td>100544.750000</td>\n",
       "    </tr>\n",
       "    <tr>\n",
       "      <th>max</th>\n",
       "      <td>10.500000</td>\n",
       "      <td>122391.000000</td>\n",
       "    </tr>\n",
       "  </tbody>\n",
       "</table>\n",
       "</div>"
      ],
      "text/plain": [
       "       YearsExperience         Salary\n",
       "count        30.000000      30.000000\n",
       "mean          5.313333   76003.000000\n",
       "std           2.837888   27414.429785\n",
       "min           1.100000   37731.000000\n",
       "25%           3.200000   56720.750000\n",
       "50%           4.700000   65237.000000\n",
       "75%           7.700000  100544.750000\n",
       "max          10.500000  122391.000000"
      ]
     },
     "execution_count": 34,
     "metadata": {},
     "output_type": "execute_result"
    }
   ],
   "source": [
    "d1.describe()"
   ]
  },
  {
   "cell_type": "code",
   "execution_count": 35,
   "id": "11115c8b",
   "metadata": {},
   "outputs": [
    {
     "name": "stdout",
     "output_type": "stream",
     "text": [
      "<class 'pandas.core.frame.DataFrame'>\n",
      "RangeIndex: 30 entries, 0 to 29\n",
      "Data columns (total 2 columns):\n",
      " #   Column           Non-Null Count  Dtype  \n",
      "---  ------           --------------  -----  \n",
      " 0   YearsExperience  30 non-null     float64\n",
      " 1   Salary           30 non-null     int64  \n",
      "dtypes: float64(1), int64(1)\n",
      "memory usage: 608.0 bytes\n"
     ]
    }
   ],
   "source": [
    "d1.info()"
   ]
  },
  {
   "cell_type": "code",
   "execution_count": 36,
   "id": "d6aaed88",
   "metadata": {},
   "outputs": [
    {
     "name": "stdout",
     "output_type": "stream",
     "text": [
      "(30, 2)\n"
     ]
    }
   ],
   "source": [
    "print(d1.shape)"
   ]
  },
  {
   "cell_type": "code",
   "execution_count": 9,
   "id": "1bc2aa78",
   "metadata": {},
   "outputs": [
    {
     "data": {
      "text/html": [
       "<div>\n",
       "<style scoped>\n",
       "    .dataframe tbody tr th:only-of-type {\n",
       "        vertical-align: middle;\n",
       "    }\n",
       "\n",
       "    .dataframe tbody tr th {\n",
       "        vertical-align: top;\n",
       "    }\n",
       "\n",
       "    .dataframe thead th {\n",
       "        text-align: right;\n",
       "    }\n",
       "</style>\n",
       "<table border=\"1\" class=\"dataframe\">\n",
       "  <thead>\n",
       "    <tr style=\"text-align: right;\">\n",
       "      <th></th>\n",
       "      <th>YearsExperience</th>\n",
       "      <th>Salary</th>\n",
       "    </tr>\n",
       "  </thead>\n",
       "  <tbody>\n",
       "    <tr>\n",
       "      <th>YearsExperience</th>\n",
       "      <td>1.000000</td>\n",
       "      <td>0.978242</td>\n",
       "    </tr>\n",
       "    <tr>\n",
       "      <th>Salary</th>\n",
       "      <td>0.978242</td>\n",
       "      <td>1.000000</td>\n",
       "    </tr>\n",
       "  </tbody>\n",
       "</table>\n",
       "</div>"
      ],
      "text/plain": [
       "                 YearsExperience    Salary\n",
       "YearsExperience         1.000000  0.978242\n",
       "Salary                  0.978242  1.000000"
      ]
     },
     "execution_count": 9,
     "metadata": {},
     "output_type": "execute_result"
    }
   ],
   "source": [
    "d1.corr()"
   ]
  },
  {
   "cell_type": "code",
   "execution_count": 10,
   "id": "415581f1",
   "metadata": {},
   "outputs": [
    {
     "data": {
      "image/png": "[encoded data removed]",
      "text/plain": [
       "<Figure size 432x288 with 1 Axes>"
      ]
     },
     "metadata": {
      "needs_background": "light"
     },
     "output_type": "display_data"
    }
   ],
   "source": [
    "from matplotlib import pyplot as plt\n",
    "plt.scatter(d1['YearsExperience'],d1[\"Salary\"])\n",
    "plt.title('YearsExperience vs Salary ')\n",
    "plt.xlabel(\"YearsExperience\")\n",
    "plt.ylabel('Salary ')\n",
    "plt.show()"
   ]
  },
  {
   "cell_type": "markdown",
   "id": "958bdbdf",
   "metadata": {},
   "source": [
    "# Select  attribute as  dependent and independent"
   ]
  },
  {
   "cell_type": "code",
   "execution_count": 11,
   "id": "144081cf",
   "metadata": {},
   "outputs": [
    {
     "data": {
      "text/html": [
       "<div>\n",
       "<style scoped>\n",
       "    .dataframe tbody tr th:only-of-type {\n",
       "        vertical-align: middle;\n",
       "    }\n",
       "\n",
       "    .dataframe tbody tr th {\n",
       "        vertical-align: top;\n",
       "    }\n",
       "\n",
       "    .dataframe thead th {\n",
       "        text-align: right;\n",
       "    }\n",
       "</style>\n",
       "<table border=\"1\" class=\"dataframe\">\n",
       "  <thead>\n",
       "    <tr style=\"text-align: right;\">\n",
       "      <th></th>\n",
       "      <th>YearsExperience</th>\n",
       "      <th>Salary</th>\n",
       "    </tr>\n",
       "  </thead>\n",
       "  <tbody>\n",
       "    <tr>\n",
       "      <th>0</th>\n",
       "      <td>1.1</td>\n",
       "      <td>39343</td>\n",
       "    </tr>\n",
       "    <tr>\n",
       "      <th>1</th>\n",
       "      <td>1.3</td>\n",
       "      <td>46205</td>\n",
       "    </tr>\n",
       "    <tr>\n",
       "      <th>2</th>\n",
       "      <td>1.5</td>\n",
       "      <td>37731</td>\n",
       "    </tr>\n",
       "    <tr>\n",
       "      <th>3</th>\n",
       "      <td>2.0</td>\n",
       "      <td>43525</td>\n",
       "    </tr>\n",
       "    <tr>\n",
       "      <th>4</th>\n",
       "      <td>2.2</td>\n",
       "      <td>39891</td>\n",
       "    </tr>\n",
       "  </tbody>\n",
       "</table>\n",
       "</div>"
      ],
      "text/plain": [
       "   YearsExperience  Salary\n",
       "0              1.1   39343\n",
       "1              1.3   46205\n",
       "2              1.5   37731\n",
       "3              2.0   43525\n",
       "4              2.2   39891"
      ]
     },
     "execution_count": 11,
     "metadata": {},
     "output_type": "execute_result"
    }
   ],
   "source": [
    "d1.head()"
   ]
  },
  {
   "cell_type": "code",
   "execution_count": 12,
   "id": "96a9a234",
   "metadata": {},
   "outputs": [],
   "source": [
    "x=d1.iloc[:,:1].values\n",
    "y=d1.iloc[:,1].values"
   ]
  },
  {
   "cell_type": "code",
   "execution_count": 13,
   "id": "3170c9de",
   "metadata": {},
   "outputs": [
    {
     "name": "stdout",
     "output_type": "stream",
     "text": [
      "[[ 1.1]\n",
      " [ 1.3]\n",
      " [ 1.5]\n",
      " [ 2. ]\n",
      " [ 2.2]\n",
      " [ 2.9]\n",
      " [ 3. ]\n",
      " [ 3.2]\n",
      " [ 3.2]\n",
      " [ 3.7]\n",
      " [ 3.9]\n",
      " [ 4. ]\n",
      " [ 4. ]\n",
      " [ 4.1]\n",
      " [ 4.5]\n",
      " [ 4.9]\n",
      " [ 5.1]\n",
      " [ 5.3]\n",
      " [ 5.9]\n",
      " [ 6. ]\n",
      " [ 6.8]\n",
      " [ 7.1]\n",
      " [ 7.9]\n",
      " [ 8.2]\n",
      " [ 8.7]\n",
      " [ 9. ]\n",
      " [ 9.5]\n",
      " [ 9.6]\n",
      " [10.3]\n",
      " [10.5]]\n"
     ]
    }
   ],
   "source": [
    "print(x)"
   ]
  },
  {
   "cell_type": "code",
   "execution_count": 17,
   "id": "4bffaec0",
   "metadata": {},
   "outputs": [
    {
     "name": "stdout",
     "output_type": "stream",
     "text": [
      "[ 39343  46205  37731  43525  39891  56642  60150  54445  64445  57189\n",
      "  63218  55794  56957  57081  61111  67938  66029  83088  81363  93940\n",
      "  91738  98273 101302 113812 109431 105582 116969 112635 122391 121872]\n"
     ]
    }
   ],
   "source": [
    "print(y)"
   ]
  },
  {
   "cell_type": "markdown",
   "id": "557e2fe4",
   "metadata": {},
   "source": [
    "# Splitting Data into Training and Testing Dataset"
   ]
  },
  {
   "cell_type": "code",
   "execution_count": 14,
   "id": "7073e5cf",
   "metadata": {},
   "outputs": [],
   "source": [
    "from sklearn.model_selection import train_test_split\n",
    "x_train,x_test,y_train,y_test=train_test_split(x,y,test_size=0.2,random_state=0)"
   ]
  },
  {
   "cell_type": "code",
   "execution_count": 15,
   "id": "d6638ea0",
   "metadata": {
    "scrolled": true
   },
   "outputs": [
    {
     "name": "stdout",
     "output_type": "stream",
     "text": [
      "x_train\n",
      "[[ 9.6]\n",
      " [ 4. ]\n",
      " [ 5.3]\n",
      " [ 7.9]\n",
      " [ 2.9]\n",
      " [ 5.1]\n",
      " [ 3.2]\n",
      " [ 4.5]\n",
      " [ 8.2]\n",
      " [ 6.8]\n",
      " [ 1.3]\n",
      " [10.5]\n",
      " [ 3. ]\n",
      " [ 2.2]\n",
      " [ 5.9]\n",
      " [ 6. ]\n",
      " [ 3.7]\n",
      " [ 3.2]\n",
      " [ 9. ]\n",
      " [ 2. ]\n",
      " [ 1.1]\n",
      " [ 7.1]\n",
      " [ 4.9]\n",
      " [ 4. ]]\n",
      "x_test\n",
      "[[ 1.5]\n",
      " [10.3]\n",
      " [ 4.1]\n",
      " [ 3.9]\n",
      " [ 9.5]\n",
      " [ 8.7]]\n"
     ]
    }
   ],
   "source": [
    "print(\"x_train\")\n",
    "print(x_train)\n",
    "print(\"x_test\")\n",
    "print(x_test)"
   ]
  },
  {
   "cell_type": "markdown",
   "id": "ac4fea5d",
   "metadata": {},
   "source": [
    "x_test\n",
    "[[ 1.5]\n",
    " [10.3]\n",
    " [ 4.1]\n",
    " [ 3.9]\n",
    " [ 9.5]\n",
    " [ 8.7]]"
   ]
  },
  {
   "cell_type": "code",
   "execution_count": 16,
   "id": "fe22125d",
   "metadata": {},
   "outputs": [
    {
     "name": "stdout",
     "output_type": "stream",
     "text": [
      "(24, 1)\n",
      "(6, 1)\n",
      "(24,)\n",
      "(6,)\n"
     ]
    }
   ],
   "source": [
    "print(x_train.shape)\n",
    "print(x_test.shape)\n",
    "print(y_train.shape)\n",
    "print(y_test.shape)"
   ]
  },
  {
   "cell_type": "code",
   "execution_count": 17,
   "id": "3fbb63a5",
   "metadata": {},
   "outputs": [
    {
     "name": "stdout",
     "output_type": "stream",
     "text": [
      "X: [[ 1.1]\n",
      " [ 1.3]\n",
      " [ 1.5]\n",
      " [ 2. ]\n",
      " [ 2.2]\n",
      " [ 2.9]\n",
      " [ 3. ]\n",
      " [ 3.2]\n",
      " [ 3.2]\n",
      " [ 3.7]\n",
      " [ 3.9]\n",
      " [ 4. ]\n",
      " [ 4. ]\n",
      " [ 4.1]\n",
      " [ 4.5]\n",
      " [ 4.9]\n",
      " [ 5.1]\n",
      " [ 5.3]\n",
      " [ 5.9]\n",
      " [ 6. ]\n",
      " [ 6.8]\n",
      " [ 7.1]\n",
      " [ 7.9]\n",
      " [ 8.2]\n",
      " [ 8.7]\n",
      " [ 9. ]\n",
      " [ 9.5]\n",
      " [ 9.6]\n",
      " [10.3]\n",
      " [10.5]]\n",
      "x_train: [[ 9.6]\n",
      " [ 4. ]\n",
      " [ 5.3]\n",
      " [ 7.9]\n",
      " [ 2.9]\n",
      " [ 5.1]\n",
      " [ 3.2]\n",
      " [ 4.5]\n",
      " [ 8.2]\n",
      " [ 6.8]\n",
      " [ 1.3]\n",
      " [10.5]\n",
      " [ 3. ]\n",
      " [ 2.2]\n",
      " [ 5.9]\n",
      " [ 6. ]\n",
      " [ 3.7]\n",
      " [ 3.2]\n",
      " [ 9. ]\n",
      " [ 2. ]\n",
      " [ 1.1]\n",
      " [ 7.1]\n",
      " [ 4.9]\n",
      " [ 4. ]]\n",
      "x_test [[ 1.5]\n",
      " [10.3]\n",
      " [ 4.1]\n",
      " [ 3.9]\n",
      " [ 9.5]\n",
      " [ 8.7]]\n"
     ]
    }
   ],
   "source": [
    "print(\"X:\",x)\n",
    "\n",
    "print(\"x_train:\",x_train)\n",
    "print(\"x_test\",x_test)"
   ]
  },
  {
   "cell_type": "code",
   "execution_count": 18,
   "id": "2c7dc645",
   "metadata": {},
   "outputs": [
    {
     "name": "stdout",
     "output_type": "stream",
     "text": [
      "Y: [ 39343  46205  37731  43525  39891  56642  60150  54445  64445  57189\n",
      "  63218  55794  56957  57081  61111  67938  66029  83088  81363  93940\n",
      "  91738  98273 101302 113812 109431 105582 116969 112635 122391 121872]\n",
      "y_train: [112635  55794  83088 101302  56642  66029  64445  61111 113812  91738\n",
      "  46205 121872  60150  39891  81363  93940  57189  54445 105582  43525\n",
      "  39343  98273  67938  56957]\n",
      "y_test [ 37731 122391  57081  63218 116969 109431]\n"
     ]
    }
   ],
   "source": [
    "print(\"Y:\",y)\n",
    "\n",
    "print(\"y_train:\",y_train)\n",
    "print(\"y_test\",y_test)"
   ]
  },
  {
   "cell_type": "markdown",
   "id": "64301ea4",
   "metadata": {},
   "source": [
    "# Creating Linear Regression Model\n",
    "\n",
    "\n",
    "                                                                                                                     "
   ]
  },
  {
   "cell_type": "markdown",
   "id": "918a00b4",
   "metadata": {},
   "source": [
    "# y=aX+b"
   ]
  },
  {
   "cell_type": "markdown",
   "id": "ec1f131e",
   "metadata": {},
   "source": [
    "Where X=Predictor/Independant variable, \n",
    "Y=Response/Dependant Variable, \n",
    "a= Coefficient and b=Intercept\n",
    "\n",
    "In this example, X is YearsExperience and Y is Salary.\n"
   ]
  },
  {
   "cell_type": "code",
   "execution_count": 19,
   "id": "680feb78",
   "metadata": {},
   "outputs": [
    {
     "data": {
      "text/html": [
       "<style>#sk-container-id-1 {color: black;}#sk-container-id-1 pre{padding: 0;}#sk-container-id-1 div.sk-toggleable {background-color: white;}#sk-container-id-1 label.sk-toggleable__label {cursor: pointer;display: block;width: 100%;margin-bottom: 0;padding: 0.3em;box-sizing: border-box;text-align: center;}#sk-container-id-1 label.sk-toggleable__label-arrow:before {content: \"▸\";float: left;margin-right: 0.25em;color: #696969;}#sk-container-id-1 label.sk-toggleable__label-arrow:hover:before {color: black;}#sk-container-id-1 div.sk-estimator:hover label.sk-toggleable__label-arrow:before {color: black;}#sk-container-id-1 div.sk-toggleable__content {max-height: 0;max-width: 0;overflow: hidden;text-align: left;background-color: #f0f8ff;}#sk-container-id-1 div.sk-toggleable__content pre {margin: 0.2em;color: black;border-radius: 0.25em;background-color: #f0f8ff;}#sk-container-id-1 input.sk-toggleable__control:checked~div.sk-toggleable__content {max-height: 200px;max-width: 100%;overflow: auto;}#sk-container-id-1 input.sk-toggleable__control:checked~label.sk-toggleable__label-arrow:before {content: \"▾\";}#sk-container-id-1 div.sk-estimator input.sk-toggleable__control:checked~label.sk-toggleable__label {background-color: #d4ebff;}#sk-container-id-1 div.sk-label input.sk-toggleable__control:checked~label.sk-toggleable__label {background-color: #d4ebff;}#sk-container-id-1 input.sk-hidden--visually {border: 0;clip: rect(1px 1px 1px 1px);clip: rect(1px, 1px, 1px, 1px);height: 1px;margin: -1px;overflow: hidden;padding: 0;position: absolute;width: 1px;}#sk-container-id-1 div.sk-estimator {font-family: monospace;background-color: #f0f8ff;border: 1px dotted black;border-radius: 0.25em;box-sizing: border-box;margin-bottom: 0.5em;}#sk-container-id-1 div.sk-estimator:hover {background-color: #d4ebff;}#sk-container-id-1 div.sk-parallel-item::after {content: \"\";width: 100%;border-bottom: 1px solid gray;flex-grow: 1;}#sk-container-id-1 div.sk-label:hover label.sk-toggleable__label {background-color: #d4ebff;}#sk-container-id-1 div.sk-serial::before {content: \"\";position: absolute;border-left: 1px solid gray;box-sizing: border-box;top: 0;bottom: 0;left: 50%;z-index: 0;}#sk-container-id-1 div.sk-serial {display: flex;flex-direction: column;align-items: center;background-color: white;padding-right: 0.2em;padding-left: 0.2em;position: relative;}#sk-container-id-1 div.sk-item {position: relative;z-index: 1;}#sk-container-id-1 div.sk-parallel {display: flex;align-items: stretch;justify-content: center;background-color: white;position: relative;}#sk-container-id-1 div.sk-item::before, #sk-container-id-1 div.sk-parallel-item::before {content: \"\";position: absolute;border-left: 1px solid gray;box-sizing: border-box;top: 0;bottom: 0;left: 50%;z-index: -1;}#sk-container-id-1 div.sk-parallel-item {display: flex;flex-direction: column;z-index: 1;position: relative;background-color: white;}#sk-container-id-1 div.sk-parallel-item:first-child::after {align-self: flex-end;width: 50%;}#sk-container-id-1 div.sk-parallel-item:last-child::after {align-self: flex-start;width: 50%;}#sk-container-id-1 div.sk-parallel-item:only-child::after {width: 0;}#sk-container-id-1 div.sk-dashed-wrapped {border: 1px dashed gray;margin: 0 0.4em 0.5em 0.4em;box-sizing: border-box;padding-bottom: 0.4em;background-color: white;}#sk-container-id-1 div.sk-label label {font-family: monospace;font-weight: bold;display: inline-block;line-height: 1.2em;}#sk-container-id-1 div.sk-label-container {text-align: center;}#sk-container-id-1 div.sk-container {/* jupyter's `normalize.less` sets `[hidden] { display: none; }` but bootstrap.min.css set `[hidden] { display: none !important; }` so we also need the `!important` here to be able to override the default hidden behavior on the sphinx rendered scikit-learn.org. See: https://github.com/scikit-learn/scikit-learn/issues/21755 */display: inline-block !important;position: relative;}#sk-container-id-1 div.sk-text-repr-fallback {display: none;}</style><div id=\"sk-container-id-1\" class=\"sk-top-container\"><div class=\"sk-text-repr-fallback\"><pre>LinearRegression()</pre><b>In a Jupyter environment, please rerun this cell to show the HTML representation or trust the notebook. <br />On GitHub, the HTML representation is unable to render, please try loading this page with nbviewer.org.</b></div><div class=\"sk-container\" hidden><div class=\"sk-item\"><div class=\"sk-estimator sk-toggleable\"><input class=\"sk-toggleable__control sk-hidden--visually\" id=\"sk-estimator-id-1\" type=\"checkbox\" checked><label for=\"sk-estimator-id-1\" class=\"sk-toggleable__label sk-toggleable__label-arrow\">LinearRegression</label><div class=\"sk-toggleable__content\"><pre>LinearRegression()</pre></div></div></div></div></div>"
      ],
      "text/plain": [
       "LinearRegression()"
      ]
     },
     "execution_count": 19,
     "metadata": {},
     "output_type": "execute_result"
    }
   ],
   "source": [
    "from sklearn.linear_model import LinearRegression\n",
    "regressor=LinearRegression()\n",
    "regressor.fit(x_train,y_train) # Training the algorithm"
   ]
  },
  {
   "cell_type": "markdown",
   "id": "2800a140",
   "metadata": {},
   "source": [
    "# Interpreting Model Coefficients"
   ]
  },
  {
   "cell_type": "code",
   "execution_count": 20,
   "id": "76f167bf",
   "metadata": {},
   "outputs": [
    {
     "name": "stdout",
     "output_type": "stream",
     "text": [
      "26780.09915062818\n"
     ]
    }
   ],
   "source": [
    "print(regressor.intercept_)"
   ]
  },
  {
   "cell_type": "code",
   "execution_count": 21,
   "id": "3e646083",
   "metadata": {},
   "outputs": [
    {
     "name": "stdout",
     "output_type": "stream",
     "text": [
      "[9312.57512673]\n"
     ]
    }
   ],
   "source": [
    "print(regressor.coef_)"
   ]
  },
  {
   "cell_type": "markdown",
   "id": "404a967c",
   "metadata": {},
   "source": [
    "# Y=ax+b\n",
    "\n",
    "Salary=9312.57512673(YearsExperience)+26780.09915062818"
   ]
  },
  {
   "cell_type": "markdown",
   "id": "d24bd29d",
   "metadata": {},
   "source": [
    "# Making Predictions with Our Model"
   ]
  },
  {
   "cell_type": "code",
   "execution_count": 23,
   "id": "f2eda3c2",
   "metadata": {},
   "outputs": [],
   "source": [
    "y_pred=regressor.predict(x_test)"
   ]
  },
  {
   "cell_type": "code",
   "execution_count": 24,
   "id": "ae0f5ced",
   "metadata": {},
   "outputs": [
    {
     "name": "stdout",
     "output_type": "stream",
     "text": [
      "[ 40748.96184072 122699.62295594  64961.65717022  63099.14214487\n",
      " 115249.56285456 107799.50275317]\n"
     ]
    }
   ],
   "source": [
    "print(y_pred)"
   ]
  },
  {
   "cell_type": "markdown",
   "id": "23ac9ac0",
   "metadata": {},
   "source": [
    "# y_test [ 37731 122391  57081  63218 116969 109431]"
   ]
  },
  {
   "cell_type": "code",
   "execution_count": 25,
   "id": "b2fd9f6b",
   "metadata": {},
   "outputs": [
    {
     "name": "stdout",
     "output_type": "stream",
     "text": [
      "   Actual      Predicted\n",
      "0   37731   40748.961841\n",
      "1  122391  122699.622956\n",
      "2   57081   64961.657170\n",
      "3   63218   63099.142145\n",
      "4  116969  115249.562855\n",
      "5  109431  107799.502753\n"
     ]
    }
   ],
   "source": [
    "df=pd.DataFrame({'Actual':y_test,'Predicted':y_pred})\n",
    "print(df)"
   ]
  },
  {
   "cell_type": "markdown",
   "id": "baefa6d7",
   "metadata": {},
   "source": [
    "# Ploting  Linear Regression Model best line"
   ]
  },
  {
   "cell_type": "code",
   "execution_count": 26,
   "id": "28707876",
   "metadata": {},
   "outputs": [
    {
     "data": {
      "image/png": "[encoded data removed]",
      "text/plain": [
       "<Figure size 432x288 with 1 Axes>"
      ]
     },
     "metadata": {
      "needs_background": "light"
     },
     "output_type": "display_data"
    }
   ],
   "source": [
    "from matplotlib import pyplot as plt\n",
    "plt.scatter(d1['YearsExperience'],d1[\"Salary\"])\n",
    "plt.title('YearsExperience vs Salary ')\n",
    "plt.xlabel(\"YearsExperience\")\n",
    "plt.ylabel('Salary ')\n",
    "plt.show()"
   ]
  },
  {
   "cell_type": "markdown",
   "id": "0d613f7d",
   "metadata": {},
   "source": [
    "## The plot() function is used to draw points (markers) in a diagram.\n",
    "    By default, the plot() function draws a line from point to point.\n",
    "    The function takes parameters for specifying points in the diagram.\n",
    "    Parameter 1 is an array containing the points on the x-axis.\n",
    "    Parameter 2 is an array containing the points on the y-axis.\n",
    "    If we need to plot a line from (1, 3) to (8, 10), we have to pass two arrays [1, 8] and [3, 10] to the plot function.\n",
    "\n",
    "    plt.plot(xpoints, ypoints)\n",
    "    plt.show()"
   ]
  },
  {
   "cell_type": "code",
   "execution_count": 29,
   "id": "3160600e",
   "metadata": {},
   "outputs": [
    {
     "data": {
      "image/png": "[encoded data removed]",
      "text/plain": [
       "<Figure size 432x288 with 1 Axes>"
      ]
     },
     "metadata": {
      "needs_background": "light"
     },
     "output_type": "display_data"
    }
   ],
   "source": [
    "from matplotlib import pyplot as plt\n",
    "plt.plot(x_train,regressor.predict(x_train), color='red')\n",
    "plt.scatter(d1['YearsExperience'],d1[\"Salary\"])\n",
    "plt.title('YearsExperience vs Salary ')\n",
    "plt.xlabel(\"YearsExperience\")\n",
    "plt.ylabel('Salary ')\n",
    "plt.show()"
   ]
  },
  {
   "cell_type": "code",
   "execution_count": null,
   "id": "ec17b2f2",
   "metadata": {},
   "outputs": [],
   "source": []
  },
  {
   "cell_type": "markdown",
   "id": "337578ef",
   "metadata": {},
   "source": [
    "# Model Evaluation Metrics"
   ]
  },
  {
   "cell_type": "code",
   "execution_count": 27,
   "id": "50118e6e",
   "metadata": {},
   "outputs": [
    {
     "name": "stdout",
     "output_type": "stream",
     "text": [
      "Mean Absolute Error 2446.1723690465055\n"
     ]
    }
   ],
   "source": [
    "from sklearn import metrics\n",
    "print('Mean Absolute Error',metrics.mean_absolute_error(y_test,y_pred))"
   ]
  },
  {
   "cell_type": "code",
   "execution_count": 34,
   "id": "56f9ed22",
   "metadata": {},
   "outputs": [
    {
     "name": "stdout",
     "output_type": "stream",
     "text": [
      "Mean Squared Error 12823412.298126549\n"
     ]
    }
   ],
   "source": [
    "print('Mean Squared Error',metrics.mean_squared_error(y_test,y_pred))"
   ]
  },
  {
   "cell_type": "code",
   "execution_count": 35,
   "id": "5925945b",
   "metadata": {},
   "outputs": [
    {
     "name": "stdout",
     "output_type": "stream",
     "text": [
      "Root Mean Squared Error 3580.979237321343\n"
     ]
    }
   ],
   "source": [
    "# bNo direct function for RMSE \n",
    "print('Root Mean Squared Error',np.sqrt(metrics.mean_squared_error(y_test,y_pred)))"
   ]
  },
  {
   "cell_type": "code",
   "execution_count": 31,
   "id": "3e0c2fdc",
   "metadata": {},
   "outputs": [
    {
     "name": "stdout",
     "output_type": "stream",
     "text": [
      "[[ 1.5]\n",
      " [10.3]\n",
      " [ 4.1]\n",
      " [ 3.9]\n",
      " [ 9.5]\n",
      " [ 8.7]]\n"
     ]
    }
   ],
   "source": [
    "print(x_test)"
   ]
  },
  {
   "cell_type": "markdown",
   "id": "e527ba26",
   "metadata": {},
   "source": [
    "# Mean Absolute Error (MAE)"
   ]
  },
  {
   "cell_type": "markdown",
   "id": "73ef2b9b",
   "metadata": {},
   "source": [
    "# MAE=  [  ∑ abs(actual_value - prdicted_value)  ] / n\n",
    "\n"
   ]
  },
  {
   "cell_type": "markdown",
   "id": "862965de",
   "metadata": {},
   "source": [
    "mi=abs(actual_value-predicted_value)\n",
    "\n",
    "m1=abs(37731.0 - 40748.961841)=3017.961841\n",
    "\n",
    "m2=abs(122391.0 - 122699.622956)=308.6229559\n",
    "\n",
    "m3=abs(57081.0 - 64961.657170)=7880.65717\n",
    "\n",
    "m4=abs(63218.0 - 63099.142145)=118.8578551\n",
    "\n",
    "m5=abs(116969.0 - 115249.562855)=1719.437145\n",
    "\n",
    "m6=abs(109431.0 - 107799.502753)=1631.497247\n",
    "\n",
    "\n",
    "MAE=(m1 + m2 + m3 + m4 + m5 + m6 )/ 6\n",
    "\n",
    "MAE=(3017.961841+308.6229559+7880.65717+118.8578551+1719.437145+1631.497247) / 6\n",
    "\n",
    "MAE=(14677.03421) / 6\n",
    "\n",
    "MAE=2446.172369"
   ]
  },
  {
   "cell_type": "markdown",
   "id": "4f982e2f",
   "metadata": {},
   "source": [
    "# Mean Squared Error (MSE)"
   ]
  },
  {
   "cell_type": "markdown",
   "id": "18fd306c",
   "metadata": {},
   "source": [
    "# MSE= [ ∑ (actual_value - prdicted_value)² ] / n"
   ]
  },
  {
   "cell_type": "markdown",
   "id": "d54a6ff2",
   "metadata": {},
   "source": [
    "mi= (actual_value - prdicted_value)²\n",
    "\n",
    "\n",
    "m1= (37731.0 - 40748.961841)² = 9108093.672\n",
    "\n",
    "m2= (122391.0 - 122699.622956)² = 95248.12893\n",
    "\n",
    "m3= (57081.0 - 64961.657170)² = 62104757.43\n",
    "\n",
    "m4= (63218.0 - 63099.142145)² = 14127.18973\n",
    "\n",
    "m5= (116969.0 - 115249.562855)² = 2956464.097\n",
    "\n",
    "m6= (109431.0 - 107799.502753)² = 2661783.266\n",
    "\n",
    "\n",
    "MSE=( m1 + m2 + m3 + m4 + m5 + m6 ) / 6\n",
    "\n",
    "MSE=(9108093.672+95248.12893+62104757.43+14127.18973+2956464.097+2661783.266) / 6\n",
    "\n",
    "MSE=(76940473.79) / 6\n",
    "\n",
    "MSE=12823412.3\n"
   ]
  },
  {
   "cell_type": "markdown",
   "id": "e98f02e1",
   "metadata": {},
   "source": [
    "# Root Mean Squared Error (RMSE)"
   ]
  },
  {
   "cell_type": "markdown",
   "id": "9ad9cc32",
   "metadata": {},
   "source": [
    "RMSE= SQRT(MSE)\n",
    "RMSE= SQRT(12823412.3)\n",
    "RMSE= 3580.979237"
   ]
  },
  {
   "cell_type": "markdown",
   "id": "bd645cbb",
   "metadata": {},
   "source": [
    "# R-Squared"
   ]
  },
  {
   "cell_type": "code",
   "execution_count": 36,
   "id": "ae633c41",
   "metadata": {},
   "outputs": [
    {
     "name": "stdout",
     "output_type": "stream",
     "text": [
      "The train score for lr model is:  0.9411949620562126\n",
      "The test score for lr model is:  0.988169515729126\n"
     ]
    }
   ],
   "source": [
    "train_score_lr = regressor.score(x_train, y_train)\n",
    "test_score_lr = regressor.score(x_test, y_test)\n",
    "\n",
    "print(\"The train score for lr model is: \", train_score_lr)\n",
    "print(\"The test score for lr model is: \",test_score_lr)"
   ]
  },
  {
   "cell_type": "code",
   "execution_count": 37,
   "id": "a0f944a0",
   "metadata": {},
   "outputs": [
    {
     "name": "stdout",
     "output_type": "stream",
     "text": [
      "The train score for lr model is:  0.9411949620562126\n",
      "The test score for lr model is:  0.988169515729126\n"
     ]
    }
   ],
   "source": [
    "train_score_lr = regressor.score(x_train, y_train)\n",
    "test_score_lr = regressor.score(x_test, y_test)\n",
    "\n",
    "print(\"The train score for lr model is: \", train_score_lr)\n",
    "print(\"The test score for lr model is: \",test_score_lr)"
   ]
  },
  {
   "cell_type": "code",
   "execution_count": 38,
   "id": "a492bcb8",
   "metadata": {},
   "outputs": [
    {
     "name": "stdout",
     "output_type": "stream",
     "text": [
      "R²: 0.988169515729126\n"
     ]
    }
   ],
   "source": [
    "actual_minus_predicted = sum((y_test - y_pred)**2)\n",
    "actual_minus_actual_mean = sum((y_test - y_test.mean())**2)\n",
    "r2 = 1 - actual_minus_predicted/actual_minus_actual_mean\n",
    "print('R²:', r2)"
   ]
  },
  {
   "cell_type": "code",
   "execution_count": 42,
   "id": "fcdac2ad",
   "metadata": {},
   "outputs": [
    {
     "name": "stdout",
     "output_type": "stream",
     "text": [
      " R2 Score 0.988169515729126\n",
      "rr 0.988169515729126\n"
     ]
    }
   ],
   "source": [
    "from sklearn.metrics import r2_score\n",
    "# r2 score\n",
    "print(\" R2 Score\",r2_score(y_test,y_pred) )\n",
    "r2=r2_score(y_test,y_pred)\n",
    "print(\"rr\",r2)"
   ]
  },
  {
   "cell_type": "markdown",
   "id": "970c692c",
   "metadata": {},
   "source": [
    "# Adjusted R2 Score"
   ]
  },
  {
   "cell_type": "code",
   "execution_count": 32,
   "id": "f04b737f",
   "metadata": {},
   "outputs": [
    {
     "data": {
      "text/plain": [
       "(6, 1)"
      ]
     },
     "execution_count": 32,
     "metadata": {},
     "output_type": "execute_result"
    }
   ],
   "source": [
    "# Adjusted R2 Score\n",
    "x_test.shape"
   ]
  },
  {
   "cell_type": "code",
   "execution_count": 33,
   "id": "13c88e62",
   "metadata": {},
   "outputs": [
    {
     "data": {
      "text/plain": [
       "0.9852118946614076"
      ]
     },
     "execution_count": 33,
     "metadata": {},
     "output_type": "execute_result"
    }
   ],
   "source": [
    "1-((1-r2)*(6-1)/(6-1-1))"
   ]
  },
  {
   "cell_type": "code",
   "execution_count": 28,
   "id": "c5b2f0ed-446c-46ff-a4c5-cfdfd89b87af",
   "metadata": {},
   "outputs": [
    {
     "data": {
      "text/html": [
       "<div>\n",
       "<style scoped>\n",
       "    .dataframe tbody tr th:only-of-type {\n",
       "        vertical-align: middle;\n",
       "    }\n",
       "\n",
       "    .dataframe tbody tr th {\n",
       "        vertical-align: top;\n",
       "    }\n",
       "\n",
       "    .dataframe thead th {\n",
       "        text-align: right;\n",
       "    }\n",
       "</style>\n",
       "<table border=\"1\" class=\"dataframe\">\n",
       "  <thead>\n",
       "    <tr style=\"text-align: right;\">\n",
       "      <th></th>\n",
       "      <th>YearsExperience</th>\n",
       "      <th>Salary</th>\n",
       "    </tr>\n",
       "  </thead>\n",
       "  <tbody>\n",
       "    <tr>\n",
       "      <th>0</th>\n",
       "      <td>1.1</td>\n",
       "      <td>39343</td>\n",
       "    </tr>\n",
       "    <tr>\n",
       "      <th>1</th>\n",
       "      <td>1.3</td>\n",
       "      <td>46205</td>\n",
       "    </tr>\n",
       "    <tr>\n",
       "      <th>2</th>\n",
       "      <td>1.5</td>\n",
       "      <td>37731</td>\n",
       "    </tr>\n",
       "    <tr>\n",
       "      <th>3</th>\n",
       "      <td>2.0</td>\n",
       "      <td>43525</td>\n",
       "    </tr>\n",
       "    <tr>\n",
       "      <th>4</th>\n",
       "      <td>2.2</td>\n",
       "      <td>39891</td>\n",
       "    </tr>\n",
       "  </tbody>\n",
       "</table>\n",
       "</div>"
      ],
      "text/plain": [
       "   YearsExperience  Salary\n",
       "0              1.1   39343\n",
       "1              1.3   46205\n",
       "2              1.5   37731\n",
       "3              2.0   43525\n",
       "4              2.2   39891"
      ]
     },
     "execution_count": 28,
     "metadata": {},
     "output_type": "execute_result"
    }
   ],
   "source": [
    "d1.head()"
   ]
  },
  {
   "cell_type": "code",
   "execution_count": null,
   "id": "30386187",
   "metadata": {},
   "outputs": [],
   "source": [
    "# Adding new colum"
   ]
  },
  {
   "cell_type": "code",
   "execution_count": 34,
   "id": "48d38969",
   "metadata": {},
   "outputs": [],
   "source": [
    "new_df1=d1.copy()"
   ]
  },
  {
   "cell_type": "code",
   "execution_count": 35,
   "id": "ca17a33f",
   "metadata": {},
   "outputs": [
    {
     "data": {
      "text/html": [
       "<div>\n",
       "<style scoped>\n",
       "    .dataframe tbody tr th:only-of-type {\n",
       "        vertical-align: middle;\n",
       "    }\n",
       "\n",
       "    .dataframe tbody tr th {\n",
       "        vertical-align: top;\n",
       "    }\n",
       "\n",
       "    .dataframe thead th {\n",
       "        text-align: right;\n",
       "    }\n",
       "</style>\n",
       "<table border=\"1\" class=\"dataframe\">\n",
       "  <thead>\n",
       "    <tr style=\"text-align: right;\">\n",
       "      <th></th>\n",
       "      <th>YearsExperience</th>\n",
       "      <th>Salary</th>\n",
       "      <th>random_features</th>\n",
       "    </tr>\n",
       "  </thead>\n",
       "  <tbody>\n",
       "    <tr>\n",
       "      <th>0</th>\n",
       "      <td>1.1</td>\n",
       "      <td>39343</td>\n",
       "      <td>0.206595</td>\n",
       "    </tr>\n",
       "    <tr>\n",
       "      <th>1</th>\n",
       "      <td>1.3</td>\n",
       "      <td>46205</td>\n",
       "      <td>0.368540</td>\n",
       "    </tr>\n",
       "    <tr>\n",
       "      <th>2</th>\n",
       "      <td>1.5</td>\n",
       "      <td>37731</td>\n",
       "      <td>0.853190</td>\n",
       "    </tr>\n",
       "    <tr>\n",
       "      <th>3</th>\n",
       "      <td>2.0</td>\n",
       "      <td>43525</td>\n",
       "      <td>0.802776</td>\n",
       "    </tr>\n",
       "    <tr>\n",
       "      <th>4</th>\n",
       "      <td>2.2</td>\n",
       "      <td>39891</td>\n",
       "      <td>0.590760</td>\n",
       "    </tr>\n",
       "  </tbody>\n",
       "</table>\n",
       "</div>"
      ],
      "text/plain": [
       "   YearsExperience  Salary  random_features\n",
       "0              1.1   39343         0.206595\n",
       "1              1.3   46205         0.368540\n",
       "2              1.5   37731         0.853190\n",
       "3              2.0   43525         0.802776\n",
       "4              2.2   39891         0.590760"
      ]
     },
     "execution_count": 35,
     "metadata": {},
     "output_type": "execute_result"
    }
   ],
   "source": [
    "new_df1['random_features']=np.random.random(30)\n",
    "new_df1.head()"
   ]
  },
  {
   "cell_type": "code",
   "execution_count": 36,
   "id": "72108184",
   "metadata": {},
   "outputs": [
    {
     "data": {
      "text/html": [
       "<div>\n",
       "<style scoped>\n",
       "    .dataframe tbody tr th:only-of-type {\n",
       "        vertical-align: middle;\n",
       "    }\n",
       "\n",
       "    .dataframe tbody tr th {\n",
       "        vertical-align: top;\n",
       "    }\n",
       "\n",
       "    .dataframe thead th {\n",
       "        text-align: right;\n",
       "    }\n",
       "</style>\n",
       "<table border=\"1\" class=\"dataframe\">\n",
       "  <thead>\n",
       "    <tr style=\"text-align: right;\">\n",
       "      <th></th>\n",
       "      <th>YearsExperience</th>\n",
       "      <th>random_features</th>\n",
       "      <th>Salary</th>\n",
       "    </tr>\n",
       "  </thead>\n",
       "  <tbody>\n",
       "    <tr>\n",
       "      <th>0</th>\n",
       "      <td>1.1</td>\n",
       "      <td>0.206595</td>\n",
       "      <td>39343</td>\n",
       "    </tr>\n",
       "    <tr>\n",
       "      <th>1</th>\n",
       "      <td>1.3</td>\n",
       "      <td>0.368540</td>\n",
       "      <td>46205</td>\n",
       "    </tr>\n",
       "    <tr>\n",
       "      <th>2</th>\n",
       "      <td>1.5</td>\n",
       "      <td>0.853190</td>\n",
       "      <td>37731</td>\n",
       "    </tr>\n",
       "    <tr>\n",
       "      <th>3</th>\n",
       "      <td>2.0</td>\n",
       "      <td>0.802776</td>\n",
       "      <td>43525</td>\n",
       "    </tr>\n",
       "    <tr>\n",
       "      <th>4</th>\n",
       "      <td>2.2</td>\n",
       "      <td>0.590760</td>\n",
       "      <td>39891</td>\n",
       "    </tr>\n",
       "  </tbody>\n",
       "</table>\n",
       "</div>"
      ],
      "text/plain": [
       "   YearsExperience  random_features  Salary\n",
       "0              1.1         0.206595   39343\n",
       "1              1.3         0.368540   46205\n",
       "2              1.5         0.853190   37731\n",
       "3              2.0         0.802776   43525\n",
       "4              2.2         0.590760   39891"
      ]
     },
     "execution_count": 36,
     "metadata": {},
     "output_type": "execute_result"
    }
   ],
   "source": [
    "new_df1=new_df1[['YearsExperience','random_features','Salary']]\n",
    "new_df1.head()"
   ]
  },
  {
   "cell_type": "code",
   "execution_count": 37,
   "id": "47af7a1d",
   "metadata": {},
   "outputs": [
    {
     "data": {
      "image/png": "[encoded data removed]",
      "text/plain": [
       "<Figure size 640x480 with 1 Axes>"
      ]
     },
     "metadata": {},
     "output_type": "display_data"
    }
   ],
   "source": [
    "plt.scatter(new_df1['random_features'],new_df1[\"Salary\"])\n",
    "plt.title('random_features vs Salary ')\n",
    "plt.xlabel(\"random_features\")\n",
    "plt.ylabel('Salary ')\n",
    "plt.show()"
   ]
  },
  {
   "cell_type": "code",
   "execution_count": 38,
   "id": "862d8c14",
   "metadata": {},
   "outputs": [],
   "source": [
    "x=new_df1.iloc[:,0:2].values\n",
    "y=new_df1.iloc[:,-1].values"
   ]
  },
  {
   "cell_type": "code",
   "execution_count": 41,
   "id": "e7432cf0",
   "metadata": {},
   "outputs": [
    {
     "data": {
      "text/plain": [
       "array([[ 1.1       ,  0.2065951 ],\n",
       "       [ 1.3       ,  0.36854046],\n",
       "       [ 1.5       ,  0.85318997],\n",
       "       [ 2.        ,  0.80277557],\n",
       "       [ 2.2       ,  0.59076014],\n",
       "       [ 2.9       ,  0.70242804],\n",
       "       [ 3.        ,  0.61588421],\n",
       "       [ 3.2       ,  0.8937018 ],\n",
       "       [ 3.2       ,  0.92790763],\n",
       "       [ 3.7       ,  0.09561119],\n",
       "       [ 3.9       ,  0.48703051],\n",
       "       [ 4.        ,  0.46523339],\n",
       "       [ 4.        ,  0.92427366],\n",
       "       [ 4.1       ,  0.63597448],\n",
       "       [ 4.5       ,  0.76540334],\n",
       "       [ 4.9       ,  0.5605602 ],\n",
       "       [ 5.1       ,  0.24998273],\n",
       "       [ 5.3       ,  0.86751938],\n",
       "       [ 5.9       ,  0.23265432],\n",
       "       [ 6.        ,  0.56676638],\n",
       "       [ 6.8       ,  0.65128882],\n",
       "       [ 7.1       ,  0.54410221],\n",
       "       [ 7.9       ,  0.92082301],\n",
       "       [ 8.2       ,  0.93762724],\n",
       "       [ 8.7       ,  0.60191996],\n",
       "       [ 9.        ,  0.85130103],\n",
       "       [ 9.5       ,  0.91390249],\n",
       "       [ 9.6       ,  0.76664008],\n",
       "       [10.3       ,  0.86828392],\n",
       "       [10.5       ,  0.12263805]])"
      ]
     },
     "execution_count": 41,
     "metadata": {},
     "output_type": "execute_result"
    }
   ],
   "source": [
    "x"
   ]
  },
  {
   "cell_type": "code",
   "execution_count": 42,
   "id": "7fd80cf8",
   "metadata": {},
   "outputs": [
    {
     "data": {
      "text/plain": [
       "array([ 39343,  46205,  37731,  43525,  39891,  56642,  60150,  54445,\n",
       "        64445,  57189,  63218,  55794,  56957,  57081,  61111,  67938,\n",
       "        66029,  83088,  81363,  93940,  91738,  98273, 101302, 113812,\n",
       "       109431, 105582, 116969, 112635, 122391, 121872], dtype=int64)"
      ]
     },
     "execution_count": 42,
     "metadata": {},
     "output_type": "execute_result"
    }
   ],
   "source": [
    "y"
   ]
  },
  {
   "cell_type": "code",
   "execution_count": 43,
   "id": "21936a36",
   "metadata": {},
   "outputs": [],
   "source": [
    "from sklearn.model_selection import train_test_split\n",
    "x_train,x_test,y_train,y_test=train_test_split(x,y,test_size=0.2,random_state=0)"
   ]
  },
  {
   "cell_type": "code",
   "execution_count": 44,
   "id": "737b431c",
   "metadata": {},
   "outputs": [
    {
     "data": {
      "text/html": [
       "<style>#sk-container-id-2 {color: black;background-color: white;}#sk-container-id-2 pre{padding: 0;}#sk-container-id-2 div.sk-toggleable {background-color: white;}#sk-container-id-2 label.sk-toggleable__label {cursor: pointer;display: block;width: 100%;margin-bottom: 0;padding: 0.3em;box-sizing: border-box;text-align: center;}#sk-container-id-2 label.sk-toggleable__label-arrow:before {content: \"▸\";float: left;margin-right: 0.25em;color: #696969;}#sk-container-id-2 label.sk-toggleable__label-arrow:hover:before {color: black;}#sk-container-id-2 div.sk-estimator:hover label.sk-toggleable__label-arrow:before {color: black;}#sk-container-id-2 div.sk-toggleable__content {max-height: 0;max-width: 0;overflow: hidden;text-align: left;background-color: #f0f8ff;}#sk-container-id-2 div.sk-toggleable__content pre {margin: 0.2em;color: black;border-radius: 0.25em;background-color: #f0f8ff;}#sk-container-id-2 input.sk-toggleable__control:checked~div.sk-toggleable__content {max-height: 200px;max-width: 100%;overflow: auto;}#sk-container-id-2 input.sk-toggleable__control:checked~label.sk-toggleable__label-arrow:before {content: \"▾\";}#sk-container-id-2 div.sk-estimator input.sk-toggleable__control:checked~label.sk-toggleable__label {background-color: #d4ebff;}#sk-container-id-2 div.sk-label input.sk-toggleable__control:checked~label.sk-toggleable__label {background-color: #d4ebff;}#sk-container-id-2 input.sk-hidden--visually {border: 0;clip: rect(1px 1px 1px 1px);clip: rect(1px, 1px, 1px, 1px);height: 1px;margin: -1px;overflow: hidden;padding: 0;position: absolute;width: 1px;}#sk-container-id-2 div.sk-estimator {font-family: monospace;background-color: #f0f8ff;border: 1px dotted black;border-radius: 0.25em;box-sizing: border-box;margin-bottom: 0.5em;}#sk-container-id-2 div.sk-estimator:hover {background-color: #d4ebff;}#sk-container-id-2 div.sk-parallel-item::after {content: \"\";width: 100%;border-bottom: 1px solid gray;flex-grow: 1;}#sk-container-id-2 div.sk-label:hover label.sk-toggleable__label {background-color: #d4ebff;}#sk-container-id-2 div.sk-serial::before {content: \"\";position: absolute;border-left: 1px solid gray;box-sizing: border-box;top: 0;bottom: 0;left: 50%;z-index: 0;}#sk-container-id-2 div.sk-serial {display: flex;flex-direction: column;align-items: center;background-color: white;padding-right: 0.2em;padding-left: 0.2em;position: relative;}#sk-container-id-2 div.sk-item {position: relative;z-index: 1;}#sk-container-id-2 div.sk-parallel {display: flex;align-items: stretch;justify-content: center;background-color: white;position: relative;}#sk-container-id-2 div.sk-item::before, #sk-container-id-2 div.sk-parallel-item::before {content: \"\";position: absolute;border-left: 1px solid gray;box-sizing: border-box;top: 0;bottom: 0;left: 50%;z-index: -1;}#sk-container-id-2 div.sk-parallel-item {display: flex;flex-direction: column;z-index: 1;position: relative;background-color: white;}#sk-container-id-2 div.sk-parallel-item:first-child::after {align-self: flex-end;width: 50%;}#sk-container-id-2 div.sk-parallel-item:last-child::after {align-self: flex-start;width: 50%;}#sk-container-id-2 div.sk-parallel-item:only-child::after {width: 0;}#sk-container-id-2 div.sk-dashed-wrapped {border: 1px dashed gray;margin: 0 0.4em 0.5em 0.4em;box-sizing: border-box;padding-bottom: 0.4em;background-color: white;}#sk-container-id-2 div.sk-label label {font-family: monospace;font-weight: bold;display: inline-block;line-height: 1.2em;}#sk-container-id-2 div.sk-label-container {text-align: center;}#sk-container-id-2 div.sk-container {/* jupyter's `normalize.less` sets `[hidden] { display: none; }` but bootstrap.min.css set `[hidden] { display: none !important; }` so we also need the `!important` here to be able to override the default hidden behavior on the sphinx rendered scikit-learn.org. See: https://github.com/scikit-learn/scikit-learn/issues/21755 */display: inline-block !important;position: relative;}#sk-container-id-2 div.sk-text-repr-fallback {display: none;}</style><div id=\"sk-container-id-2\" class=\"sk-top-container\"><div class=\"sk-text-repr-fallback\"><pre>LinearRegression()</pre><b>In a Jupyter environment, please rerun this cell to show the HTML representation or trust the notebook. <br />On GitHub, the HTML representation is unable to render, please try loading this page with nbviewer.org.</b></div><div class=\"sk-container\" hidden><div class=\"sk-item\"><div class=\"sk-estimator sk-toggleable\"><input class=\"sk-toggleable__control sk-hidden--visually\" id=\"sk-estimator-id-2\" type=\"checkbox\" checked><label for=\"sk-estimator-id-2\" class=\"sk-toggleable__label sk-toggleable__label-arrow\">LinearRegression</label><div class=\"sk-toggleable__content\"><pre>LinearRegression()</pre></div></div></div></div></div>"
      ],
      "text/plain": [
       "LinearRegression()"
      ]
     },
     "execution_count": 44,
     "metadata": {},
     "output_type": "execute_result"
    }
   ],
   "source": [
    "from sklearn.linear_model import LinearRegression\n",
    "regressor=LinearRegression()\n",
    "regressor.fit(x_train,y_train) # Training the algorithm"
   ]
  },
  {
   "cell_type": "code",
   "execution_count": 45,
   "id": "4cdacbbd",
   "metadata": {},
   "outputs": [],
   "source": [
    "y_pred=regressor.predict(x_test)"
   ]
  },
  {
   "cell_type": "code",
   "execution_count": 46,
   "id": "f423ac79",
   "metadata": {},
   "outputs": [
    {
     "name": "stdout",
     "output_type": "stream",
     "text": [
      " R2 Score 0.9866549209774045\n"
     ]
    }
   ],
   "source": [
    "from sklearn.metrics import r2_score\n",
    "# r2 score\n",
    "print(\" R2 Score\",r2_score(y_test,y_pred) )\n",
    "r2=r2_score(y_test,y_pred)"
   ]
  },
  {
   "cell_type": "code",
   "execution_count": 47,
   "id": "6e404dff",
   "metadata": {},
   "outputs": [
    {
     "data": {
      "text/plain": [
       "0.9833186512217555"
      ]
     },
     "execution_count": 47,
     "metadata": {},
     "output_type": "execute_result"
    }
   ],
   "source": [
    "# Adjusted R2 Score\n",
    "1-((1-r2)*(6-1)/(6-1-1))"
   ]
  },
  {
   "cell_type": "code",
   "execution_count": null,
   "id": "ebbc4bee",
   "metadata": {},
   "outputs": [],
   "source": []
  },
  {
   "cell_type": "code",
   "execution_count": null,
   "id": "9bb84862",
   "metadata": {},
   "outputs": [],
   "source": []
  },
  {
   "cell_type": "code",
   "execution_count": null,
   "id": "a9c8132d",
   "metadata": {},
   "outputs": [],
   "source": []
  },
  {
   "cell_type": "code",
   "execution_count": null,
   "id": "9e7d61fc",
   "metadata": {},
   "outputs": [],
   "source": []
  },
  {
   "cell_type": "code",
   "execution_count": null,
   "id": "e56fe3d4",
   "metadata": {},
   "outputs": [],
   "source": []
  },
  {
   "cell_type": "code",
   "execution_count": null,
   "id": "9485768e",
   "metadata": {},
   "outputs": [],
   "source": []
  },
  {
   "cell_type": "code",
   "execution_count": null,
   "id": "3cc6d8b8",
   "metadata": {},
   "outputs": [],
   "source": []
  }
 ],
 "metadata": {
  "celltoolbar": "Edit Metadata",
  "kernelspec": {
   "display_name": "Python 3 (ipykernel)",
   "language": "python",
   "name": "python3"
  },
  "language_info": {
   "codemirror_mode": {
    "name": "ipython",
    "version": 3
   },
   "file_extension": ".py",
   "mimetype": "text/x-python",
   "name": "python",
   "nbconvert_exporter": "python",
   "pygments_lexer": "ipython3",
   "version": "3.10.4"
  }
 },
 "nbformat": 4,
 "nbformat_minor": 5
}
