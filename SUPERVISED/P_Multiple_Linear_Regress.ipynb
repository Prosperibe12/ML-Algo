{
 "cells": [
  {
   "cell_type": "markdown",
   "id": "a8fbcb35-28aa-466a-a20e-8b4ab1ea24cb",
   "metadata": {},
   "source": [
    "#### Multiple Linear Regression Problem\n",
    "* Predict Sales based on Advertising Medium"
   ]
  },
  {
   "cell_type": "markdown",
   "id": "f782145c-3d22-425c-99d0-2576ab7a9a76",
   "metadata": {},
   "source": [
    "Single Linear Regression will be explored first"
   ]
  },
  {
   "cell_type": "markdown",
   "id": "c9dc045c-f6a2-4980-8647-b02ac36962d3",
   "metadata": {},
   "source": [
    "* Import Libraries\n",
    "* Load Dataset\n",
    "* Perform EDA\n",
    "* Statiscal Inference\n",
    "* Model Training\n",
    "* Prediction\n",
    "* Model Evaluation"
   ]
  },
  {
   "cell_type": "code",
   "execution_count": 58,
   "id": "6a95618f-168b-400d-a000-683012fb0311",
   "metadata": {},
   "outputs": [],
   "source": [
    "# Import Libraries\n",
    "import pandas as pd\n",
    "import numpy as np\n",
    "import matplotlib.pyplot as plt\n",
    "import seaborn as sns\n",
    "from sklearn.linear_model import (LinearRegression, LassoCV, RidgeCV)\n",
    "from sklearn.model_selection import train_test_split\n",
    "from sklearn.metrics import (mean_absolute_error, mean_squared_error, r2_score)\n",
    "from sklearn.preprocessing import StandardScaler"
   ]
  },
  {
   "cell_type": "code",
   "execution_count": 59,
   "id": "fe77ec30-9d90-4e33-b086-c75020fdfd5d",
   "metadata": {},
   "outputs": [
    {
     "data": {
      "text/html": [
       "<div>\n",
       "<style scoped>\n",
       "    .dataframe tbody tr th:only-of-type {\n",
       "        vertical-align: middle;\n",
       "    }\n",
       "\n",
       "    .dataframe tbody tr th {\n",
       "        vertical-align: top;\n",
       "    }\n",
       "\n",
       "    .dataframe thead th {\n",
       "        text-align: right;\n",
       "    }\n",
       "</style>\n",
       "<table border=\"1\" class=\"dataframe\">\n",
       "  <thead>\n",
       "    <tr style=\"text-align: right;\">\n",
       "      <th></th>\n",
       "      <th>Unnamed: 0</th>\n",
       "      <th>TV</th>\n",
       "      <th>Radio</th>\n",
       "      <th>Newspaper</th>\n",
       "      <th>Sales</th>\n",
       "    </tr>\n",
       "  </thead>\n",
       "  <tbody>\n",
       "    <tr>\n",
       "      <th>0</th>\n",
       "      <td>1</td>\n",
       "      <td>230.1</td>\n",
       "      <td>37.8</td>\n",
       "      <td>69.2</td>\n",
       "      <td>22.1</td>\n",
       "    </tr>\n",
       "    <tr>\n",
       "      <th>1</th>\n",
       "      <td>2</td>\n",
       "      <td>44.5</td>\n",
       "      <td>39.3</td>\n",
       "      <td>45.1</td>\n",
       "      <td>10.4</td>\n",
       "    </tr>\n",
       "    <tr>\n",
       "      <th>2</th>\n",
       "      <td>3</td>\n",
       "      <td>17.2</td>\n",
       "      <td>45.9</td>\n",
       "      <td>69.3</td>\n",
       "      <td>9.3</td>\n",
       "    </tr>\n",
       "    <tr>\n",
       "      <th>3</th>\n",
       "      <td>4</td>\n",
       "      <td>151.5</td>\n",
       "      <td>41.3</td>\n",
       "      <td>58.5</td>\n",
       "      <td>18.5</td>\n",
       "    </tr>\n",
       "    <tr>\n",
       "      <th>4</th>\n",
       "      <td>5</td>\n",
       "      <td>180.8</td>\n",
       "      <td>10.8</td>\n",
       "      <td>58.4</td>\n",
       "      <td>12.9</td>\n",
       "    </tr>\n",
       "  </tbody>\n",
       "</table>\n",
       "</div>"
      ],
      "text/plain": [
       "   Unnamed: 0     TV  Radio  Newspaper  Sales\n",
       "0           1  230.1   37.8       69.2   22.1\n",
       "1           2   44.5   39.3       45.1   10.4\n",
       "2           3   17.2   45.9       69.3    9.3\n",
       "3           4  151.5   41.3       58.5   18.5\n",
       "4           5  180.8   10.8       58.4   12.9"
      ]
     },
     "execution_count": 59,
     "metadata": {},
     "output_type": "execute_result"
    }
   ],
   "source": [
    "# Load dataset\n",
    "simple_df = pd.read_csv(\"../DATASET/Advertising_Sales.csv\")\n",
    "simple_df.head()"
   ]
  },
  {
   "cell_type": "markdown",
   "id": "ba63a8c2-8114-4b9b-835c-315f5c8cc1e3",
   "metadata": {},
   "source": [
    "##### Exploratory Data Analysis"
   ]
  },
  {
   "cell_type": "code",
   "execution_count": 60,
   "id": "2a22d7e9-a2d5-4b72-af21-c4bf58b08acb",
   "metadata": {},
   "outputs": [
    {
     "data": {
      "text/plain": [
       "(200, 5)"
      ]
     },
     "execution_count": 60,
     "metadata": {},
     "output_type": "execute_result"
    }
   ],
   "source": [
    "# Shape and dimension of Dataset\n",
    "simple_df.shape"
   ]
  },
  {
   "cell_type": "code",
   "execution_count": 61,
   "id": "3395c12f-c478-4765-bde8-5ff0a0a593d5",
   "metadata": {},
   "outputs": [
    {
     "data": {
      "text/plain": [
       "Index(['Unnamed: 0', 'TV', 'Radio', 'Newspaper', 'Sales'], dtype='object')"
      ]
     },
     "execution_count": 61,
     "metadata": {},
     "output_type": "execute_result"
    }
   ],
   "source": [
    "# Dataset Columns\n",
    "simple_df.columns"
   ]
  },
  {
   "cell_type": "code",
   "execution_count": 62,
   "id": "abffadf8-dd5f-4ea1-b864-e94083af4e79",
   "metadata": {},
   "outputs": [
    {
     "name": "stdout",
     "output_type": "stream",
     "text": [
      "<class 'pandas.core.frame.DataFrame'>\n",
      "RangeIndex: 200 entries, 0 to 199\n",
      "Data columns (total 5 columns):\n",
      " #   Column      Non-Null Count  Dtype  \n",
      "---  ------      --------------  -----  \n",
      " 0   Unnamed: 0  200 non-null    int64  \n",
      " 1   TV          200 non-null    float64\n",
      " 2   Radio       200 non-null    float64\n",
      " 3   Newspaper   200 non-null    float64\n",
      " 4   Sales       200 non-null    float64\n",
      "dtypes: float64(4), int64(1)\n",
      "memory usage: 7.9 KB\n"
     ]
    }
   ],
   "source": [
    "# dataset info\n",
    "simple_df.info()"
   ]
  },
  {
   "cell_type": "code",
   "execution_count": 63,
   "id": "a493678d-c5d5-4abd-9b73-633f78b5632a",
   "metadata": {},
   "outputs": [
    {
     "data": {
      "text/html": [
       "<div>\n",
       "<style scoped>\n",
       "    .dataframe tbody tr th:only-of-type {\n",
       "        vertical-align: middle;\n",
       "    }\n",
       "\n",
       "    .dataframe tbody tr th {\n",
       "        vertical-align: top;\n",
       "    }\n",
       "\n",
       "    .dataframe thead th {\n",
       "        text-align: right;\n",
       "    }\n",
       "</style>\n",
       "<table border=\"1\" class=\"dataframe\">\n",
       "  <thead>\n",
       "    <tr style=\"text-align: right;\">\n",
       "      <th></th>\n",
       "      <th>count</th>\n",
       "      <th>mean</th>\n",
       "      <th>std</th>\n",
       "      <th>min</th>\n",
       "      <th>25%</th>\n",
       "      <th>50%</th>\n",
       "      <th>75%</th>\n",
       "      <th>max</th>\n",
       "    </tr>\n",
       "  </thead>\n",
       "  <tbody>\n",
       "    <tr>\n",
       "      <th>Unnamed: 0</th>\n",
       "      <td>200.0</td>\n",
       "      <td>100.5000</td>\n",
       "      <td>57.879185</td>\n",
       "      <td>1.0</td>\n",
       "      <td>50.750</td>\n",
       "      <td>100.50</td>\n",
       "      <td>150.250</td>\n",
       "      <td>200.0</td>\n",
       "    </tr>\n",
       "    <tr>\n",
       "      <th>TV</th>\n",
       "      <td>200.0</td>\n",
       "      <td>147.0425</td>\n",
       "      <td>85.854236</td>\n",
       "      <td>0.7</td>\n",
       "      <td>74.375</td>\n",
       "      <td>149.75</td>\n",
       "      <td>218.825</td>\n",
       "      <td>296.4</td>\n",
       "    </tr>\n",
       "    <tr>\n",
       "      <th>Radio</th>\n",
       "      <td>200.0</td>\n",
       "      <td>23.2640</td>\n",
       "      <td>14.846809</td>\n",
       "      <td>0.0</td>\n",
       "      <td>9.975</td>\n",
       "      <td>22.90</td>\n",
       "      <td>36.525</td>\n",
       "      <td>49.6</td>\n",
       "    </tr>\n",
       "    <tr>\n",
       "      <th>Newspaper</th>\n",
       "      <td>200.0</td>\n",
       "      <td>30.5540</td>\n",
       "      <td>21.778621</td>\n",
       "      <td>0.3</td>\n",
       "      <td>12.750</td>\n",
       "      <td>25.75</td>\n",
       "      <td>45.100</td>\n",
       "      <td>114.0</td>\n",
       "    </tr>\n",
       "    <tr>\n",
       "      <th>Sales</th>\n",
       "      <td>200.0</td>\n",
       "      <td>14.0225</td>\n",
       "      <td>5.217457</td>\n",
       "      <td>1.6</td>\n",
       "      <td>10.375</td>\n",
       "      <td>12.90</td>\n",
       "      <td>17.400</td>\n",
       "      <td>27.0</td>\n",
       "    </tr>\n",
       "  </tbody>\n",
       "</table>\n",
       "</div>"
      ],
      "text/plain": [
       "            count      mean        std  min     25%     50%      75%    max\n",
       "Unnamed: 0  200.0  100.5000  57.879185  1.0  50.750  100.50  150.250  200.0\n",
       "TV          200.0  147.0425  85.854236  0.7  74.375  149.75  218.825  296.4\n",
       "Radio       200.0   23.2640  14.846809  0.0   9.975   22.90   36.525   49.6\n",
       "Newspaper   200.0   30.5540  21.778621  0.3  12.750   25.75   45.100  114.0\n",
       "Sales       200.0   14.0225   5.217457  1.6  10.375   12.90   17.400   27.0"
      ]
     },
     "execution_count": 63,
     "metadata": {},
     "output_type": "execute_result"
    }
   ],
   "source": [
    "# Summary Statistics of Dataset\n",
    "simple_df.describe().T"
   ]
  },
  {
   "cell_type": "code",
   "execution_count": 64,
   "id": "07eeaf58-3814-4786-a617-db70b3286529",
   "metadata": {},
   "outputs": [
    {
     "data": {
      "text/plain": [
       "Unnamed: 0    0\n",
       "TV            0\n",
       "Radio         0\n",
       "Newspaper     0\n",
       "Sales         0\n",
       "dtype: int64"
      ]
     },
     "execution_count": 64,
     "metadata": {},
     "output_type": "execute_result"
    }
   ],
   "source": [
    "# Check for null values\n",
    "simple_df.isna().sum()"
   ]
  },
  {
   "cell_type": "code",
   "execution_count": 65,
   "id": "782ec88e-7959-4989-b6e2-9ee3a2d53345",
   "metadata": {},
   "outputs": [
    {
     "data": {
      "text/html": [
       "<div>\n",
       "<style scoped>\n",
       "    .dataframe tbody tr th:only-of-type {\n",
       "        vertical-align: middle;\n",
       "    }\n",
       "\n",
       "    .dataframe tbody tr th {\n",
       "        vertical-align: top;\n",
       "    }\n",
       "\n",
       "    .dataframe thead th {\n",
       "        text-align: right;\n",
       "    }\n",
       "</style>\n",
       "<table border=\"1\" class=\"dataframe\">\n",
       "  <thead>\n",
       "    <tr style=\"text-align: right;\">\n",
       "      <th></th>\n",
       "      <th>Unnamed: 0</th>\n",
       "      <th>TV</th>\n",
       "      <th>Radio</th>\n",
       "      <th>Newspaper</th>\n",
       "      <th>Sales</th>\n",
       "    </tr>\n",
       "  </thead>\n",
       "  <tbody>\n",
       "  </tbody>\n",
       "</table>\n",
       "</div>"
      ],
      "text/plain": [
       "Empty DataFrame\n",
       "Columns: [Unnamed: 0, TV, Radio, Newspaper, Sales]\n",
       "Index: []"
      ]
     },
     "execution_count": 65,
     "metadata": {},
     "output_type": "execute_result"
    }
   ],
   "source": [
    "# check for duplicated rows\n",
    "simple_df.loc[simple_df.duplicated(subset=['TV', 'Radio', 'Newspaper', 'Sales'])]"
   ]
  },
  {
   "cell_type": "code",
   "execution_count": 66,
   "id": "1fbd63d9-4105-4170-b897-5265928b4574",
   "metadata": {},
   "outputs": [
    {
     "data": {
      "text/html": [
       "<div>\n",
       "<style scoped>\n",
       "    .dataframe tbody tr th:only-of-type {\n",
       "        vertical-align: middle;\n",
       "    }\n",
       "\n",
       "    .dataframe tbody tr th {\n",
       "        vertical-align: top;\n",
       "    }\n",
       "\n",
       "    .dataframe thead th {\n",
       "        text-align: right;\n",
       "    }\n",
       "</style>\n",
       "<table border=\"1\" class=\"dataframe\">\n",
       "  <thead>\n",
       "    <tr style=\"text-align: right;\">\n",
       "      <th></th>\n",
       "      <th>Unnamed: 0</th>\n",
       "      <th>TV</th>\n",
       "      <th>Radio</th>\n",
       "      <th>Newspaper</th>\n",
       "      <th>Sales</th>\n",
       "    </tr>\n",
       "  </thead>\n",
       "  <tbody>\n",
       "    <tr>\n",
       "      <th>Unnamed: 0</th>\n",
       "      <td>1.000000</td>\n",
       "      <td>0.017715</td>\n",
       "      <td>-0.110680</td>\n",
       "      <td>-0.154944</td>\n",
       "      <td>-0.051616</td>\n",
       "    </tr>\n",
       "    <tr>\n",
       "      <th>TV</th>\n",
       "      <td>0.017715</td>\n",
       "      <td>1.000000</td>\n",
       "      <td>0.054809</td>\n",
       "      <td>0.056648</td>\n",
       "      <td>0.782224</td>\n",
       "    </tr>\n",
       "    <tr>\n",
       "      <th>Radio</th>\n",
       "      <td>-0.110680</td>\n",
       "      <td>0.054809</td>\n",
       "      <td>1.000000</td>\n",
       "      <td>0.354104</td>\n",
       "      <td>0.576223</td>\n",
       "    </tr>\n",
       "    <tr>\n",
       "      <th>Newspaper</th>\n",
       "      <td>-0.154944</td>\n",
       "      <td>0.056648</td>\n",
       "      <td>0.354104</td>\n",
       "      <td>1.000000</td>\n",
       "      <td>0.228299</td>\n",
       "    </tr>\n",
       "    <tr>\n",
       "      <th>Sales</th>\n",
       "      <td>-0.051616</td>\n",
       "      <td>0.782224</td>\n",
       "      <td>0.576223</td>\n",
       "      <td>0.228299</td>\n",
       "      <td>1.000000</td>\n",
       "    </tr>\n",
       "  </tbody>\n",
       "</table>\n",
       "</div>"
      ],
      "text/plain": [
       "            Unnamed: 0        TV     Radio  Newspaper     Sales\n",
       "Unnamed: 0    1.000000  0.017715 -0.110680  -0.154944 -0.051616\n",
       "TV            0.017715  1.000000  0.054809   0.056648  0.782224\n",
       "Radio        -0.110680  0.054809  1.000000   0.354104  0.576223\n",
       "Newspaper    -0.154944  0.056648  0.354104   1.000000  0.228299\n",
       "Sales        -0.051616  0.782224  0.576223   0.228299  1.000000"
      ]
     },
     "execution_count": 66,
     "metadata": {},
     "output_type": "execute_result"
    }
   ],
   "source": [
    "# Correlation\n",
    "simple_df.corr()"
   ]
  },
  {
   "cell_type": "markdown",
   "id": "291de700-5cc6-4d3c-80c9-e6c5cf25b996",
   "metadata": {},
   "source": [
    "#### Linear Regression\n",
    "* Select TV as the independent variable from the dataset because it is more correlated to the sales than other columns"
   ]
  },
  {
   "cell_type": "code",
   "execution_count": 67,
   "id": "e3b22003-8d2a-44a5-b475-c0b6f79a7db6",
   "metadata": {},
   "outputs": [],
   "source": [
    "x = simple_df[['TV']]\n",
    "y = simple_df.Sales"
   ]
  },
  {
   "cell_type": "code",
   "execution_count": 68,
   "id": "156fa39a-729c-4988-93db-ca80b0568166",
   "metadata": {},
   "outputs": [],
   "source": [
    "# split dataset for training\n",
    "l_x_train,l_x_test,l_y_train,l_y_test=train_test_split(x,y,test_size=0.2,random_state=1)"
   ]
  },
  {
   "cell_type": "code",
   "execution_count": 69,
   "id": "8783d285-b09b-437f-bb34-e7ddfce668d8",
   "metadata": {},
   "outputs": [
    {
     "data": {
      "text/html": [
       "<style>#sk-container-id-5 {color: black;}#sk-container-id-5 pre{padding: 0;}#sk-container-id-5 div.sk-toggleable {background-color: white;}#sk-container-id-5 label.sk-toggleable__label {cursor: pointer;display: block;width: 100%;margin-bottom: 0;padding: 0.3em;box-sizing: border-box;text-align: center;}#sk-container-id-5 label.sk-toggleable__label-arrow:before {content: \"▸\";float: left;margin-right: 0.25em;color: #696969;}#sk-container-id-5 label.sk-toggleable__label-arrow:hover:before {color: black;}#sk-container-id-5 div.sk-estimator:hover label.sk-toggleable__label-arrow:before {color: black;}#sk-container-id-5 div.sk-toggleable__content {max-height: 0;max-width: 0;overflow: hidden;text-align: left;background-color: #f0f8ff;}#sk-container-id-5 div.sk-toggleable__content pre {margin: 0.2em;color: black;border-radius: 0.25em;background-color: #f0f8ff;}#sk-container-id-5 input.sk-toggleable__control:checked~div.sk-toggleable__content {max-height: 200px;max-width: 100%;overflow: auto;}#sk-container-id-5 input.sk-toggleable__control:checked~label.sk-toggleable__label-arrow:before {content: \"▾\";}#sk-container-id-5 div.sk-estimator input.sk-toggleable__control:checked~label.sk-toggleable__label {background-color: #d4ebff;}#sk-container-id-5 div.sk-label input.sk-toggleable__control:checked~label.sk-toggleable__label {background-color: #d4ebff;}#sk-container-id-5 input.sk-hidden--visually {border: 0;clip: rect(1px 1px 1px 1px);clip: rect(1px, 1px, 1px, 1px);height: 1px;margin: -1px;overflow: hidden;padding: 0;position: absolute;width: 1px;}#sk-container-id-5 div.sk-estimator {font-family: monospace;background-color: #f0f8ff;border: 1px dotted black;border-radius: 0.25em;box-sizing: border-box;margin-bottom: 0.5em;}#sk-container-id-5 div.sk-estimator:hover {background-color: #d4ebff;}#sk-container-id-5 div.sk-parallel-item::after {content: \"\";width: 100%;border-bottom: 1px solid gray;flex-grow: 1;}#sk-container-id-5 div.sk-label:hover label.sk-toggleable__label {background-color: #d4ebff;}#sk-container-id-5 div.sk-serial::before {content: \"\";position: absolute;border-left: 1px solid gray;box-sizing: border-box;top: 0;bottom: 0;left: 50%;z-index: 0;}#sk-container-id-5 div.sk-serial {display: flex;flex-direction: column;align-items: center;background-color: white;padding-right: 0.2em;padding-left: 0.2em;position: relative;}#sk-container-id-5 div.sk-item {position: relative;z-index: 1;}#sk-container-id-5 div.sk-parallel {display: flex;align-items: stretch;justify-content: center;background-color: white;position: relative;}#sk-container-id-5 div.sk-item::before, #sk-container-id-5 div.sk-parallel-item::before {content: \"\";position: absolute;border-left: 1px solid gray;box-sizing: border-box;top: 0;bottom: 0;left: 50%;z-index: -1;}#sk-container-id-5 div.sk-parallel-item {display: flex;flex-direction: column;z-index: 1;position: relative;background-color: white;}#sk-container-id-5 div.sk-parallel-item:first-child::after {align-self: flex-end;width: 50%;}#sk-container-id-5 div.sk-parallel-item:last-child::after {align-self: flex-start;width: 50%;}#sk-container-id-5 div.sk-parallel-item:only-child::after {width: 0;}#sk-container-id-5 div.sk-dashed-wrapped {border: 1px dashed gray;margin: 0 0.4em 0.5em 0.4em;box-sizing: border-box;padding-bottom: 0.4em;background-color: white;}#sk-container-id-5 div.sk-label label {font-family: monospace;font-weight: bold;display: inline-block;line-height: 1.2em;}#sk-container-id-5 div.sk-label-container {text-align: center;}#sk-container-id-5 div.sk-container {/* jupyter's `normalize.less` sets `[hidden] { display: none; }` but bootstrap.min.css set `[hidden] { display: none !important; }` so we also need the `!important` here to be able to override the default hidden behavior on the sphinx rendered scikit-learn.org. See: https://github.com/scikit-learn/scikit-learn/issues/21755 */display: inline-block !important;position: relative;}#sk-container-id-5 div.sk-text-repr-fallback {display: none;}</style><div id=\"sk-container-id-5\" class=\"sk-top-container\"><div class=\"sk-text-repr-fallback\"><pre>LinearRegression()</pre><b>In a Jupyter environment, please rerun this cell to show the HTML representation or trust the notebook. <br />On GitHub, the HTML representation is unable to render, please try loading this page with nbviewer.org.</b></div><div class=\"sk-container\" hidden><div class=\"sk-item\"><div class=\"sk-estimator sk-toggleable\"><input class=\"sk-toggleable__control sk-hidden--visually\" id=\"sk-estimator-id-5\" type=\"checkbox\" checked><label for=\"sk-estimator-id-5\" class=\"sk-toggleable__label sk-toggleable__label-arrow\">LinearRegression</label><div class=\"sk-toggleable__content\"><pre>LinearRegression()</pre></div></div></div></div></div>"
      ],
      "text/plain": [
       "LinearRegression()"
      ]
     },
     "execution_count": 69,
     "metadata": {},
     "output_type": "execute_result"
    }
   ],
   "source": [
    "# Instantiate model and train\n",
    "regressor = LinearRegression()\n",
    "regressor.fit(l_x_train,l_y_train)"
   ]
  },
  {
   "cell_type": "code",
   "execution_count": 70,
   "id": "0f80d614-a539-4b5b-9b7a-f81fc980c26b",
   "metadata": {},
   "outputs": [
    {
     "name": "stdout",
     "output_type": "stream",
     "text": [
      "Intercept : 6.799773449796853\n",
      "Coefficient : [0.0492751]\n"
     ]
    }
   ],
   "source": [
    "# Print Intercept and Coeeficient\n",
    "print(\"Intercept :\", regressor.intercept_)\n",
    "print(\"Coefficient :\", regressor.coef_)"
   ]
  },
  {
   "cell_type": "code",
   "execution_count": 71,
   "id": "00a8f6e9-bad5-40e7-ba4a-27e7c11f842d",
   "metadata": {},
   "outputs": [
    {
     "data": {
      "text/plain": [
       "array([17.18696362, 16.77798032, 11.51540011, 20.60665526, 19.30579273,\n",
       "       20.77419058, 14.84639657, 15.70871075, 10.2785952 , 17.41362906,\n",
       "       14.90552669, 10.20961007, 17.37913649, 12.21017895, 17.92609005,\n",
       "       12.99365298, 13.28930355, 21.12404376,  8.0612159 , 17.18203611,\n",
       "       11.74699305, 10.14062494,  8.03657835, 12.09191872, 12.36293175,\n",
       "       16.08320147,  8.92353007, 19.05941725, 15.01885941, 18.63072392,\n",
       "       18.6208689 , 18.35478338, 14.17625527, 15.18639473, 19.03970721,\n",
       "       15.91073864, 17.75855473, 13.17597083, 17.48261419,  7.76556532])"
      ]
     },
     "execution_count": 71,
     "metadata": {},
     "output_type": "execute_result"
    }
   ],
   "source": [
    "# Test model\n",
    "linear_y_predict = regressor.predict(l_x_test)\n",
    "linear_y_predict"
   ]
  },
  {
   "cell_type": "code",
   "execution_count": 72,
   "id": "ee31217e-0386-4da2-a023-f154ff168dc4",
   "metadata": {},
   "outputs": [
    {
     "data": {
      "text/html": [
       "<div>\n",
       "<style scoped>\n",
       "    .dataframe tbody tr th:only-of-type {\n",
       "        vertical-align: middle;\n",
       "    }\n",
       "\n",
       "    .dataframe tbody tr th {\n",
       "        vertical-align: top;\n",
       "    }\n",
       "\n",
       "    .dataframe thead th {\n",
       "        text-align: right;\n",
       "    }\n",
       "</style>\n",
       "<table border=\"1\" class=\"dataframe\">\n",
       "  <thead>\n",
       "    <tr style=\"text-align: right;\">\n",
       "      <th></th>\n",
       "      <th>Y PREDICTED</th>\n",
       "      <th>Y TEST</th>\n",
       "    </tr>\n",
       "  </thead>\n",
       "  <tbody>\n",
       "    <tr>\n",
       "      <th>58</th>\n",
       "      <td>17.186964</td>\n",
       "      <td>23.8</td>\n",
       "    </tr>\n",
       "    <tr>\n",
       "      <th>40</th>\n",
       "      <td>16.777980</td>\n",
       "      <td>16.6</td>\n",
       "    </tr>\n",
       "    <tr>\n",
       "      <th>34</th>\n",
       "      <td>11.515400</td>\n",
       "      <td>9.5</td>\n",
       "    </tr>\n",
       "    <tr>\n",
       "      <th>102</th>\n",
       "      <td>20.606655</td>\n",
       "      <td>14.8</td>\n",
       "    </tr>\n",
       "    <tr>\n",
       "      <th>184</th>\n",
       "      <td>19.305793</td>\n",
       "      <td>17.6</td>\n",
       "    </tr>\n",
       "  </tbody>\n",
       "</table>\n",
       "</div>"
      ],
      "text/plain": [
       "     Y PREDICTED  Y TEST\n",
       "58     17.186964    23.8\n",
       "40     16.777980    16.6\n",
       "34     11.515400     9.5\n",
       "102    20.606655    14.8\n",
       "184    19.305793    17.6"
      ]
     },
     "execution_count": 72,
     "metadata": {},
     "output_type": "execute_result"
    }
   ],
   "source": [
    "# Compare the Predicted Values vs Actual Values\n",
    "y_pred_vs_y_test = pd.DataFrame({\n",
    "    \"Y PREDICTED\": linear_y_predict,\n",
    "    \"Y TEST\": l_y_test\n",
    "})\n",
    "y_pred_vs_y_test.head()"
   ]
  },
  {
   "cell_type": "code",
   "execution_count": 73,
   "id": "8d88e892-42f4-4eba-97d1-51ec73050853",
   "metadata": {},
   "outputs": [
    {
     "data": {
      "image/png": "[encoded data removed]",
      "text/plain": [
       "<Figure size 432x288 with 1 Axes>"
      ]
     },
     "metadata": {
      "needs_background": "light"
     },
     "output_type": "display_data"
    }
   ],
   "source": [
    "# Plot xtrain vs y_predict\n",
    "plt.plot(l_x_train,regressor.predict(l_x_train), color='red')\n",
    "plt.scatter(x,y)\n",
    "plt.title(\"TV vs Sales\")\n",
    "plt.xlabel(\"TV\")\n",
    "plt.ylabel(\"Sales\")\n",
    "plt.show()"
   ]
  },
  {
   "cell_type": "markdown",
   "id": "ae2234cc-377f-4565-abf3-a771d8666cc9",
   "metadata": {},
   "source": [
    "#### Linear Regression Model Evaluation"
   ]
  },
  {
   "cell_type": "code",
   "execution_count": 74,
   "id": "9184f556-0c49-45bb-8635-42278a864b86",
   "metadata": {},
   "outputs": [
    {
     "name": "stdout",
     "output_type": "stream",
     "text": [
      "Mean Absolute Error 2.4659827815717366\n"
     ]
    }
   ],
   "source": [
    "# Mean Absolute Error\n",
    "mean_abs_err = mean_absolute_error(l_y_test,linear_y_predict)\n",
    "print(\"Mean Absolute Error\",mean_abs_err)"
   ]
  },
  {
   "cell_type": "code",
   "execution_count": 75,
   "id": "010fe23e-dcc5-4a13-87e2-a875384a3670",
   "metadata": {},
   "outputs": [
    {
     "name": "stdout",
     "output_type": "stream",
     "text": [
      "Mean Squared Error 10.85934532560827\n"
     ]
    }
   ],
   "source": [
    "# Mean Squared Error\n",
    "mean_sqr_err = mean_squared_error(l_y_test,linear_y_predict)\n",
    "print(\"Mean Squared Error\",mean_sqr_err)"
   ]
  },
  {
   "cell_type": "code",
   "execution_count": 76,
   "id": "f213b989-1e2b-479b-8517-7d8ff5322481",
   "metadata": {},
   "outputs": [
    {
     "name": "stdout",
     "output_type": "stream",
     "text": [
      "Root Mean Squared Error 3.2953520791575928\n"
     ]
    }
   ],
   "source": [
    "# Root Mean Squared Error\n",
    "root_mean_sqr_error = np.sqrt(mean_squared_error(l_y_test,linear_y_predict))\n",
    "print(\"Root Mean Squared Error\",root_mean_sqr_error)"
   ]
  },
  {
   "cell_type": "code",
   "execution_count": 77,
   "id": "80b2546c-f55d-48d6-9622-b06a14c29913",
   "metadata": {},
   "outputs": [
    {
     "name": "stdout",
     "output_type": "stream",
     "text": [
      "R-Squared Score 0.41535307148347855\n"
     ]
    }
   ],
   "source": [
    "# R-squared Score\n",
    "r_sqr_score = r2_score(l_y_test,linear_y_predict)\n",
    "print(\"R-Squared Score\",r_sqr_score)"
   ]
  },
  {
   "cell_type": "markdown",
   "id": "30699adc-bd63-4598-b061-c75fcb677c76",
   "metadata": {},
   "source": [
    "The % Accuracy for our Linear Regression model is 41.53%"
   ]
  },
  {
   "cell_type": "markdown",
   "id": "72a58298-af32-4c36-a151-83c435b0a2db",
   "metadata": {},
   "source": [
    "#### Multiple Linear Regression\n",
    "* Since the % accuracy of the Linear Regression model is 41%, we will use the Multiple Linear Regression patter to solve the problem"
   ]
  },
  {
   "cell_type": "code",
   "execution_count": 78,
   "id": "4c064a0e-b5c3-4473-a325-b58e03a3220a",
   "metadata": {},
   "outputs": [
    {
     "data": {
      "text/html": [
       "<div>\n",
       "<style scoped>\n",
       "    .dataframe tbody tr th:only-of-type {\n",
       "        vertical-align: middle;\n",
       "    }\n",
       "\n",
       "    .dataframe tbody tr th {\n",
       "        vertical-align: top;\n",
       "    }\n",
       "\n",
       "    .dataframe thead th {\n",
       "        text-align: right;\n",
       "    }\n",
       "</style>\n",
       "<table border=\"1\" class=\"dataframe\">\n",
       "  <thead>\n",
       "    <tr style=\"text-align: right;\">\n",
       "      <th></th>\n",
       "      <th>Unnamed: 0</th>\n",
       "      <th>TV</th>\n",
       "      <th>Radio</th>\n",
       "      <th>Newspaper</th>\n",
       "      <th>Sales</th>\n",
       "    </tr>\n",
       "  </thead>\n",
       "  <tbody>\n",
       "    <tr>\n",
       "      <th>0</th>\n",
       "      <td>1</td>\n",
       "      <td>230.1</td>\n",
       "      <td>37.8</td>\n",
       "      <td>69.2</td>\n",
       "      <td>22.1</td>\n",
       "    </tr>\n",
       "    <tr>\n",
       "      <th>1</th>\n",
       "      <td>2</td>\n",
       "      <td>44.5</td>\n",
       "      <td>39.3</td>\n",
       "      <td>45.1</td>\n",
       "      <td>10.4</td>\n",
       "    </tr>\n",
       "    <tr>\n",
       "      <th>2</th>\n",
       "      <td>3</td>\n",
       "      <td>17.2</td>\n",
       "      <td>45.9</td>\n",
       "      <td>69.3</td>\n",
       "      <td>9.3</td>\n",
       "    </tr>\n",
       "    <tr>\n",
       "      <th>3</th>\n",
       "      <td>4</td>\n",
       "      <td>151.5</td>\n",
       "      <td>41.3</td>\n",
       "      <td>58.5</td>\n",
       "      <td>18.5</td>\n",
       "    </tr>\n",
       "    <tr>\n",
       "      <th>4</th>\n",
       "      <td>5</td>\n",
       "      <td>180.8</td>\n",
       "      <td>10.8</td>\n",
       "      <td>58.4</td>\n",
       "      <td>12.9</td>\n",
       "    </tr>\n",
       "  </tbody>\n",
       "</table>\n",
       "</div>"
      ],
      "text/plain": [
       "   Unnamed: 0     TV  Radio  Newspaper  Sales\n",
       "0           1  230.1   37.8       69.2   22.1\n",
       "1           2   44.5   39.3       45.1   10.4\n",
       "2           3   17.2   45.9       69.3    9.3\n",
       "3           4  151.5   41.3       58.5   18.5\n",
       "4           5  180.8   10.8       58.4   12.9"
      ]
     },
     "execution_count": 78,
     "metadata": {},
     "output_type": "execute_result"
    }
   ],
   "source": [
    "# Load dataset and perform EDA\n",
    "m_df = pd.read_csv(\"../DATASET/Advertising_Sales.csv\")\n",
    "m_df.head()"
   ]
  },
  {
   "cell_type": "code",
   "execution_count": 79,
   "id": "bea58cf4-c792-462a-a4de-54841270731d",
   "metadata": {},
   "outputs": [],
   "source": [
    "# drop unwanted column\n",
    "m_df.drop(columns=['Unnamed: 0'], axis=1,inplace=True)"
   ]
  },
  {
   "cell_type": "code",
   "execution_count": 80,
   "id": "dad40ba1-0061-4666-9742-50fadfff1c2b",
   "metadata": {},
   "outputs": [
    {
     "data": {
      "text/html": [
       "<div>\n",
       "<style scoped>\n",
       "    .dataframe tbody tr th:only-of-type {\n",
       "        vertical-align: middle;\n",
       "    }\n",
       "\n",
       "    .dataframe tbody tr th {\n",
       "        vertical-align: top;\n",
       "    }\n",
       "\n",
       "    .dataframe thead th {\n",
       "        text-align: right;\n",
       "    }\n",
       "</style>\n",
       "<table border=\"1\" class=\"dataframe\">\n",
       "  <thead>\n",
       "    <tr style=\"text-align: right;\">\n",
       "      <th></th>\n",
       "      <th>TV</th>\n",
       "      <th>Radio</th>\n",
       "      <th>Newspaper</th>\n",
       "      <th>Sales</th>\n",
       "    </tr>\n",
       "  </thead>\n",
       "  <tbody>\n",
       "    <tr>\n",
       "      <th>0</th>\n",
       "      <td>230.1</td>\n",
       "      <td>37.8</td>\n",
       "      <td>69.2</td>\n",
       "      <td>22.1</td>\n",
       "    </tr>\n",
       "    <tr>\n",
       "      <th>1</th>\n",
       "      <td>44.5</td>\n",
       "      <td>39.3</td>\n",
       "      <td>45.1</td>\n",
       "      <td>10.4</td>\n",
       "    </tr>\n",
       "    <tr>\n",
       "      <th>2</th>\n",
       "      <td>17.2</td>\n",
       "      <td>45.9</td>\n",
       "      <td>69.3</td>\n",
       "      <td>9.3</td>\n",
       "    </tr>\n",
       "    <tr>\n",
       "      <th>3</th>\n",
       "      <td>151.5</td>\n",
       "      <td>41.3</td>\n",
       "      <td>58.5</td>\n",
       "      <td>18.5</td>\n",
       "    </tr>\n",
       "    <tr>\n",
       "      <th>4</th>\n",
       "      <td>180.8</td>\n",
       "      <td>10.8</td>\n",
       "      <td>58.4</td>\n",
       "      <td>12.9</td>\n",
       "    </tr>\n",
       "  </tbody>\n",
       "</table>\n",
       "</div>"
      ],
      "text/plain": [
       "      TV  Radio  Newspaper  Sales\n",
       "0  230.1   37.8       69.2   22.1\n",
       "1   44.5   39.3       45.1   10.4\n",
       "2   17.2   45.9       69.3    9.3\n",
       "3  151.5   41.3       58.5   18.5\n",
       "4  180.8   10.8       58.4   12.9"
      ]
     },
     "execution_count": 80,
     "metadata": {},
     "output_type": "execute_result"
    }
   ],
   "source": [
    "m_df.head()"
   ]
  },
  {
   "cell_type": "markdown",
   "id": "a4dc4c52-df2c-4dcc-aa45-e40859ec7dda",
   "metadata": {},
   "source": [
    "###### EDA & Statistical Evaluation"
   ]
  },
  {
   "cell_type": "code",
   "execution_count": 81,
   "id": "951c989f-cd33-4999-bec7-b7c47b625819",
   "metadata": {},
   "outputs": [
    {
     "data": {
      "text/html": [
       "<div>\n",
       "<style scoped>\n",
       "    .dataframe tbody tr th:only-of-type {\n",
       "        vertical-align: middle;\n",
       "    }\n",
       "\n",
       "    .dataframe tbody tr th {\n",
       "        vertical-align: top;\n",
       "    }\n",
       "\n",
       "    .dataframe thead th {\n",
       "        text-align: right;\n",
       "    }\n",
       "</style>\n",
       "<table border=\"1\" class=\"dataframe\">\n",
       "  <thead>\n",
       "    <tr style=\"text-align: right;\">\n",
       "      <th></th>\n",
       "      <th>TV</th>\n",
       "      <th>Radio</th>\n",
       "      <th>Newspaper</th>\n",
       "      <th>Sales</th>\n",
       "    </tr>\n",
       "  </thead>\n",
       "  <tbody>\n",
       "    <tr>\n",
       "      <th>TV</th>\n",
       "      <td>1.000000</td>\n",
       "      <td>0.054809</td>\n",
       "      <td>0.056648</td>\n",
       "      <td>0.782224</td>\n",
       "    </tr>\n",
       "    <tr>\n",
       "      <th>Radio</th>\n",
       "      <td>0.054809</td>\n",
       "      <td>1.000000</td>\n",
       "      <td>0.354104</td>\n",
       "      <td>0.576223</td>\n",
       "    </tr>\n",
       "    <tr>\n",
       "      <th>Newspaper</th>\n",
       "      <td>0.056648</td>\n",
       "      <td>0.354104</td>\n",
       "      <td>1.000000</td>\n",
       "      <td>0.228299</td>\n",
       "    </tr>\n",
       "    <tr>\n",
       "      <th>Sales</th>\n",
       "      <td>0.782224</td>\n",
       "      <td>0.576223</td>\n",
       "      <td>0.228299</td>\n",
       "      <td>1.000000</td>\n",
       "    </tr>\n",
       "  </tbody>\n",
       "</table>\n",
       "</div>"
      ],
      "text/plain": [
       "                 TV     Radio  Newspaper     Sales\n",
       "TV         1.000000  0.054809   0.056648  0.782224\n",
       "Radio      0.054809  1.000000   0.354104  0.576223\n",
       "Newspaper  0.056648  0.354104   1.000000  0.228299\n",
       "Sales      0.782224  0.576223   0.228299  1.000000"
      ]
     },
     "execution_count": 81,
     "metadata": {},
     "output_type": "execute_result"
    }
   ],
   "source": [
    "m_df.corr()"
   ]
  },
  {
   "cell_type": "code",
   "execution_count": 82,
   "id": "d3618a35-004e-4121-8fd9-c11dcee503e3",
   "metadata": {},
   "outputs": [
    {
     "name": "stderr",
     "output_type": "stream",
     "text": [
      "C:\\Users\\USER\\AppData\\Local\\Programs\\Python\\Python310\\lib\\site-packages\\seaborn\\axisgrid.py:118: UserWarning: The figure layout has changed to tight\n",
      "  self._figure.tight_layout(*args, **kwargs)\n"
     ]
    },
    {
     "data": {
      "text/plain": [
       "<seaborn.axisgrid.PairGrid at 0x2067293c220>"
      ]
     },
     "execution_count": 82,
     "metadata": {},
     "output_type": "execute_result"
    },
    {
     "data": {
      "image/png": "[encoded data removed]",
      "text/plain": [
       "<Figure size 360x360 with 6 Axes>"
      ]
     },
     "metadata": {
      "needs_background": "light"
     },
     "output_type": "display_data"
    }
   ],
   "source": [
    "# Compare TV vs Sales\n",
    "sns.pairplot(m_df,vars=['TV','Sales'],kind='reg')"
   ]
  },
  {
   "cell_type": "code",
   "execution_count": 83,
   "id": "bd2bb29f-3487-4fe3-8bdc-48467f4ab88b",
   "metadata": {},
   "outputs": [
    {
     "name": "stderr",
     "output_type": "stream",
     "text": [
      "C:\\Users\\USER\\AppData\\Local\\Programs\\Python\\Python310\\lib\\site-packages\\seaborn\\axisgrid.py:118: UserWarning: The figure layout has changed to tight\n",
      "  self._figure.tight_layout(*args, **kwargs)\n"
     ]
    },
    {
     "data": {
      "text/plain": [
       "<seaborn.axisgrid.PairGrid at 0x20678d3f160>"
      ]
     },
     "execution_count": 83,
     "metadata": {},
     "output_type": "execute_result"
    },
    {
     "data": {
      "image/png": "[encoded data removed]",
      "text/plain": [
       "<Figure size 720x720 with 20 Axes>"
      ]
     },
     "metadata": {
      "needs_background": "light"
     },
     "output_type": "display_data"
    }
   ],
   "source": [
    "# Compare all variables\n",
    "sns.pairplot(m_df,kind='reg')"
   ]
  },
  {
   "cell_type": "code",
   "execution_count": 84,
   "id": "4f24fef1-fdaf-4275-8a43-a6398053712a",
   "metadata": {},
   "outputs": [
    {
     "data": {
      "text/plain": [
       "<Axes: >"
      ]
     },
     "execution_count": 84,
     "metadata": {},
     "output_type": "execute_result"
    },
    {
     "data": {
      "image/png": "[encoded data removed]",
      "text/plain": [
       "<Figure size 432x288 with 2 Axes>"
      ]
     },
     "metadata": {
      "needs_background": "light"
     },
     "output_type": "display_data"
    }
   ],
   "source": [
    "# Plot heatmap to view corelation\n",
    "sns.heatmap(m_df.corr(),annot=True)"
   ]
  },
  {
   "cell_type": "code",
   "execution_count": 86,
   "id": "a39be209-4158-4c1d-827a-cac14811fc20",
   "metadata": {},
   "outputs": [],
   "source": [
    "# Select dependent and independent variables\n",
    "m_x = m_df[['TV', 'Radio', 'Newspaper']]\n",
    "m_y = m_df[['Sales']]"
   ]
  },
  {
   "cell_type": "code",
   "execution_count": 87,
   "id": "40ada645-6c68-4079-91c6-7189f860ce77",
   "metadata": {},
   "outputs": [],
   "source": [
    "# Split dataset for training and testing\n",
    "m_x_train,m_x_test,m_y_train,m_y_test = train_test_split(m_x,m_y,test_size=0.2,random_state=0)"
   ]
  },
  {
   "cell_type": "code",
   "execution_count": 89,
   "id": "5305dea7-4993-4a71-8e8f-081778d83bf0",
   "metadata": {},
   "outputs": [],
   "source": [
    "# Scale x_train & x_test\n",
    "st = StandardScaler()\n",
    "m_x_train = st.fit_transform(m_x_train)\n",
    "m_x_test = st.fit_transform(m_x_test)"
   ]
  },
  {
   "cell_type": "code",
   "execution_count": 90,
   "id": "7dd3004d-a9ee-40d0-a65b-b12cc95b51f6",
   "metadata": {},
   "outputs": [
    {
     "data": {
      "text/html": [
       "<style>#sk-container-id-6 {color: black;}#sk-container-id-6 pre{padding: 0;}#sk-container-id-6 div.sk-toggleable {background-color: white;}#sk-container-id-6 label.sk-toggleable__label {cursor: pointer;display: block;width: 100%;margin-bottom: 0;padding: 0.3em;box-sizing: border-box;text-align: center;}#sk-container-id-6 label.sk-toggleable__label-arrow:before {content: \"▸\";float: left;margin-right: 0.25em;color: #696969;}#sk-container-id-6 label.sk-toggleable__label-arrow:hover:before {color: black;}#sk-container-id-6 div.sk-estimator:hover label.sk-toggleable__label-arrow:before {color: black;}#sk-container-id-6 div.sk-toggleable__content {max-height: 0;max-width: 0;overflow: hidden;text-align: left;background-color: #f0f8ff;}#sk-container-id-6 div.sk-toggleable__content pre {margin: 0.2em;color: black;border-radius: 0.25em;background-color: #f0f8ff;}#sk-container-id-6 input.sk-toggleable__control:checked~div.sk-toggleable__content {max-height: 200px;max-width: 100%;overflow: auto;}#sk-container-id-6 input.sk-toggleable__control:checked~label.sk-toggleable__label-arrow:before {content: \"▾\";}#sk-container-id-6 div.sk-estimator input.sk-toggleable__control:checked~label.sk-toggleable__label {background-color: #d4ebff;}#sk-container-id-6 div.sk-label input.sk-toggleable__control:checked~label.sk-toggleable__label {background-color: #d4ebff;}#sk-container-id-6 input.sk-hidden--visually {border: 0;clip: rect(1px 1px 1px 1px);clip: rect(1px, 1px, 1px, 1px);height: 1px;margin: -1px;overflow: hidden;padding: 0;position: absolute;width: 1px;}#sk-container-id-6 div.sk-estimator {font-family: monospace;background-color: #f0f8ff;border: 1px dotted black;border-radius: 0.25em;box-sizing: border-box;margin-bottom: 0.5em;}#sk-container-id-6 div.sk-estimator:hover {background-color: #d4ebff;}#sk-container-id-6 div.sk-parallel-item::after {content: \"\";width: 100%;border-bottom: 1px solid gray;flex-grow: 1;}#sk-container-id-6 div.sk-label:hover label.sk-toggleable__label {background-color: #d4ebff;}#sk-container-id-6 div.sk-serial::before {content: \"\";position: absolute;border-left: 1px solid gray;box-sizing: border-box;top: 0;bottom: 0;left: 50%;z-index: 0;}#sk-container-id-6 div.sk-serial {display: flex;flex-direction: column;align-items: center;background-color: white;padding-right: 0.2em;padding-left: 0.2em;position: relative;}#sk-container-id-6 div.sk-item {position: relative;z-index: 1;}#sk-container-id-6 div.sk-parallel {display: flex;align-items: stretch;justify-content: center;background-color: white;position: relative;}#sk-container-id-6 div.sk-item::before, #sk-container-id-6 div.sk-parallel-item::before {content: \"\";position: absolute;border-left: 1px solid gray;box-sizing: border-box;top: 0;bottom: 0;left: 50%;z-index: -1;}#sk-container-id-6 div.sk-parallel-item {display: flex;flex-direction: column;z-index: 1;position: relative;background-color: white;}#sk-container-id-6 div.sk-parallel-item:first-child::after {align-self: flex-end;width: 50%;}#sk-container-id-6 div.sk-parallel-item:last-child::after {align-self: flex-start;width: 50%;}#sk-container-id-6 div.sk-parallel-item:only-child::after {width: 0;}#sk-container-id-6 div.sk-dashed-wrapped {border: 1px dashed gray;margin: 0 0.4em 0.5em 0.4em;box-sizing: border-box;padding-bottom: 0.4em;background-color: white;}#sk-container-id-6 div.sk-label label {font-family: monospace;font-weight: bold;display: inline-block;line-height: 1.2em;}#sk-container-id-6 div.sk-label-container {text-align: center;}#sk-container-id-6 div.sk-container {/* jupyter's `normalize.less` sets `[hidden] { display: none; }` but bootstrap.min.css set `[hidden] { display: none !important; }` so we also need the `!important` here to be able to override the default hidden behavior on the sphinx rendered scikit-learn.org. See: https://github.com/scikit-learn/scikit-learn/issues/21755 */display: inline-block !important;position: relative;}#sk-container-id-6 div.sk-text-repr-fallback {display: none;}</style><div id=\"sk-container-id-6\" class=\"sk-top-container\"><div class=\"sk-text-repr-fallback\"><pre>LinearRegression()</pre><b>In a Jupyter environment, please rerun this cell to show the HTML representation or trust the notebook. <br />On GitHub, the HTML representation is unable to render, please try loading this page with nbviewer.org.</b></div><div class=\"sk-container\" hidden><div class=\"sk-item\"><div class=\"sk-estimator sk-toggleable\"><input class=\"sk-toggleable__control sk-hidden--visually\" id=\"sk-estimator-id-6\" type=\"checkbox\" checked><label for=\"sk-estimator-id-6\" class=\"sk-toggleable__label sk-toggleable__label-arrow\">LinearRegression</label><div class=\"sk-toggleable__content\"><pre>LinearRegression()</pre></div></div></div></div></div>"
      ],
      "text/plain": [
       "LinearRegression()"
      ]
     },
     "execution_count": 90,
     "metadata": {},
     "output_type": "execute_result"
    }
   ],
   "source": [
    "# Instantiate model and train model\n",
    "regress = LinearRegression()\n",
    "regress.fit(m_x_train,m_y_train)"
   ]
  },
  {
   "cell_type": "code",
   "execution_count": 91,
   "id": "0a146e98-dab1-46db-8fd0-7c444d3052e4",
   "metadata": {},
   "outputs": [
    {
     "name": "stdout",
     "output_type": "stream",
     "text": [
      "Coefficient [[ 3.77588591  2.88656448 -0.05946128]]\n",
      "Intercept [14.2175]\n"
     ]
    }
   ],
   "source": [
    "# Print coeeficient and intercept\n",
    "print(\"Coefficient\",regress.coef_)\n",
    "print(\"Intercept\",regress.intercept_)"
   ]
  },
  {
   "cell_type": "code",
   "execution_count": 104,
   "id": "8ce771e6-c57c-4805-820b-9fded95a54d6",
   "metadata": {},
   "outputs": [],
   "source": [
    "m_y_predict = regress.predict(m_x_test)"
   ]
  },
  {
   "cell_type": "markdown",
   "id": "7b0f70b4-4e27-4c4d-be12-7e27f17b47d2",
   "metadata": {},
   "source": [
    "##### Multiple Linear Regression Evaluation Model"
   ]
  },
  {
   "cell_type": "code",
   "execution_count": 93,
   "id": "7b58a133-4c95-437c-8676-c8012ce843f4",
   "metadata": {},
   "outputs": [
    {
     "name": "stdout",
     "output_type": "stream",
     "text": [
      "Mean Absolute Error : 1.4820534519182236\n"
     ]
    }
   ],
   "source": [
    "# Mean Absolute Error\n",
    "mean_abs_error = mean_absolute_error(m_y_test,m_y_predict)\n",
    "print(\"Mean Absolute Error :\",mean_abs_error)"
   ]
  },
  {
   "cell_type": "code",
   "execution_count": 94,
   "id": "257c537b-911a-4d5e-a539-b59180044764",
   "metadata": {},
   "outputs": [
    {
     "name": "stdout",
     "output_type": "stream",
     "text": [
      "Mean Squared Error : 1.4820534519182236\n"
     ]
    }
   ],
   "source": [
    "# Mean Squared Error\n",
    "mean_sqrd_error = mean_squared_error(m_y_test,m_y_predict)\n",
    "print(\"Mean Squared Error :\",mean_abs_error)"
   ]
  },
  {
   "cell_type": "code",
   "execution_count": 95,
   "id": "8708614e-c892-4f53-ba8f-47d4d1a4e239",
   "metadata": {},
   "outputs": [
    {
     "name": "stdout",
     "output_type": "stream",
     "text": [
      "Root Mean Squared Error : 2.325707152466188\n"
     ]
    }
   ],
   "source": [
    "# Root Mean Squared Error\n",
    "root_mean_sqr_error = np.sqrt(mean_sqrd_error)\n",
    "print(\"Root Mean Squared Error :\",root_mean_sqr_error)"
   ]
  },
  {
   "cell_type": "code",
   "execution_count": 96,
   "id": "123c28d5-a11d-4ed6-ad45-618c2f7f0875",
   "metadata": {},
   "outputs": [
    {
     "name": "stdout",
     "output_type": "stream",
     "text": [
      "R_Squared Score : 0.8281217233452884\n"
     ]
    }
   ],
   "source": [
    "r_sqr_score = r2_score(m_y_test,m_y_predict)\n",
    "print(\"R_Squared Score :\",r_sqr_score)"
   ]
  },
  {
   "cell_type": "markdown",
   "id": "d1560943-6ee0-4714-9b29-2af41ced3310",
   "metadata": {},
   "source": [
    "The models accuaracy increased to 82%"
   ]
  },
  {
   "cell_type": "markdown",
   "id": "9100a397-9b35-44a1-8a91-547b778298b4",
   "metadata": {},
   "source": [
    "##### Bias & Variance\n",
    "* Bias: These are errors that occurs from prediction model. It is related to the training data. It is simply the difference btw actual value and the predicted value.\n",
    "* Variance: This is the error that occurs when we expose our models to unseen data. It is the amount of change that occurs when a prediction model is exposed to unseen subset of training data(testing data)."
   ]
  },
  {
   "cell_type": "code",
   "execution_count": 97,
   "id": "9cdb71a7-8395-41f6-850f-a7341ccb1e00",
   "metadata": {},
   "outputs": [
    {
     "name": "stdout",
     "output_type": "stream",
     "text": [
      "Root Mean Squared Error : 1.5513912323520802\n",
      "R Squared Score : 0.9067114990146383\n"
     ]
    }
   ],
   "source": [
    "# Bias of Training Data\n",
    "\n",
    "# Predict based on train data\n",
    "x_train_predict = regress.predict(m_x_train)\n",
    "# Root Mean Squared Error\n",
    "root_mean_sqr_error = np.sqrt(mean_squared_error(m_y_train,x_train_predict))\n",
    "# R-Squared Score\n",
    "r_score = r2_score(m_y_train,x_train_predict)\n",
    "\n",
    "print(\"Root Mean Squared Error :\",root_mean_sqr_error)\n",
    "print(\"R Squared Score :\",r_score)"
   ]
  },
  {
   "cell_type": "code",
   "execution_count": 98,
   "id": "728b3b48-85c1-4405-9bcc-2868358525ab",
   "metadata": {},
   "outputs": [
    {
     "name": "stdout",
     "output_type": "stream",
     "text": [
      "Root Mean Squared Error : 2.325707152466188\n",
      "R Squared Score : 0.8281217233452884\n"
     ]
    }
   ],
   "source": [
    "# Bias of Testing Data\n",
    "\n",
    "# Predict based on testing data\n",
    "x_test_pred = regress.predict(m_x_test)\n",
    "# Root Mean Squared Error\n",
    "root_mean_squared_err = np.sqrt(mean_squared_error(m_y_test,x_test_pred))\n",
    "# R Squared Score\n",
    "r_sqr_score = r2_score(m_y_test,x_test_pred)\n",
    "\n",
    "print(\"Root Mean Squared Error :\",root_mean_squared_err)\n",
    "print(\"R Squared Score :\",r_sqr_score)"
   ]
  },
  {
   "cell_type": "code",
   "execution_count": 99,
   "id": "fe9e3390-f105-414b-a62f-4be4849fc9d2",
   "metadata": {},
   "outputs": [
    {
     "data": {
      "text/plain": [
       "-0.7743159201141079"
      ]
     },
     "execution_count": 99,
     "metadata": {},
     "output_type": "execute_result"
    }
   ],
   "source": [
    "# Variance\n",
    "# Variance = Bias of Training data - Bias of Testing data\n",
    "variance = (root_mean_sqr_error - root_mean_squared_err)\n",
    "variance"
   ]
  },
  {
   "cell_type": "markdown",
   "id": "28e66ee1-d24f-4286-af11-52e760fad85a",
   "metadata": {},
   "source": [
    "#### Regularization in Linear Regression\n",
    "* There are two types of regularization techniques.\n",
    "* Lasso Regression(L1): This regularization technique applies the least absolute magnitude as a penalty to the loss function. It achieves feature selection by penalizing the weights to approximately zero if the feature serves no purpose in the model.\n",
    "* Ridge Regression(L2): This technique applies the square of magnitude as a penalty to the loss function. It reduces the weight of the magnitude."
   ]
  },
  {
   "cell_type": "markdown",
   "id": "a1fcceda-29d4-4408-ab10-feec2e08af9d",
   "metadata": {},
   "source": [
    "##### Lasso Regression"
   ]
  },
  {
   "cell_type": "code",
   "execution_count": 41,
   "id": "4552e450-239e-4bc7-bc15-44c4144d1122",
   "metadata": {},
   "outputs": [
    {
     "name": "stderr",
     "output_type": "stream",
     "text": [
      "C:\\Users\\USER\\AppData\\Local\\Programs\\Python\\Python310\\lib\\site-packages\\sklearn\\linear_model\\_coordinate_descent.py:1563: DataConversionWarning: A column-vector y was passed when a 1d array was expected. Please change the shape of y to (n_samples, ), for example using ravel().\n",
      "  y = column_or_1d(y, warn=True)\n"
     ]
    },
    {
     "data": {
      "text/html": [
       "<style>#sk-container-id-3 {color: black;}#sk-container-id-3 pre{padding: 0;}#sk-container-id-3 div.sk-toggleable {background-color: white;}#sk-container-id-3 label.sk-toggleable__label {cursor: pointer;display: block;width: 100%;margin-bottom: 0;padding: 0.3em;box-sizing: border-box;text-align: center;}#sk-container-id-3 label.sk-toggleable__label-arrow:before {content: \"▸\";float: left;margin-right: 0.25em;color: #696969;}#sk-container-id-3 label.sk-toggleable__label-arrow:hover:before {color: black;}#sk-container-id-3 div.sk-estimator:hover label.sk-toggleable__label-arrow:before {color: black;}#sk-container-id-3 div.sk-toggleable__content {max-height: 0;max-width: 0;overflow: hidden;text-align: left;background-color: #f0f8ff;}#sk-container-id-3 div.sk-toggleable__content pre {margin: 0.2em;color: black;border-radius: 0.25em;background-color: #f0f8ff;}#sk-container-id-3 input.sk-toggleable__control:checked~div.sk-toggleable__content {max-height: 200px;max-width: 100%;overflow: auto;}#sk-container-id-3 input.sk-toggleable__control:checked~label.sk-toggleable__label-arrow:before {content: \"▾\";}#sk-container-id-3 div.sk-estimator input.sk-toggleable__control:checked~label.sk-toggleable__label {background-color: #d4ebff;}#sk-container-id-3 div.sk-label input.sk-toggleable__control:checked~label.sk-toggleable__label {background-color: #d4ebff;}#sk-container-id-3 input.sk-hidden--visually {border: 0;clip: rect(1px 1px 1px 1px);clip: rect(1px, 1px, 1px, 1px);height: 1px;margin: -1px;overflow: hidden;padding: 0;position: absolute;width: 1px;}#sk-container-id-3 div.sk-estimator {font-family: monospace;background-color: #f0f8ff;border: 1px dotted black;border-radius: 0.25em;box-sizing: border-box;margin-bottom: 0.5em;}#sk-container-id-3 div.sk-estimator:hover {background-color: #d4ebff;}#sk-container-id-3 div.sk-parallel-item::after {content: \"\";width: 100%;border-bottom: 1px solid gray;flex-grow: 1;}#sk-container-id-3 div.sk-label:hover label.sk-toggleable__label {background-color: #d4ebff;}#sk-container-id-3 div.sk-serial::before {content: \"\";position: absolute;border-left: 1px solid gray;box-sizing: border-box;top: 0;bottom: 0;left: 50%;z-index: 0;}#sk-container-id-3 div.sk-serial {display: flex;flex-direction: column;align-items: center;background-color: white;padding-right: 0.2em;padding-left: 0.2em;position: relative;}#sk-container-id-3 div.sk-item {position: relative;z-index: 1;}#sk-container-id-3 div.sk-parallel {display: flex;align-items: stretch;justify-content: center;background-color: white;position: relative;}#sk-container-id-3 div.sk-item::before, #sk-container-id-3 div.sk-parallel-item::before {content: \"\";position: absolute;border-left: 1px solid gray;box-sizing: border-box;top: 0;bottom: 0;left: 50%;z-index: -1;}#sk-container-id-3 div.sk-parallel-item {display: flex;flex-direction: column;z-index: 1;position: relative;background-color: white;}#sk-container-id-3 div.sk-parallel-item:first-child::after {align-self: flex-end;width: 50%;}#sk-container-id-3 div.sk-parallel-item:last-child::after {align-self: flex-start;width: 50%;}#sk-container-id-3 div.sk-parallel-item:only-child::after {width: 0;}#sk-container-id-3 div.sk-dashed-wrapped {border: 1px dashed gray;margin: 0 0.4em 0.5em 0.4em;box-sizing: border-box;padding-bottom: 0.4em;background-color: white;}#sk-container-id-3 div.sk-label label {font-family: monospace;font-weight: bold;display: inline-block;line-height: 1.2em;}#sk-container-id-3 div.sk-label-container {text-align: center;}#sk-container-id-3 div.sk-container {/* jupyter's `normalize.less` sets `[hidden] { display: none; }` but bootstrap.min.css set `[hidden] { display: none !important; }` so we also need the `!important` here to be able to override the default hidden behavior on the sphinx rendered scikit-learn.org. See: https://github.com/scikit-learn/scikit-learn/issues/21755 */display: inline-block !important;position: relative;}#sk-container-id-3 div.sk-text-repr-fallback {display: none;}</style><div id=\"sk-container-id-3\" class=\"sk-top-container\"><div class=\"sk-text-repr-fallback\"><pre>LassoCV(alphas=[0.01, 0.1, 1.0, 10])</pre><b>In a Jupyter environment, please rerun this cell to show the HTML representation or trust the notebook. <br />On GitHub, the HTML representation is unable to render, please try loading this page with nbviewer.org.</b></div><div class=\"sk-container\" hidden><div class=\"sk-item\"><div class=\"sk-estimator sk-toggleable\"><input class=\"sk-toggleable__control sk-hidden--visually\" id=\"sk-estimator-id-3\" type=\"checkbox\" checked><label for=\"sk-estimator-id-3\" class=\"sk-toggleable__label sk-toggleable__label-arrow\">LassoCV</label><div class=\"sk-toggleable__content\"><pre>LassoCV(alphas=[0.01, 0.1, 1.0, 10])</pre></div></div></div></div></div>"
      ],
      "text/plain": [
       "LassoCV(alphas=[0.01, 0.1, 1.0, 10])"
      ]
     },
     "execution_count": 41,
     "metadata": {},
     "output_type": "execute_result"
    }
   ],
   "source": [
    "# instantiate model\n",
    "alphas = [0.01,0.1,1.0,10]\n",
    "lasso = LassoCV(alphas=alphas)\n",
    "# train model\n",
    "lasso.fit(m_x_train,m_y_train)"
   ]
  },
  {
   "cell_type": "markdown",
   "id": "00b36e01-b892-4135-8bf1-6505a70d97ac",
   "metadata": {},
   "source": [
    "###### Evaluation Metrics for Lasso Regression"
   ]
  },
  {
   "cell_type": "code",
   "execution_count": 42,
   "id": "ec39101f-0647-44fe-b67f-6ff06964734b",
   "metadata": {},
   "outputs": [
    {
     "name": "stdout",
     "output_type": "stream",
     "text": [
      "Lasso Mean Squared Error : 2.4291052822685946\n",
      "Lasso Root Mean Squared Error : 1.5585587195446293\n",
      "Lasso R Squared Score : 90.58475148656136 %\n",
      "LassoCV Alpha 0.1\n"
     ]
    }
   ],
   "source": [
    "# predict with model\n",
    "lasso_predict_train = lasso.predict(m_x_train)\n",
    "\n",
    "# Evaluation Metrics on Training Data\n",
    "# Mean Squared Error\n",
    "lasso_mean_sqr_err = mean_squared_error(m_y_train,lasso_predict_train)\n",
    "# Root Mean Squared Error\n",
    "lasso_root_mean_sqr_error = np.sqrt(mean_squared_error(m_y_train,lasso_predict_train))\n",
    "# R Squared Score\n",
    "lasso_r_squared = r2_score(m_y_train,lasso_predict_train)\n",
    "\n",
    "print(\"Lasso Mean Squared Error :\", lasso_mean_sqr_err)\n",
    "print(\"Lasso Root Mean Squared Error :\", lasso_root_mean_sqr_error)\n",
    "print(\"Lasso R Squared Score :\", lasso_r_squared * 100,\"%\")\n",
    "print(\"LassoCV Alpha\", lasso.alpha_)"
   ]
  },
  {
   "cell_type": "code",
   "execution_count": 43,
   "id": "1424088d-7fd5-40db-a1af-7edf72ca567a",
   "metadata": {},
   "outputs": [
    {
     "name": "stdout",
     "output_type": "stream",
     "text": [
      "Lasso Mean Squared Error : 5.470579721415638\n",
      "Lasso Root Mean Squared Error : 2.3389270449109008\n",
      "Lasso R Squared Score : 82.61621729041322 %\n",
      "LassoCV Alpha 0.1\n"
     ]
    }
   ],
   "source": [
    "# predict with model\n",
    "lasso_predict_test = lasso.predict(m_x_test)\n",
    "\n",
    "# Evaluation metrics on Testing data\n",
    "# mean squared error\n",
    "lasso_test_rms = mean_squared_error(m_y_test,lasso_predict_test)\n",
    "# Root mean squared error\n",
    "lasso_test_rmsq = np.sqrt(lasso_test_rms)\n",
    "# R squared score\n",
    "lasso_test_rsq = r2_score(m_y_test,lasso_predict_test)\n",
    "\n",
    "print(\"Lasso Mean Squared Error :\", lasso_test_rms)\n",
    "print(\"Lasso Root Mean Squared Error :\", lasso_test_rmsq)\n",
    "print(\"Lasso R Squared Score :\", lasso_test_rsq * 100,\"%\")\n",
    "print(\"LassoCV Alpha\", lasso.alpha_)"
   ]
  },
  {
   "cell_type": "markdown",
   "id": "3eefc2e6-cdd6-4f05-8096-fea1c6ee447e",
   "metadata": {},
   "source": [
    "##### Ridge Regression"
   ]
  },
  {
   "cell_type": "code",
   "execution_count": 44,
   "id": "b6024d46-6852-406f-aea4-792efe215c01",
   "metadata": {},
   "outputs": [
    {
     "data": {
      "text/html": [
       "<style>#sk-container-id-4 {color: black;}#sk-container-id-4 pre{padding: 0;}#sk-container-id-4 div.sk-toggleable {background-color: white;}#sk-container-id-4 label.sk-toggleable__label {cursor: pointer;display: block;width: 100%;margin-bottom: 0;padding: 0.3em;box-sizing: border-box;text-align: center;}#sk-container-id-4 label.sk-toggleable__label-arrow:before {content: \"▸\";float: left;margin-right: 0.25em;color: #696969;}#sk-container-id-4 label.sk-toggleable__label-arrow:hover:before {color: black;}#sk-container-id-4 div.sk-estimator:hover label.sk-toggleable__label-arrow:before {color: black;}#sk-container-id-4 div.sk-toggleable__content {max-height: 0;max-width: 0;overflow: hidden;text-align: left;background-color: #f0f8ff;}#sk-container-id-4 div.sk-toggleable__content pre {margin: 0.2em;color: black;border-radius: 0.25em;background-color: #f0f8ff;}#sk-container-id-4 input.sk-toggleable__control:checked~div.sk-toggleable__content {max-height: 200px;max-width: 100%;overflow: auto;}#sk-container-id-4 input.sk-toggleable__control:checked~label.sk-toggleable__label-arrow:before {content: \"▾\";}#sk-container-id-4 div.sk-estimator input.sk-toggleable__control:checked~label.sk-toggleable__label {background-color: #d4ebff;}#sk-container-id-4 div.sk-label input.sk-toggleable__control:checked~label.sk-toggleable__label {background-color: #d4ebff;}#sk-container-id-4 input.sk-hidden--visually {border: 0;clip: rect(1px 1px 1px 1px);clip: rect(1px, 1px, 1px, 1px);height: 1px;margin: -1px;overflow: hidden;padding: 0;position: absolute;width: 1px;}#sk-container-id-4 div.sk-estimator {font-family: monospace;background-color: #f0f8ff;border: 1px dotted black;border-radius: 0.25em;box-sizing: border-box;margin-bottom: 0.5em;}#sk-container-id-4 div.sk-estimator:hover {background-color: #d4ebff;}#sk-container-id-4 div.sk-parallel-item::after {content: \"\";width: 100%;border-bottom: 1px solid gray;flex-grow: 1;}#sk-container-id-4 div.sk-label:hover label.sk-toggleable__label {background-color: #d4ebff;}#sk-container-id-4 div.sk-serial::before {content: \"\";position: absolute;border-left: 1px solid gray;box-sizing: border-box;top: 0;bottom: 0;left: 50%;z-index: 0;}#sk-container-id-4 div.sk-serial {display: flex;flex-direction: column;align-items: center;background-color: white;padding-right: 0.2em;padding-left: 0.2em;position: relative;}#sk-container-id-4 div.sk-item {position: relative;z-index: 1;}#sk-container-id-4 div.sk-parallel {display: flex;align-items: stretch;justify-content: center;background-color: white;position: relative;}#sk-container-id-4 div.sk-item::before, #sk-container-id-4 div.sk-parallel-item::before {content: \"\";position: absolute;border-left: 1px solid gray;box-sizing: border-box;top: 0;bottom: 0;left: 50%;z-index: -1;}#sk-container-id-4 div.sk-parallel-item {display: flex;flex-direction: column;z-index: 1;position: relative;background-color: white;}#sk-container-id-4 div.sk-parallel-item:first-child::after {align-self: flex-end;width: 50%;}#sk-container-id-4 div.sk-parallel-item:last-child::after {align-self: flex-start;width: 50%;}#sk-container-id-4 div.sk-parallel-item:only-child::after {width: 0;}#sk-container-id-4 div.sk-dashed-wrapped {border: 1px dashed gray;margin: 0 0.4em 0.5em 0.4em;box-sizing: border-box;padding-bottom: 0.4em;background-color: white;}#sk-container-id-4 div.sk-label label {font-family: monospace;font-weight: bold;display: inline-block;line-height: 1.2em;}#sk-container-id-4 div.sk-label-container {text-align: center;}#sk-container-id-4 div.sk-container {/* jupyter's `normalize.less` sets `[hidden] { display: none; }` but bootstrap.min.css set `[hidden] { display: none !important; }` so we also need the `!important` here to be able to override the default hidden behavior on the sphinx rendered scikit-learn.org. See: https://github.com/scikit-learn/scikit-learn/issues/21755 */display: inline-block !important;position: relative;}#sk-container-id-4 div.sk-text-repr-fallback {display: none;}</style><div id=\"sk-container-id-4\" class=\"sk-top-container\"><div class=\"sk-text-repr-fallback\"><pre>RidgeCV(alphas=[0.01, 0.1, 1, 10.0])</pre><b>In a Jupyter environment, please rerun this cell to show the HTML representation or trust the notebook. <br />On GitHub, the HTML representation is unable to render, please try loading this page with nbviewer.org.</b></div><div class=\"sk-container\" hidden><div class=\"sk-item\"><div class=\"sk-estimator sk-toggleable\"><input class=\"sk-toggleable__control sk-hidden--visually\" id=\"sk-estimator-id-4\" type=\"checkbox\" checked><label for=\"sk-estimator-id-4\" class=\"sk-toggleable__label sk-toggleable__label-arrow\">RidgeCV</label><div class=\"sk-toggleable__content\"><pre>RidgeCV(alphas=[0.01, 0.1, 1, 10.0])</pre></div></div></div></div></div>"
      ],
      "text/plain": [
       "RidgeCV(alphas=[0.01, 0.1, 1, 10.0])"
      ]
     },
     "execution_count": 44,
     "metadata": {},
     "output_type": "execute_result"
    }
   ],
   "source": [
    "# declare alpha value\n",
    "ridge_alphas = [0.01,0.1,1,10.0]\n",
    "# instantiate model\n",
    "ridge = RidgeCV(alphas=ridge_alphas)\n",
    "# train model\n",
    "ridge.fit(m_x_train,m_y_train)"
   ]
  },
  {
   "cell_type": "markdown",
   "id": "bd6ecedc-f377-4927-80fa-1e8d513a836f",
   "metadata": {},
   "source": [
    "##### Evaluation Metrics for Ridge Regression"
   ]
  },
  {
   "cell_type": "code",
   "execution_count": 45,
   "id": "4c7f0636-324d-44c5-a8ee-dfc80533a676",
   "metadata": {},
   "outputs": [
    {
     "name": "stdout",
     "output_type": "stream",
     "text": [
      "Ridge Mean Squared Error : 2.4291052822685946\n",
      "Ridge Root Mean Squared Error : 1.5585587195446293\n",
      "Ridge R Squared Score : 90.58475148656136 %\n"
     ]
    }
   ],
   "source": [
    "# Predict on basis of training data\n",
    "\n",
    "# m_x_train,m_x_test,m_y_train,m_y_test\n",
    "ridge_train_predict = lasso.predict(m_x_train)\n",
    "\n",
    "# Metrics\n",
    "# mean squared error\n",
    "ridge_mean_sqr_err = mean_squared_error(m_y_train,ridge_train_predict)\n",
    "# root mean squared error\n",
    "ridge_root_mean_sqr_err = np.sqrt(ridge_mean_sqr_err)\n",
    "# R Squared score\n",
    "ridge_r_score = r2_score(m_y_train,ridge_train_predict)\n",
    "\n",
    "print(\"Ridge Mean Squared Error :\", ridge_mean_sqr_err)\n",
    "print(\"Ridge Root Mean Squared Error :\", ridge_root_mean_sqr_err)\n",
    "print(\"Ridge R Squared Score :\", ridge_r_score * 100,\"%\")"
   ]
  },
  {
   "cell_type": "code",
   "execution_count": 46,
   "id": "05d050d9-06ed-4986-99ee-f42aeeaf1290",
   "metadata": {},
   "outputs": [
    {
     "name": "stdout",
     "output_type": "stream",
     "text": [
      "Ridge Mean Squared Error : 5.470579721415638\n",
      "Ridge Root Mean Squared Error : 2.3389270449109008\n",
      "Ridge R Squared Score : 82.61621729041322 %\n"
     ]
    }
   ],
   "source": [
    "# Predict on the basis of testing data\n",
    "\n",
    "ridge_test_predict = lasso.predict(m_x_test)\n",
    "# Metrics\n",
    "# mean squared error\n",
    "ridge_test_msqe = mean_squared_error(m_y_test,ridge_test_predict)\n",
    "# Root Mean Squared Error\n",
    "ridge_rmse = np.sqrt(ridge_test_msqe)\n",
    "# Ridge Squared Score\n",
    "ridge_squared_score = r2_score(m_y_test,ridge_test_predict)\n",
    "\n",
    "print(\"Ridge Mean Squared Error :\", ridge_test_msqe)\n",
    "print(\"Ridge Root Mean Squared Error :\", ridge_rmse)\n",
    "print(\"Ridge R Squared Score :\", ridge_squared_score * 100,\"%\")"
   ]
  }
 ],
 "metadata": {
  "kernelspec": {
   "display_name": "Python 3 (ipykernel)",
   "language": "python",
   "name": "python3"
  },
  "language_info": {
   "codemirror_mode": {
    "name": "ipython",
    "version": 3
   },
   "file_extension": ".py",
   "mimetype": "text/x-python",
   "name": "python",
   "nbconvert_exporter": "python",
   "pygments_lexer": "ipython3",
   "version": "3.10.4"
  }
 },
 "nbformat": 4,
 "nbformat_minor": 5
}
